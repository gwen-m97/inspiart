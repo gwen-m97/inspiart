{
 "cells": [
  {
   "cell_type": "code",
   "execution_count": 1,
   "id": "dd91935c-fe6c-4427-b819-de43bc5cddbb",
   "metadata": {
    "execution": {
     "iopub.execute_input": "2025-09-03T10:19:10.508040Z",
     "iopub.status.busy": "2025-09-03T10:19:10.507701Z",
     "iopub.status.idle": "2025-09-03T10:19:20.269832Z",
     "shell.execute_reply": "2025-09-03T10:19:20.268054Z",
     "shell.execute_reply.started": "2025-09-03T10:19:10.508008Z"
    }
   },
   "outputs": [
    {
     "name": "stderr",
     "output_type": "stream",
     "text": [
      "2025-09-03 12:19:18.024709: I tensorflow/core/platform/cpu_feature_guard.cc:210] This TensorFlow binary is optimized to use available CPU instructions in performance-critical operations.\n",
      "To enable the following instructions: AVX2 FMA, in other operations, rebuild TensorFlow with the appropriate compiler flags.\n"
     ]
    }
   ],
   "source": [
    "import numpy as np # linear algebra\n",
    "import pandas as pd # data processing, CSV file I/O (e.g. pd.read_csv)\n",
    "\n",
    "from nbconvert import PythonExporter\n",
    "import os\n",
    "from tqdm import tqdm\n",
    "from PIL import Image\n",
    "from sklearn.linear_model import LogisticRegression\n",
    "from sklearn.metrics import accuracy_score, recall_score, log_loss\n",
    "import time\n",
    "from sklearn.metrics.pairwise import cosine_similarity\n",
    "from sklearn.manifold import TSNE\n",
    "import matplotlib.pyplot as plt\n",
    "from tensorflow.keras.applications.resnet50 import ResNet50\n",
    "from sklearn.model_selection import train_test_split\n",
    "from sklearn.preprocessing import LabelEncoder\n",
    "from tensorflow.keras.utils import to_categorical\n",
    "from tensorflow.keras import layers, models\n",
    "from tensorflow.keras import optimizers\n",
    "from tensorflow.keras.callbacks import EarlyStopping\n"
   ]
  },
  {
   "cell_type": "code",
   "execution_count": 30,
   "id": "2777432c-9a44-47cb-9e83-dafe0ca116b3",
   "metadata": {
    "execution": {
     "iopub.execute_input": "2025-09-03T12:50:28.953670Z",
     "iopub.status.busy": "2025-09-03T12:50:28.953345Z",
     "iopub.status.idle": "2025-09-03T12:50:29.001721Z",
     "shell.execute_reply": "2025-09-03T12:50:29.000615Z",
     "shell.execute_reply.started": "2025-09-03T12:50:28.953641Z"
    }
   },
   "outputs": [
    {
     "data": {
      "text/html": [
       "<div>\n",
       "<style scoped>\n",
       "    .dataframe tbody tr th:only-of-type {\n",
       "        vertical-align: middle;\n",
       "    }\n",
       "\n",
       "    .dataframe tbody tr th {\n",
       "        vertical-align: top;\n",
       "    }\n",
       "\n",
       "    .dataframe thead th {\n",
       "        text-align: right;\n",
       "    }\n",
       "</style>\n",
       "<table border=\"1\" class=\"dataframe\">\n",
       "  <thead>\n",
       "    <tr style=\"text-align: right;\">\n",
       "      <th></th>\n",
       "      <th>artist</th>\n",
       "      <th>style</th>\n",
       "      <th>movement</th>\n",
       "      <th>tags</th>\n",
       "      <th>url</th>\n",
       "      <th>img</th>\n",
       "      <th>file_name</th>\n",
       "      <th>genre_list</th>\n",
       "      <th>Artwork</th>\n",
       "      <th>Date</th>\n",
       "    </tr>\n",
       "  </thead>\n",
       "  <tbody>\n",
       "    <tr>\n",
       "      <th>0</th>\n",
       "      <td>Panayiotis Tetsis</td>\n",
       "      <td>Impressionism</td>\n",
       "      <td>Post-Impressionism</td>\n",
       "      <td>NaN</td>\n",
       "      <td>https://www.wikiart.org/en/panayiotis-tetsis/s...</td>\n",
       "      <td>https://uploads3.wikiart.org/images/panayiotis...</td>\n",
       "      <td>127519-sunset.jpg</td>\n",
       "      <td>['cloudscape']</td>\n",
       "      <td>NaN</td>\n",
       "      <td>NaN</td>\n",
       "    </tr>\n",
       "    <tr>\n",
       "      <th>1</th>\n",
       "      <td>Henry Scott Tuke</td>\n",
       "      <td>Impressionism</td>\n",
       "      <td>Impressionism</td>\n",
       "      <td>['Fun', 'Vacation', 'summer']</td>\n",
       "      <td>https://www.wikiart.org/en/henry-scott-tuke/th...</td>\n",
       "      <td>https://uploads5.wikiart.org/00261/images/henr...</td>\n",
       "      <td>100529-henry-scott-tuke-the-bathers-1922.jpg</td>\n",
       "      <td>['genre painting']</td>\n",
       "      <td>NaN</td>\n",
       "      <td>NaN</td>\n",
       "    </tr>\n",
       "    <tr>\n",
       "      <th>2</th>\n",
       "      <td>Alfred Sisley</td>\n",
       "      <td>Impressionism</td>\n",
       "      <td>Impressionism</td>\n",
       "      <td>['fires-and-floods', 'forests-and-trees', 'Ban...</td>\n",
       "      <td>https://www.wikiart.org/en/alfred-sisley/the-f...</td>\n",
       "      <td>https://uploads1.wikiart.org/images/alfred-sis...</td>\n",
       "      <td>92312-the-flood-on-the-road-to-saint-germain-1...</td>\n",
       "      <td>['landscape']</td>\n",
       "      <td>NaN</td>\n",
       "      <td>NaN</td>\n",
       "    </tr>\n",
       "    <tr>\n",
       "      <th>3</th>\n",
       "      <td>Camille Pissarro</td>\n",
       "      <td>Impressionism</td>\n",
       "      <td>Impressionism</td>\n",
       "      <td>['Grassland', 'Meadow', 'Pasture', 'Plain']</td>\n",
       "      <td>https://www.wikiart.org/en/camille-pissarro/ro...</td>\n",
       "      <td>https://uploads2.wikiart.org/images/camille-pi...</td>\n",
       "      <td>90106-rolling-landscape-in-winter-1875.jpg</td>\n",
       "      <td>['landscape']</td>\n",
       "      <td>NaN</td>\n",
       "      <td>NaN</td>\n",
       "    </tr>\n",
       "    <tr>\n",
       "      <th>4</th>\n",
       "      <td>Guy Rose</td>\n",
       "      <td>Impressionism</td>\n",
       "      <td>Impressionism</td>\n",
       "      <td>['seas-and-oceans', 'cliffs-and-rocks', 'Bank'...</td>\n",
       "      <td>https://www.wikiart.org/en/guy-rose/grey-after...</td>\n",
       "      <td>https://uploads3.wikiart.org/images/guy-rose/g...</td>\n",
       "      <td>104411-grey-afternoon.jpg</td>\n",
       "      <td>['landscape']</td>\n",
       "      <td>NaN</td>\n",
       "      <td>NaN</td>\n",
       "    </tr>\n",
       "  </tbody>\n",
       "</table>\n",
       "</div>"
      ],
      "text/plain": [
       "              artist          style            movement  \\\n",
       "0  Panayiotis Tetsis  Impressionism  Post-Impressionism   \n",
       "1   Henry Scott Tuke  Impressionism       Impressionism   \n",
       "2      Alfred Sisley  Impressionism       Impressionism   \n",
       "3   Camille Pissarro  Impressionism       Impressionism   \n",
       "4           Guy Rose  Impressionism       Impressionism   \n",
       "\n",
       "                                                tags  \\\n",
       "0                                                NaN   \n",
       "1                      ['Fun', 'Vacation', 'summer']   \n",
       "2  ['fires-and-floods', 'forests-and-trees', 'Ban...   \n",
       "3        ['Grassland', 'Meadow', 'Pasture', 'Plain']   \n",
       "4  ['seas-and-oceans', 'cliffs-and-rocks', 'Bank'...   \n",
       "\n",
       "                                                 url  \\\n",
       "0  https://www.wikiart.org/en/panayiotis-tetsis/s...   \n",
       "1  https://www.wikiart.org/en/henry-scott-tuke/th...   \n",
       "2  https://www.wikiart.org/en/alfred-sisley/the-f...   \n",
       "3  https://www.wikiart.org/en/camille-pissarro/ro...   \n",
       "4  https://www.wikiart.org/en/guy-rose/grey-after...   \n",
       "\n",
       "                                                 img  \\\n",
       "0  https://uploads3.wikiart.org/images/panayiotis...   \n",
       "1  https://uploads5.wikiart.org/00261/images/henr...   \n",
       "2  https://uploads1.wikiart.org/images/alfred-sis...   \n",
       "3  https://uploads2.wikiart.org/images/camille-pi...   \n",
       "4  https://uploads3.wikiart.org/images/guy-rose/g...   \n",
       "\n",
       "                                           file_name          genre_list  \\\n",
       "0                                  127519-sunset.jpg      ['cloudscape']   \n",
       "1       100529-henry-scott-tuke-the-bathers-1922.jpg  ['genre painting']   \n",
       "2  92312-the-flood-on-the-road-to-saint-germain-1...       ['landscape']   \n",
       "3         90106-rolling-landscape-in-winter-1875.jpg       ['landscape']   \n",
       "4                          104411-grey-afternoon.jpg       ['landscape']   \n",
       "\n",
       "  Artwork Date  \n",
       "0     NaN  NaN  \n",
       "1     NaN  NaN  \n",
       "2     NaN  NaN  \n",
       "3     NaN  NaN  \n",
       "4     NaN  NaN  "
      ]
     },
     "execution_count": 30,
     "metadata": {},
     "output_type": "execute_result"
    }
   ],
   "source": [
    "# adding the images, labels, styles \n",
    "file_path = \"../raw_data/data_sampling1000_topstyles10.csv\"\n",
    "df = pd.read_csv(file_path)\n",
    "df.head()"
   ]
  },
  {
   "cell_type": "code",
   "execution_count": 31,
   "id": "20fb74bc-3053-4a4a-bcb3-2d2c847cbfc8",
   "metadata": {
    "execution": {
     "iopub.execute_input": "2025-09-03T12:50:48.354353Z",
     "iopub.status.busy": "2025-09-03T12:50:48.353865Z",
     "iopub.status.idle": "2025-09-03T12:50:48.367408Z",
     "shell.execute_reply": "2025-09-03T12:50:48.365643Z",
     "shell.execute_reply.started": "2025-09-03T12:50:48.354300Z"
    }
   },
   "outputs": [],
   "source": [
    "def load_and_resize_images(image_dir):\n",
    "    \"\"\"\n",
    "    Charge toutes les images d'un dossier, les redimensionne en conservant le ratio\n",
    "    avec padding noir et les retourne sous forme de tableau NumPy.\n",
    "    \n",
    "    Args:\n",
    "        image_dir (str): Chemin vers le dossier contenant les images.\n",
    "        target_size (tuple): Taille finale des images (largeur, hauteur).\n",
    "        \n",
    "    Returns:\n",
    "        np.ndarray: Tableau de forme (n_images, hauteur, largeur, canaux)\n",
    "    \"\"\"\n",
    "    images_list = []\n",
    "    \n",
    "    for filename in os.listdir(image_dir):\n",
    "        if filename.lower().endswith(('.png', '.jpg', '.jpeg', '.bmp')):\n",
    "            img_path = os.path.join(image_dir, filename)\n",
    "            img = Image.open(img_path).convert('RGB') \n",
    "\n",
    "            img_resized = img.resize((128, 128), Image.BICUBIC)\n",
    "            \n",
    "            # convert into an array and add to list \n",
    "            img_array = np.array(img_resized)\n",
    "            images_list.append(img_array)\n",
    "\n",
    "    return images_np"
   ]
  },
  {
   "cell_type": "code",
   "execution_count": 32,
   "id": "103991a8-81a1-48cc-84b6-59422a8c541a",
   "metadata": {
    "execution": {
     "iopub.execute_input": "2025-09-03T12:51:45.047093Z",
     "iopub.status.busy": "2025-09-03T12:51:45.046675Z",
     "iopub.status.idle": "2025-09-03T12:51:45.197571Z",
     "shell.execute_reply": "2025-09-03T12:51:45.190287Z",
     "shell.execute_reply.started": "2025-09-03T12:51:45.047022Z"
    }
   },
   "outputs": [
    {
     "ename": "KeyError",
     "evalue": "'image_path'",
     "output_type": "error",
     "traceback": [
      "\u001b[0;31m---------------------------------------------------------------------------\u001b[0m",
      "\u001b[0;31mKeyError\u001b[0m                                  Traceback (most recent call last)",
      "File \u001b[0;32m~/.pyenv/versions/3.10.6/envs/inspiart/lib/python3.10/site-packages/pandas/core/indexes/base.py:3812\u001b[0m, in \u001b[0;36mIndex.get_loc\u001b[0;34m(self, key)\u001b[0m\n\u001b[1;32m   3811\u001b[0m \u001b[38;5;28;01mtry\u001b[39;00m:\n\u001b[0;32m-> 3812\u001b[0m     \u001b[38;5;28;01mreturn\u001b[39;00m \u001b[38;5;28;43mself\u001b[39;49m\u001b[38;5;241;43m.\u001b[39;49m\u001b[43m_engine\u001b[49m\u001b[38;5;241;43m.\u001b[39;49m\u001b[43mget_loc\u001b[49m\u001b[43m(\u001b[49m\u001b[43mcasted_key\u001b[49m\u001b[43m)\u001b[49m\n\u001b[1;32m   3813\u001b[0m \u001b[38;5;28;01mexcept\u001b[39;00m \u001b[38;5;167;01mKeyError\u001b[39;00m \u001b[38;5;28;01mas\u001b[39;00m err:\n",
      "File \u001b[0;32mpandas/_libs/index.pyx:167\u001b[0m, in \u001b[0;36mpandas._libs.index.IndexEngine.get_loc\u001b[0;34m()\u001b[0m\n",
      "File \u001b[0;32mpandas/_libs/index.pyx:196\u001b[0m, in \u001b[0;36mpandas._libs.index.IndexEngine.get_loc\u001b[0;34m()\u001b[0m\n",
      "File \u001b[0;32mpandas/_libs/hashtable_class_helper.pxi:7088\u001b[0m, in \u001b[0;36mpandas._libs.hashtable.PyObjectHashTable.get_item\u001b[0;34m()\u001b[0m\n",
      "File \u001b[0;32mpandas/_libs/hashtable_class_helper.pxi:7096\u001b[0m, in \u001b[0;36mpandas._libs.hashtable.PyObjectHashTable.get_item\u001b[0;34m()\u001b[0m\n",
      "\u001b[0;31mKeyError\u001b[0m: 'image_path'",
      "\nThe above exception was the direct cause of the following exception:\n",
      "\u001b[0;31mKeyError\u001b[0m                                  Traceback (most recent call last)",
      "Cell \u001b[0;32mIn[32], line 4\u001b[0m\n\u001b[1;32m      1\u001b[0m images_np \u001b[38;5;241m=\u001b[39m []\n\u001b[1;32m      2\u001b[0m valid_labels \u001b[38;5;241m=\u001b[39m []\n\u001b[0;32m----> 4\u001b[0m \u001b[38;5;28;01mfor\u001b[39;00m img, label \u001b[38;5;129;01min\u001b[39;00m \u001b[38;5;28mzip\u001b[39m(\u001b[43mdf\u001b[49m\u001b[43m[\u001b[49m\u001b[38;5;124;43m'\u001b[39;49m\u001b[38;5;124;43mimage_path\u001b[39;49m\u001b[38;5;124;43m'\u001b[39;49m\u001b[43m]\u001b[49m, df[\u001b[38;5;124m'\u001b[39m\u001b[38;5;124mlabel\u001b[39m\u001b[38;5;124m'\u001b[39m]):\n\u001b[1;32m      5\u001b[0m     img_array \u001b[38;5;241m=\u001b[39m load_image(img)\n\u001b[1;32m      6\u001b[0m     \u001b[38;5;28;01mif\u001b[39;00m img_array \u001b[38;5;129;01mis\u001b[39;00m \u001b[38;5;129;01mnot\u001b[39;00m \u001b[38;5;28;01mNone\u001b[39;00m:\n",
      "File \u001b[0;32m~/.pyenv/versions/3.10.6/envs/inspiart/lib/python3.10/site-packages/pandas/core/frame.py:4107\u001b[0m, in \u001b[0;36mDataFrame.__getitem__\u001b[0;34m(self, key)\u001b[0m\n\u001b[1;32m   4105\u001b[0m \u001b[38;5;28;01mif\u001b[39;00m \u001b[38;5;28mself\u001b[39m\u001b[38;5;241m.\u001b[39mcolumns\u001b[38;5;241m.\u001b[39mnlevels \u001b[38;5;241m>\u001b[39m \u001b[38;5;241m1\u001b[39m:\n\u001b[1;32m   4106\u001b[0m     \u001b[38;5;28;01mreturn\u001b[39;00m \u001b[38;5;28mself\u001b[39m\u001b[38;5;241m.\u001b[39m_getitem_multilevel(key)\n\u001b[0;32m-> 4107\u001b[0m indexer \u001b[38;5;241m=\u001b[39m \u001b[38;5;28;43mself\u001b[39;49m\u001b[38;5;241;43m.\u001b[39;49m\u001b[43mcolumns\u001b[49m\u001b[38;5;241;43m.\u001b[39;49m\u001b[43mget_loc\u001b[49m\u001b[43m(\u001b[49m\u001b[43mkey\u001b[49m\u001b[43m)\u001b[49m\n\u001b[1;32m   4108\u001b[0m \u001b[38;5;28;01mif\u001b[39;00m is_integer(indexer):\n\u001b[1;32m   4109\u001b[0m     indexer \u001b[38;5;241m=\u001b[39m [indexer]\n",
      "File \u001b[0;32m~/.pyenv/versions/3.10.6/envs/inspiart/lib/python3.10/site-packages/pandas/core/indexes/base.py:3819\u001b[0m, in \u001b[0;36mIndex.get_loc\u001b[0;34m(self, key)\u001b[0m\n\u001b[1;32m   3814\u001b[0m     \u001b[38;5;28;01mif\u001b[39;00m \u001b[38;5;28misinstance\u001b[39m(casted_key, \u001b[38;5;28mslice\u001b[39m) \u001b[38;5;129;01mor\u001b[39;00m (\n\u001b[1;32m   3815\u001b[0m         \u001b[38;5;28misinstance\u001b[39m(casted_key, abc\u001b[38;5;241m.\u001b[39mIterable)\n\u001b[1;32m   3816\u001b[0m         \u001b[38;5;129;01mand\u001b[39;00m \u001b[38;5;28many\u001b[39m(\u001b[38;5;28misinstance\u001b[39m(x, \u001b[38;5;28mslice\u001b[39m) \u001b[38;5;28;01mfor\u001b[39;00m x \u001b[38;5;129;01min\u001b[39;00m casted_key)\n\u001b[1;32m   3817\u001b[0m     ):\n\u001b[1;32m   3818\u001b[0m         \u001b[38;5;28;01mraise\u001b[39;00m InvalidIndexError(key)\n\u001b[0;32m-> 3819\u001b[0m     \u001b[38;5;28;01mraise\u001b[39;00m \u001b[38;5;167;01mKeyError\u001b[39;00m(key) \u001b[38;5;28;01mfrom\u001b[39;00m\u001b[38;5;250m \u001b[39m\u001b[38;5;21;01merr\u001b[39;00m\n\u001b[1;32m   3820\u001b[0m \u001b[38;5;28;01mexcept\u001b[39;00m \u001b[38;5;167;01mTypeError\u001b[39;00m:\n\u001b[1;32m   3821\u001b[0m     \u001b[38;5;66;03m# If we have a listlike key, _check_indexing_error will raise\u001b[39;00m\n\u001b[1;32m   3822\u001b[0m     \u001b[38;5;66;03m#  InvalidIndexError. Otherwise we fall through and re-raise\u001b[39;00m\n\u001b[1;32m   3823\u001b[0m     \u001b[38;5;66;03m#  the TypeError.\u001b[39;00m\n\u001b[1;32m   3824\u001b[0m     \u001b[38;5;28mself\u001b[39m\u001b[38;5;241m.\u001b[39m_check_indexing_error(key)\n",
      "\u001b[0;31mKeyError\u001b[0m: 'image_path'"
     ]
    }
   ],
   "source": [
    "images_np = []\n",
    "valid_labels = []\n",
    "\n",
    "for img, label in zip(df['image_path'], df['label']):\n",
    "    img_array = load_image(img)\n",
    "    if img_array is not None:\n",
    "        images_np.append(img_array)\n",
    "        valid_labels.append(label)\n",
    "\n",
    "X = np.array(images_np, dtype='float32') / 255.0\n",
    "y = np.array(valid_labels)\n"
   ]
  },
  {
   "cell_type": "code",
   "execution_count": 23,
   "id": "998ea7b2-a9b6-4d8b-90cb-fb264ca15ed8",
   "metadata": {
    "execution": {
     "iopub.execute_input": "2025-09-03T12:48:26.591402Z",
     "iopub.status.busy": "2025-09-03T12:48:26.590954Z",
     "iopub.status.idle": "2025-09-03T12:48:28.070611Z",
     "shell.execute_reply": "2025-09-03T12:48:28.069510Z",
     "shell.execute_reply.started": "2025-09-03T12:48:26.591368Z"
    }
   },
   "outputs": [],
   "source": [
    "image_dir = \"../raw_data/sample\"\n",
    "images_np = load_and_resize_images(image_dir)"
   ]
  },
  {
   "cell_type": "code",
   "execution_count": 16,
   "id": "d7ad1c8e-95eb-47c6-a3cf-834e89f3b369",
   "metadata": {
    "execution": {
     "iopub.execute_input": "2025-09-03T10:24:02.294759Z",
     "iopub.status.busy": "2025-09-03T10:24:02.294305Z",
     "iopub.status.idle": "2025-09-03T10:24:02.329942Z",
     "shell.execute_reply": "2025-09-03T10:24:02.328803Z",
     "shell.execute_reply.started": "2025-09-03T10:24:02.294725Z"
    }
   },
   "outputs": [],
   "source": [
    "X_images = np.array(images_np, dtype='float32') / 255.0"
   ]
  },
  {
   "cell_type": "code",
   "execution_count": 13,
   "id": "c0fcb3aa-dbf1-403f-a397-b99dafdaf7e1",
   "metadata": {
    "execution": {
     "iopub.execute_input": "2025-09-03T10:21:08.130161Z",
     "iopub.status.busy": "2025-09-03T10:21:08.129596Z",
     "iopub.status.idle": "2025-09-03T10:21:08.134306Z",
     "shell.execute_reply": "2025-09-03T10:21:08.133289Z",
     "shell.execute_reply.started": "2025-09-03T10:21:08.130120Z"
    }
   },
   "outputs": [],
   "source": [
    "y = df['style']"
   ]
  },
  {
   "cell_type": "code",
   "execution_count": 18,
   "id": "121e23c3-e8cc-4144-ba39-a76ccba484b7",
   "metadata": {
    "execution": {
     "iopub.execute_input": "2025-09-03T10:24:10.716924Z",
     "iopub.status.busy": "2025-09-03T10:24:10.716476Z",
     "iopub.status.idle": "2025-09-03T10:24:10.722156Z",
     "shell.execute_reply": "2025-09-03T10:24:10.720964Z",
     "shell.execute_reply.started": "2025-09-03T10:24:10.716890Z"
    }
   },
   "outputs": [
    {
     "name": "stdout",
     "output_type": "stream",
     "text": [
      "X shape: (200, 128, 128, 3)\n",
      "y shape: (1000,)\n"
     ]
    }
   ],
   "source": [
    "print(f\"X shape: {X_images.shape}\")\n",
    "print(f\"y shape: {y.shape}\")"
   ]
  },
  {
   "cell_type": "code",
   "execution_count": 14,
   "id": "d3fa3755-dd03-4718-b36f-6ceaf61d6145",
   "metadata": {
    "execution": {
     "iopub.execute_input": "2025-09-03T10:21:09.421984Z",
     "iopub.status.busy": "2025-09-03T10:21:09.421530Z",
     "iopub.status.idle": "2025-09-03T10:21:09.491653Z",
     "shell.execute_reply": "2025-09-03T10:21:09.490235Z",
     "shell.execute_reply.started": "2025-09-03T10:21:09.421938Z"
    }
   },
   "outputs": [
    {
     "ename": "ValueError",
     "evalue": "Found input variables with inconsistent numbers of samples: [200, 1000]",
     "output_type": "error",
     "traceback": [
      "\u001b[0;31m---------------------------------------------------------------------------\u001b[0m",
      "\u001b[0;31mValueError\u001b[0m                                Traceback (most recent call last)",
      "Cell \u001b[0;32mIn[14], line 1\u001b[0m\n\u001b[0;32m----> 1\u001b[0m X_train, X_test, y_train, y_test \u001b[38;5;241m=\u001b[39m \u001b[43mtrain_test_split\u001b[49m\u001b[43m(\u001b[49m\n\u001b[1;32m      2\u001b[0m \u001b[43m    \u001b[49m\u001b[43mX\u001b[49m\u001b[43m,\u001b[49m\u001b[43m \u001b[49m\u001b[43my\u001b[49m\u001b[43m,\u001b[49m\n\u001b[1;32m      3\u001b[0m \u001b[43m    \u001b[49m\u001b[43mtest_size\u001b[49m\u001b[38;5;241;43m=\u001b[39;49m\u001b[38;5;241;43m0.3\u001b[39;49m\u001b[43m,\u001b[49m\u001b[43m      \u001b[49m\n\u001b[1;32m      4\u001b[0m \u001b[43m    \u001b[49m\u001b[43mrandom_state\u001b[49m\u001b[38;5;241;43m=\u001b[39;49m\u001b[38;5;241;43m42\u001b[39;49m\u001b[43m,\u001b[49m\n\u001b[1;32m      5\u001b[0m \u001b[43m    \u001b[49m\u001b[43mstratify\u001b[49m\u001b[38;5;241;43m=\u001b[39;49m\u001b[43my\u001b[49m\n\u001b[1;32m      6\u001b[0m \u001b[43m)\u001b[49m\n",
      "File \u001b[0;32m~/.pyenv/versions/3.10.6/envs/inspiart/lib/python3.10/site-packages/sklearn/utils/_param_validation.py:218\u001b[0m, in \u001b[0;36mvalidate_params.<locals>.decorator.<locals>.wrapper\u001b[0;34m(*args, **kwargs)\u001b[0m\n\u001b[1;32m    212\u001b[0m \u001b[38;5;28;01mtry\u001b[39;00m:\n\u001b[1;32m    213\u001b[0m     \u001b[38;5;28;01mwith\u001b[39;00m config_context(\n\u001b[1;32m    214\u001b[0m         skip_parameter_validation\u001b[38;5;241m=\u001b[39m(\n\u001b[1;32m    215\u001b[0m             prefer_skip_nested_validation \u001b[38;5;129;01mor\u001b[39;00m global_skip_validation\n\u001b[1;32m    216\u001b[0m         )\n\u001b[1;32m    217\u001b[0m     ):\n\u001b[0;32m--> 218\u001b[0m         \u001b[38;5;28;01mreturn\u001b[39;00m \u001b[43mfunc\u001b[49m\u001b[43m(\u001b[49m\u001b[38;5;241;43m*\u001b[39;49m\u001b[43margs\u001b[49m\u001b[43m,\u001b[49m\u001b[43m \u001b[49m\u001b[38;5;241;43m*\u001b[39;49m\u001b[38;5;241;43m*\u001b[39;49m\u001b[43mkwargs\u001b[49m\u001b[43m)\u001b[49m\n\u001b[1;32m    219\u001b[0m \u001b[38;5;28;01mexcept\u001b[39;00m InvalidParameterError \u001b[38;5;28;01mas\u001b[39;00m e:\n\u001b[1;32m    220\u001b[0m     \u001b[38;5;66;03m# When the function is just a wrapper around an estimator, we allow\u001b[39;00m\n\u001b[1;32m    221\u001b[0m     \u001b[38;5;66;03m# the function to delegate validation to the estimator, but we replace\u001b[39;00m\n\u001b[1;32m    222\u001b[0m     \u001b[38;5;66;03m# the name of the estimator by the name of the function in the error\u001b[39;00m\n\u001b[1;32m    223\u001b[0m     \u001b[38;5;66;03m# message to avoid confusion.\u001b[39;00m\n\u001b[1;32m    224\u001b[0m     msg \u001b[38;5;241m=\u001b[39m re\u001b[38;5;241m.\u001b[39msub(\n\u001b[1;32m    225\u001b[0m         \u001b[38;5;124mr\u001b[39m\u001b[38;5;124m\"\u001b[39m\u001b[38;5;124mparameter of \u001b[39m\u001b[38;5;124m\\\u001b[39m\u001b[38;5;124mw+ must be\u001b[39m\u001b[38;5;124m\"\u001b[39m,\n\u001b[1;32m    226\u001b[0m         \u001b[38;5;124mf\u001b[39m\u001b[38;5;124m\"\u001b[39m\u001b[38;5;124mparameter of \u001b[39m\u001b[38;5;132;01m{\u001b[39;00mfunc\u001b[38;5;241m.\u001b[39m\u001b[38;5;18m__qualname__\u001b[39m\u001b[38;5;132;01m}\u001b[39;00m\u001b[38;5;124m must be\u001b[39m\u001b[38;5;124m\"\u001b[39m,\n\u001b[1;32m    227\u001b[0m         \u001b[38;5;28mstr\u001b[39m(e),\n\u001b[1;32m    228\u001b[0m     )\n",
      "File \u001b[0;32m~/.pyenv/versions/3.10.6/envs/inspiart/lib/python3.10/site-packages/sklearn/model_selection/_split.py:2916\u001b[0m, in \u001b[0;36mtrain_test_split\u001b[0;34m(test_size, train_size, random_state, shuffle, stratify, *arrays)\u001b[0m\n\u001b[1;32m   2913\u001b[0m \u001b[38;5;28;01mif\u001b[39;00m n_arrays \u001b[38;5;241m==\u001b[39m \u001b[38;5;241m0\u001b[39m:\n\u001b[1;32m   2914\u001b[0m     \u001b[38;5;28;01mraise\u001b[39;00m \u001b[38;5;167;01mValueError\u001b[39;00m(\u001b[38;5;124m\"\u001b[39m\u001b[38;5;124mAt least one array required as input\u001b[39m\u001b[38;5;124m\"\u001b[39m)\n\u001b[0;32m-> 2916\u001b[0m arrays \u001b[38;5;241m=\u001b[39m \u001b[43mindexable\u001b[49m\u001b[43m(\u001b[49m\u001b[38;5;241;43m*\u001b[39;49m\u001b[43marrays\u001b[49m\u001b[43m)\u001b[49m\n\u001b[1;32m   2918\u001b[0m n_samples \u001b[38;5;241m=\u001b[39m _num_samples(arrays[\u001b[38;5;241m0\u001b[39m])\n\u001b[1;32m   2919\u001b[0m n_train, n_test \u001b[38;5;241m=\u001b[39m _validate_shuffle_split(\n\u001b[1;32m   2920\u001b[0m     n_samples, test_size, train_size, default_test_size\u001b[38;5;241m=\u001b[39m\u001b[38;5;241m0.25\u001b[39m\n\u001b[1;32m   2921\u001b[0m )\n",
      "File \u001b[0;32m~/.pyenv/versions/3.10.6/envs/inspiart/lib/python3.10/site-packages/sklearn/utils/validation.py:530\u001b[0m, in \u001b[0;36mindexable\u001b[0;34m(*iterables)\u001b[0m\n\u001b[1;32m    500\u001b[0m \u001b[38;5;250m\u001b[39m\u001b[38;5;124;03m\"\"\"Make arrays indexable for cross-validation.\u001b[39;00m\n\u001b[1;32m    501\u001b[0m \n\u001b[1;32m    502\u001b[0m \u001b[38;5;124;03mChecks consistent length, passes through None, and ensures that everything\u001b[39;00m\n\u001b[0;32m   (...)\u001b[0m\n\u001b[1;32m    526\u001b[0m \u001b[38;5;124;03m[[1, 2, 3], array([2, 3, 4]), None, <...Sparse...dtype 'int64'...shape (3, 1)>]\u001b[39;00m\n\u001b[1;32m    527\u001b[0m \u001b[38;5;124;03m\"\"\"\u001b[39;00m\n\u001b[1;32m    529\u001b[0m result \u001b[38;5;241m=\u001b[39m [_make_indexable(X) \u001b[38;5;28;01mfor\u001b[39;00m X \u001b[38;5;129;01min\u001b[39;00m iterables]\n\u001b[0;32m--> 530\u001b[0m \u001b[43mcheck_consistent_length\u001b[49m\u001b[43m(\u001b[49m\u001b[38;5;241;43m*\u001b[39;49m\u001b[43mresult\u001b[49m\u001b[43m)\u001b[49m\n\u001b[1;32m    531\u001b[0m \u001b[38;5;28;01mreturn\u001b[39;00m result\n",
      "File \u001b[0;32m~/.pyenv/versions/3.10.6/envs/inspiart/lib/python3.10/site-packages/sklearn/utils/validation.py:473\u001b[0m, in \u001b[0;36mcheck_consistent_length\u001b[0;34m(*arrays)\u001b[0m\n\u001b[1;32m    471\u001b[0m lengths \u001b[38;5;241m=\u001b[39m [_num_samples(X) \u001b[38;5;28;01mfor\u001b[39;00m X \u001b[38;5;129;01min\u001b[39;00m arrays \u001b[38;5;28;01mif\u001b[39;00m X \u001b[38;5;129;01mis\u001b[39;00m \u001b[38;5;129;01mnot\u001b[39;00m \u001b[38;5;28;01mNone\u001b[39;00m]\n\u001b[1;32m    472\u001b[0m \u001b[38;5;28;01mif\u001b[39;00m \u001b[38;5;28mlen\u001b[39m(\u001b[38;5;28mset\u001b[39m(lengths)) \u001b[38;5;241m>\u001b[39m \u001b[38;5;241m1\u001b[39m:\n\u001b[0;32m--> 473\u001b[0m     \u001b[38;5;28;01mraise\u001b[39;00m \u001b[38;5;167;01mValueError\u001b[39;00m(\n\u001b[1;32m    474\u001b[0m         \u001b[38;5;124m\"\u001b[39m\u001b[38;5;124mFound input variables with inconsistent numbers of samples: \u001b[39m\u001b[38;5;132;01m%r\u001b[39;00m\u001b[38;5;124m\"\u001b[39m\n\u001b[1;32m    475\u001b[0m         \u001b[38;5;241m%\u001b[39m [\u001b[38;5;28mint\u001b[39m(l) \u001b[38;5;28;01mfor\u001b[39;00m l \u001b[38;5;129;01min\u001b[39;00m lengths]\n\u001b[1;32m    476\u001b[0m     )\n",
      "\u001b[0;31mValueError\u001b[0m: Found input variables with inconsistent numbers of samples: [200, 1000]"
     ]
    }
   ],
   "source": [
    "X_train, X_test, y_train, y_test = train_test_split(\n",
    "    X, y,\n",
    "    test_size=0.3,      \n",
    "    random_state=42,\n",
    "    stratify=y\n",
    ")"
   ]
  },
  {
   "cell_type": "code",
   "execution_count": null,
   "id": "79e0adcb-a260-4ed1-ba8a-7ace55d741c7",
   "metadata": {},
   "outputs": [],
   "source": []
  },
  {
   "cell_type": "code",
   "execution_count": null,
   "id": "fc956e3d-6bdf-4b54-97a9-758b4f5f69b8",
   "metadata": {},
   "outputs": [],
   "source": []
  },
  {
   "cell_type": "code",
   "execution_count": null,
   "id": "26127531-a560-4b42-91c5-d675316258ef",
   "metadata": {},
   "outputs": [],
   "source": []
  }
 ],
 "metadata": {
  "kernelspec": {
   "display_name": "Python 3 (ipykernel)",
   "language": "python",
   "name": "python3"
  },
  "language_info": {
   "codemirror_mode": {
    "name": "ipython",
    "version": 3
   },
   "file_extension": ".py",
   "mimetype": "text/x-python",
   "name": "python",
   "nbconvert_exporter": "python",
   "pygments_lexer": "ipython3",
   "version": "3.10.6"
  }
 },
 "nbformat": 4,
 "nbformat_minor": 5
}
