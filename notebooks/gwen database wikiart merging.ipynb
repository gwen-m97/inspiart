{
 "cells": [
  {
   "cell_type": "code",
   "execution_count": 1,
   "id": "19f759a0-1c52-4ef5-ab13-b91158e51802",
   "metadata": {
    "execution": {
     "iopub.execute_input": "2025-09-01T16:52:32.365471Z",
     "iopub.status.busy": "2025-09-01T16:52:32.365157Z",
     "iopub.status.idle": "2025-09-01T16:52:32.756361Z",
     "shell.execute_reply": "2025-09-01T16:52:32.755390Z",
     "shell.execute_reply.started": "2025-09-01T16:52:32.365438Z"
    }
   },
   "outputs": [
    {
     "name": "stderr",
     "output_type": "stream",
     "text": [
      "/home/gwenm/.pyenv/versions/3.10.6/envs/inspiart/lib/python3.10/site-packages/tqdm/auto.py:21: TqdmWarning: IProgress not found. Please update jupyter and ipywidgets. See https://ipywidgets.readthedocs.io/en/stable/user_install.html\n",
      "  from .autonotebook import tqdm as notebook_tqdm\n"
     ]
    }
   ],
   "source": [
    "import sys\n",
    "from pathlib import Path\n",
    "\n",
    "import kagglehub\n",
    "from kagglehub import KaggleDatasetAdapter\n",
    "import pandas as pd"
   ]
  },
  {
   "cell_type": "markdown",
   "id": "8c96ee62-f408-4323-9e03-7e3e4f662181",
   "metadata": {},
   "source": [
    "# Take the clean dataset"
   ]
  },
  {
   "cell_type": "code",
   "execution_count": 2,
   "id": "85d0f66e-d1ae-4280-a0e9-827cec71d77b",
   "metadata": {
    "execution": {
     "iopub.execute_input": "2025-09-01T16:52:32.757417Z",
     "iopub.status.busy": "2025-09-01T16:52:32.757146Z",
     "iopub.status.idle": "2025-09-01T16:52:34.544878Z",
     "shell.execute_reply": "2025-09-01T16:52:34.543155Z",
     "shell.execute_reply.started": "2025-09-01T16:52:32.757396Z"
    }
   },
   "outputs": [],
   "source": [
    "# Ajouter le dossier ../inspiart au path\n",
    "sys.path.append(str(Path.cwd().parent / \"inspiart\"))\n",
    "\n",
    "# Maintenant tu peux importer ton module\n",
    "import dataset_prep\n",
    "\n",
    "# Exemple : utiliser une fonction load_data\n",
    "df = dataset_prep.load_data()\n",
    "df_filtered = dataset_prep.filter_dataframe(df)"
   ]
  },
  {
   "cell_type": "code",
   "execution_count": 3,
   "id": "dc7bd3ac-7757-4501-b1bf-4b7ae77db905",
   "metadata": {
    "execution": {
     "iopub.execute_input": "2025-09-01T16:52:34.547988Z",
     "iopub.status.busy": "2025-09-01T16:52:34.547585Z",
     "iopub.status.idle": "2025-09-01T16:52:34.579490Z",
     "shell.execute_reply": "2025-09-01T16:52:34.578227Z",
     "shell.execute_reply.started": "2025-09-01T16:52:34.547956Z"
    }
   },
   "outputs": [
    {
     "data": {
      "text/html": [
       "<div>\n",
       "<style scoped>\n",
       "    .dataframe tbody tr th:only-of-type {\n",
       "        vertical-align: middle;\n",
       "    }\n",
       "\n",
       "    .dataframe tbody tr th {\n",
       "        vertical-align: top;\n",
       "    }\n",
       "\n",
       "    .dataframe thead th {\n",
       "        text-align: right;\n",
       "    }\n",
       "</style>\n",
       "<table border=\"1\" class=\"dataframe\">\n",
       "  <thead>\n",
       "    <tr style=\"text-align: right;\">\n",
       "      <th></th>\n",
       "      <th>artist</th>\n",
       "      <th>style</th>\n",
       "      <th>movement</th>\n",
       "      <th>tags</th>\n",
       "      <th>url</th>\n",
       "      <th>img</th>\n",
       "      <th>file_name</th>\n",
       "      <th>genre_list</th>\n",
       "    </tr>\n",
       "    <tr>\n",
       "      <th>file_name</th>\n",
       "      <th></th>\n",
       "      <th></th>\n",
       "      <th></th>\n",
       "      <th></th>\n",
       "      <th></th>\n",
       "      <th></th>\n",
       "      <th></th>\n",
       "      <th></th>\n",
       "    </tr>\n",
       "  </thead>\n",
       "  <tbody>\n",
       "    <tr>\n",
       "      <th>28564-the-waterfalls-at-tivoli.jpg</th>\n",
       "      <td>Claude-Joseph Vernet</td>\n",
       "      <td>Neoclassicism</td>\n",
       "      <td>Neoclassicism</td>\n",
       "      <td>['Nature', 'Naturallandscape', 'Atmosphericphe...</td>\n",
       "      <td>https://www.wikiart.org/en/claude-joseph-verne...</td>\n",
       "      <td>https://uploads5.wikiart.org/00128/images/clau...</td>\n",
       "      <td>28564-the-waterfalls-at-tivoli.jpg</td>\n",
       "      <td>[landscape]</td>\n",
       "    </tr>\n",
       "    <tr>\n",
       "      <th>28565-the-bridge-and-the-castel-sant-angelo-in-rome.jpg</th>\n",
       "      <td>Claude-Joseph Vernet</td>\n",
       "      <td>Neoclassicism</td>\n",
       "      <td>Neoclassicism</td>\n",
       "      <td>['Waterway', 'Watercraftrowing', 'Gondola', 'B...</td>\n",
       "      <td>https://www.wikiart.org/en/claude-joseph-verne...</td>\n",
       "      <td>https://uploads8.wikiart.org/00128/images/clau...</td>\n",
       "      <td>28565-the-bridge-and-the-castel-sant-angelo-in...</td>\n",
       "      <td>[landscape]</td>\n",
       "    </tr>\n",
       "    <tr>\n",
       "      <th>28566-villa-at-caprarola.jpg</th>\n",
       "      <td>Claude-Joseph Vernet</td>\n",
       "      <td>Neoclassicism</td>\n",
       "      <td>Neoclassicism</td>\n",
       "      <td>['Sky', 'Ruralarea', 'Highland', 'Hill']</td>\n",
       "      <td>https://www.wikiart.org/en/claude-joseph-verne...</td>\n",
       "      <td>https://uploads8.wikiart.org/00128/images/clau...</td>\n",
       "      <td>28566-villa-at-caprarola.jpg</td>\n",
       "      <td>[landscape]</td>\n",
       "    </tr>\n",
       "    <tr>\n",
       "      <th>28567-vedi-titolo.jpg</th>\n",
       "      <td>Claude-Joseph Vernet</td>\n",
       "      <td>Neoclassicism</td>\n",
       "      <td>Neoclassicism</td>\n",
       "      <td>['Sky', 'Cloud', 'Horizon', 'Atmosphere', 'Eco...</td>\n",
       "      <td>https://www.wikiart.org/en/claude-joseph-verne...</td>\n",
       "      <td>https://uploads1.wikiart.org/00128/images/clau...</td>\n",
       "      <td>28567-vedi-titolo.jpg</td>\n",
       "      <td>[cloudscape]</td>\n",
       "    </tr>\n",
       "    <tr>\n",
       "      <th>28568-night-a-port-in-the-moonlight-1748.jpg</th>\n",
       "      <td>Claude-Joseph Vernet</td>\n",
       "      <td>Neoclassicism</td>\n",
       "      <td>Neoclassicism</td>\n",
       "      <td>['Sky']</td>\n",
       "      <td>https://www.wikiart.org/en/claude-joseph-verne...</td>\n",
       "      <td>https://uploads0.wikiart.org/00259/images/clau...</td>\n",
       "      <td>28568-night-a-port-in-the-moonlight-1748.jpg</td>\n",
       "      <td>[marina]</td>\n",
       "    </tr>\n",
       "  </tbody>\n",
       "</table>\n",
       "</div>"
      ],
      "text/plain": [
       "                                                                  artist  \\\n",
       "file_name                                                                  \n",
       "28564-the-waterfalls-at-tivoli.jpg                  Claude-Joseph Vernet   \n",
       "28565-the-bridge-and-the-castel-sant-angelo-in-...  Claude-Joseph Vernet   \n",
       "28566-villa-at-caprarola.jpg                        Claude-Joseph Vernet   \n",
       "28567-vedi-titolo.jpg                               Claude-Joseph Vernet   \n",
       "28568-night-a-port-in-the-moonlight-1748.jpg        Claude-Joseph Vernet   \n",
       "\n",
       "                                                            style  \\\n",
       "file_name                                                           \n",
       "28564-the-waterfalls-at-tivoli.jpg                  Neoclassicism   \n",
       "28565-the-bridge-and-the-castel-sant-angelo-in-...  Neoclassicism   \n",
       "28566-villa-at-caprarola.jpg                        Neoclassicism   \n",
       "28567-vedi-titolo.jpg                               Neoclassicism   \n",
       "28568-night-a-port-in-the-moonlight-1748.jpg        Neoclassicism   \n",
       "\n",
       "                                                         movement  \\\n",
       "file_name                                                           \n",
       "28564-the-waterfalls-at-tivoli.jpg                  Neoclassicism   \n",
       "28565-the-bridge-and-the-castel-sant-angelo-in-...  Neoclassicism   \n",
       "28566-villa-at-caprarola.jpg                        Neoclassicism   \n",
       "28567-vedi-titolo.jpg                               Neoclassicism   \n",
       "28568-night-a-port-in-the-moonlight-1748.jpg        Neoclassicism   \n",
       "\n",
       "                                                                                                 tags  \\\n",
       "file_name                                                                                               \n",
       "28564-the-waterfalls-at-tivoli.jpg                  ['Nature', 'Naturallandscape', 'Atmosphericphe...   \n",
       "28565-the-bridge-and-the-castel-sant-angelo-in-...  ['Waterway', 'Watercraftrowing', 'Gondola', 'B...   \n",
       "28566-villa-at-caprarola.jpg                                 ['Sky', 'Ruralarea', 'Highland', 'Hill']   \n",
       "28567-vedi-titolo.jpg                               ['Sky', 'Cloud', 'Horizon', 'Atmosphere', 'Eco...   \n",
       "28568-night-a-port-in-the-moonlight-1748.jpg                                                  ['Sky']   \n",
       "\n",
       "                                                                                                  url  \\\n",
       "file_name                                                                                               \n",
       "28564-the-waterfalls-at-tivoli.jpg                  https://www.wikiart.org/en/claude-joseph-verne...   \n",
       "28565-the-bridge-and-the-castel-sant-angelo-in-...  https://www.wikiart.org/en/claude-joseph-verne...   \n",
       "28566-villa-at-caprarola.jpg                        https://www.wikiart.org/en/claude-joseph-verne...   \n",
       "28567-vedi-titolo.jpg                               https://www.wikiart.org/en/claude-joseph-verne...   \n",
       "28568-night-a-port-in-the-moonlight-1748.jpg        https://www.wikiart.org/en/claude-joseph-verne...   \n",
       "\n",
       "                                                                                                  img  \\\n",
       "file_name                                                                                               \n",
       "28564-the-waterfalls-at-tivoli.jpg                  https://uploads5.wikiart.org/00128/images/clau...   \n",
       "28565-the-bridge-and-the-castel-sant-angelo-in-...  https://uploads8.wikiart.org/00128/images/clau...   \n",
       "28566-villa-at-caprarola.jpg                        https://uploads8.wikiart.org/00128/images/clau...   \n",
       "28567-vedi-titolo.jpg                               https://uploads1.wikiart.org/00128/images/clau...   \n",
       "28568-night-a-port-in-the-moonlight-1748.jpg        https://uploads0.wikiart.org/00259/images/clau...   \n",
       "\n",
       "                                                                                            file_name  \\\n",
       "file_name                                                                                               \n",
       "28564-the-waterfalls-at-tivoli.jpg                                 28564-the-waterfalls-at-tivoli.jpg   \n",
       "28565-the-bridge-and-the-castel-sant-angelo-in-...  28565-the-bridge-and-the-castel-sant-angelo-in...   \n",
       "28566-villa-at-caprarola.jpg                                             28566-villa-at-caprarola.jpg   \n",
       "28567-vedi-titolo.jpg                                                           28567-vedi-titolo.jpg   \n",
       "28568-night-a-port-in-the-moonlight-1748.jpg             28568-night-a-port-in-the-moonlight-1748.jpg   \n",
       "\n",
       "                                                      genre_list  \n",
       "file_name                                                         \n",
       "28564-the-waterfalls-at-tivoli.jpg                   [landscape]  \n",
       "28565-the-bridge-and-the-castel-sant-angelo-in-...   [landscape]  \n",
       "28566-villa-at-caprarola.jpg                         [landscape]  \n",
       "28567-vedi-titolo.jpg                               [cloudscape]  \n",
       "28568-night-a-port-in-the-moonlight-1748.jpg            [marina]  "
      ]
     },
     "execution_count": 3,
     "metadata": {},
     "output_type": "execute_result"
    }
   ],
   "source": [
    "df_filtered.head()"
   ]
  },
  {
   "cell_type": "code",
   "execution_count": 4,
   "id": "23b34112-b98c-44be-bbfe-bc39f79bf3f4",
   "metadata": {
    "execution": {
     "iopub.execute_input": "2025-09-01T16:52:34.581042Z",
     "iopub.status.busy": "2025-09-01T16:52:34.580661Z",
     "iopub.status.idle": "2025-09-01T16:52:34.590966Z",
     "shell.execute_reply": "2025-09-01T16:52:34.588709Z",
     "shell.execute_reply.started": "2025-09-01T16:52:34.581000Z"
    }
   },
   "outputs": [
    {
     "data": {
      "text/plain": [
       "(115055, 8)"
      ]
     },
     "execution_count": 4,
     "metadata": {},
     "output_type": "execute_result"
    }
   ],
   "source": [
    "df_filtered.shape"
   ]
  },
  {
   "cell_type": "markdown",
   "id": "76560ea1-797c-4dd0-900b-56985c9a47b1",
   "metadata": {},
   "source": [
    "# Have a look at the new one to merge "
   ]
  },
  {
   "cell_type": "code",
   "execution_count": 5,
   "id": "e70c70f9-cf4d-42d5-85ed-fd0d8bcd36e5",
   "metadata": {
    "execution": {
     "iopub.execute_input": "2025-09-01T16:52:34.592762Z",
     "iopub.status.busy": "2025-09-01T16:52:34.592196Z",
     "iopub.status.idle": "2025-09-01T16:52:35.420425Z",
     "shell.execute_reply": "2025-09-01T16:52:35.419020Z",
     "shell.execute_reply.started": "2025-09-01T16:52:34.592708Z"
    }
   },
   "outputs": [
    {
     "name": "stderr",
     "output_type": "stream",
     "text": [
      "/tmp/ipykernel_8415/1912370424.py:5: DeprecationWarning: Use dataset_load() instead of load_dataset(). load_dataset() will be removed in a future version.\n",
      "  df2 = kagglehub.load_dataset(\n"
     ]
    },
    {
     "data": {
      "text/html": [
       "<div>\n",
       "<style scoped>\n",
       "    .dataframe tbody tr th:only-of-type {\n",
       "        vertical-align: middle;\n",
       "    }\n",
       "\n",
       "    .dataframe tbody tr th {\n",
       "        vertical-align: top;\n",
       "    }\n",
       "\n",
       "    .dataframe thead th {\n",
       "        text-align: right;\n",
       "    }\n",
       "</style>\n",
       "<table border=\"1\" class=\"dataframe\">\n",
       "  <thead>\n",
       "    <tr style=\"text-align: right;\">\n",
       "      <th></th>\n",
       "      <th>Style</th>\n",
       "      <th>Artwork</th>\n",
       "      <th>Artist</th>\n",
       "      <th>Date</th>\n",
       "      <th>Link</th>\n",
       "    </tr>\n",
       "  </thead>\n",
       "  <tbody>\n",
       "    <tr>\n",
       "      <th>0</th>\n",
       "      <td>Early-Dynastic</td>\n",
       "      <td>Narmer Palette</td>\n",
       "      <td>Ancient Egypt</td>\n",
       "      <td>3050 BC</td>\n",
       "      <td>https://uploads3.wikiart.org/00265/images/anci...</td>\n",
       "    </tr>\n",
       "    <tr>\n",
       "      <th>1</th>\n",
       "      <td>Early-Dynastic</td>\n",
       "      <td>Box Inlay with a Geometric Pattern</td>\n",
       "      <td>Ancient Egypt</td>\n",
       "      <td>3100-2900 BC</td>\n",
       "      <td>https://uploads2.wikiart.org/00244/images/anci...</td>\n",
       "    </tr>\n",
       "    <tr>\n",
       "      <th>2</th>\n",
       "      <td>Old-Kingdom</td>\n",
       "      <td>Khafre Enthroned</td>\n",
       "      <td>Ancient Egypt</td>\n",
       "      <td>2570 BC</td>\n",
       "      <td>https://uploads2.wikiart.org/00305/images/anci...</td>\n",
       "    </tr>\n",
       "    <tr>\n",
       "      <th>3</th>\n",
       "      <td>Middle-Kingdom</td>\n",
       "      <td>Stele of the Serpent King (Stela of Djet)</td>\n",
       "      <td>Ancient Egypt</td>\n",
       "      <td>3000 BC</td>\n",
       "      <td>https://uploads7.wikiart.org/00305/images/anci...</td>\n",
       "    </tr>\n",
       "    <tr>\n",
       "      <th>4</th>\n",
       "      <td>Middle-Kingdom</td>\n",
       "      <td>Laden Donkeys and Ploughing, Tomb of Djar</td>\n",
       "      <td>Ancient Egypt</td>\n",
       "      <td>2060-2010 BC</td>\n",
       "      <td>https://uploads8.wikiart.org/00244/images/anci...</td>\n",
       "    </tr>\n",
       "  </tbody>\n",
       "</table>\n",
       "</div>"
      ],
      "text/plain": [
       "            Style                                    Artwork         Artist  \\\n",
       "0  Early-Dynastic                             Narmer Palette  Ancient Egypt   \n",
       "1  Early-Dynastic         Box Inlay with a Geometric Pattern  Ancient Egypt   \n",
       "2     Old-Kingdom                           Khafre Enthroned  Ancient Egypt   \n",
       "3  Middle-Kingdom  Stele of the Serpent King (Stela of Djet)  Ancient Egypt   \n",
       "4  Middle-Kingdom  Laden Donkeys and Ploughing, Tomb of Djar  Ancient Egypt   \n",
       "\n",
       "           Date                                               Link  \n",
       "0       3050 BC  https://uploads3.wikiart.org/00265/images/anci...  \n",
       "1  3100-2900 BC  https://uploads2.wikiart.org/00244/images/anci...  \n",
       "2       2570 BC  https://uploads2.wikiart.org/00305/images/anci...  \n",
       "3       3000 BC  https://uploads7.wikiart.org/00305/images/anci...  \n",
       "4  2060-2010 BC  https://uploads8.wikiart.org/00244/images/anci...  "
      ]
     },
     "execution_count": 5,
     "metadata": {},
     "output_type": "execute_result"
    }
   ],
   "source": [
    "# Set the path to the file you'd like to load\n",
    "file_path = \"wikiart_scraped.csv\"\n",
    "\n",
    "# Load the latest version\n",
    "df2 = kagglehub.load_dataset(\n",
    "  KaggleDatasetAdapter.PANDAS,\n",
    "  \"antoinegruson/-wikiart-all-images-120k-link\",\n",
    "  file_path\n",
    ")\n",
    "\n",
    "df2.head()"
   ]
  },
  {
   "cell_type": "code",
   "execution_count": 6,
   "id": "2a1f3b32-cf2f-4f34-986c-f750ba8bcbb0",
   "metadata": {
    "execution": {
     "iopub.execute_input": "2025-09-01T16:52:35.421982Z",
     "iopub.status.busy": "2025-09-01T16:52:35.421575Z",
     "iopub.status.idle": "2025-09-01T16:52:35.448073Z",
     "shell.execute_reply": "2025-09-01T16:52:35.446403Z",
     "shell.execute_reply.started": "2025-09-01T16:52:35.421942Z"
    }
   },
   "outputs": [
    {
     "data": {
      "text/html": [
       "<div>\n",
       "<style scoped>\n",
       "    .dataframe tbody tr th:only-of-type {\n",
       "        vertical-align: middle;\n",
       "    }\n",
       "\n",
       "    .dataframe tbody tr th {\n",
       "        vertical-align: top;\n",
       "    }\n",
       "\n",
       "    .dataframe thead th {\n",
       "        text-align: right;\n",
       "    }\n",
       "</style>\n",
       "<table border=\"1\" class=\"dataframe\">\n",
       "  <thead>\n",
       "    <tr style=\"text-align: right;\">\n",
       "      <th></th>\n",
       "      <th>Style</th>\n",
       "      <th>Artwork</th>\n",
       "      <th>Artist</th>\n",
       "      <th>Date</th>\n",
       "      <th>img</th>\n",
       "    </tr>\n",
       "  </thead>\n",
       "  <tbody>\n",
       "    <tr>\n",
       "      <th>0</th>\n",
       "      <td>Early-Dynastic</td>\n",
       "      <td>Narmer Palette</td>\n",
       "      <td>Ancient Egypt</td>\n",
       "      <td>3050 BC</td>\n",
       "      <td>https://uploads3.wikiart.org/00265/images/anci...</td>\n",
       "    </tr>\n",
       "    <tr>\n",
       "      <th>1</th>\n",
       "      <td>Early-Dynastic</td>\n",
       "      <td>Box Inlay with a Geometric Pattern</td>\n",
       "      <td>Ancient Egypt</td>\n",
       "      <td>3100-2900 BC</td>\n",
       "      <td>https://uploads2.wikiart.org/00244/images/anci...</td>\n",
       "    </tr>\n",
       "    <tr>\n",
       "      <th>2</th>\n",
       "      <td>Old-Kingdom</td>\n",
       "      <td>Khafre Enthroned</td>\n",
       "      <td>Ancient Egypt</td>\n",
       "      <td>2570 BC</td>\n",
       "      <td>https://uploads2.wikiart.org/00305/images/anci...</td>\n",
       "    </tr>\n",
       "    <tr>\n",
       "      <th>3</th>\n",
       "      <td>Middle-Kingdom</td>\n",
       "      <td>Stele of the Serpent King (Stela of Djet)</td>\n",
       "      <td>Ancient Egypt</td>\n",
       "      <td>3000 BC</td>\n",
       "      <td>https://uploads7.wikiart.org/00305/images/anci...</td>\n",
       "    </tr>\n",
       "    <tr>\n",
       "      <th>4</th>\n",
       "      <td>Middle-Kingdom</td>\n",
       "      <td>Laden Donkeys and Ploughing, Tomb of Djar</td>\n",
       "      <td>Ancient Egypt</td>\n",
       "      <td>2060-2010 BC</td>\n",
       "      <td>https://uploads8.wikiart.org/00244/images/anci...</td>\n",
       "    </tr>\n",
       "  </tbody>\n",
       "</table>\n",
       "</div>"
      ],
      "text/plain": [
       "            Style                                    Artwork         Artist  \\\n",
       "0  Early-Dynastic                             Narmer Palette  Ancient Egypt   \n",
       "1  Early-Dynastic         Box Inlay with a Geometric Pattern  Ancient Egypt   \n",
       "2     Old-Kingdom                           Khafre Enthroned  Ancient Egypt   \n",
       "3  Middle-Kingdom  Stele of the Serpent King (Stela of Djet)  Ancient Egypt   \n",
       "4  Middle-Kingdom  Laden Donkeys and Ploughing, Tomb of Djar  Ancient Egypt   \n",
       "\n",
       "           Date                                                img  \n",
       "0       3050 BC  https://uploads3.wikiart.org/00265/images/anci...  \n",
       "1  3100-2900 BC  https://uploads2.wikiart.org/00244/images/anci...  \n",
       "2       2570 BC  https://uploads2.wikiart.org/00305/images/anci...  \n",
       "3       3000 BC  https://uploads7.wikiart.org/00305/images/anci...  \n",
       "4  2060-2010 BC  https://uploads8.wikiart.org/00244/images/anci...  "
      ]
     },
     "execution_count": 6,
     "metadata": {},
     "output_type": "execute_result"
    }
   ],
   "source": [
    "df2 = df2.rename(columns={'Link' : 'img'})\n",
    "df2.head()"
   ]
  },
  {
   "cell_type": "code",
   "execution_count": 7,
   "id": "a1b62030-3a0f-4f09-b859-50d83fd78a53",
   "metadata": {
    "execution": {
     "iopub.execute_input": "2025-09-01T16:52:35.450475Z",
     "iopub.status.busy": "2025-09-01T16:52:35.449682Z",
     "iopub.status.idle": "2025-09-01T16:52:35.489249Z",
     "shell.execute_reply": "2025-09-01T16:52:35.487670Z",
     "shell.execute_reply.started": "2025-09-01T16:52:35.450434Z"
    }
   },
   "outputs": [
    {
     "data": {
      "text/plain": [
       "Style      0\n",
       "Artwork    0\n",
       "Artist     0\n",
       "Date       0\n",
       "img        0\n",
       "dtype: int64"
      ]
     },
     "execution_count": 7,
     "metadata": {},
     "output_type": "execute_result"
    }
   ],
   "source": [
    "df2.isna().sum()"
   ]
  },
  {
   "cell_type": "code",
   "execution_count": 8,
   "id": "c5aa8a03-0566-491e-aeca-1895dc668562",
   "metadata": {
    "execution": {
     "iopub.execute_input": "2025-09-01T16:52:35.490719Z",
     "iopub.status.busy": "2025-09-01T16:52:35.490399Z",
     "iopub.status.idle": "2025-09-01T16:52:35.514177Z",
     "shell.execute_reply": "2025-09-01T16:52:35.512368Z",
     "shell.execute_reply.started": "2025-09-01T16:52:35.490696Z"
    }
   },
   "outputs": [
    {
     "data": {
      "text/plain": [
       "np.int64(7503)"
      ]
     },
     "execution_count": 8,
     "metadata": {},
     "output_type": "execute_result"
    }
   ],
   "source": [
    "df2.duplicated(subset=['img']).sum()"
   ]
  },
  {
   "cell_type": "code",
   "execution_count": 9,
   "id": "e7ae179b-0485-4ff8-95d4-86224db889e2",
   "metadata": {
    "execution": {
     "iopub.execute_input": "2025-09-01T16:52:35.515434Z",
     "iopub.status.busy": "2025-09-01T16:52:35.515120Z",
     "iopub.status.idle": "2025-09-01T16:52:35.573966Z",
     "shell.execute_reply": "2025-09-01T16:52:35.571979Z",
     "shell.execute_reply.started": "2025-09-01T16:52:35.515399Z"
    }
   },
   "outputs": [
    {
     "data": {
      "text/plain": [
       "45989     https://uploads.wikiart.org/Content/wiki/img/l...\n",
       "11488     https://uploads.wikiart.org/Content/wiki/img/l...\n",
       "11487     https://uploads.wikiart.org/Content/wiki/img/l...\n",
       "11486     https://uploads.wikiart.org/Content/wiki/img/l...\n",
       "11485     https://uploads.wikiart.org/Content/wiki/img/l...\n",
       "                                ...                        \n",
       "80698     https://uploads8.wikiart.org/images/wu-guanzho...\n",
       "80744     https://uploads8.wikiart.org/images/yayoi-kusa...\n",
       "109163    https://uploads8.wikiart.org/images/yayoi-kusa...\n",
       "96086     https://uploads8.wikiart.org/images/yu-youhan/...\n",
       "103703    https://uploads8.wikiart.org/images/yu-youhan/...\n",
       "Name: img, Length: 14950, dtype: object"
      ]
     },
     "execution_count": 9,
     "metadata": {},
     "output_type": "execute_result"
    }
   ],
   "source": [
    "df2[df2.duplicated(subset=['img'], keep=False)].sort_values('img')['img']"
   ]
  },
  {
   "cell_type": "code",
   "execution_count": 10,
   "id": "7368ca96-2c97-40d5-9c50-75cbe98dffcd",
   "metadata": {
    "execution": {
     "iopub.execute_input": "2025-09-01T16:52:35.576329Z",
     "iopub.status.busy": "2025-09-01T16:52:35.575740Z",
     "iopub.status.idle": "2025-09-01T16:52:35.663600Z",
     "shell.execute_reply": "2025-09-01T16:52:35.661546Z",
     "shell.execute_reply.started": "2025-09-01T16:52:35.576276Z"
    }
   },
   "outputs": [],
   "source": [
    "df2 = df2.drop_duplicates(subset=['img'], keep='first')"
   ]
  },
  {
   "cell_type": "code",
   "execution_count": 11,
   "id": "8d551fc2-f1a8-4e3c-b8df-19719f04c1e1",
   "metadata": {
    "execution": {
     "iopub.execute_input": "2025-09-01T16:52:35.674621Z",
     "iopub.status.busy": "2025-09-01T16:52:35.673497Z",
     "iopub.status.idle": "2025-09-01T16:52:35.919702Z",
     "shell.execute_reply": "2025-09-01T16:52:35.918583Z",
     "shell.execute_reply.started": "2025-09-01T16:52:35.674499Z"
    }
   },
   "outputs": [
    {
     "data": {
      "text/html": [
       "<div>\n",
       "<style scoped>\n",
       "    .dataframe tbody tr th:only-of-type {\n",
       "        vertical-align: middle;\n",
       "    }\n",
       "\n",
       "    .dataframe tbody tr th {\n",
       "        vertical-align: top;\n",
       "    }\n",
       "\n",
       "    .dataframe thead th {\n",
       "        text-align: right;\n",
       "    }\n",
       "</style>\n",
       "<table border=\"1\" class=\"dataframe\">\n",
       "  <thead>\n",
       "    <tr style=\"text-align: right;\">\n",
       "      <th></th>\n",
       "      <th>artist</th>\n",
       "      <th>style</th>\n",
       "      <th>movement</th>\n",
       "      <th>tags</th>\n",
       "      <th>url</th>\n",
       "      <th>img</th>\n",
       "      <th>file_name</th>\n",
       "      <th>genre_list</th>\n",
       "      <th>Artwork</th>\n",
       "      <th>Date</th>\n",
       "    </tr>\n",
       "  </thead>\n",
       "  <tbody>\n",
       "    <tr>\n",
       "      <th>0</th>\n",
       "      <td>Claude-Joseph Vernet</td>\n",
       "      <td>Neoclassicism</td>\n",
       "      <td>Neoclassicism</td>\n",
       "      <td>['Nature', 'Naturallandscape', 'Atmosphericphe...</td>\n",
       "      <td>https://www.wikiart.org/en/claude-joseph-verne...</td>\n",
       "      <td>https://uploads5.wikiart.org/00128/images/clau...</td>\n",
       "      <td>28564-the-waterfalls-at-tivoli.jpg</td>\n",
       "      <td>[landscape]</td>\n",
       "      <td>NaN</td>\n",
       "      <td>NaN</td>\n",
       "    </tr>\n",
       "    <tr>\n",
       "      <th>1</th>\n",
       "      <td>Claude-Joseph Vernet</td>\n",
       "      <td>Neoclassicism</td>\n",
       "      <td>Neoclassicism</td>\n",
       "      <td>['Waterway', 'Watercraftrowing', 'Gondola', 'B...</td>\n",
       "      <td>https://www.wikiart.org/en/claude-joseph-verne...</td>\n",
       "      <td>https://uploads8.wikiart.org/00128/images/clau...</td>\n",
       "      <td>28565-the-bridge-and-the-castel-sant-angelo-in...</td>\n",
       "      <td>[landscape]</td>\n",
       "      <td>NaN</td>\n",
       "      <td>NaN</td>\n",
       "    </tr>\n",
       "    <tr>\n",
       "      <th>2</th>\n",
       "      <td>Claude-Joseph Vernet</td>\n",
       "      <td>Neoclassicism</td>\n",
       "      <td>Neoclassicism</td>\n",
       "      <td>['Sky', 'Ruralarea', 'Highland', 'Hill']</td>\n",
       "      <td>https://www.wikiart.org/en/claude-joseph-verne...</td>\n",
       "      <td>https://uploads8.wikiart.org/00128/images/clau...</td>\n",
       "      <td>28566-villa-at-caprarola.jpg</td>\n",
       "      <td>[landscape]</td>\n",
       "      <td>NaN</td>\n",
       "      <td>NaN</td>\n",
       "    </tr>\n",
       "    <tr>\n",
       "      <th>3</th>\n",
       "      <td>Claude-Joseph Vernet</td>\n",
       "      <td>Neoclassicism</td>\n",
       "      <td>Neoclassicism</td>\n",
       "      <td>['Sky', 'Cloud', 'Horizon', 'Atmosphere', 'Eco...</td>\n",
       "      <td>https://www.wikiart.org/en/claude-joseph-verne...</td>\n",
       "      <td>https://uploads1.wikiart.org/00128/images/clau...</td>\n",
       "      <td>28567-vedi-titolo.jpg</td>\n",
       "      <td>[cloudscape]</td>\n",
       "      <td>NaN</td>\n",
       "      <td>NaN</td>\n",
       "    </tr>\n",
       "    <tr>\n",
       "      <th>4</th>\n",
       "      <td>Claude-Joseph Vernet</td>\n",
       "      <td>Neoclassicism</td>\n",
       "      <td>Neoclassicism</td>\n",
       "      <td>['Sky']</td>\n",
       "      <td>https://www.wikiart.org/en/claude-joseph-verne...</td>\n",
       "      <td>https://uploads0.wikiart.org/00259/images/clau...</td>\n",
       "      <td>28568-night-a-port-in-the-moonlight-1748.jpg</td>\n",
       "      <td>[marina]</td>\n",
       "      <td>NaN</td>\n",
       "      <td>NaN</td>\n",
       "    </tr>\n",
       "  </tbody>\n",
       "</table>\n",
       "</div>"
      ],
      "text/plain": [
       "                 artist          style       movement  \\\n",
       "0  Claude-Joseph Vernet  Neoclassicism  Neoclassicism   \n",
       "1  Claude-Joseph Vernet  Neoclassicism  Neoclassicism   \n",
       "2  Claude-Joseph Vernet  Neoclassicism  Neoclassicism   \n",
       "3  Claude-Joseph Vernet  Neoclassicism  Neoclassicism   \n",
       "4  Claude-Joseph Vernet  Neoclassicism  Neoclassicism   \n",
       "\n",
       "                                                tags  \\\n",
       "0  ['Nature', 'Naturallandscape', 'Atmosphericphe...   \n",
       "1  ['Waterway', 'Watercraftrowing', 'Gondola', 'B...   \n",
       "2           ['Sky', 'Ruralarea', 'Highland', 'Hill']   \n",
       "3  ['Sky', 'Cloud', 'Horizon', 'Atmosphere', 'Eco...   \n",
       "4                                            ['Sky']   \n",
       "\n",
       "                                                 url  \\\n",
       "0  https://www.wikiart.org/en/claude-joseph-verne...   \n",
       "1  https://www.wikiart.org/en/claude-joseph-verne...   \n",
       "2  https://www.wikiart.org/en/claude-joseph-verne...   \n",
       "3  https://www.wikiart.org/en/claude-joseph-verne...   \n",
       "4  https://www.wikiart.org/en/claude-joseph-verne...   \n",
       "\n",
       "                                                 img  \\\n",
       "0  https://uploads5.wikiart.org/00128/images/clau...   \n",
       "1  https://uploads8.wikiart.org/00128/images/clau...   \n",
       "2  https://uploads8.wikiart.org/00128/images/clau...   \n",
       "3  https://uploads1.wikiart.org/00128/images/clau...   \n",
       "4  https://uploads0.wikiart.org/00259/images/clau...   \n",
       "\n",
       "                                           file_name    genre_list Artwork  \\\n",
       "0                 28564-the-waterfalls-at-tivoli.jpg   [landscape]     NaN   \n",
       "1  28565-the-bridge-and-the-castel-sant-angelo-in...   [landscape]     NaN   \n",
       "2                       28566-villa-at-caprarola.jpg   [landscape]     NaN   \n",
       "3                              28567-vedi-titolo.jpg  [cloudscape]     NaN   \n",
       "4       28568-night-a-port-in-the-moonlight-1748.jpg      [marina]     NaN   \n",
       "\n",
       "  Date  \n",
       "0  NaN  \n",
       "1  NaN  \n",
       "2  NaN  \n",
       "3  NaN  \n",
       "4  NaN  "
      ]
     },
     "execution_count": 11,
     "metadata": {},
     "output_type": "execute_result"
    }
   ],
   "source": [
    "df_merged = df_filtered.merge(df2, how='left', on='img')\n",
    "df_merged = df_merged.drop(columns=['Style', 'Artist'])\n",
    "df_merged.head()"
   ]
  },
  {
   "cell_type": "code",
   "execution_count": 12,
   "id": "7c8f0ad3-fa75-48ae-a25c-4bc52e063039",
   "metadata": {
    "execution": {
     "iopub.execute_input": "2025-09-01T16:52:35.922246Z",
     "iopub.status.busy": "2025-09-01T16:52:35.921838Z",
     "iopub.status.idle": "2025-09-01T16:52:35.932539Z",
     "shell.execute_reply": "2025-09-01T16:52:35.930942Z",
     "shell.execute_reply.started": "2025-09-01T16:52:35.922220Z"
    }
   },
   "outputs": [
    {
     "data": {
      "text/plain": [
       "(115055, 10)"
      ]
     },
     "execution_count": 12,
     "metadata": {},
     "output_type": "execute_result"
    }
   ],
   "source": [
    "df_merged.shape"
   ]
  },
  {
   "cell_type": "code",
   "execution_count": 13,
   "id": "0607b9cf",
   "metadata": {
    "execution": {
     "iopub.execute_input": "2025-09-01T16:52:35.934885Z",
     "iopub.status.busy": "2025-09-01T16:52:35.934029Z",
     "iopub.status.idle": "2025-09-01T16:52:35.987682Z",
     "shell.execute_reply": "2025-09-01T16:52:35.986599Z",
     "shell.execute_reply.started": "2025-09-01T16:52:35.934821Z"
    }
   },
   "outputs": [
    {
     "data": {
      "text/plain": [
       "artist            0\n",
       "style             0\n",
       "movement          0\n",
       "tags          29504\n",
       "url               0\n",
       "img               0\n",
       "file_name         0\n",
       "genre_list        0\n",
       "Artwork       95937\n",
       "Date          95937\n",
       "dtype: int64"
      ]
     },
     "execution_count": 13,
     "metadata": {},
     "output_type": "execute_result"
    }
   ],
   "source": [
    "df_merged.isna().sum()"
   ]
  },
  {
   "cell_type": "markdown",
   "id": "148db2b4-945c-4abd-b38c-24d60c8011ed",
   "metadata": {
    "execution": {
     "iopub.execute_input": "2025-09-01T15:39:38.582693Z",
     "iopub.status.busy": "2025-09-01T15:39:38.581325Z",
     "iopub.status.idle": "2025-09-01T15:39:38.591813Z",
     "shell.execute_reply": "2025-09-01T15:39:38.590137Z",
     "shell.execute_reply.started": "2025-09-01T15:39:38.582465Z"
    }
   },
   "source": [
    "# Merging function"
   ]
  },
  {
   "cell_type": "code",
   "execution_count": null,
   "id": "43498e08-1b36-4ec5-ae9b-eb13f0f41cf2",
   "metadata": {
    "execution": {
     "iopub.execute_input": "2025-09-01T16:52:35.988766Z",
     "iopub.status.busy": "2025-09-01T16:52:35.988524Z",
     "iopub.status.idle": "2025-09-01T16:52:35.997465Z",
     "shell.execute_reply": "2025-09-01T16:52:35.995007Z",
     "shell.execute_reply.started": "2025-09-01T16:52:35.988742Z"
    }
   },
   "outputs": [],
   "source": [
    "def merging_metadata(df: pd.DataFrame) :\n",
    "    \"\"\"merge the dataframe with another one with art titles and dates\"\"\"\n",
    "\n",
    "    # Set the path to the file you'd like to load\n",
    "    file_path = \"wikiart_scraped.csv\"\n",
    "\n",
    "    # Load the latest version\n",
    "    df2 = kagglehub.load_dataset(\n",
    "      KaggleDatasetAdapter.PANDAS,\n",
    "      \"antoinegruson/-wikiart-all-images-120k-link\",\n",
    "      file_path\n",
    "    )\n",
    "\n",
    "    # df2 cleaning\n",
    "    df2 = df2.rename(columns={'Link' : 'img'})\n",
    "    df2 = df2.drop_duplicates(subset=['img'], keep='first')\n",
    "\n",
    "    # merging\n",
    "    df_merged = df_filtered.merge(df2, how='left', on='img')\n",
    "    df_merged = df_merged.drop(columns=['Style', 'Artist'])\n",
    "\n",
    "    return df_merged"
   ]
  },
  {
   "cell_type": "code",
   "execution_count": 15,
   "id": "a6da3e39-c463-43c3-87e6-954e12dfea90",
   "metadata": {
    "execution": {
     "iopub.execute_input": "2025-09-01T16:52:36.001804Z",
     "iopub.status.busy": "2025-09-01T16:52:36.000025Z",
     "iopub.status.idle": "2025-09-01T16:52:36.885525Z",
     "shell.execute_reply": "2025-09-01T16:52:36.883952Z",
     "shell.execute_reply.started": "2025-09-01T16:52:36.001688Z"
    }
   },
   "outputs": [
    {
     "name": "stderr",
     "output_type": "stream",
     "text": [
      "/tmp/ipykernel_8415/519058040.py:8: DeprecationWarning: Use dataset_load() instead of load_dataset(). load_dataset() will be removed in a future version.\n",
      "  df2 = kagglehub.load_dataset(\n"
     ]
    }
   ],
   "source": [
    "df_merged = merging_metadata(df_filtered)"
   ]
  },
  {
   "cell_type": "code",
   "execution_count": 16,
   "id": "bbb21fe3-fc51-4d0d-91b1-0a2379b074e6",
   "metadata": {
    "execution": {
     "iopub.execute_input": "2025-09-01T16:52:36.887857Z",
     "iopub.status.busy": "2025-09-01T16:52:36.886701Z",
     "iopub.status.idle": "2025-09-01T16:52:36.907967Z",
     "shell.execute_reply": "2025-09-01T16:52:36.906026Z",
     "shell.execute_reply.started": "2025-09-01T16:52:36.887794Z"
    }
   },
   "outputs": [
    {
     "data": {
      "text/html": [
       "<div>\n",
       "<style scoped>\n",
       "    .dataframe tbody tr th:only-of-type {\n",
       "        vertical-align: middle;\n",
       "    }\n",
       "\n",
       "    .dataframe tbody tr th {\n",
       "        vertical-align: top;\n",
       "    }\n",
       "\n",
       "    .dataframe thead th {\n",
       "        text-align: right;\n",
       "    }\n",
       "</style>\n",
       "<table border=\"1\" class=\"dataframe\">\n",
       "  <thead>\n",
       "    <tr style=\"text-align: right;\">\n",
       "      <th></th>\n",
       "      <th>artist</th>\n",
       "      <th>style</th>\n",
       "      <th>movement</th>\n",
       "      <th>tags</th>\n",
       "      <th>url</th>\n",
       "      <th>img</th>\n",
       "      <th>file_name</th>\n",
       "      <th>genre_list</th>\n",
       "      <th>Artwork</th>\n",
       "      <th>Date</th>\n",
       "    </tr>\n",
       "  </thead>\n",
       "  <tbody>\n",
       "    <tr>\n",
       "      <th>0</th>\n",
       "      <td>Claude-Joseph Vernet</td>\n",
       "      <td>Neoclassicism</td>\n",
       "      <td>Neoclassicism</td>\n",
       "      <td>['Nature', 'Naturallandscape', 'Atmosphericphe...</td>\n",
       "      <td>https://www.wikiart.org/en/claude-joseph-verne...</td>\n",
       "      <td>https://uploads5.wikiart.org/00128/images/clau...</td>\n",
       "      <td>28564-the-waterfalls-at-tivoli.jpg</td>\n",
       "      <td>[landscape]</td>\n",
       "      <td>NaN</td>\n",
       "      <td>NaN</td>\n",
       "    </tr>\n",
       "    <tr>\n",
       "      <th>1</th>\n",
       "      <td>Claude-Joseph Vernet</td>\n",
       "      <td>Neoclassicism</td>\n",
       "      <td>Neoclassicism</td>\n",
       "      <td>['Waterway', 'Watercraftrowing', 'Gondola', 'B...</td>\n",
       "      <td>https://www.wikiart.org/en/claude-joseph-verne...</td>\n",
       "      <td>https://uploads8.wikiart.org/00128/images/clau...</td>\n",
       "      <td>28565-the-bridge-and-the-castel-sant-angelo-in...</td>\n",
       "      <td>[landscape]</td>\n",
       "      <td>NaN</td>\n",
       "      <td>NaN</td>\n",
       "    </tr>\n",
       "    <tr>\n",
       "      <th>2</th>\n",
       "      <td>Claude-Joseph Vernet</td>\n",
       "      <td>Neoclassicism</td>\n",
       "      <td>Neoclassicism</td>\n",
       "      <td>['Sky', 'Ruralarea', 'Highland', 'Hill']</td>\n",
       "      <td>https://www.wikiart.org/en/claude-joseph-verne...</td>\n",
       "      <td>https://uploads8.wikiart.org/00128/images/clau...</td>\n",
       "      <td>28566-villa-at-caprarola.jpg</td>\n",
       "      <td>[landscape]</td>\n",
       "      <td>NaN</td>\n",
       "      <td>NaN</td>\n",
       "    </tr>\n",
       "    <tr>\n",
       "      <th>3</th>\n",
       "      <td>Claude-Joseph Vernet</td>\n",
       "      <td>Neoclassicism</td>\n",
       "      <td>Neoclassicism</td>\n",
       "      <td>['Sky', 'Cloud', 'Horizon', 'Atmosphere', 'Eco...</td>\n",
       "      <td>https://www.wikiart.org/en/claude-joseph-verne...</td>\n",
       "      <td>https://uploads1.wikiart.org/00128/images/clau...</td>\n",
       "      <td>28567-vedi-titolo.jpg</td>\n",
       "      <td>[cloudscape]</td>\n",
       "      <td>NaN</td>\n",
       "      <td>NaN</td>\n",
       "    </tr>\n",
       "    <tr>\n",
       "      <th>4</th>\n",
       "      <td>Claude-Joseph Vernet</td>\n",
       "      <td>Neoclassicism</td>\n",
       "      <td>Neoclassicism</td>\n",
       "      <td>['Sky']</td>\n",
       "      <td>https://www.wikiart.org/en/claude-joseph-verne...</td>\n",
       "      <td>https://uploads0.wikiart.org/00259/images/clau...</td>\n",
       "      <td>28568-night-a-port-in-the-moonlight-1748.jpg</td>\n",
       "      <td>[marina]</td>\n",
       "      <td>NaN</td>\n",
       "      <td>NaN</td>\n",
       "    </tr>\n",
       "  </tbody>\n",
       "</table>\n",
       "</div>"
      ],
      "text/plain": [
       "                 artist          style       movement  \\\n",
       "0  Claude-Joseph Vernet  Neoclassicism  Neoclassicism   \n",
       "1  Claude-Joseph Vernet  Neoclassicism  Neoclassicism   \n",
       "2  Claude-Joseph Vernet  Neoclassicism  Neoclassicism   \n",
       "3  Claude-Joseph Vernet  Neoclassicism  Neoclassicism   \n",
       "4  Claude-Joseph Vernet  Neoclassicism  Neoclassicism   \n",
       "\n",
       "                                                tags  \\\n",
       "0  ['Nature', 'Naturallandscape', 'Atmosphericphe...   \n",
       "1  ['Waterway', 'Watercraftrowing', 'Gondola', 'B...   \n",
       "2           ['Sky', 'Ruralarea', 'Highland', 'Hill']   \n",
       "3  ['Sky', 'Cloud', 'Horizon', 'Atmosphere', 'Eco...   \n",
       "4                                            ['Sky']   \n",
       "\n",
       "                                                 url  \\\n",
       "0  https://www.wikiart.org/en/claude-joseph-verne...   \n",
       "1  https://www.wikiart.org/en/claude-joseph-verne...   \n",
       "2  https://www.wikiart.org/en/claude-joseph-verne...   \n",
       "3  https://www.wikiart.org/en/claude-joseph-verne...   \n",
       "4  https://www.wikiart.org/en/claude-joseph-verne...   \n",
       "\n",
       "                                                 img  \\\n",
       "0  https://uploads5.wikiart.org/00128/images/clau...   \n",
       "1  https://uploads8.wikiart.org/00128/images/clau...   \n",
       "2  https://uploads8.wikiart.org/00128/images/clau...   \n",
       "3  https://uploads1.wikiart.org/00128/images/clau...   \n",
       "4  https://uploads0.wikiart.org/00259/images/clau...   \n",
       "\n",
       "                                           file_name    genre_list Artwork  \\\n",
       "0                 28564-the-waterfalls-at-tivoli.jpg   [landscape]     NaN   \n",
       "1  28565-the-bridge-and-the-castel-sant-angelo-in...   [landscape]     NaN   \n",
       "2                       28566-villa-at-caprarola.jpg   [landscape]     NaN   \n",
       "3                              28567-vedi-titolo.jpg  [cloudscape]     NaN   \n",
       "4       28568-night-a-port-in-the-moonlight-1748.jpg      [marina]     NaN   \n",
       "\n",
       "  Date  \n",
       "0  NaN  \n",
       "1  NaN  \n",
       "2  NaN  \n",
       "3  NaN  \n",
       "4  NaN  "
      ]
     },
     "execution_count": 16,
     "metadata": {},
     "output_type": "execute_result"
    }
   ],
   "source": [
    "df_merged.head()"
   ]
  },
  {
   "cell_type": "code",
   "execution_count": 17,
   "id": "a48e3785-1869-40c2-8df0-ba750a6b97dc",
   "metadata": {
    "execution": {
     "iopub.execute_input": "2025-09-01T16:52:51.491835Z",
     "iopub.status.busy": "2025-09-01T16:52:51.490559Z",
     "iopub.status.idle": "2025-09-01T16:52:51.504087Z",
     "shell.execute_reply": "2025-09-01T16:52:51.502536Z",
     "shell.execute_reply.started": "2025-09-01T16:52:51.491709Z"
    }
   },
   "outputs": [
    {
     "data": {
      "text/plain": [
       "(115055, 10)"
      ]
     },
     "execution_count": 17,
     "metadata": {},
     "output_type": "execute_result"
    }
   ],
   "source": [
    "df_merged.shape"
   ]
  },
  {
   "cell_type": "code",
   "execution_count": null,
   "id": "66094717-f244-44ef-a410-d67b6249edd8",
   "metadata": {},
   "outputs": [],
   "source": []
  }
 ],
 "metadata": {
  "kernelspec": {
   "display_name": "3.10.6",
   "language": "python",
   "name": "python3"
  },
  "language_info": {
   "codemirror_mode": {
    "name": "ipython",
    "version": 3
   },
   "file_extension": ".py",
   "mimetype": "text/x-python",
   "name": "python",
   "nbconvert_exporter": "python",
   "pygments_lexer": "ipython3",
   "version": "3.10.6"
  }
 },
 "nbformat": 4,
 "nbformat_minor": 5
}
