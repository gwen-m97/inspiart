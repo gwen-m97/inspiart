{
 "cells": [
  {
   "cell_type": "code",
   "execution_count": 29,
   "id": "2ac1beb0",
   "metadata": {},
   "outputs": [],
   "source": [
    "import kagglehub\n",
    "from kagglehub import KaggleDatasetAdapter\n",
    "import pandas as pd\n",
    "import os\n",
    "\n",
    "import requests\n",
    "from PIL import Image\n",
    "from io import BytesIO\n",
    "from IPython.display import display\n",
    "\n",
    "from typing import List\n",
    "import torch\n",
    "\n",
    "import chromadb\n",
    "\n",
    "import shutil\n",
    "\n",
    "import os\n",
    "import datetime\n",
    "\n",
    "from transformers import ViTImageProcessor, ViTModel, ViTImageProcessorFast\n",
    "from PIL import Image\n",
    "import requests\n",
    "\n",
    "import pandas as pd\n",
    "import chromadb\n",
    "from chromadb import Documents, EmbeddingFunction, Embeddings\n",
    "from chromadb.utils.data_loaders import ImageLoader\n",
    "\n",
    "import matplotlib.pyplot as plt"
   ]
  },
  {
   "cell_type": "code",
   "execution_count": 30,
   "id": "b63d8799",
   "metadata": {},
   "outputs": [
    {
     "data": {
      "text/html": [
       "<div>\n",
       "<style scoped>\n",
       "    .dataframe tbody tr th:only-of-type {\n",
       "        vertical-align: middle;\n",
       "    }\n",
       "\n",
       "    .dataframe tbody tr th {\n",
       "        vertical-align: top;\n",
       "    }\n",
       "\n",
       "    .dataframe thead th {\n",
       "        text-align: right;\n",
       "    }\n",
       "</style>\n",
       "<table border=\"1\" class=\"dataframe\">\n",
       "  <thead>\n",
       "    <tr style=\"text-align: right;\">\n",
       "      <th></th>\n",
       "      <th>Unnamed: 0</th>\n",
       "      <th>image</th>\n",
       "      <th>image_vector</th>\n",
       "    </tr>\n",
       "  </thead>\n",
       "  <tbody>\n",
       "    <tr>\n",
       "      <th>0</th>\n",
       "      <td>0</td>\n",
       "      <td>Paul_Cézanne_-_The_Basket_of_Apples_-_1926.252...</td>\n",
       "      <td>[-1.9647181e-05  1.3060389e-02 -2.9653966e-01 ...</td>\n",
       "    </tr>\n",
       "  </tbody>\n",
       "</table>\n",
       "</div>"
      ],
      "text/plain": [
       "   Unnamed: 0                                              image  \\\n",
       "0           0  Paul_Cézanne_-_The_Basket_of_Apples_-_1926.252...   \n",
       "\n",
       "                                        image_vector  \n",
       "0  [-1.9647181e-05  1.3060389e-02 -2.9653966e-01 ...  "
      ]
     },
     "execution_count": 30,
     "metadata": {},
     "output_type": "execute_result"
    }
   ],
   "source": [
    "# Set the path to the file you'd like to load\n",
    "file_name = \"test_images_vector_df_csv.csv\"\n",
    "file_path = \"/Users/shogun/code/gwen-m97/raw_data/test_images/\"\n",
    "\n",
    "# Load the latest version\n",
    "test_image_vector_df = pd.read_csv(f\"{file_path}{file_name}\")\n",
    "\n",
    "test_image_vector_df.head()"
   ]
  },
  {
   "cell_type": "code",
   "execution_count": 31,
   "id": "4895ba1e",
   "metadata": {},
   "outputs": [
    {
     "data": {
      "text/html": [
       "<div>\n",
       "<style scoped>\n",
       "    .dataframe tbody tr th:only-of-type {\n",
       "        vertical-align: middle;\n",
       "    }\n",
       "\n",
       "    .dataframe tbody tr th {\n",
       "        vertical-align: top;\n",
       "    }\n",
       "\n",
       "    .dataframe thead th {\n",
       "        text-align: right;\n",
       "    }\n",
       "</style>\n",
       "<table border=\"1\" class=\"dataframe\">\n",
       "  <thead>\n",
       "    <tr style=\"text-align: right;\">\n",
       "      <th></th>\n",
       "      <th>Unnamed: 0</th>\n",
       "      <th>image</th>\n",
       "      <th>image_vector</th>\n",
       "    </tr>\n",
       "  </thead>\n",
       "  <tbody>\n",
       "    <tr>\n",
       "      <th>0</th>\n",
       "      <td>0</td>\n",
       "      <td>fred</td>\n",
       "      <td>john</td>\n",
       "    </tr>\n",
       "    <tr>\n",
       "      <th>1</th>\n",
       "      <td>1</td>\n",
       "      <td>pierre-paul-prud-hon_louis-antoine-de-saint-ju...</td>\n",
       "      <td>tensor([[[ 0.0779, -0.0746, -0.0250,  ..., -0....</td>\n",
       "    </tr>\n",
       "    <tr>\n",
       "      <th>2</th>\n",
       "      <td>2</td>\n",
       "      <td>pierre-paul-prud-hon_study-for-venus-and-adoni...</td>\n",
       "      <td>tensor([[[ 0.0945, -0.1561, -0.1269,  ..., -0....</td>\n",
       "    </tr>\n",
       "    <tr>\n",
       "      <th>3</th>\n",
       "      <td>3</td>\n",
       "      <td>pierre-paul-prud-hon_untitled.jpg</td>\n",
       "      <td>tensor([[[-0.1026, -0.0752,  0.0328,  ..., -0....</td>\n",
       "    </tr>\n",
       "    <tr>\n",
       "      <th>4</th>\n",
       "      <td>4</td>\n",
       "      <td>pyotr-konchalovsky_crimea-the-rocks-by-the-sea...</td>\n",
       "      <td>tensor([[[-0.0983, -0.1852, -0.0368,  ...,  0....</td>\n",
       "    </tr>\n",
       "  </tbody>\n",
       "</table>\n",
       "</div>"
      ],
      "text/plain": [
       "   Unnamed: 0                                              image  \\\n",
       "0           0                                               fred   \n",
       "1           1  pierre-paul-prud-hon_louis-antoine-de-saint-ju...   \n",
       "2           2  pierre-paul-prud-hon_study-for-venus-and-adoni...   \n",
       "3           3                  pierre-paul-prud-hon_untitled.jpg   \n",
       "4           4  pyotr-konchalovsky_crimea-the-rocks-by-the-sea...   \n",
       "\n",
       "                                        image_vector  \n",
       "0                                               john  \n",
       "1  tensor([[[ 0.0779, -0.0746, -0.0250,  ..., -0....  \n",
       "2  tensor([[[ 0.0945, -0.1561, -0.1269,  ..., -0....  \n",
       "3  tensor([[[-0.1026, -0.0752,  0.0328,  ..., -0....  \n",
       "4  tensor([[[-0.0983, -0.1852, -0.0368,  ...,  0....  "
      ]
     },
     "execution_count": 31,
     "metadata": {},
     "output_type": "execute_result"
    }
   ],
   "source": [
    "# Set the path to the file you'd like to load\n",
    "file_name = \"gwen_200_vector_df_csv_first.csv\"\n",
    "file_path = \"/Users/shogun/code/gwen-m97/raw_data/gwen_200/\"\n",
    "\n",
    "# Load the latest version\n",
    "gwen_200_vector_df_first = pd.read_csv(f\"{file_path}{file_name}\")\n",
    "\n",
    "gwen_200_vector_df_first.head()"
   ]
  },
  {
   "cell_type": "code",
   "execution_count": 32,
   "id": "ac1669d1",
   "metadata": {},
   "outputs": [
    {
     "data": {
      "text/html": [
       "<div>\n",
       "<style scoped>\n",
       "    .dataframe tbody tr th:only-of-type {\n",
       "        vertical-align: middle;\n",
       "    }\n",
       "\n",
       "    .dataframe tbody tr th {\n",
       "        vertical-align: top;\n",
       "    }\n",
       "\n",
       "    .dataframe thead th {\n",
       "        text-align: right;\n",
       "    }\n",
       "</style>\n",
       "<table border=\"1\" class=\"dataframe\">\n",
       "  <thead>\n",
       "    <tr style=\"text-align: right;\">\n",
       "      <th></th>\n",
       "      <th>Unnamed: 0</th>\n",
       "      <th>image</th>\n",
       "      <th>image_vector</th>\n",
       "    </tr>\n",
       "  </thead>\n",
       "  <tbody>\n",
       "    <tr>\n",
       "      <th>0</th>\n",
       "      <td>0</td>\n",
       "      <td>fred</td>\n",
       "      <td>john</td>\n",
       "    </tr>\n",
       "    <tr>\n",
       "      <th>1</th>\n",
       "      <td>1</td>\n",
       "      <td>abbott-handerson-thayer_blue-jays-in-winter-19...</td>\n",
       "      <td>tensor([[[ 0.0911, -0.1870, -0.0223,  ..., -0....</td>\n",
       "    </tr>\n",
       "    <tr>\n",
       "      <th>2</th>\n",
       "      <td>2</td>\n",
       "      <td>albert-gleizes_untitled-2.jpg!Large.jpg</td>\n",
       "      <td>tensor([[[-0.0461, -0.1976, -0.0997,  ...,  0....</td>\n",
       "    </tr>\n",
       "    <tr>\n",
       "      <th>3</th>\n",
       "      <td>3</td>\n",
       "      <td>alexander-shilov_rosemary-flowered-1980(4).jpg...</td>\n",
       "      <td>tensor([[[ 0.0573, -0.0742, -0.0356,  ..., -0....</td>\n",
       "    </tr>\n",
       "    <tr>\n",
       "      <th>4</th>\n",
       "      <td>4</td>\n",
       "      <td>alexandre-jacovleff_nu-2.jpg!Large.jpg</td>\n",
       "      <td>tensor([[[ 1.8831e-01, -2.9391e-01,  2.2604e-0...</td>\n",
       "    </tr>\n",
       "  </tbody>\n",
       "</table>\n",
       "</div>"
      ],
      "text/plain": [
       "   Unnamed: 0                                              image  \\\n",
       "0           0                                               fred   \n",
       "1           1  abbott-handerson-thayer_blue-jays-in-winter-19...   \n",
       "2           2            albert-gleizes_untitled-2.jpg!Large.jpg   \n",
       "3           3  alexander-shilov_rosemary-flowered-1980(4).jpg...   \n",
       "4           4             alexandre-jacovleff_nu-2.jpg!Large.jpg   \n",
       "\n",
       "                                        image_vector  \n",
       "0                                               john  \n",
       "1  tensor([[[ 0.0911, -0.1870, -0.0223,  ..., -0....  \n",
       "2  tensor([[[-0.0461, -0.1976, -0.0997,  ...,  0....  \n",
       "3  tensor([[[ 0.0573, -0.0742, -0.0356,  ..., -0....  \n",
       "4  tensor([[[ 1.8831e-01, -2.9391e-01,  2.2604e-0...  "
      ]
     },
     "execution_count": 32,
     "metadata": {},
     "output_type": "execute_result"
    }
   ],
   "source": [
    "# Set the path to the file you'd like to load\n",
    "file_name = \"gwen_200_vector_df_csv_second.csv\"\n",
    "file_path = \"/Users/shogun/code/gwen-m97/raw_data/gwen_200/\"\n",
    "\n",
    "# Load the latest version\n",
    "gwen_200_vector_df_second = pd.read_csv(f\"{file_path}{file_name}\")\n",
    "\n",
    "gwen_200_vector_df_second.head()"
   ]
  },
  {
   "cell_type": "code",
   "execution_count": 33,
   "id": "2bd1e98f",
   "metadata": {},
   "outputs": [
    {
     "data": {
      "text/html": [
       "<div>\n",
       "<style scoped>\n",
       "    .dataframe tbody tr th:only-of-type {\n",
       "        vertical-align: middle;\n",
       "    }\n",
       "\n",
       "    .dataframe tbody tr th {\n",
       "        vertical-align: top;\n",
       "    }\n",
       "\n",
       "    .dataframe thead th {\n",
       "        text-align: right;\n",
       "    }\n",
       "</style>\n",
       "<table border=\"1\" class=\"dataframe\">\n",
       "  <thead>\n",
       "    <tr style=\"text-align: right;\">\n",
       "      <th></th>\n",
       "      <th>Unnamed: 0</th>\n",
       "      <th>image</th>\n",
       "      <th>image_vector</th>\n",
       "    </tr>\n",
       "  </thead>\n",
       "  <tbody>\n",
       "    <tr>\n",
       "      <th>0</th>\n",
       "      <td>0</td>\n",
       "      <td>fred</td>\n",
       "      <td>john</td>\n",
       "    </tr>\n",
       "    <tr>\n",
       "      <th>1</th>\n",
       "      <td>1</td>\n",
       "      <td>pierre-paul-prud-hon_louis-antoine-de-saint-ju...</td>\n",
       "      <td>tensor([[[ 0.0779, -0.0746, -0.0250,  ..., -0....</td>\n",
       "    </tr>\n",
       "    <tr>\n",
       "      <th>2</th>\n",
       "      <td>2</td>\n",
       "      <td>pierre-paul-prud-hon_study-for-venus-and-adoni...</td>\n",
       "      <td>tensor([[[ 0.0945, -0.1561, -0.1269,  ..., -0....</td>\n",
       "    </tr>\n",
       "    <tr>\n",
       "      <th>3</th>\n",
       "      <td>3</td>\n",
       "      <td>pierre-paul-prud-hon_untitled.jpg</td>\n",
       "      <td>tensor([[[-0.1026, -0.0752,  0.0328,  ..., -0....</td>\n",
       "    </tr>\n",
       "    <tr>\n",
       "      <th>4</th>\n",
       "      <td>4</td>\n",
       "      <td>pyotr-konchalovsky_crimea-the-rocks-by-the-sea...</td>\n",
       "      <td>tensor([[[-0.0983, -0.1852, -0.0368,  ...,  0....</td>\n",
       "    </tr>\n",
       "  </tbody>\n",
       "</table>\n",
       "</div>"
      ],
      "text/plain": [
       "   Unnamed: 0                                              image  \\\n",
       "0           0                                               fred   \n",
       "1           1  pierre-paul-prud-hon_louis-antoine-de-saint-ju...   \n",
       "2           2  pierre-paul-prud-hon_study-for-venus-and-adoni...   \n",
       "3           3                  pierre-paul-prud-hon_untitled.jpg   \n",
       "4           4  pyotr-konchalovsky_crimea-the-rocks-by-the-sea...   \n",
       "\n",
       "                                        image_vector  \n",
       "0                                               john  \n",
       "1  tensor([[[ 0.0779, -0.0746, -0.0250,  ..., -0....  \n",
       "2  tensor([[[ 0.0945, -0.1561, -0.1269,  ..., -0....  \n",
       "3  tensor([[[-0.1026, -0.0752,  0.0328,  ..., -0....  \n",
       "4  tensor([[[-0.0983, -0.1852, -0.0368,  ...,  0....  "
      ]
     },
     "execution_count": 33,
     "metadata": {},
     "output_type": "execute_result"
    }
   ],
   "source": [
    "gwen_200_vector_df = pd.concat([gwen_200_vector_df_first,gwen_200_vector_df_second],ignore_index=True)\n",
    "gwen_200_vector_df.head()"
   ]
  },
  {
   "cell_type": "code",
   "execution_count": 34,
   "id": "b04a466a",
   "metadata": {},
   "outputs": [
    {
     "data": {
      "text/plain": [
       "(195, 3)"
      ]
     },
     "execution_count": 34,
     "metadata": {},
     "output_type": "execute_result"
    }
   ],
   "source": [
    "gwen_200_vector_df.shape"
   ]
  },
  {
   "cell_type": "code",
   "execution_count": 35,
   "id": "d31cb1f7",
   "metadata": {},
   "outputs": [
    {
     "data": {
      "text/plain": [
       "Unnamed: 0       int64\n",
       "image           object\n",
       "image_vector    object\n",
       "dtype: object"
      ]
     },
     "execution_count": 35,
     "metadata": {},
     "output_type": "execute_result"
    }
   ],
   "source": [
    "gwen_200_vector_df.dtypes"
   ]
  },
  {
   "cell_type": "code",
   "execution_count": 36,
   "id": "5d857bd8",
   "metadata": {},
   "outputs": [
    {
     "ename": "AttributeError",
     "evalue": "'str' object has no attribute 'to_numpy'",
     "output_type": "error",
     "traceback": [
      "\u001b[0;31m---------------------------------------------------------------------------\u001b[0m",
      "\u001b[0;31mAttributeError\u001b[0m                            Traceback (most recent call last)",
      "Cell \u001b[0;32mIn[36], line 1\u001b[0m\n\u001b[0;32m----> 1\u001b[0m \u001b[43mgwen_200_vector_df\u001b[49m\u001b[43m[\u001b[49m\u001b[38;5;124;43m'\u001b[39;49m\u001b[38;5;124;43mimage_vector\u001b[39;49m\u001b[38;5;124;43m'\u001b[39;49m\u001b[43m]\u001b[49m\u001b[38;5;241;43m.\u001b[39;49m\u001b[43mto_numpy\u001b[49m\u001b[43m(\u001b[49m\u001b[43m)\u001b[49m\u001b[43m[\u001b[49m\u001b[38;5;241;43m1\u001b[39;49m\u001b[43m]\u001b[49m\u001b[38;5;241;43m.\u001b[39;49m\u001b[43mrsplit\u001b[49m\u001b[43m(\u001b[49m\u001b[38;5;124;43m\"\u001b[39;49m\u001b[38;5;124;43mtensor(\u001b[39;49m\u001b[38;5;124;43m\"\u001b[39;49m\u001b[43m)\u001b[49m\u001b[43m[\u001b[49m\u001b[38;5;241;43m1\u001b[39;49m\u001b[43m]\u001b[49m\u001b[38;5;241;43m.\u001b[39;49m\u001b[43mrsplit\u001b[49m\u001b[43m(\u001b[49m\u001b[38;5;124;43m\"\u001b[39;49m\u001b[38;5;124;43m,\u001b[39;49m\u001b[38;5;130;43;01m\\n\u001b[39;49;00m\u001b[38;5;124;43m\"\u001b[39;49m\u001b[43m)\u001b[49m\u001b[43m[\u001b[49m\u001b[38;5;241;43m0\u001b[39;49m\u001b[43m]\u001b[49m\u001b[38;5;241;43m.\u001b[39;49m\u001b[43mto_numpy\u001b[49m()\n",
      "\u001b[0;31mAttributeError\u001b[0m: 'str' object has no attribute 'to_numpy'"
     ]
    }
   ],
   "source": [
    "gwen_200_vector_df['image_vector'].to_numpy()[1].rsplit(\"tensor(\")[1].rsplit(\",\\n\")[0].to_numpy()"
   ]
  },
  {
   "cell_type": "code",
   "execution_count": 37,
   "id": "14851f82",
   "metadata": {},
   "outputs": [],
   "source": [
    "class GoogleVITHuge224Embedding(EmbeddingFunction):\n",
    "\n",
    "\n",
    "    def __call__(self, input: Documents) -> Embeddings:\n",
    "\n",
    "        from transformers import ViTImageProcessor, ViTModel, ViTImageProcessorFast\n",
    "\n",
    "        #Instantiate the image. Convert it to 244 x 244 and normalise RGB between 0 and 1 witha mean of 0.5 for each channel\n",
    "\n",
    "        self.feature_extractor = ViTImageProcessorFast.from_pretrained('google/vit-huge-patch14-224-in21k')\n",
    "\n",
    "        #Instantiate the Google ViT with pretrained weights\n",
    "\n",
    "        self.model = ViTModel.from_pretrained('google/vit-huge-patch14-224-in21k')#Preprocess the data\n",
    "\n",
    "        inputs = self.feature_extractor(images=input, return_tensors=\"pt\")\n",
    "\n",
    "        #Embedd the data\n",
    "\n",
    "        outputs = self.model(**inputs)\n",
    "\n",
    "        #Convert the embedding to a Numpy array and take the first vector of the Transformer state\n",
    "\n",
    "        embeddings = outputs.last_hidden_state.data.numpy()[0,0]\n",
    "\n",
    "        print(embeddings)\n",
    "\n",
    "        #return the embedding\n",
    "\n",
    "        return embeddings"
   ]
  },
  {
   "cell_type": "code",
   "execution_count": 38,
   "id": "43d6a2a1",
   "metadata": {},
   "outputs": [
    {
     "ename": "NameError",
     "evalue": "name 'Settings' is not defined",
     "output_type": "error",
     "traceback": [
      "\u001b[0;31m---------------------------------------------------------------------------\u001b[0m",
      "\u001b[0;31mNameError\u001b[0m                                 Traceback (most recent call last)",
      "Cell \u001b[0;32mIn[38], line 1\u001b[0m\n\u001b[0;32m----> 1\u001b[0m chroma_client \u001b[38;5;241m=\u001b[39m chromadb\u001b[38;5;241m.\u001b[39mPersistentClient(path\u001b[38;5;241m=\u001b[39m\u001b[38;5;124m'\u001b[39m\u001b[38;5;124m/Users/shogun/code/gwen-m97/inspiart/my_vectordb\u001b[39m\u001b[38;5;124m'\u001b[39m,settings\u001b[38;5;241m=\u001b[39m\u001b[43mSettings\u001b[49m(allow_reset\u001b[38;5;241m=\u001b[39m\u001b[38;5;28;01mTrue\u001b[39;00m))\n",
      "\u001b[0;31mNameError\u001b[0m: name 'Settings' is not defined"
     ]
    }
   ],
   "source": [
    "chroma_client = chromadb.PersistentClient(path='/Users/shogun/code/gwen-m97/inspiart/my_vectordb',settings=Settings(allow_reset=True))\n"
   ]
  },
  {
   "cell_type": "code",
   "execution_count": 39,
   "id": "229000be",
   "metadata": {},
   "outputs": [
    {
     "name": "stderr",
     "output_type": "stream",
     "text": [
      "/var/folders/1r/626773hx3mbf2w_31tdjwv6m0000gn/T/ipykernel_16312/3517319003.py:3: DeprecationWarning: The class GoogleVITHuge224Embedding does not implement __init__. This will be required in a future version.\n",
      "  image_embbeding_function = GoogleVITHuge224Embedding()\n"
     ]
    }
   ],
   "source": [
    "image_loader = ImageLoader()\n",
    "\n",
    "image_embbeding_function = GoogleVITHuge224Embedding()\n"
   ]
  },
  {
   "cell_type": "code",
   "execution_count": 40,
   "id": "3cc516fd",
   "metadata": {},
   "outputs": [
    {
     "ename": "InternalError",
     "evalue": "Database error: error returned from database: (code: 14) unable to open database file",
     "output_type": "error",
     "traceback": [
      "\u001b[0;31m---------------------------------------------------------------------------\u001b[0m",
      "\u001b[0;31mInternalError\u001b[0m                             Traceback (most recent call last)",
      "Cell \u001b[0;32mIn[40], line 1\u001b[0m\n\u001b[0;32m----> 1\u001b[0m images_db \u001b[38;5;241m=\u001b[39m \u001b[43mchroma_client\u001b[49m\u001b[38;5;241;43m.\u001b[39;49m\u001b[43mget_or_create_collection\u001b[49m\u001b[43m(\u001b[49m\u001b[43mname\u001b[49m\u001b[38;5;241;43m=\u001b[39;49m\u001b[38;5;124;43m\"\u001b[39;49m\u001b[38;5;124;43mimages_db\u001b[39;49m\u001b[38;5;124;43m\"\u001b[39;49m\u001b[43m,\u001b[49m\u001b[43m \u001b[49m\u001b[43membedding_function\u001b[49m\u001b[38;5;241;43m=\u001b[39;49m\u001b[43mimage_embbeding_function\u001b[49m\u001b[43m,\u001b[49m\u001b[43m \u001b[49m\u001b[43mdata_loader\u001b[49m\u001b[38;5;241;43m=\u001b[39;49m\u001b[43mimage_loader\u001b[49m\u001b[43m)\u001b[49m\n",
      "File \u001b[0;32m~/.pyenv/versions/3.10.6/envs/inspiart/lib/python3.10/site-packages/chromadb/api/client.py:241\u001b[0m, in \u001b[0;36mClient.get_or_create_collection\u001b[0;34m(self, name, configuration, metadata, embedding_function, data_loader)\u001b[0m\n\u001b[1;32m    239\u001b[0m \u001b[38;5;28;01mif\u001b[39;00m embedding_function \u001b[38;5;129;01mis\u001b[39;00m \u001b[38;5;129;01mnot\u001b[39;00m \u001b[38;5;28;01mNone\u001b[39;00m \u001b[38;5;129;01mand\u001b[39;00m configuration_ef \u001b[38;5;129;01mis\u001b[39;00m \u001b[38;5;28;01mNone\u001b[39;00m:\n\u001b[1;32m    240\u001b[0m     configuration[\u001b[38;5;124m\"\u001b[39m\u001b[38;5;124membedding_function\u001b[39m\u001b[38;5;124m\"\u001b[39m] \u001b[38;5;241m=\u001b[39m embedding_function\n\u001b[0;32m--> 241\u001b[0m model \u001b[38;5;241m=\u001b[39m \u001b[38;5;28;43mself\u001b[39;49m\u001b[38;5;241;43m.\u001b[39;49m\u001b[43m_server\u001b[49m\u001b[38;5;241;43m.\u001b[39;49m\u001b[43mget_or_create_collection\u001b[49m\u001b[43m(\u001b[49m\n\u001b[1;32m    242\u001b[0m \u001b[43m    \u001b[49m\u001b[43mname\u001b[49m\u001b[38;5;241;43m=\u001b[39;49m\u001b[43mname\u001b[49m\u001b[43m,\u001b[49m\n\u001b[1;32m    243\u001b[0m \u001b[43m    \u001b[49m\u001b[43mmetadata\u001b[49m\u001b[38;5;241;43m=\u001b[39;49m\u001b[43mmetadata\u001b[49m\u001b[43m,\u001b[49m\n\u001b[1;32m    244\u001b[0m \u001b[43m    \u001b[49m\u001b[43mtenant\u001b[49m\u001b[38;5;241;43m=\u001b[39;49m\u001b[38;5;28;43mself\u001b[39;49m\u001b[38;5;241;43m.\u001b[39;49m\u001b[43mtenant\u001b[49m\u001b[43m,\u001b[49m\n\u001b[1;32m    245\u001b[0m \u001b[43m    \u001b[49m\u001b[43mdatabase\u001b[49m\u001b[38;5;241;43m=\u001b[39;49m\u001b[38;5;28;43mself\u001b[39;49m\u001b[38;5;241;43m.\u001b[39;49m\u001b[43mdatabase\u001b[49m\u001b[43m,\u001b[49m\n\u001b[1;32m    246\u001b[0m \u001b[43m    \u001b[49m\u001b[43mconfiguration\u001b[49m\u001b[38;5;241;43m=\u001b[39;49m\u001b[43mconfiguration\u001b[49m\u001b[43m,\u001b[49m\n\u001b[1;32m    247\u001b[0m \u001b[43m\u001b[49m\u001b[43m)\u001b[49m\n\u001b[1;32m    249\u001b[0m persisted_ef_config \u001b[38;5;241m=\u001b[39m model\u001b[38;5;241m.\u001b[39mconfiguration_json\u001b[38;5;241m.\u001b[39mget(\u001b[38;5;124m\"\u001b[39m\u001b[38;5;124membedding_function\u001b[39m\u001b[38;5;124m\"\u001b[39m)\n\u001b[1;32m    251\u001b[0m validate_embedding_function_conflict_on_get(\n\u001b[1;32m    252\u001b[0m     embedding_function, persisted_ef_config\n\u001b[1;32m    253\u001b[0m )\n",
      "File \u001b[0;32m~/.pyenv/versions/3.10.6/envs/inspiart/lib/python3.10/site-packages/chromadb/api/rust.py:268\u001b[0m, in \u001b[0;36mRustBindingsAPI.get_or_create_collection\u001b[0;34m(self, name, configuration, metadata, tenant, database)\u001b[0m\n\u001b[1;32m    259\u001b[0m \u001b[38;5;129m@override\u001b[39m\n\u001b[1;32m    260\u001b[0m \u001b[38;5;28;01mdef\u001b[39;00m\u001b[38;5;250m \u001b[39m\u001b[38;5;21mget_or_create_collection\u001b[39m(\n\u001b[1;32m    261\u001b[0m     \u001b[38;5;28mself\u001b[39m,\n\u001b[0;32m   (...)\u001b[0m\n\u001b[1;32m    266\u001b[0m     database: \u001b[38;5;28mstr\u001b[39m \u001b[38;5;241m=\u001b[39m DEFAULT_DATABASE,\n\u001b[1;32m    267\u001b[0m ) \u001b[38;5;241m-\u001b[39m\u001b[38;5;241m>\u001b[39m CollectionModel:\n\u001b[0;32m--> 268\u001b[0m     \u001b[38;5;28;01mreturn\u001b[39;00m \u001b[38;5;28;43mself\u001b[39;49m\u001b[38;5;241;43m.\u001b[39;49m\u001b[43mcreate_collection\u001b[49m\u001b[43m(\u001b[49m\n\u001b[1;32m    269\u001b[0m \u001b[43m        \u001b[49m\u001b[43mname\u001b[49m\u001b[43m,\u001b[49m\u001b[43m \u001b[49m\u001b[43mconfiguration\u001b[49m\u001b[43m,\u001b[49m\u001b[43m \u001b[49m\u001b[43mmetadata\u001b[49m\u001b[43m,\u001b[49m\u001b[43m \u001b[49m\u001b[38;5;28;43;01mTrue\u001b[39;49;00m\u001b[43m,\u001b[49m\u001b[43m \u001b[49m\u001b[43mtenant\u001b[49m\u001b[43m,\u001b[49m\u001b[43m \u001b[49m\u001b[43mdatabase\u001b[49m\n\u001b[1;32m    270\u001b[0m \u001b[43m    \u001b[49m\u001b[43m)\u001b[49m\n",
      "File \u001b[0;32m~/.pyenv/versions/3.10.6/envs/inspiart/lib/python3.10/site-packages/chromadb/api/rust.py:227\u001b[0m, in \u001b[0;36mRustBindingsAPI.create_collection\u001b[0;34m(self, name, configuration, metadata, get_or_create, tenant, database)\u001b[0m\n\u001b[1;32m    224\u001b[0m \u001b[38;5;28;01melse\u001b[39;00m:\n\u001b[1;32m    225\u001b[0m     configuration_json_str \u001b[38;5;241m=\u001b[39m \u001b[38;5;28;01mNone\u001b[39;00m\n\u001b[0;32m--> 227\u001b[0m collection \u001b[38;5;241m=\u001b[39m \u001b[38;5;28;43mself\u001b[39;49m\u001b[38;5;241;43m.\u001b[39;49m\u001b[43mbindings\u001b[49m\u001b[38;5;241;43m.\u001b[39;49m\u001b[43mcreate_collection\u001b[49m\u001b[43m(\u001b[49m\n\u001b[1;32m    228\u001b[0m \u001b[43m    \u001b[49m\u001b[43mname\u001b[49m\u001b[43m,\u001b[49m\u001b[43m \u001b[49m\u001b[43mconfiguration_json_str\u001b[49m\u001b[43m,\u001b[49m\u001b[43m \u001b[49m\u001b[43mmetadata\u001b[49m\u001b[43m,\u001b[49m\u001b[43m \u001b[49m\u001b[43mget_or_create\u001b[49m\u001b[43m,\u001b[49m\u001b[43m \u001b[49m\u001b[43mtenant\u001b[49m\u001b[43m,\u001b[49m\u001b[43m \u001b[49m\u001b[43mdatabase\u001b[49m\n\u001b[1;32m    229\u001b[0m \u001b[43m\u001b[49m\u001b[43m)\u001b[49m\n\u001b[1;32m    230\u001b[0m collection_model \u001b[38;5;241m=\u001b[39m CollectionModel(\n\u001b[1;32m    231\u001b[0m     \u001b[38;5;28mid\u001b[39m\u001b[38;5;241m=\u001b[39mcollection\u001b[38;5;241m.\u001b[39mid,\n\u001b[1;32m    232\u001b[0m     name\u001b[38;5;241m=\u001b[39mcollection\u001b[38;5;241m.\u001b[39mname,\n\u001b[0;32m   (...)\u001b[0m\n\u001b[1;32m    237\u001b[0m     database\u001b[38;5;241m=\u001b[39mcollection\u001b[38;5;241m.\u001b[39mdatabase,\n\u001b[1;32m    238\u001b[0m )\n\u001b[1;32m    239\u001b[0m \u001b[38;5;28;01mreturn\u001b[39;00m collection_model\n",
      "\u001b[0;31mInternalError\u001b[0m: Database error: error returned from database: (code: 14) unable to open database file"
     ]
    }
   ],
   "source": [
    "images_db = chroma_client.get_or_create_collection(name=\"images_db\", embedding_function=image_embbeding_function, data_loader=image_loader)"
   ]
  },
  {
   "cell_type": "code",
   "execution_count": null,
   "id": "5de005ef",
   "metadata": {},
   "outputs": [],
   "source": []
  },
  {
   "cell_type": "code",
   "execution_count": 41,
   "id": "dcf180c3",
   "metadata": {},
   "outputs": [],
   "source": [
    "query_uris = '/Users/shogun/code/gwen-m97/raw_data/test_images/Two_Young_Girls_at_the_Piano_MET_rl1975.1.201.R.jpg'"
   ]
  },
  {
   "cell_type": "code",
   "execution_count": 42,
   "id": "d874708f",
   "metadata": {},
   "outputs": [
    {
     "name": "stdout",
     "output_type": "stream",
     "text": [
      "[-0.00713051 -0.12309302  0.02648428 ... -0.09540542  0.10423515\n",
      " -0.03038444]\n"
     ]
    },
    {
     "ename": "InternalError",
     "evalue": "Error getting collection: Database error: error returned from database: (code: 14) unable to open database file",
     "output_type": "error",
     "traceback": [
      "\u001b[0;31m---------------------------------------------------------------------------\u001b[0m",
      "\u001b[0;31mInternalError\u001b[0m                             Traceback (most recent call last)",
      "Cell \u001b[0;32mIn[42], line 1\u001b[0m\n\u001b[0;32m----> 1\u001b[0m image_suggestions \u001b[38;5;241m=\u001b[39m \u001b[43mimages_db\u001b[49m\u001b[38;5;241;43m.\u001b[39;49m\u001b[43mquery\u001b[49m\u001b[43m(\u001b[49m\n\u001b[1;32m      2\u001b[0m \u001b[43m    \u001b[49m\u001b[43mquery_uris\u001b[49m\u001b[38;5;241;43m=\u001b[39;49m\u001b[43m[\u001b[49m\u001b[43mquery_uris\u001b[49m\u001b[43m]\u001b[49m\n\u001b[1;32m      3\u001b[0m \u001b[43m)\u001b[49m\n",
      "File \u001b[0;32m~/.pyenv/versions/3.10.6/envs/inspiart/lib/python3.10/site-packages/chromadb/api/models/Collection.py:221\u001b[0m, in \u001b[0;36mCollection.query\u001b[0;34m(self, query_embeddings, query_texts, query_images, query_uris, ids, n_results, where, where_document, include)\u001b[0m\n\u001b[1;32m    185\u001b[0m \u001b[38;5;250m\u001b[39m\u001b[38;5;124;03m\"\"\"Get the n_results nearest neighbor embeddings for provided query_embeddings or query_texts.\u001b[39;00m\n\u001b[1;32m    186\u001b[0m \n\u001b[1;32m    187\u001b[0m \u001b[38;5;124;03mArgs:\u001b[39;00m\n\u001b[0;32m   (...)\u001b[0m\n\u001b[1;32m    206\u001b[0m \n\u001b[1;32m    207\u001b[0m \u001b[38;5;124;03m\"\"\"\u001b[39;00m\n\u001b[1;32m    209\u001b[0m query_request \u001b[38;5;241m=\u001b[39m \u001b[38;5;28mself\u001b[39m\u001b[38;5;241m.\u001b[39m_validate_and_prepare_query_request(\n\u001b[1;32m    210\u001b[0m     query_embeddings\u001b[38;5;241m=\u001b[39mquery_embeddings,\n\u001b[1;32m    211\u001b[0m     query_texts\u001b[38;5;241m=\u001b[39mquery_texts,\n\u001b[0;32m   (...)\u001b[0m\n\u001b[1;32m    218\u001b[0m     include\u001b[38;5;241m=\u001b[39minclude,\n\u001b[1;32m    219\u001b[0m )\n\u001b[0;32m--> 221\u001b[0m query_results \u001b[38;5;241m=\u001b[39m \u001b[38;5;28;43mself\u001b[39;49m\u001b[38;5;241;43m.\u001b[39;49m\u001b[43m_client\u001b[49m\u001b[38;5;241;43m.\u001b[39;49m\u001b[43m_query\u001b[49m\u001b[43m(\u001b[49m\n\u001b[1;32m    222\u001b[0m \u001b[43m    \u001b[49m\u001b[43mcollection_id\u001b[49m\u001b[38;5;241;43m=\u001b[39;49m\u001b[38;5;28;43mself\u001b[39;49m\u001b[38;5;241;43m.\u001b[39;49m\u001b[43mid\u001b[49m\u001b[43m,\u001b[49m\n\u001b[1;32m    223\u001b[0m \u001b[43m    \u001b[49m\u001b[43mids\u001b[49m\u001b[38;5;241;43m=\u001b[39;49m\u001b[43mquery_request\u001b[49m\u001b[43m[\u001b[49m\u001b[38;5;124;43m\"\u001b[39;49m\u001b[38;5;124;43mids\u001b[39;49m\u001b[38;5;124;43m\"\u001b[39;49m\u001b[43m]\u001b[49m\u001b[43m,\u001b[49m\n\u001b[1;32m    224\u001b[0m \u001b[43m    \u001b[49m\u001b[43mquery_embeddings\u001b[49m\u001b[38;5;241;43m=\u001b[39;49m\u001b[43mquery_request\u001b[49m\u001b[43m[\u001b[49m\u001b[38;5;124;43m\"\u001b[39;49m\u001b[38;5;124;43membeddings\u001b[39;49m\u001b[38;5;124;43m\"\u001b[39;49m\u001b[43m]\u001b[49m\u001b[43m,\u001b[49m\n\u001b[1;32m    225\u001b[0m \u001b[43m    \u001b[49m\u001b[43mn_results\u001b[49m\u001b[38;5;241;43m=\u001b[39;49m\u001b[43mquery_request\u001b[49m\u001b[43m[\u001b[49m\u001b[38;5;124;43m\"\u001b[39;49m\u001b[38;5;124;43mn_results\u001b[39;49m\u001b[38;5;124;43m\"\u001b[39;49m\u001b[43m]\u001b[49m\u001b[43m,\u001b[49m\n\u001b[1;32m    226\u001b[0m \u001b[43m    \u001b[49m\u001b[43mwhere\u001b[49m\u001b[38;5;241;43m=\u001b[39;49m\u001b[43mquery_request\u001b[49m\u001b[43m[\u001b[49m\u001b[38;5;124;43m\"\u001b[39;49m\u001b[38;5;124;43mwhere\u001b[39;49m\u001b[38;5;124;43m\"\u001b[39;49m\u001b[43m]\u001b[49m\u001b[43m,\u001b[49m\n\u001b[1;32m    227\u001b[0m \u001b[43m    \u001b[49m\u001b[43mwhere_document\u001b[49m\u001b[38;5;241;43m=\u001b[39;49m\u001b[43mquery_request\u001b[49m\u001b[43m[\u001b[49m\u001b[38;5;124;43m\"\u001b[39;49m\u001b[38;5;124;43mwhere_document\u001b[39;49m\u001b[38;5;124;43m\"\u001b[39;49m\u001b[43m]\u001b[49m\u001b[43m,\u001b[49m\n\u001b[1;32m    228\u001b[0m \u001b[43m    \u001b[49m\u001b[43minclude\u001b[49m\u001b[38;5;241;43m=\u001b[39;49m\u001b[43mquery_request\u001b[49m\u001b[43m[\u001b[49m\u001b[38;5;124;43m\"\u001b[39;49m\u001b[38;5;124;43minclude\u001b[39;49m\u001b[38;5;124;43m\"\u001b[39;49m\u001b[43m]\u001b[49m\u001b[43m,\u001b[49m\n\u001b[1;32m    229\u001b[0m \u001b[43m    \u001b[49m\u001b[43mtenant\u001b[49m\u001b[38;5;241;43m=\u001b[39;49m\u001b[38;5;28;43mself\u001b[39;49m\u001b[38;5;241;43m.\u001b[39;49m\u001b[43mtenant\u001b[49m\u001b[43m,\u001b[49m\n\u001b[1;32m    230\u001b[0m \u001b[43m    \u001b[49m\u001b[43mdatabase\u001b[49m\u001b[38;5;241;43m=\u001b[39;49m\u001b[38;5;28;43mself\u001b[39;49m\u001b[38;5;241;43m.\u001b[39;49m\u001b[43mdatabase\u001b[49m\u001b[43m,\u001b[49m\n\u001b[1;32m    231\u001b[0m \u001b[43m\u001b[49m\u001b[43m)\u001b[49m\n\u001b[1;32m    233\u001b[0m \u001b[38;5;28;01mreturn\u001b[39;00m \u001b[38;5;28mself\u001b[39m\u001b[38;5;241m.\u001b[39m_transform_query_response(\n\u001b[1;32m    234\u001b[0m     response\u001b[38;5;241m=\u001b[39mquery_results, include\u001b[38;5;241m=\u001b[39mquery_request[\u001b[38;5;124m\"\u001b[39m\u001b[38;5;124minclude\u001b[39m\u001b[38;5;124m\"\u001b[39m]\n\u001b[1;32m    235\u001b[0m )\n",
      "File \u001b[0;32m~/.pyenv/versions/3.10.6/envs/inspiart/lib/python3.10/site-packages/chromadb/api/rust.py:505\u001b[0m, in \u001b[0;36mRustBindingsAPI._query\u001b[0;34m(self, collection_id, query_embeddings, ids, n_results, where, where_document, include, tenant, database)\u001b[0m\n\u001b[1;32m    489\u001b[0m filtered_ids_amount \u001b[38;5;241m=\u001b[39m \u001b[38;5;28mlen\u001b[39m(ids) \u001b[38;5;28;01mif\u001b[39;00m ids \u001b[38;5;28;01melse\u001b[39;00m \u001b[38;5;241m0\u001b[39m\n\u001b[1;32m    490\u001b[0m \u001b[38;5;28mself\u001b[39m\u001b[38;5;241m.\u001b[39mproduct_telemetry_client\u001b[38;5;241m.\u001b[39mcapture(\n\u001b[1;32m    491\u001b[0m     CollectionQueryEvent(\n\u001b[1;32m    492\u001b[0m         collection_uuid\u001b[38;5;241m=\u001b[39m\u001b[38;5;28mstr\u001b[39m(collection_id),\n\u001b[0;32m   (...)\u001b[0m\n\u001b[1;32m    502\u001b[0m     )\n\u001b[1;32m    503\u001b[0m )\n\u001b[0;32m--> 505\u001b[0m rust_response \u001b[38;5;241m=\u001b[39m \u001b[38;5;28;43mself\u001b[39;49m\u001b[38;5;241;43m.\u001b[39;49m\u001b[43mbindings\u001b[49m\u001b[38;5;241;43m.\u001b[39;49m\u001b[43mquery\u001b[49m\u001b[43m(\u001b[49m\n\u001b[1;32m    506\u001b[0m \u001b[43m    \u001b[49m\u001b[38;5;28;43mstr\u001b[39;49m\u001b[43m(\u001b[49m\u001b[43mcollection_id\u001b[49m\u001b[43m)\u001b[49m\u001b[43m,\u001b[49m\n\u001b[1;32m    507\u001b[0m \u001b[43m    \u001b[49m\u001b[43mids\u001b[49m\u001b[43m,\u001b[49m\n\u001b[1;32m    508\u001b[0m \u001b[43m    \u001b[49m\u001b[43mquery_embeddings\u001b[49m\u001b[43m,\u001b[49m\n\u001b[1;32m    509\u001b[0m \u001b[43m    \u001b[49m\u001b[43mn_results\u001b[49m\u001b[43m,\u001b[49m\n\u001b[1;32m    510\u001b[0m \u001b[43m    \u001b[49m\u001b[43mjson\u001b[49m\u001b[38;5;241;43m.\u001b[39;49m\u001b[43mdumps\u001b[49m\u001b[43m(\u001b[49m\u001b[43mwhere\u001b[49m\u001b[43m)\u001b[49m\u001b[43m \u001b[49m\u001b[38;5;28;43;01mif\u001b[39;49;00m\u001b[43m \u001b[49m\u001b[43mwhere\u001b[49m\u001b[43m \u001b[49m\u001b[38;5;28;43;01melse\u001b[39;49;00m\u001b[43m \u001b[49m\u001b[38;5;28;43;01mNone\u001b[39;49;00m\u001b[43m,\u001b[49m\n\u001b[1;32m    511\u001b[0m \u001b[43m    \u001b[49m\u001b[43mjson\u001b[49m\u001b[38;5;241;43m.\u001b[39;49m\u001b[43mdumps\u001b[49m\u001b[43m(\u001b[49m\u001b[43mwhere_document\u001b[49m\u001b[43m)\u001b[49m\u001b[43m \u001b[49m\u001b[38;5;28;43;01mif\u001b[39;49;00m\u001b[43m \u001b[49m\u001b[43mwhere_document\u001b[49m\u001b[43m \u001b[49m\u001b[38;5;28;43;01melse\u001b[39;49;00m\u001b[43m \u001b[49m\u001b[38;5;28;43;01mNone\u001b[39;49;00m\u001b[43m,\u001b[49m\n\u001b[1;32m    512\u001b[0m \u001b[43m    \u001b[49m\u001b[43minclude\u001b[49m\u001b[43m,\u001b[49m\n\u001b[1;32m    513\u001b[0m \u001b[43m    \u001b[49m\u001b[43mtenant\u001b[49m\u001b[43m,\u001b[49m\n\u001b[1;32m    514\u001b[0m \u001b[43m    \u001b[49m\u001b[43mdatabase\u001b[49m\u001b[43m,\u001b[49m\n\u001b[1;32m    515\u001b[0m \u001b[43m\u001b[49m\u001b[43m)\u001b[49m\n\u001b[1;32m    517\u001b[0m \u001b[38;5;28;01mreturn\u001b[39;00m QueryResult(\n\u001b[1;32m    518\u001b[0m     ids\u001b[38;5;241m=\u001b[39mrust_response\u001b[38;5;241m.\u001b[39mids,\n\u001b[1;32m    519\u001b[0m     embeddings\u001b[38;5;241m=\u001b[39mrust_response\u001b[38;5;241m.\u001b[39membeddings,\n\u001b[0;32m   (...)\u001b[0m\n\u001b[1;32m    525\u001b[0m     distances\u001b[38;5;241m=\u001b[39mrust_response\u001b[38;5;241m.\u001b[39mdistances,\n\u001b[1;32m    526\u001b[0m )\n",
      "\u001b[0;31mInternalError\u001b[0m: Error getting collection: Database error: error returned from database: (code: 14) unable to open database file"
     ]
    }
   ],
   "source": [
    "image_suggestions = images_db.query(\n",
    "    query_uris=[query_uris]\n",
    ")"
   ]
  },
  {
   "cell_type": "code",
   "execution_count": 8,
   "id": "589b89c6",
   "metadata": {},
   "outputs": [
    {
     "data": {
      "text/plain": [
       "{'ids': [['7731',\n",
       "   '5722',\n",
       "   '7754',\n",
       "   '7741',\n",
       "   '7753',\n",
       "   '5719',\n",
       "   '8180',\n",
       "   '7539',\n",
       "   '8010',\n",
       "   '7743']],\n",
       " 'embeddings': None,\n",
       " 'documents': [[None, None, None, None, None, None, None, None, None, None]],\n",
       " 'uris': None,\n",
       " 'included': ['metadatas', 'documents', 'distances'],\n",
       " 'data': None,\n",
       " 'metadatas': [[{'image': 'correggio_adoration-of-the-child-1520(2).jpg',\n",
       "    'url': '/Users/shogun/code/gwen-m97/raw_data/raw_image/correggio_adoration-of-the-child-1520(2).jpg'},\n",
       "   {'image': 'cima-da-conegliano_the-deposition.jpg',\n",
       "    'url': '/Users/shogun/code/gwen-m97/raw_data/raw_image/cima-da-conegliano_the-deposition.jpg'},\n",
       "   {'url': '/Users/shogun/code/gwen-m97/raw_data/raw_image/correggio_madonna-and-child-1514(1).jpg',\n",
       "    'image': 'correggio_madonna-and-child-1514(1).jpg'},\n",
       "   {'url': '/Users/shogun/code/gwen-m97/raw_data/raw_image/correggio_danae-1531(2).jpg',\n",
       "    'image': 'correggio_danae-1531(2).jpg'},\n",
       "   {'url': '/Users/shogun/code/gwen-m97/raw_data/raw_image/correggio_madonna-1514(2).jpg',\n",
       "    'image': 'correggio_madonna-1514(2).jpg'},\n",
       "   {'url': '/Users/shogun/code/gwen-m97/raw_data/raw_image/cima-da-conegliano_the-annunciation-1495.jpg',\n",
       "    'image': 'cima-da-conegliano_the-annunciation-1495.jpg'},\n",
       "   {'url': '/Users/shogun/code/gwen-m97/raw_data/raw_image/dante-gabriel-rossetti_the-return-of-tibullus-to-delia-1868.jpg',\n",
       "    'image': 'dante-gabriel-rossetti_the-return-of-tibullus-to-delia-1868.jpg'},\n",
       "   {'url': '/Users/shogun/code/gwen-m97/raw_data/raw_image/cornelis-de-vos_the-triumph-of-bacchus.jpg',\n",
       "    'image': 'cornelis-de-vos_the-triumph-of-bacchus.jpg'},\n",
       "   {'url': '/Users/shogun/code/gwen-m97/raw_data/raw_image/dante-gabriel-rossetti_a-sea-spell-1877.jpg',\n",
       "    'image': 'dante-gabriel-rossetti_a-sea-spell-1877.jpg'},\n",
       "   {'url': '/Users/shogun/code/gwen-m97/raw_data/raw_image/correggio_deposition-1525.jpg',\n",
       "    'image': 'correggio_deposition-1525.jpg'}]],\n",
       " 'distances': [[4.267673492431641,\n",
       "   4.325127601623535,\n",
       "   4.404486179351807,\n",
       "   4.4378132820129395,\n",
       "   4.4475579261779785,\n",
       "   4.652443885803223,\n",
       "   4.72085428237915,\n",
       "   4.737485885620117,\n",
       "   4.751805305480957,\n",
       "   4.759962558746338]]}"
      ]
     },
     "execution_count": 8,
     "metadata": {},
     "output_type": "execute_result"
    }
   ],
   "source": [
    "image_suggestions"
   ]
  },
  {
   "cell_type": "code",
   "execution_count": 9,
   "id": "30769f0b",
   "metadata": {},
   "outputs": [],
   "source": [
    "def print_query_results(query_image, query_results: dict)->None:\n",
    "    result_count = len(query_results['ids'][0])\n",
    "    print(result_count)\n",
    "\n",
    "    query_image_path = query_image\n",
    "    query_image_pil = Image.open(query_image_path)\n",
    "    query_image_pil.show()\n",
    "\n",
    "    for j in range(result_count):\n",
    "        id       = query_results[\"ids\"][0][j]\n",
    "        distance = query_results['distances'][0][j]\n",
    "        data     = query_results['data']\n",
    "        document = query_results['documents'][0][j]\n",
    "        metadata = query_results['metadatas'][0][j]\n",
    "        uri      = query_results['uris']\n",
    "\n",
    "        print(f'id: {id}, distance: {distance}, metadata: {metadata}, document: {document}')\n",
    "\n",
    "        # Display image, the physical file must exist at URI.\n",
    "        # (ImageLoader loads the image from file)\n",
    "\n",
    "        image_path = query_results['metadatas'][0][j]['url']\n",
    "        image_pil = Image.open(image_path)\n",
    "        image_pil.show()"
   ]
  },
  {
   "cell_type": "code",
   "execution_count": 10,
   "id": "6c30d071",
   "metadata": {},
   "outputs": [],
   "source": [
    "result_count = len(image_suggestions['ids'][0])"
   ]
  },
  {
   "cell_type": "code",
   "execution_count": 11,
   "id": "d482af15",
   "metadata": {},
   "outputs": [
    {
     "data": {
      "text/plain": [
       "10"
      ]
     },
     "execution_count": 11,
     "metadata": {},
     "output_type": "execute_result"
    }
   ],
   "source": [
    "result_count"
   ]
  },
  {
   "cell_type": "code",
   "execution_count": 108,
   "id": "76fd24d7",
   "metadata": {},
   "outputs": [
    {
     "data": {
      "text/plain": [
       "'/Users/shogun/code/gwen-m97/raw_data/Pop_Art/patrick-caulfield_bathroom-mirror-1968.jpg'"
      ]
     },
     "execution_count": 108,
     "metadata": {},
     "output_type": "execute_result"
    }
   ],
   "source": [
    "image_suggestions['metadatas'][0][0]['url']\n"
   ]
  },
  {
   "cell_type": "code",
   "execution_count": 22,
   "id": "bd474989",
   "metadata": {},
   "outputs": [
    {
     "name": "stdout",
     "output_type": "stream",
     "text": [
      "10\n",
      "id: 7731, distance: 4.267673492431641, metadata: {'image': 'correggio_adoration-of-the-child-1520(2).jpg', 'url': '/Users/shogun/code/gwen-m97/raw_data/raw_image/correggio_adoration-of-the-child-1520(2).jpg'}, document: None\n",
      "id: 5722, distance: 4.325127601623535, metadata: {'image': 'cima-da-conegliano_the-deposition.jpg', 'url': '/Users/shogun/code/gwen-m97/raw_data/raw_image/cima-da-conegliano_the-deposition.jpg'}, document: None\n",
      "id: 7754, distance: 4.404486179351807, metadata: {'url': '/Users/shogun/code/gwen-m97/raw_data/raw_image/correggio_madonna-and-child-1514(1).jpg', 'image': 'correggio_madonna-and-child-1514(1).jpg'}, document: None\n",
      "id: 7741, distance: 4.4378132820129395, metadata: {'url': '/Users/shogun/code/gwen-m97/raw_data/raw_image/correggio_danae-1531(2).jpg', 'image': 'correggio_danae-1531(2).jpg'}, document: None\n",
      "id: 7753, distance: 4.4475579261779785, metadata: {'url': '/Users/shogun/code/gwen-m97/raw_data/raw_image/correggio_madonna-1514(2).jpg', 'image': 'correggio_madonna-1514(2).jpg'}, document: None\n",
      "id: 5719, distance: 4.652443885803223, metadata: {'url': '/Users/shogun/code/gwen-m97/raw_data/raw_image/cima-da-conegliano_the-annunciation-1495.jpg', 'image': 'cima-da-conegliano_the-annunciation-1495.jpg'}, document: None\n",
      "id: 8180, distance: 4.72085428237915, metadata: {'url': '/Users/shogun/code/gwen-m97/raw_data/raw_image/dante-gabriel-rossetti_the-return-of-tibullus-to-delia-1868.jpg', 'image': 'dante-gabriel-rossetti_the-return-of-tibullus-to-delia-1868.jpg'}, document: None\n",
      "id: 7539, distance: 4.737485885620117, metadata: {'url': '/Users/shogun/code/gwen-m97/raw_data/raw_image/cornelis-de-vos_the-triumph-of-bacchus.jpg', 'image': 'cornelis-de-vos_the-triumph-of-bacchus.jpg'}, document: None\n",
      "id: 8010, distance: 4.751805305480957, metadata: {'url': '/Users/shogun/code/gwen-m97/raw_data/raw_image/dante-gabriel-rossetti_a-sea-spell-1877.jpg', 'image': 'dante-gabriel-rossetti_a-sea-spell-1877.jpg'}, document: None\n",
      "id: 7743, distance: 4.759962558746338, metadata: {'url': '/Users/shogun/code/gwen-m97/raw_data/raw_image/correggio_deposition-1525.jpg', 'image': 'correggio_deposition-1525.jpg'}, document: None\n"
     ]
    }
   ],
   "source": [
    "print_query_results(query_uris,image_suggestions)"
   ]
  },
  {
   "cell_type": "markdown",
   "id": "b13ad913",
   "metadata": {},
   "source": []
  },
  {
   "cell_type": "code",
   "execution_count": 12,
   "id": "e6fbb14a",
   "metadata": {},
   "outputs": [
    {
     "data": {
      "text/plain": [
       "8035"
      ]
     },
     "execution_count": 12,
     "metadata": {},
     "output_type": "execute_result"
    }
   ],
   "source": [
    "images_db.count()"
   ]
  },
  {
   "cell_type": "code",
   "execution_count": 21,
   "id": "c9ae9c95",
   "metadata": {},
   "outputs": [
    {
     "data": {
      "text/plain": [
       "1756896263216687000"
      ]
     },
     "execution_count": 21,
     "metadata": {},
     "output_type": "execute_result"
    }
   ],
   "source": [
    "chroma_client.heartbeat()"
   ]
  }
 ],
 "metadata": {
  "kernelspec": {
   "display_name": "inspiart",
   "language": "python",
   "name": "python3"
  },
  "language_info": {
   "codemirror_mode": {
    "name": "ipython",
    "version": 3
   },
   "file_extension": ".py",
   "mimetype": "text/x-python",
   "name": "python",
   "nbconvert_exporter": "python",
   "pygments_lexer": "ipython3",
   "version": "3.10.6"
  }
 },
 "nbformat": 4,
 "nbformat_minor": 5
}
