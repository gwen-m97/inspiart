{
 "cells": [
  {
   "cell_type": "markdown",
   "id": "d6e41fb4",
   "metadata": {},
   "source": [
    "### imports"
   ]
  },
  {
   "cell_type": "code",
   "execution_count": 1,
   "id": "02284e6a",
   "metadata": {},
   "outputs": [],
   "source": [
    "import pandas as pd"
   ]
  },
  {
   "cell_type": "markdown",
   "id": "667405f1",
   "metadata": {},
   "source": [
    "### Workbook to demonstrate loading data to a ChromaDB"
   ]
  },
  {
   "cell_type": "markdown",
   "id": "88d516dc",
   "metadata": {},
   "source": [
    "## Get the sample data"
   ]
  },
  {
   "cell_type": "code",
   "execution_count": 2,
   "id": "3830bacc",
   "metadata": {},
   "outputs": [],
   "source": [
    "sample_data = pd.read_csv('/Users/shogun/code/gwen-m97/inspiart/raw_data/data_sampling1000_topstyles10.csv')"
   ]
  },
  {
   "cell_type": "code",
   "execution_count": 4,
   "id": "9f3d6e17",
   "metadata": {},
   "outputs": [
    {
     "data": {
      "text/html": [
       "<div>\n",
       "<style scoped>\n",
       "    .dataframe tbody tr th:only-of-type {\n",
       "        vertical-align: middle;\n",
       "    }\n",
       "\n",
       "    .dataframe tbody tr th {\n",
       "        vertical-align: top;\n",
       "    }\n",
       "\n",
       "    .dataframe thead th {\n",
       "        text-align: right;\n",
       "    }\n",
       "</style>\n",
       "<table border=\"1\" class=\"dataframe\">\n",
       "  <thead>\n",
       "    <tr style=\"text-align: right;\">\n",
       "      <th></th>\n",
       "      <th>artist</th>\n",
       "      <th>style</th>\n",
       "      <th>movement</th>\n",
       "      <th>tags</th>\n",
       "      <th>url</th>\n",
       "      <th>img</th>\n",
       "      <th>file_name</th>\n",
       "      <th>genre_list</th>\n",
       "      <th>Artwork</th>\n",
       "      <th>Date</th>\n",
       "    </tr>\n",
       "  </thead>\n",
       "  <tbody>\n",
       "    <tr>\n",
       "      <th>0</th>\n",
       "      <td>Panayiotis Tetsis</td>\n",
       "      <td>Impressionism</td>\n",
       "      <td>Post-Impressionism</td>\n",
       "      <td>NaN</td>\n",
       "      <td>https://www.wikiart.org/en/panayiotis-tetsis/s...</td>\n",
       "      <td>https://uploads3.wikiart.org/images/panayiotis...</td>\n",
       "      <td>127519-sunset.jpg</td>\n",
       "      <td>['cloudscape']</td>\n",
       "      <td>NaN</td>\n",
       "      <td>NaN</td>\n",
       "    </tr>\n",
       "    <tr>\n",
       "      <th>1</th>\n",
       "      <td>Henry Scott Tuke</td>\n",
       "      <td>Impressionism</td>\n",
       "      <td>Impressionism</td>\n",
       "      <td>['Fun', 'Vacation', 'summer']</td>\n",
       "      <td>https://www.wikiart.org/en/henry-scott-tuke/th...</td>\n",
       "      <td>https://uploads5.wikiart.org/00261/images/henr...</td>\n",
       "      <td>100529-henry-scott-tuke-the-bathers-1922.jpg</td>\n",
       "      <td>['genre painting']</td>\n",
       "      <td>NaN</td>\n",
       "      <td>NaN</td>\n",
       "    </tr>\n",
       "    <tr>\n",
       "      <th>2</th>\n",
       "      <td>Alfred Sisley</td>\n",
       "      <td>Impressionism</td>\n",
       "      <td>Impressionism</td>\n",
       "      <td>['fires-and-floods', 'forests-and-trees', 'Ban...</td>\n",
       "      <td>https://www.wikiart.org/en/alfred-sisley/the-f...</td>\n",
       "      <td>https://uploads1.wikiart.org/images/alfred-sis...</td>\n",
       "      <td>92312-the-flood-on-the-road-to-saint-germain-1...</td>\n",
       "      <td>['landscape']</td>\n",
       "      <td>NaN</td>\n",
       "      <td>NaN</td>\n",
       "    </tr>\n",
       "    <tr>\n",
       "      <th>3</th>\n",
       "      <td>Camille Pissarro</td>\n",
       "      <td>Impressionism</td>\n",
       "      <td>Impressionism</td>\n",
       "      <td>['Grassland', 'Meadow', 'Pasture', 'Plain']</td>\n",
       "      <td>https://www.wikiart.org/en/camille-pissarro/ro...</td>\n",
       "      <td>https://uploads2.wikiart.org/images/camille-pi...</td>\n",
       "      <td>90106-rolling-landscape-in-winter-1875.jpg</td>\n",
       "      <td>['landscape']</td>\n",
       "      <td>NaN</td>\n",
       "      <td>NaN</td>\n",
       "    </tr>\n",
       "    <tr>\n",
       "      <th>4</th>\n",
       "      <td>Guy Rose</td>\n",
       "      <td>Impressionism</td>\n",
       "      <td>Impressionism</td>\n",
       "      <td>['seas-and-oceans', 'cliffs-and-rocks', 'Bank'...</td>\n",
       "      <td>https://www.wikiart.org/en/guy-rose/grey-after...</td>\n",
       "      <td>https://uploads3.wikiart.org/images/guy-rose/g...</td>\n",
       "      <td>104411-grey-afternoon.jpg</td>\n",
       "      <td>['landscape']</td>\n",
       "      <td>NaN</td>\n",
       "      <td>NaN</td>\n",
       "    </tr>\n",
       "  </tbody>\n",
       "</table>\n",
       "</div>"
      ],
      "text/plain": [
       "              artist          style            movement  \\\n",
       "0  Panayiotis Tetsis  Impressionism  Post-Impressionism   \n",
       "1   Henry Scott Tuke  Impressionism       Impressionism   \n",
       "2      Alfred Sisley  Impressionism       Impressionism   \n",
       "3   Camille Pissarro  Impressionism       Impressionism   \n",
       "4           Guy Rose  Impressionism       Impressionism   \n",
       "\n",
       "                                                tags  \\\n",
       "0                                                NaN   \n",
       "1                      ['Fun', 'Vacation', 'summer']   \n",
       "2  ['fires-and-floods', 'forests-and-trees', 'Ban...   \n",
       "3        ['Grassland', 'Meadow', 'Pasture', 'Plain']   \n",
       "4  ['seas-and-oceans', 'cliffs-and-rocks', 'Bank'...   \n",
       "\n",
       "                                                 url  \\\n",
       "0  https://www.wikiart.org/en/panayiotis-tetsis/s...   \n",
       "1  https://www.wikiart.org/en/henry-scott-tuke/th...   \n",
       "2  https://www.wikiart.org/en/alfred-sisley/the-f...   \n",
       "3  https://www.wikiart.org/en/camille-pissarro/ro...   \n",
       "4  https://www.wikiart.org/en/guy-rose/grey-after...   \n",
       "\n",
       "                                                 img  \\\n",
       "0  https://uploads3.wikiart.org/images/panayiotis...   \n",
       "1  https://uploads5.wikiart.org/00261/images/henr...   \n",
       "2  https://uploads1.wikiart.org/images/alfred-sis...   \n",
       "3  https://uploads2.wikiart.org/images/camille-pi...   \n",
       "4  https://uploads3.wikiart.org/images/guy-rose/g...   \n",
       "\n",
       "                                           file_name          genre_list  \\\n",
       "0                                  127519-sunset.jpg      ['cloudscape']   \n",
       "1       100529-henry-scott-tuke-the-bathers-1922.jpg  ['genre painting']   \n",
       "2  92312-the-flood-on-the-road-to-saint-germain-1...       ['landscape']   \n",
       "3         90106-rolling-landscape-in-winter-1875.jpg       ['landscape']   \n",
       "4                          104411-grey-afternoon.jpg       ['landscape']   \n",
       "\n",
       "  Artwork Date  \n",
       "0     NaN  NaN  \n",
       "1     NaN  NaN  \n",
       "2     NaN  NaN  \n",
       "3     NaN  NaN  \n",
       "4     NaN  NaN  "
      ]
     },
     "execution_count": 4,
     "metadata": {},
     "output_type": "execute_result"
    }
   ],
   "source": [
    "sample_data.head()"
   ]
  },
  {
   "cell_type": "code",
   "execution_count": 5,
   "id": "c480b0fe",
   "metadata": {},
   "outputs": [
    {
     "data": {
      "text/plain": [
       "Index(['artist', 'style', 'movement', 'tags', 'url', 'img', 'file_name',\n",
       "       'genre_list', 'Artwork', 'Date'],\n",
       "      dtype='object')"
      ]
     },
     "execution_count": 5,
     "metadata": {},
     "output_type": "execute_result"
    }
   ],
   "source": [
    "sample_data.columns"
   ]
  }
 ],
 "metadata": {
  "kernelspec": {
   "display_name": "inspiart",
   "language": "python",
   "name": "python3"
  },
  "language_info": {
   "codemirror_mode": {
    "name": "ipython",
    "version": 3
   },
   "file_extension": ".py",
   "mimetype": "text/x-python",
   "name": "python",
   "nbconvert_exporter": "python",
   "pygments_lexer": "ipython3",
   "version": "3.10.6"
  }
 },
 "nbformat": 4,
 "nbformat_minor": 5
}
