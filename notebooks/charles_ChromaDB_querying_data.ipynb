{
 "cells": [
  {
   "cell_type": "markdown",
   "id": "d6e41fb4",
   "metadata": {},
   "source": [
    "### imports"
   ]
  },
  {
   "cell_type": "code",
   "execution_count": 1,
   "id": "02284e6a",
   "metadata": {},
   "outputs": [
    {
     "name": "stderr",
     "output_type": "stream",
     "text": [
      "/Users/shogun/.pyenv/versions/3.10.6/envs/inspiart/lib/python3.10/site-packages/tqdm/auto.py:21: TqdmWarning: IProgress not found. Please update jupyter and ipywidgets. See https://ipywidgets.readthedocs.io/en/stable/user_install.html\n",
      "  from .autonotebook import tqdm as notebook_tqdm\n"
     ]
    }
   ],
   "source": [
    "import pandas as pd\n",
    "from transformers import ViTImageProcessor, ViTModel, ViTImageProcessorFast\n",
    "import chromadb\n",
    "from chromadb import Documents, EmbeddingFunction, Embeddings\n",
    "from chromadb.utils.data_loaders import ImageLoader\n",
    "from IPython.display import Image"
   ]
  },
  {
   "cell_type": "markdown",
   "id": "667405f1",
   "metadata": {},
   "source": [
    "### Workbook to demonstrate querying a ChromaDB"
   ]
  },
  {
   "cell_type": "markdown",
   "id": "88d516dc",
   "metadata": {},
   "source": [
    "## †he custom embedding class"
   ]
  },
  {
   "cell_type": "code",
   "execution_count": 2,
   "id": "f7eba32d",
   "metadata": {},
   "outputs": [],
   "source": [
    "class GoogleVITHuge224Embedding(EmbeddingFunction):\n",
    "\n",
    "    '''\n",
    "    A class to provide custom embeddings to a ChromaDB database\n",
    "    embedding images using the Google vit-huge-patch14-224-in21k\n",
    "    the class returns an embedding as a numpy array\n",
    "    '''\n",
    "\n",
    "\n",
    "    def __call__(self, input: Documents) -> Embeddings:\n",
    "\n",
    "        #Instantiate the image. Convert it to 244 x 244 and normalise RGB between 0 and 1 witha mean of 0.5 for each channel\n",
    "\n",
    "        self.feature_extractor = ViTImageProcessorFast.from_pretrained('google/vit-huge-patch14-224-in21k')\n",
    "\n",
    "        #Instantiate the Google ViT with pretrained weights\n",
    "\n",
    "        self.model = ViTModel.from_pretrained('google/vit-huge-patch14-224-in21k')#Preprocess the data\n",
    "\n",
    "        inputs = self.feature_extractor(images=input, return_tensors=\"pt\")\n",
    "\n",
    "        #Embedd the data\n",
    "\n",
    "        outputs = self.model(**inputs)\n",
    "\n",
    "        #Convert the embedding to a Numpy array and take the first vector of the Transformer state\n",
    "\n",
    "        embeddings = outputs.last_hidden_state.data.numpy()[0,0]\n",
    "\n",
    "        #return the embedding\n",
    "\n",
    "        return embeddings"
   ]
  },
  {
   "cell_type": "markdown",
   "id": "c53ae0a2",
   "metadata": {},
   "source": [
    "## ßetting up and performing the query"
   ]
  },
  {
   "cell_type": "code",
   "execution_count": 3,
   "id": "4996c594",
   "metadata": {},
   "outputs": [
    {
     "name": "stderr",
     "output_type": "stream",
     "text": [
      "/var/folders/1r/626773hx3mbf2w_31tdjwv6m0000gn/T/ipykernel_69073/435927464.py:7: DeprecationWarning: The class GoogleVITHuge224Embedding does not implement __init__. This will be required in a future version.\n",
      "  image_embbeding_function = GoogleVITHuge224Embedding()\n",
      "Fetching 1 files: 100%|██████████| 1/1 [00:00<00:00, 11214.72it/s]\n"
     ]
    }
   ],
   "source": [
    "#instantiate the image loader that ChromaDB uses to load pictures\n",
    "\n",
    "image_loader = ImageLoader()\n",
    "\n",
    "#intantiate the custom embedding function\n",
    "\n",
    "image_embbeding_function = GoogleVITHuge224Embedding()\n",
    "\n",
    "#connect to the database\n",
    "\n",
    "chroma_client = chromadb.PersistentClient(path='/Users/shogun/code/gwen-m97/inspiart/models/google_vit_sample1000_db')\n",
    "\n",
    "#connect to the correct collection\n",
    "\n",
    "images_db = chroma_client.get_or_create_collection(name=\"google_vit_sample1000_collection\", embedding_function=image_embbeding_function, data_loader=image_loader)\n",
    "\n",
    "#test picture string\n",
    "\n",
    "query_uris = '/Users/shogun/code/gwen-m97/raw_data/test_images/Two_Young_Girls_at_the_Piano_MET_rl1975.1.201.R.jpg'\n",
    "#query_uris = '/Users/shogun/code/gwen-m97/raw_data/test_images/Piet_Mondriaan,_1942_-_New_York_City_I.jpg'\n",
    "#query_uris = '/Users/shogun/code/gwen-m97/raw_data/test_images/Paul_Cézanne_-_The_Basket_of_Apples_-_1926.252_-_Art_Institute_of_Chicago.jpg'\n",
    "#query_uris = '/Users/shogun/code/gwen-m97/raw_data/test_images/Van_Gogh_-_Starry_Night_-_Google_Art_Project.jpg'\n",
    "\n",
    "#perform the query\n",
    "\n",
    "image_suggestions = images_db.query(\n",
    "    query_uris=[query_uris], include=['uris','metadatas']\n",
    ")\n"
   ]
  },
  {
   "cell_type": "code",
   "execution_count": 4,
   "id": "cbdbbd67",
   "metadata": {},
   "outputs": [
    {
     "data": {
      "text/plain": [
       "{'ids': [['79536-susanna-and-the-elders.jpg',\n",
       "   '66785-to-robert-schumann.jpg',\n",
       "   '139626-portrait-of-oscar-miestchaninoff-1913.jpg',\n",
       "   '95154-young-woman-standing-1895.jpg',\n",
       "   '48397-waiting-for-the-king-s-favourite-1877-1.jpg',\n",
       "   '128904-la-parade-1930.jpg',\n",
       "   '71677-winged-figure-seated-upon-a-rock.jpg',\n",
       "   '32084-vincenzo-camuccini-manio-curio-dentato-rifiuta-i-doni-dei-sanniti.jpg',\n",
       "   '47720-the-annunciation-the-angel.jpg',\n",
       "   '43799-the-finding-of-don-juan-by-haid-e-1871.jpg']],\n",
       " 'embeddings': None,\n",
       " 'documents': None,\n",
       " 'uris': [['/Users/shogun/code/gwen-m97/raw_data/sample1000/79536-susanna-and-the-elders.jpg',\n",
       "   '/Users/shogun/code/gwen-m97/raw_data/sample1000/66785-to-robert-schumann.jpg',\n",
       "   '/Users/shogun/code/gwen-m97/raw_data/sample1000/139626-portrait-of-oscar-miestchaninoff-1913.jpg',\n",
       "   '/Users/shogun/code/gwen-m97/raw_data/sample1000/95154-young-woman-standing-1895.jpg',\n",
       "   '/Users/shogun/code/gwen-m97/raw_data/sample1000/48397-waiting-for-the-king-s-favourite-1877-1.jpg',\n",
       "   '/Users/shogun/code/gwen-m97/raw_data/sample1000/128904-la-parade-1930.jpg',\n",
       "   '/Users/shogun/code/gwen-m97/raw_data/sample1000/71677-winged-figure-seated-upon-a-rock.jpg',\n",
       "   '/Users/shogun/code/gwen-m97/raw_data/sample1000/32084-vincenzo-camuccini-manio-curio-dentato-rifiuta-i-doni-dei-sanniti.jpg',\n",
       "   '/Users/shogun/code/gwen-m97/raw_data/sample1000/47720-the-annunciation-the-angel.jpg',\n",
       "   '/Users/shogun/code/gwen-m97/raw_data/sample1000/43799-the-finding-of-don-juan-by-haid-e-1871.jpg']],\n",
       " 'included': ['uris', 'metadatas'],\n",
       " 'data': None,\n",
       " 'metadatas': [[{'image_path': '/Users/shogun/code/gwen-m97/raw_data/sample1000/79536-susanna-and-the-elders.jpg',\n",
       "    'movement': 'Symbolism',\n",
       "    'style': 'Symbolism',\n",
       "    'artist': 'Gustave Moreau',\n",
       "    'url': 'https://www.wikiart.org/en/gustave-moreau/susanna-and-the-elders',\n",
       "    'file_name': '79536-susanna-and-the-elders.jpg',\n",
       "    'img': 'https://uploads8.wikiart.org/images/gustave-moreau/susanna-and-the-elders.jpg!Large.jpg'},\n",
       "   {'image_path': '/Users/shogun/code/gwen-m97/raw_data/sample1000/66785-to-robert-schumann.jpg',\n",
       "    'url': 'https://www.wikiart.org/en/henri-fantin-latour/to-robert-schumann',\n",
       "    'movement': 'Realism',\n",
       "    'style': 'Symbolism',\n",
       "    'artist': 'Henri Fantin-Latour',\n",
       "    'file_name': '66785-to-robert-schumann.jpg',\n",
       "    'img': 'https://uploads0.wikiart.org/images/henri-fantin-latour/to-robert-schumann.jpg!Large.jpg'},\n",
       "   {'file_name': '139626-portrait-of-oscar-miestchaninoff-1913.jpg',\n",
       "    'url': 'https://www.wikiart.org/en/diego-rivera/portrait-of-oscar-miestchaninoff-1913',\n",
       "    'image_path': '/Users/shogun/code/gwen-m97/raw_data/sample1000/139626-portrait-of-oscar-miestchaninoff-1913.jpg',\n",
       "    'img': 'https://uploads3.wikiart.org/images/diego-rivera/portrait-of-oscar-miestchaninoff-1913.jpg!Large.jpg',\n",
       "    'style': 'Cubism',\n",
       "    'artist': 'Diego Rivera',\n",
       "    'movement': 'Social Realism'},\n",
       "   {'movement': 'Impressionism',\n",
       "    'artist': 'Pierre-Auguste Renoir',\n",
       "    'url': 'https://www.wikiart.org/en/pierre-auguste-renoir/young-woman-standing-1895',\n",
       "    'img': 'https://uploads0.wikiart.org/images/pierre-auguste-renoir/young-woman-standing-1895.jpg!Large.jpg',\n",
       "    'file_name': '95154-young-woman-standing-1895.jpg',\n",
       "    'image_path': '/Users/shogun/code/gwen-m97/raw_data/sample1000/95154-young-woman-standing-1895.jpg',\n",
       "    'style': 'Impressionism'},\n",
       "   {'img': 'https://uploads5.wikiart.org/00266/images/laslett-john-pott-0/waiting-for-the-king-s-favourite-1877-1.jpg!Large.jpg',\n",
       "    'url': 'https://www.wikiart.org/en/laslett-john-pott/waiting-for-the-kings-favourite-1877',\n",
       "    'file_name': '48397-waiting-for-the-king-s-favourite-1877-1.jpg',\n",
       "    'image_path': '/Users/shogun/code/gwen-m97/raw_data/sample1000/48397-waiting-for-the-king-s-favourite-1877-1.jpg',\n",
       "    'movement': 'Romanticism',\n",
       "    'style': 'Romanticism',\n",
       "    'artist': 'Laslett John Pott'},\n",
       "   {'img': 'https://uploads0.wikiart.org/images/georges-rouault/la-parade-1930.jpg',\n",
       "    'style': 'Expressionism',\n",
       "    'artist': 'Georges Rouault',\n",
       "    'movement': 'Expressionism',\n",
       "    'image_path': '/Users/shogun/code/gwen-m97/raw_data/sample1000/128904-la-parade-1930.jpg',\n",
       "    'file_name': '128904-la-parade-1930.jpg',\n",
       "    'url': 'https://www.wikiart.org/en/georges-rouault/la-parade-1930'},\n",
       "   {'movement': 'Realism',\n",
       "    'img': 'https://uploads7.wikiart.org/00123/images/abbott-handerson-thayer/winged-figure-seated-upon-a-rock.jpg!Large.jpg',\n",
       "    'image_path': '/Users/shogun/code/gwen-m97/raw_data/sample1000/71677-winged-figure-seated-upon-a-rock.jpg',\n",
       "    'file_name': '71677-winged-figure-seated-upon-a-rock.jpg',\n",
       "    'artist': 'Abbott Handerson Thayer',\n",
       "    'url': 'https://www.wikiart.org/en/abbott-handerson-thayer/winged-figure-seated-upon-a-rock',\n",
       "    'style': 'Realism'},\n",
       "   {'url': 'https://www.wikiart.org/en/vincenzo-camuccini/manio-curio-dentato-rifiuta-i-doni-dei-sanniti',\n",
       "    'img': 'https://uploads2.wikiart.org/00268/images/vincenzo-camuccini/vincenzo-camuccini-manio-curio-dentato-rifiuta-i-doni-dei-sanniti.jpg',\n",
       "    'file_name': '32084-vincenzo-camuccini-manio-curio-dentato-rifiuta-i-doni-dei-sanniti.jpg',\n",
       "    'image_path': '/Users/shogun/code/gwen-m97/raw_data/sample1000/32084-vincenzo-camuccini-manio-curio-dentato-rifiuta-i-doni-dei-sanniti.jpg',\n",
       "    'artist': 'Vincenzo Camuccini',\n",
       "    'movement': 'Neoclassicism',\n",
       "    'style': 'Neoclassicism'},\n",
       "   {'img': 'https://uploads6.wikiart.org/images/edward-burne-jones/the-annunciation-the-angel.jpg',\n",
       "    'movement': 'Romanticism',\n",
       "    'file_name': '47720-the-annunciation-the-angel.jpg',\n",
       "    'url': 'https://www.wikiart.org/en/edward-burne-jones/the-annunciation-the-angel',\n",
       "    'style': 'Romanticism',\n",
       "    'artist': 'Edward Burne-Jones',\n",
       "    'image_path': '/Users/shogun/code/gwen-m97/raw_data/sample1000/47720-the-annunciation-the-angel.jpg'},\n",
       "   {'file_name': '43799-the-finding-of-don-juan-by-haid-e-1871.jpg',\n",
       "    'image_path': '/Users/shogun/code/gwen-m97/raw_data/sample1000/43799-the-finding-of-don-juan-by-haid-e-1871.jpg',\n",
       "    'img': 'https://uploads7.wikiart.org/images/ford-madox-brown/the-finding-of-don-juan-by-haid-e-1871.jpg',\n",
       "    'movement': 'Romanticism',\n",
       "    'artist': 'Ford Madox Brown',\n",
       "    'url': 'https://www.wikiart.org/en/ford-madox-brown/the-finding-of-don-juan-by-haid-e-1871',\n",
       "    'style': 'Romanticism'}]],\n",
       " 'distances': None}"
      ]
     },
     "execution_count": 4,
     "metadata": {},
     "output_type": "execute_result"
    }
   ],
   "source": [
    "image_suggestions"
   ]
  },
  {
   "cell_type": "code",
   "execution_count": 5,
   "id": "3a25bcdd",
   "metadata": {},
   "outputs": [
    {
     "data": {
      "image/jpeg": "[encoded data removed]",
      "text/plain": [
       "<IPython.core.display.Image object>"
      ]
     },
     "execution_count": 5,
     "metadata": {},
     "output_type": "execute_result"
    }
   ],
   "source": [
    "Image('/Users/shogun/code/gwen-m97/raw_data/test_images/Two_Young_Girls_at_the_Piano_MET_rl1975.1.201.R.jpg')"
   ]
  },
  {
   "cell_type": "code",
   "execution_count": 6,
   "id": "54b82b66",
   "metadata": {},
   "outputs": [
    {
     "data": {
      "text/html": [
       "<img src=\"https://uploads8.wikiart.org/images/gustave-moreau/susanna-and-the-elders.jpg!Large.jpg\"/>"
      ],
      "text/plain": [
       "<IPython.core.display.Image object>"
      ]
     },
     "execution_count": 6,
     "metadata": {},
     "output_type": "execute_result"
    }
   ],
   "source": [
    "Image(url=f\"{image_suggestions['metadatas'][0][0]['img']}\")"
   ]
  },
  {
   "cell_type": "code",
   "execution_count": 7,
   "id": "57a595b9",
   "metadata": {},
   "outputs": [
    {
     "data": {
      "text/html": [
       "<img src=\"https://uploads0.wikiart.org/images/henri-fantin-latour/to-robert-schumann.jpg!Large.jpg\"/>"
      ],
      "text/plain": [
       "<IPython.core.display.Image object>"
      ]
     },
     "execution_count": 7,
     "metadata": {},
     "output_type": "execute_result"
    }
   ],
   "source": [
    "Image(url=f\"{image_suggestions['metadatas'][0][1]['img']}\")"
   ]
  },
  {
   "cell_type": "code",
   "execution_count": 8,
   "id": "a0d139a2",
   "metadata": {},
   "outputs": [
    {
     "data": {
      "text/html": [
       "<img src=\"https://uploads3.wikiart.org/images/diego-rivera/portrait-of-oscar-miestchaninoff-1913.jpg!Large.jpg\"/>"
      ],
      "text/plain": [
       "<IPython.core.display.Image object>"
      ]
     },
     "execution_count": 8,
     "metadata": {},
     "output_type": "execute_result"
    }
   ],
   "source": [
    "Image(url=f\"{image_suggestions['metadatas'][0][2]['img']}\")"
   ]
  },
  {
   "cell_type": "code",
   "execution_count": 9,
   "id": "3e2b7d39",
   "metadata": {},
   "outputs": [
    {
     "data": {
      "text/html": [
       "<img src=\"https://uploads0.wikiart.org/images/pierre-auguste-renoir/young-woman-standing-1895.jpg!Large.jpg\"/>"
      ],
      "text/plain": [
       "<IPython.core.display.Image object>"
      ]
     },
     "execution_count": 9,
     "metadata": {},
     "output_type": "execute_result"
    }
   ],
   "source": [
    "Image(url=f\"{image_suggestions['metadatas'][0][3]['img']}\")"
   ]
  },
  {
   "cell_type": "code",
   "execution_count": 10,
   "id": "84916c1d",
   "metadata": {},
   "outputs": [
    {
     "data": {
      "text/html": [
       "<img src=\"https://uploads5.wikiart.org/00266/images/laslett-john-pott-0/waiting-for-the-king-s-favourite-1877-1.jpg!Large.jpg\"/>"
      ],
      "text/plain": [
       "<IPython.core.display.Image object>"
      ]
     },
     "execution_count": 10,
     "metadata": {},
     "output_type": "execute_result"
    }
   ],
   "source": [
    "Image(url=f\"{image_suggestions['metadatas'][0][4]['img']}\")"
   ]
  },
  {
   "cell_type": "code",
   "execution_count": 11,
   "id": "b27ca066",
   "metadata": {},
   "outputs": [
    {
     "data": {
      "text/html": [
       "<img src=\"https://uploads0.wikiart.org/images/georges-rouault/la-parade-1930.jpg\"/>"
      ],
      "text/plain": [
       "<IPython.core.display.Image object>"
      ]
     },
     "execution_count": 11,
     "metadata": {},
     "output_type": "execute_result"
    }
   ],
   "source": [
    "Image(url=f\"{image_suggestions['metadatas'][0][5]['img']}\")"
   ]
  },
  {
   "cell_type": "code",
   "execution_count": 12,
   "id": "7165b996",
   "metadata": {},
   "outputs": [
    {
     "data": {
      "text/html": [
       "<img src=\"https://uploads7.wikiart.org/00123/images/abbott-handerson-thayer/winged-figure-seated-upon-a-rock.jpg!Large.jpg\"/>"
      ],
      "text/plain": [
       "<IPython.core.display.Image object>"
      ]
     },
     "execution_count": 12,
     "metadata": {},
     "output_type": "execute_result"
    }
   ],
   "source": [
    "Image(url=f\"{image_suggestions['metadatas'][0][6]['img']}\")"
   ]
  },
  {
   "cell_type": "code",
   "execution_count": 13,
   "id": "9e9f94cf",
   "metadata": {},
   "outputs": [
    {
     "data": {
      "text/html": [
       "<img src=\"https://uploads2.wikiart.org/00268/images/vincenzo-camuccini/vincenzo-camuccini-manio-curio-dentato-rifiuta-i-doni-dei-sanniti.jpg\"/>"
      ],
      "text/plain": [
       "<IPython.core.display.Image object>"
      ]
     },
     "execution_count": 13,
     "metadata": {},
     "output_type": "execute_result"
    }
   ],
   "source": [
    "Image(url=f\"{image_suggestions['metadatas'][0][7]['img']}\")"
   ]
  },
  {
   "cell_type": "code",
   "execution_count": 14,
   "id": "60bd7bbb",
   "metadata": {},
   "outputs": [
    {
     "data": {
      "text/html": [
       "<img src=\"https://uploads6.wikiart.org/images/edward-burne-jones/the-annunciation-the-angel.jpg\"/>"
      ],
      "text/plain": [
       "<IPython.core.display.Image object>"
      ]
     },
     "execution_count": 14,
     "metadata": {},
     "output_type": "execute_result"
    }
   ],
   "source": [
    "Image(url=f\"{image_suggestions['metadatas'][0][8]['img']}\")"
   ]
  },
  {
   "cell_type": "code",
   "execution_count": 15,
   "id": "b00c40cb",
   "metadata": {},
   "outputs": [
    {
     "data": {
      "text/html": [
       "<img src=\"https://uploads7.wikiart.org/images/ford-madox-brown/the-finding-of-don-juan-by-haid-e-1871.jpg\"/>"
      ],
      "text/plain": [
       "<IPython.core.display.Image object>"
      ]
     },
     "execution_count": 15,
     "metadata": {},
     "output_type": "execute_result"
    }
   ],
   "source": [
    "Image(url=f\"{image_suggestions['metadatas'][0][9]['img']}\")"
   ]
  }
 ],
 "metadata": {
  "kernelspec": {
   "display_name": "inspiart",
   "language": "python",
   "name": "python3"
  },
  "language_info": {
   "codemirror_mode": {
    "name": "ipython",
    "version": 3
   },
   "file_extension": ".py",
   "mimetype": "text/x-python",
   "name": "python",
   "nbconvert_exporter": "python",
   "pygments_lexer": "ipython3",
   "version": "3.10.6"
  }
 },
 "nbformat": 4,
 "nbformat_minor": 5
}
