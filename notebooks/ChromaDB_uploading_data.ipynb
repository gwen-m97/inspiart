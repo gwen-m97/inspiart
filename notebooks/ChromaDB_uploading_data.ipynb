{
 "cells": [
  {
   "cell_type": "markdown",
   "id": "667405f1",
   "metadata": {},
   "source": [
    "### Workbook to demonstrate loading data to a ChromaDB"
   ]
  },
  {
   "cell_type": "code",
   "execution_count": null,
   "id": "9f3d6e17",
   "metadata": {},
   "outputs": [],
   "source": []
  }
 ],
 "metadata": {
  "language_info": {
   "name": "python"
  }
 },
 "nbformat": 4,
 "nbformat_minor": 5
}
