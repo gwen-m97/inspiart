{
 "cells": [
  {
   "cell_type": "code",
   "execution_count": 9,
   "id": "200e3a7e",
   "metadata": {},
   "outputs": [
    {
     "name": "stderr",
     "output_type": "stream",
     "text": [
      "Fetching 1 files: 100%|██████████| 1/1 [00:00<00:00, 20360.70it/s]\n",
      "Fast image processor class <class 'transformers.models.vit.image_processing_vit_fast.ViTImageProcessorFast'> is available for this model. Using slow image processor class. To use the fast image processor class set `use_fast=True`.\n",
      "Fetching 1 files: 100%|██████████| 1/1 [00:00<00:00, 27962.03it/s]\n"
     ]
    }
   ],
   "source": [
    "# Load model directly\n",
    "from transformers import AutoImageProcessor, AutoModel\n",
    "\n",
    "processor = AutoImageProcessor.from_pretrained(\"google/vit-huge-patch14-224-in21k\")\n",
    "model = AutoModel.from_pretrained(\"google/vit-huge-patch14-224-in21k\")"
   ]
  },
  {
   "cell_type": "code",
   "execution_count": 11,
   "id": "cc0d3fe2",
   "metadata": {},
   "outputs": [
    {
     "name": "stderr",
     "output_type": "stream",
     "text": [
      "Fetching 1 files: 100%|██████████| 1/1 [00:00<00:00, 12336.19it/s]\n"
     ]
    },
    {
     "ename": "",
     "evalue": "",
     "output_type": "error",
     "traceback": [
      "\u001b[1;31mThe Kernel crashed while executing code in the current cell or a previous cell. \n",
      "\u001b[1;31mPlease review the code in the cell(s) to identify a possible cause of the failure. \n",
      "\u001b[1;31mClick <a href='https://aka.ms/vscodeJupyterKernelCrash'>here</a> for more info. \n",
      "\u001b[1;31mView Jupyter <a href='command:jupyter.viewOutput'>log</a> for further details."
     ]
    }
   ],
   "source": [
    "from transformers import ViTImageProcessor, ViTModel\n",
    "from PIL import Image\n",
    "import requests\n",
    "import os\n",
    "import pandas as pd\n",
    "\n",
    "#url = 'http://images.cocodataset.org/val2017/000000039769.jpg'\n",
    "#image = Image.open(requests.get(url, stream=True).raw)\n",
    "#display(image)\n",
    "\n",
    "feature_extractor = ViTImageProcessor.from_pretrained('google/vit-huge-patch14-224-in21k')\n",
    "model = ViTModel.from_pretrained('google/vit-huge-patch14-224-in21k')\n",
    "\n",
    "image_vector_df = pd.DataFrame([['fred','john']], columns=['image', 'image_vector'])\n",
    "image_folder = '/Users/shogun/code/gwen-m97/raw_data/Pop_Art'\n",
    "\n",
    "images = [img for img in sorted(os.listdir(image_folder)) if img.endswith('.jpg')]\n",
    "image_vector_df_path = ''.join((image_folder, \"\\image_vector_df_csv.csv\"))\n",
    "\n",
    "for image in images:\n",
    "    image_path = os.path.join(image_folder, image)\n",
    "    image_pil = Image.open(image_path)\n",
    "    inputs = feature_extractor(images=image_pil, return_tensors=\"pt\")\n",
    "    outputs = model(**inputs)\n",
    "    last_hidden_states = outputs.last_hidden_state\n",
    "    image_vector_df = pd.concat([image_vector_df, pd.DataFrame([[image, last_hidden_states]], columns=image_vector_df.columns)],ignore_index=True)\n",
    "\n",
    "image_vector_df.to_csv(image_vector_df_path)"
   ]
  },
  {
   "cell_type": "code",
   "execution_count": 4,
   "id": "82565969",
   "metadata": {},
   "outputs": [
    {
     "data": {
      "text/plain": [
       "tensor([[[ 0.0120,  0.0887, -0.0705,  ..., -0.1037, -0.0115, -0.1376],\n",
       "         [-0.1347,  0.0499, -0.0094,  ..., -0.0795, -0.0063,  0.0515],\n",
       "         [-0.1201,  0.0073,  0.1705,  ..., -0.1145,  0.1112,  0.0204],\n",
       "         ...,\n",
       "         [ 0.0294, -0.0718, -0.1189,  ..., -0.0718,  0.0739, -0.0246],\n",
       "         [-0.0375,  0.0081, -0.2358,  ..., -0.0397,  0.1090, -0.0642],\n",
       "         [-0.1136,  0.0713, -0.0607,  ..., -0.0168,  0.0906, -0.0118]]],\n",
       "       grad_fn=<NativeLayerNormBackward0>)"
      ]
     },
     "execution_count": 4,
     "metadata": {},
     "output_type": "execute_result"
    }
   ],
   "source": [
    "last_hidden_states"
   ]
  }
 ],
 "metadata": {
  "kernelspec": {
   "display_name": "inspiart",
   "language": "python",
   "name": "python3"
  },
  "language_info": {
   "codemirror_mode": {
    "name": "ipython",
    "version": 3
   },
   "file_extension": ".py",
   "mimetype": "text/x-python",
   "name": "python",
   "nbconvert_exporter": "python",
   "pygments_lexer": "ipython3",
   "version": "3.10.6"
  }
 },
 "nbformat": 4,
 "nbformat_minor": 5
}
