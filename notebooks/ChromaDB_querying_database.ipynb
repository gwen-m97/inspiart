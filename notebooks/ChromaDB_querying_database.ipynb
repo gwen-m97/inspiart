{
 "cells": [
  {
   "cell_type": "markdown",
   "id": "9c17aa1d",
   "metadata": {},
   "source": [
    "### Workbook to demonstrate querying a database"
   ]
  },
  {
   "cell_type": "markdown",
   "id": "cdd8d881",
   "metadata": {},
   "source": [
    "## pip installs"
   ]
  },
  {
   "cell_type": "code",
   "execution_count": 8,
   "id": "f7335507",
   "metadata": {},
   "outputs": [
    {
     "ename": "ModuleNotFoundError",
     "evalue": "No module named 'google_embedding'",
     "output_type": "error",
     "traceback": [
      "\u001b[0;31m---------------------------------------------------------------------------\u001b[0m",
      "\u001b[0;31mModuleNotFoundError\u001b[0m                       Traceback (most recent call last)",
      "Cell \u001b[0;32mIn[8], line 1\u001b[0m\n\u001b[0;32m----> 1\u001b[0m \u001b[38;5;28;01mimport\u001b[39;00m\u001b[38;5;250m \u001b[39m\u001b[38;5;21;01mgoogle_embedding\u001b[39;00m\n",
      "\u001b[0;31mModuleNotFoundError\u001b[0m: No module named 'google_embedding'"
     ]
    }
   ],
   "source": [
    "import google_embedding"
   ]
  }
 ],
 "metadata": {
  "kernelspec": {
   "display_name": "inspiart",
   "language": "python",
   "name": "python3"
  },
  "language_info": {
   "codemirror_mode": {
    "name": "ipython",
    "version": 3
   },
   "file_extension": ".py",
   "mimetype": "text/x-python",
   "name": "python",
   "nbconvert_exporter": "python",
   "pygments_lexer": "ipython3",
   "version": "3.10.6"
  }
 },
 "nbformat": 4,
 "nbformat_minor": 5
}
