{
 "cells": [
  {
   "cell_type": "code",
   "execution_count": 1,
   "id": "76f471fd-1ceb-4cea-ba33-ca3af84324a4",
   "metadata": {
    "execution": {
     "iopub.execute_input": "2025-09-02T16:07:10.991443Z",
     "iopub.status.busy": "2025-09-02T16:07:10.990810Z",
     "iopub.status.idle": "2025-09-02T16:07:11.019657Z",
     "shell.execute_reply": "2025-09-02T16:07:11.015993Z",
     "shell.execute_reply.started": "2025-09-02T16:07:10.991395Z"
    }
   },
   "outputs": [],
   "source": [
    "import os\n",
    "os.environ['CUDA_VISIBLE_DEVICES'] = '-1'"
   ]
  },
  {
   "cell_type": "code",
   "execution_count": 2,
   "id": "337fdec5-d493-4371-a54a-4598cb4fc94d",
   "metadata": {
    "execution": {
     "iopub.execute_input": "2025-09-02T16:08:42.847781Z",
     "iopub.status.busy": "2025-09-02T16:08:42.847053Z",
     "iopub.status.idle": "2025-09-02T16:08:42.854418Z",
     "shell.execute_reply": "2025-09-02T16:08:42.852844Z",
     "shell.execute_reply.started": "2025-09-02T16:08:42.847697Z"
    }
   },
   "outputs": [
    {
     "name": "stderr",
     "output_type": "stream",
     "text": [
      "2025-09-03 12:33:38.994582: I tensorflow/core/platform/cpu_feature_guard.cc:210] This TensorFlow binary is optimized to use available CPU instructions in performance-critical operations.\n",
      "To enable the following instructions: AVX2 FMA, in other operations, rebuild TensorFlow with the appropriate compiler flags.\n"
     ]
    }
   ],
   "source": [
    "import pandas as pd\n",
    "import numpy as np\n",
    "from tensorflow.keras import Sequential, Input, layers\n",
    "import matplotlib.pyplot as plt\n",
    "from sklearn.model_selection import train_test_split\n",
    "from tensorflow.keras.utils import to_categorical\n",
    "from keras.callbacks import EarlyStopping\n",
    "from sklearn.preprocessing import LabelEncoder\n",
    "from PIL import Image"
   ]
  },
  {
   "cell_type": "code",
   "execution_count": 5,
   "id": "98ef5b06",
   "metadata": {},
   "outputs": [],
   "source": [
    "# Maintenant tu peux importer ton module\n",
    "import inspiart.dataset_prep as dp"
   ]
  },
  {
   "cell_type": "markdown",
   "id": "8e3c8a79-306b-4f0d-be59-e24c831f01e9",
   "metadata": {
    "execution": {
     "iopub.execute_input": "2025-09-02T11:47:34.073921Z",
     "iopub.status.busy": "2025-09-02T11:47:34.073371Z",
     "iopub.status.idle": "2025-09-02T11:47:40.253438Z",
     "shell.execute_reply": "2025-09-02T11:47:40.252108Z",
     "shell.execute_reply.started": "2025-09-02T11:47:34.073884Z"
    }
   },
   "source": [
    "# Import the dataset"
   ]
  },
  {
   "cell_type": "code",
   "execution_count": 8,
   "id": "af0368d4-b454-4e73-a447-0d51dbe17e00",
   "metadata": {
    "execution": {
     "iopub.execute_input": "2025-09-02T16:07:15.532827Z",
     "iopub.status.busy": "2025-09-02T16:07:15.532020Z",
     "iopub.status.idle": "2025-09-02T16:07:15.563477Z",
     "shell.execute_reply": "2025-09-02T16:07:15.562463Z",
     "shell.execute_reply.started": "2025-09-02T16:07:15.532784Z"
    }
   },
   "outputs": [
    {
     "data": {
      "text/html": [
       "<div>\n",
       "<style scoped>\n",
       "    .dataframe tbody tr th:only-of-type {\n",
       "        vertical-align: middle;\n",
       "    }\n",
       "\n",
       "    .dataframe tbody tr th {\n",
       "        vertical-align: top;\n",
       "    }\n",
       "\n",
       "    .dataframe thead th {\n",
       "        text-align: right;\n",
       "    }\n",
       "</style>\n",
       "<table border=\"1\" class=\"dataframe\">\n",
       "  <thead>\n",
       "    <tr style=\"text-align: right;\">\n",
       "      <th></th>\n",
       "      <th>artist</th>\n",
       "      <th>style</th>\n",
       "      <th>movement</th>\n",
       "      <th>tags</th>\n",
       "      <th>url</th>\n",
       "      <th>img</th>\n",
       "      <th>file_name</th>\n",
       "      <th>genre_list</th>\n",
       "      <th>Artwork</th>\n",
       "      <th>Date</th>\n",
       "    </tr>\n",
       "  </thead>\n",
       "  <tbody>\n",
       "    <tr>\n",
       "      <th>0</th>\n",
       "      <td>Panayiotis Tetsis</td>\n",
       "      <td>Impressionism</td>\n",
       "      <td>Post-Impressionism</td>\n",
       "      <td>NaN</td>\n",
       "      <td>https://www.wikiart.org/en/panayiotis-tetsis/s...</td>\n",
       "      <td>https://uploads3.wikiart.org/images/panayiotis...</td>\n",
       "      <td>127519-sunset.jpg</td>\n",
       "      <td>['cloudscape']</td>\n",
       "      <td>NaN</td>\n",
       "      <td>NaN</td>\n",
       "    </tr>\n",
       "    <tr>\n",
       "      <th>1</th>\n",
       "      <td>Henry Scott Tuke</td>\n",
       "      <td>Impressionism</td>\n",
       "      <td>Impressionism</td>\n",
       "      <td>['Fun', 'Vacation', 'summer']</td>\n",
       "      <td>https://www.wikiart.org/en/henry-scott-tuke/th...</td>\n",
       "      <td>https://uploads5.wikiart.org/00261/images/henr...</td>\n",
       "      <td>100529-henry-scott-tuke-the-bathers-1922.jpg</td>\n",
       "      <td>['genre painting']</td>\n",
       "      <td>NaN</td>\n",
       "      <td>NaN</td>\n",
       "    </tr>\n",
       "    <tr>\n",
       "      <th>2</th>\n",
       "      <td>Alfred Sisley</td>\n",
       "      <td>Impressionism</td>\n",
       "      <td>Impressionism</td>\n",
       "      <td>['fires-and-floods', 'forests-and-trees', 'Ban...</td>\n",
       "      <td>https://www.wikiart.org/en/alfred-sisley/the-f...</td>\n",
       "      <td>https://uploads1.wikiart.org/images/alfred-sis...</td>\n",
       "      <td>92312-the-flood-on-the-road-to-saint-germain-1...</td>\n",
       "      <td>['landscape']</td>\n",
       "      <td>NaN</td>\n",
       "      <td>NaN</td>\n",
       "    </tr>\n",
       "    <tr>\n",
       "      <th>3</th>\n",
       "      <td>Camille Pissarro</td>\n",
       "      <td>Impressionism</td>\n",
       "      <td>Impressionism</td>\n",
       "      <td>['Grassland', 'Meadow', 'Pasture', 'Plain']</td>\n",
       "      <td>https://www.wikiart.org/en/camille-pissarro/ro...</td>\n",
       "      <td>https://uploads2.wikiart.org/images/camille-pi...</td>\n",
       "      <td>90106-rolling-landscape-in-winter-1875.jpg</td>\n",
       "      <td>['landscape']</td>\n",
       "      <td>NaN</td>\n",
       "      <td>NaN</td>\n",
       "    </tr>\n",
       "    <tr>\n",
       "      <th>4</th>\n",
       "      <td>Guy Rose</td>\n",
       "      <td>Impressionism</td>\n",
       "      <td>Impressionism</td>\n",
       "      <td>['seas-and-oceans', 'cliffs-and-rocks', 'Bank'...</td>\n",
       "      <td>https://www.wikiart.org/en/guy-rose/grey-after...</td>\n",
       "      <td>https://uploads3.wikiart.org/images/guy-rose/g...</td>\n",
       "      <td>104411-grey-afternoon.jpg</td>\n",
       "      <td>['landscape']</td>\n",
       "      <td>NaN</td>\n",
       "      <td>NaN</td>\n",
       "    </tr>\n",
       "  </tbody>\n",
       "</table>\n",
       "</div>"
      ],
      "text/plain": [
       "              artist          style            movement  \\\n",
       "0  Panayiotis Tetsis  Impressionism  Post-Impressionism   \n",
       "1   Henry Scott Tuke  Impressionism       Impressionism   \n",
       "2      Alfred Sisley  Impressionism       Impressionism   \n",
       "3   Camille Pissarro  Impressionism       Impressionism   \n",
       "4           Guy Rose  Impressionism       Impressionism   \n",
       "\n",
       "                                                tags  \\\n",
       "0                                                NaN   \n",
       "1                      ['Fun', 'Vacation', 'summer']   \n",
       "2  ['fires-and-floods', 'forests-and-trees', 'Ban...   \n",
       "3        ['Grassland', 'Meadow', 'Pasture', 'Plain']   \n",
       "4  ['seas-and-oceans', 'cliffs-and-rocks', 'Bank'...   \n",
       "\n",
       "                                                 url  \\\n",
       "0  https://www.wikiart.org/en/panayiotis-tetsis/s...   \n",
       "1  https://www.wikiart.org/en/henry-scott-tuke/th...   \n",
       "2  https://www.wikiart.org/en/alfred-sisley/the-f...   \n",
       "3  https://www.wikiart.org/en/camille-pissarro/ro...   \n",
       "4  https://www.wikiart.org/en/guy-rose/grey-after...   \n",
       "\n",
       "                                                 img  \\\n",
       "0  https://uploads3.wikiart.org/images/panayiotis...   \n",
       "1  https://uploads5.wikiart.org/00261/images/henr...   \n",
       "2  https://uploads1.wikiart.org/images/alfred-sis...   \n",
       "3  https://uploads2.wikiart.org/images/camille-pi...   \n",
       "4  https://uploads3.wikiart.org/images/guy-rose/g...   \n",
       "\n",
       "                                           file_name          genre_list  \\\n",
       "0                                  127519-sunset.jpg      ['cloudscape']   \n",
       "1       100529-henry-scott-tuke-the-bathers-1922.jpg  ['genre painting']   \n",
       "2  92312-the-flood-on-the-road-to-saint-germain-1...       ['landscape']   \n",
       "3         90106-rolling-landscape-in-winter-1875.jpg       ['landscape']   \n",
       "4                          104411-grey-afternoon.jpg       ['landscape']   \n",
       "\n",
       "  Artwork Date  \n",
       "0     NaN  NaN  \n",
       "1     NaN  NaN  \n",
       "2     NaN  NaN  \n",
       "3     NaN  NaN  \n",
       "4     NaN  NaN  "
      ]
     },
     "execution_count": 8,
     "metadata": {},
     "output_type": "execute_result"
    }
   ],
   "source": [
    "file_path=\"data_sampling1000_topstyles10.csv\"\n",
    "df = pd.read_csv(file_path)\n",
    "df.head()"
   ]
  },
  {
   "cell_type": "code",
   "execution_count": 9,
   "id": "95390ac0-c4a4-4fb7-bb9a-e27fe98056ce",
   "metadata": {
    "execution": {
     "iopub.execute_input": "2025-09-02T16:07:15.564644Z",
     "iopub.status.busy": "2025-09-02T16:07:15.564352Z",
     "iopub.status.idle": "2025-09-02T16:07:15.576255Z",
     "shell.execute_reply": "2025-09-02T16:07:15.573962Z",
     "shell.execute_reply.started": "2025-09-02T16:07:15.564621Z"
    }
   },
   "outputs": [
    {
     "data": {
      "text/plain": [
       "['Impressionism',\n",
       " 'Romanticism',\n",
       " 'Realism',\n",
       " 'Expressionism',\n",
       " 'Post-Impressionism',\n",
       " 'Surrealism',\n",
       " 'Symbolism',\n",
       " 'Abstract Expressionism',\n",
       " 'Neoclassicism',\n",
       " 'Cubism']"
      ]
     },
     "execution_count": 9,
     "metadata": {},
     "output_type": "execute_result"
    }
   ],
   "source": [
    "list_styles = df['style'].unique().tolist()\n",
    "list_styles"
   ]
  },
  {
   "cell_type": "code",
   "execution_count": 10,
   "id": "50dce2cd-6e1e-4b3c-84f8-1e14b480ed26",
   "metadata": {
    "execution": {
     "iopub.execute_input": "2025-09-02T16:07:15.577820Z",
     "iopub.status.busy": "2025-09-02T16:07:15.577214Z",
     "iopub.status.idle": "2025-09-02T16:07:15.587693Z",
     "shell.execute_reply": "2025-09-02T16:07:15.585313Z",
     "shell.execute_reply.started": "2025-09-02T16:07:15.577765Z"
    }
   },
   "outputs": [
    {
     "data": {
      "text/plain": [
       "10"
      ]
     },
     "execution_count": 10,
     "metadata": {},
     "output_type": "execute_result"
    }
   ],
   "source": [
    "nb_styles = len(list_styles)\n",
    "nb_styles"
   ]
  },
  {
   "cell_type": "code",
   "execution_count": 12,
   "id": "106572d5",
   "metadata": {},
   "outputs": [
    {
     "data": {
      "text/plain": [
       "Series([], Name: count, dtype: int64)"
      ]
     },
     "execution_count": 12,
     "metadata": {},
     "output_type": "execute_result"
    }
   ],
   "source": [
    "df['file_name'].value_counts()[df['file_name'].value_counts() > 1]"
   ]
  },
  {
   "cell_type": "code",
   "execution_count": 11,
   "id": "370c958d-ae43-4d70-85e7-387d7849a7a3",
   "metadata": {
    "execution": {
     "iopub.execute_input": "2025-09-02T16:07:15.590035Z",
     "iopub.status.busy": "2025-09-02T16:07:15.589390Z",
     "iopub.status.idle": "2025-09-02T16:07:15.615559Z",
     "shell.execute_reply": "2025-09-02T16:07:15.614207Z",
     "shell.execute_reply.started": "2025-09-02T16:07:15.590000Z"
    }
   },
   "outputs": [],
   "source": [
    "list_images= df['file_name'].unique().tolist()"
   ]
  },
  {
   "cell_type": "markdown",
   "id": "cfb9f55c",
   "metadata": {},
   "source": [
    "Dowloading the dataset :"
   ]
  },
  {
   "cell_type": "code",
   "execution_count": 16,
   "id": "5b46ab14",
   "metadata": {},
   "outputs": [
    {
     "name": "stdout",
     "output_type": "stream",
     "text": [
      "Downloaded : 127519-sunset.jpg\n",
      "Downloaded : 100529-henry-scott-tuke-the-bathers-1922.jpg\n",
      "Downloaded : 92312-the-flood-on-the-road-to-saint-germain-1876.jpg\n",
      "Downloaded : 90106-rolling-landscape-in-winter-1875.jpg\n",
      "Downloaded : 104411-grey-afternoon.jpg\n",
      "Downloaded : 122889-portrait-of-a-girl-1904.jpg\n",
      "Downloaded : 96880-villa.jpg\n",
      "Downloaded : 99193-girl-with-bird-at-the-king-street-bakery-1886.jpg\n",
      "Downloaded : 77862-the-fruit-market.jpg\n",
      "Downloaded : 104738-vase-with-carnations-1907.jpg\n",
      "Downloaded : 111830-portrait-of-octave-maus-1885.jpg\n",
      "Downloaded : 93885-waterloo-bridge.jpg\n",
      "Downloaded : 98553-girl-knitting.jpg\n",
      "Downloaded : 90075-mother-presle-montfoucault-1874.jpg\n",
      "Downloaded : 98808-waterfall-in-yellowstone.jpg\n",
      "Downloaded : 103470-furnace-of-elche-palm.jpg\n",
      "Downloaded : 80985-mandolin-on-a-chair-1880.jpg\n",
      "Downloaded : 68872-dnieper-1901-1.jpg\n",
      "Downloaded : 66428-group-of-dancers-tree-décor.jpg\n",
      "Downloaded : 97029-playing-by-heart-1897.jpg\n",
      "Downloaded : 89440-horses-for-hire-in-a-yard.jpg\n",
      "Downloaded : 99199-bush-idyll-1893.jpg\n",
      "Downloaded : 98879-winter-silence-1900.jpg\n",
      "Downloaded : 66045-dancers-practicing-at-the-barre-1877.jpg\n",
      "Downloaded : 100724-brook-in-june.jpg\n",
      "Downloaded : 90175-a-street-in-pontoise-1879.jpg\n",
      "Downloaded : 89696-laundresses-on-the-banks-of-the-touques-9.jpg\n",
      "Downloaded : 93124-small-branch-of-the-seine-1878.jpg\n",
      "Downloaded : 65894-leon-bonnat-1863.jpg\n",
      "Downloaded : 93448-bennecourt.jpg\n",
      "Downloaded : 99131-hungary-1909-14781572314.jpg\n",
      "Downloaded : 102570-on-the-terrace-1920.jpg\n",
      "Downloaded : 94444-reclining-nude-1860.jpg\n",
      "Downloaded : 100183-frances-ross-1898.jpg\n",
      "Downloaded : 96857-the-yacht-race-1924.jpg\n",
      "Downloaded : 93989-water-lilies-38.jpg\n",
      "Downloaded : 80947-in-the-forest-saint-cloud-ii-1873.jpg\n",
      "Downloaded : 94305-jeannie-s-head-aka-tete-de-jeannie.jpg\n",
      "Downloaded : 95444-study-of-flowers-anemones-and-tulips-1910.jpg\n",
      "Downloaded : 97929-sunlight-and-shadow-shinnecock-hills.jpg\n",
      "Downloaded : 97761-tired-aka-portrait-of-the-artist-s-daughter.jpg\n",
      "Downloaded : 66525-telemaco-signorini-sobborgo-di-porta-adriana-a-ravenna-1875-02.jpg\n",
      "Downloaded : 105181-vase-of-sunflowers-1898.jpg\n",
      "Downloaded : 107503-heating-the-oven-winter-scene-1923.jpg\n",
      "Downloaded : 73457-the-simplon.jpg\n",
      "Downloaded : 95373-landscape-at-cagnes-1908.jpg\n",
      "Downloaded : 101273-charles-river-and-beacon-hill-1892.jpg\n",
      "Downloaded : 106585-pheasant.jpg\n",
      "Downloaded : 95429-landscape-with-orchard-1910.jpg\n",
      "Downloaded : 93876-houses-of-parliament-at-sunset.jpg\n",
      "Downloaded : 95700-landscape-banks-of-the-river.jpg\n",
      "Downloaded : 106620-nude-in-green-chair.jpg\n",
      "Downloaded : 100136-reconciliation-1887.jpg\n",
      "Downloaded : 88369-neskuchnoye-plowing-1908.jpg\n",
      "Downloaded : 108384-14-isolated.jpg\n",
      "Downloaded : 95154-young-woman-standing-1895.jpg\n",
      "Downloaded : 73331-oxen-resting.jpg\n",
      "Downloaded : 103185-maria-1900.jpg\n",
      "Downloaded : 102512-arctic-ocean-1913.jpg\n",
      "Downloaded : 97841-portrait-of-a-young-woman.jpg\n",
      "Downloaded : 108400-28-home-in-the-woods.jpg\n",
      "Downloaded : 103254-blind-man-of-toledo-1906.jpg\n",
      "Downloaded : 54569-rocks-and-shore.jpg\n",
      "Downloaded : 107174-ethel-bartlett.jpg\n",
      "Downloaded : 90177-cottages-at-auvers-near-pontoise-1879.jpg\n",
      "Downloaded : 93479-the-manneport-reflections-of-water.jpg\n",
      "Downloaded : 98946-venice-1909.jpg\n",
      "Downloaded : 102899-profile-1900.jpg\n",
      "Downloaded : 97036-lotus-flowers-oya-japan-1900.jpg\n",
      "Downloaded : 110065-radisson-and-groseilliers-1905.jpg\n",
      "Downloaded : 93401-banks-of-the-seine-at-jeufosse-autumn.jpg\n",
      "Downloaded : 90487-white-frost-at-eragny-1895.jpg\n",
      "Downloaded : 96932-tennessee-scene-1899.jpg\n",
      "Downloaded : 92448-banks-of-the-loing-at-saint-mammes-1885-1.jpg\n",
      "Downloaded : 102703-winter-1902.jpg\n",
      "Downloaded : 92920-small-boat-on-the-small-branch-of-the-seine-at-argenteuil.jpg\n",
      "Downloaded : 87051-alexander-s-garden-near-the-kremlin-1924.jpg\n",
      "Downloaded : 100811-large-still-life-with-figure-1911.jpg\n",
      "Downloaded : 100356-potthast-longbeach.jpg\n",
      "Downloaded : 90250-young-woman-washing-plates-1882.jpg\n",
      "Downloaded : 104802-peonies.jpg\n",
      "Downloaded : 89684-clouds.jpg\n",
      "Downloaded : 102483-paris-at-night-1911.jpg\n",
      "Downloaded : 90688-the-inner-harbor-dieppe-afternoon-sun-low-tide-1902.jpg\n",
      "Downloaded : 92575-the-moret-bridge-1892.jpg\n",
      "Downloaded : 101175-carriage-rue-bonaparte.jpg\n",
      "Downloaded : 96620-dorothy-in-a-very-large-bonnet-and-a-dark-coat.jpg\n",
      "Downloaded : 100349-edward-henry-potthast-a-summer-afternoon-1910s.jpg\n",
      "Downloaded : 108451-cape-street-scene-1941.jpg\n",
      "Downloaded : 89670-breton-family-by-the-fireplace.jpg\n",
      "Downloaded : 95320-still-life-with-cantalope-and-peaches-1905.jpg\n",
      "Downloaded : 104489-the-purple-noon-s-transparent-might-1896.jpg\n",
      "Downloaded : 94645-canoeing-young-girl-in-a-boat-1877.jpg\n",
      "Downloaded : 98865-old-holley-house-1900.jpg\n",
      "Downloaded : 240179-el-camino-alejandro-cabeza.jpg\n",
      "Downloaded : 52565-spring-stream-by-fujishima-takeji-geidai-museum.jpg\n",
      "Downloaded : 93402-bordighera.jpg\n",
      "Downloaded : 106838-blue-interior-also-known-as-the-red-ribbon-c1912-1.jpg\n",
      "Downloaded : 95795-the-hills-of-cagnes.jpg\n",
      "Downloaded : 102944-cascading-brook-1916.jpg\n",
      "Downloaded : 53876-john-frederick-lewis-st-goarhausen-on-the-rhine-between-koblenz-and-mainz-google-art-project.jpg\n",
      "Downloaded : 41181-oriental-lady-1865.jpg\n",
      "Downloaded : 38202-carthorses-and-rustics-by-a-stream-1840.jpg\n",
      "Downloaded : 36330-cattle.jpg\n",
      "Downloaded : 40419-h0684-l208849672-original.jpg\n",
      "Downloaded : 48397-waiting-for-the-king-s-favourite-1877-1.jpg\n",
      "Downloaded : 44214-view-of-new-hampshire.jpg\n",
      "Downloaded : 47380-this-greeting-on-thy-impious-crest-receive.jpg\n",
      "Downloaded : 47720-the-annunciation-the-angel.jpg\n",
      "Downloaded : 42933-landscape-with-a-schooner-1880.jpg\n",
      "Downloaded : 30287-convent-of-san-cosimato-and-part-of-the-claudian-aqueduct-near-vicovaro-in-the-roman-campagna.jpg\n",
      "Downloaded : 40637-robert-william-buss-the-crowd.jpg\n",
      "Downloaded : 38276-copenhagen-harbour-by-moonlight-1846.jpg\n",
      "Downloaded : 45088-4903-difesa-e-resa-del-vascello-1849-c-a-1-1.jpg\n",
      "Downloaded : 46208-hunter-at-sunrise.jpg\n",
      "Downloaded : 39224-two-portraits-of-husband-and-wife1838-22.jpg\n",
      "Downloaded : 41539-m-ndeh-p-hchu-a-young-mandan-indian-plate-24-from-volume-1-of-travels-in-the-interior-of-north-1843.jpg\n",
      "Downloaded : 38857-charlet-n-t-lithography-a-moi-les-anciens-sheet-37-4x45-9cm-picture-32-1x43-1cm.jpg\n",
      "Downloaded : 47111-purgatorio-canto-8.jpg\n",
      "Downloaded : 38241-view-on-the-isle-of-wight.jpg\n",
      "Downloaded : 40072-the-clove-catskills-double-impact-1827.jpg\n",
      "Downloaded : 35730-portrait-of-mademoiselle-hilligsberg-1791.jpg\n",
      "Downloaded : 41361-carl-friedrich-lessing-klosterhof-im-schnee.jpg\n",
      "Downloaded : 37022-keyes-mill.jpg\n",
      "Downloaded : 36980-the-blue-rigi-lake-of-lucerne-sunrise.jpg\n",
      "Downloaded : 41167-la-pudeur-gyptienne-1838.jpg\n",
      "Downloaded : 34851-lady-macbeth-seizing-the-daggers-1812(1).jpg\n",
      "Downloaded : 38829-horse-attacked-by-a-lion.jpg\n",
      "Downloaded : 51307-009-2.jpg\n",
      "Downloaded : 42674-view-of-constantinople-1849.jpg\n",
      "Downloaded : 33931-a-collection-of-pictures-at-the-time-of-augustus-1867.jpg\n",
      "Downloaded : 36494-sir-dudley-digges-1813.jpg\n",
      "Downloaded : 42207-a-link-of-the-forth-1860.jpg\n",
      "Downloaded : 43643-self-portrait-1861.jpg\n",
      "Downloaded : 34948-professor-francis-home.jpg\n",
      "Downloaded : 47684-the-calling-of-perseus-1898.jpg\n",
      "Downloaded : 30206-robert-vernon-atherton-gwillym.jpg\n",
      "Downloaded : 44790-stage.jpg\n",
      "Downloaded : 51619-shylock-and-jessica-1876.jpg\n",
      "Downloaded : 37353-classical-landscape-composition-1835.jpg\n",
      "Downloaded : 68261-el-cabrio-de-san-ngel-1861.jpg\n",
      "Downloaded : 41221-alchemystical-adept-paracelsus-lecturing-on-the-elixir-vitae-1838.jpg\n",
      "Downloaded : 61127-st-magdalene-in-the-desert.jpg\n",
      "Downloaded : 49630-borgo-medievale-xilografia.jpg\n",
      "Downloaded : 51996-la-caridad-1888.jpg\n",
      "Downloaded : 43799-the-finding-of-don-juan-by-haid-e-1871.jpg\n",
      "Downloaded : 47856-20000-nautilus-salon.jpg\n",
      "Downloaded : 38181-the-nevka-by-the-elagin-island-1829.jpg\n",
      "Downloaded : 37029-one-bedroom.jpg\n",
      "Downloaded : 40241-heinrich-b-rkel-sch-fer-in-der-r-mischen-campagna-waf-134-bavarian-state-painting-collections.jpg\n",
      "Downloaded : 34474-john-and-sophia-musters-riding-at-colwick-hall-1777.jpg\n",
      "Downloaded : 81738-washing-of-feet-1887.jpg\n",
      "Downloaded : 41687-maydoc-game-kinungee-i-hear-the-noise-of-a-deer-ojibway-chief-michipicoten-island-1848.jpg\n",
      "Downloaded : 42769-storm-1861.jpg\n",
      "Downloaded : 39733-johann-nepomuk-passini-1170100.jpg\n",
      "Downloaded : 42835-lunar-night-1870.jpg\n",
      "Downloaded : 39583-eug-ne-delacroix-george-sand-wga06193.jpg\n",
      "Downloaded : 35034-the-shipwreck-1794.jpg\n",
      "Downloaded : 46667-slaughter-of-the-sons-of-zedekiah-before-their-father-1866.jpg\n",
      "Downloaded : 49563-portrait-16.jpg\n",
      "Downloaded : 60538-orpheus-leading-eurydice-from-the-underworld-1861.jpg\n",
      "Downloaded : 46429-screenshot-2021-11-11-114914.png\n",
      "Downloaded : 45520-west-cornwall-connecticut-1875.jpg\n",
      "Downloaded : 38806-horses-of-the-auvergne-1822.jpg\n",
      "Downloaded : 35861-sandown-bay-from-near-shanklin-chine-isle-of-wight-1827.jpg\n",
      "Downloaded : 37333-pauline-runge-with-her-two-year-old-son-1807.jpg\n",
      "Downloaded : 41684-jasper-house-1847.jpg\n",
      "Downloaded : 41848-ben-lomond-epping-forest-tasmania-1867.jpg\n",
      "Downloaded : 43584-amalfi-1841.jpg\n",
      "Downloaded : 35874-the-island-of-madeira-1839.jpg\n",
      "Downloaded : 38024-heinrich-papin-royal-austrian-troops-90-3-35c-childs-gallery-1-1.jpg\n",
      "Downloaded : 36583-david-hume-1823.jpg\n",
      "Downloaded : 52320-invocation-to-the-sun-1922.jpg\n",
      "Downloaded : 37808-harlech-castle-wales.jpg\n",
      "Downloaded : 43104-crimea-ivan-konstantinovich-aivazovsky.jpg\n",
      "Downloaded : 46198-artist-at-his-easel-in-the-woods.jpg\n",
      "Downloaded : 36675-fog-in-the-elbe-valley-1821.jpg\n",
      "Downloaded : 41721-the-water-mill-1835.jpg\n",
      "Downloaded : 45911-desdemona-s-death-song.jpg\n",
      "Downloaded : 47523-a-midsummer-night-1879.jpg\n",
      "Downloaded : 49209-silvius-and-phoebe-1872.jpg\n",
      "Downloaded : 39671-the-expulsion-of-heliodorus-1861(1).jpg\n",
      "Downloaded : 60666-italian-girl.jpg\n",
      "Downloaded : 46209-hunter-with-dog-jumping-a-flock.jpg\n",
      "Downloaded : 36686-not-detected-3-1.jpg\n",
      "Downloaded : 47810-grande-rue-de-n-dar-tout-1889.jpg\n",
      "Downloaded : 42584-windmill-on-the-sea-coast-1837.jpg\n",
      "Downloaded : 49272-lady-in-black.jpg\n",
      "Downloaded : 49618-casa-gotica-in-tortona-1.jpg\n",
      "Downloaded : 44208-fields-in-summer.jpg\n",
      "Downloaded : 61187-amateurs-in-an-exposure.jpg\n",
      "Downloaded : 44339-lady-at-a-window-feeding-birds.jpg\n",
      "Downloaded : 43558-untitled-harbor-scene.jpg\n",
      "Downloaded : 42618-the-bay-of-naples-in-the-morning-1843.jpg\n",
      "Downloaded : 47853-die-gartenlaube-1890-b-432-2.jpg\n",
      "Downloaded : 47409-self-portrait-1851.jpg\n",
      "Downloaded : 44224-the-schooner-jane-of-bath-maine-1857.jpg\n",
      "Downloaded : 48837-mariano-fortuny-balcon-de-granada.jpg\n",
      "Downloaded : 44253-the-sun-sets-perce-rock-gaspe-quebec-1867.jpg\n",
      "Downloaded : 40407-der-bettelm-nch-von-einer-l-ndlichen-familie-bewirthet.jpg\n",
      "Downloaded : 73532-img-7011.jpg\n",
      "Downloaded : 72987-helen-dunham-1892.jpg\n",
      "Downloaded : 66638-head-of-a-young-girl-1870.jpg\n",
      "Downloaded : 74891-landscape-of-the-suburbs-of-tunis.png!Large.png\n",
      "Downloaded : 66565-oration-the-prayer-1866.jpg\n",
      "Downloaded : 63692-a-girl-with-a-rake-p1202.jpg\n",
      "Downloaded : 71677-winged-figure-seated-upon-a-rock.jpg\n",
      "Downloaded : 67652-no-title-1882.jpg\n",
      "Downloaded : 69610-drifters-in-the-night-1873.jpg\n",
      "Downloaded : 64386-portrait-of-the-artist-s-wife-anna-ge.jpg\n",
      "Downloaded : 113945-orphan-man-with-top-hat-holding-cup-1882.jpg\n",
      "Downloaded : 123096-still-life-5.jpg\n",
      "Downloaded : 65641-easter-procession-in-a-village-1861.jpg\n",
      "Downloaded : 60728-forest-in-fontainbleau.jpg\n",
      "Downloaded : 70069-portrait-of-jennie-dean-kershaw.jpg\n",
      "Downloaded : 66761-roses-1887.jpg\n",
      "Downloaded : 75325-isaac-israels-transport-of-colonial-soldiers-google-art-project-1.jpg\n",
      "Downloaded : 61400-landscape-with-cows.jpg\n",
      "Downloaded : 43957-sheep-in-a-mountainous-landscape.jpg\n",
      "Downloaded : 72339-the-farmer-and-his-son-at-harvesting-1879(1).jpg\n",
      "Downloaded : 71565-ralph-hedley-the-threshing-floor-1898.jpg\n",
      "Downloaded : 67367-daniel-in-the-lion-s.jpg\n",
      "Downloaded : 62341-the-source-of-the-loue-1864.jpg\n",
      "Downloaded : 66644-flowers-1871.jpg\n",
      "Downloaded : 74342-seashore-in-crimea-1886.jpg\n",
      "Downloaded : 68891-fog-in-the-mountains-caucasus.jpg\n",
      "Downloaded : 70065-portrait-of-lucy-lewis-1896.jpg\n",
      "Downloaded : 77330-a-nook-of-the-peach-garden.jpg\n",
      "Downloaded : 114232-village-at-sunset-1884.jpg\n",
      "Downloaded : 76018-la-esclava-1928.jpg\n",
      "Downloaded : 62593-charles-meryon-le-petit-pont-google-art-project.jpg\n",
      "Downloaded : 66876-snap-the-whip.jpg\n",
      "Downloaded : 46256-albert-bierstadt-roman-fish-market-arch-of-octavius-google-art-project.jpg\n",
      "Downloaded : 136973-still-life-1939.jpg\n",
      "Downloaded : 61582-portrait-of-javain-mayor-of-cherbourg-1841.jpg\n",
      "Downloaded : 65825-people-burning-themselves-1884.jpg\n",
      "Downloaded : 62674-august-von-pettenkofen-ungarischer-markt-mit-blauen-schirmen-2099-kunsthistorisches-museum.jpg\n",
      "Downloaded : 65059-crimean-nut-tree-1884.jpg\n",
      "Downloaded : 121165-bolshaya-sadovaya-pink-house-1931.jpg\n",
      "Downloaded : 64345-early-spring-2.jpg\n",
      "Downloaded : 76153-self-portrait-near-the-window-1899.jpg\n",
      "Downloaded : 74686-elin-danielson-gambogi-pyykinkuivatusta-1896-1.jpg\n",
      "Downloaded : 62730-kitchen-scene-1860.jpg\n",
      "Downloaded : 70416-head-of-a-man-1882.jpg\n",
      "Downloaded : 76356-portrait-of-g-narbut-1914.jpg\n",
      "Downloaded : 77593-pastel-nude.jpg\n",
      "Downloaded : 69577-two-seated-girls-on-a-meadow.jpg\n",
      "Downloaded : 74976-eero-j-rnefelt-saimi-in-the-meadow-1892.jpg\n",
      "Downloaded : 113881-factory-1882(1).jpg\n",
      "Downloaded : 64958-coppice-noon-1872.jpg\n",
      "Downloaded : 73029-catrherine-vlasto-1897.jpg\n",
      "Downloaded : 67739-portrait-of-madame-marie-clerc-1974.jpg\n",
      "Downloaded : 69296-portrait-of-mary-donegan-1869.jpg\n",
      "Downloaded : 70228-talcott-williams.jpg\n",
      "Downloaded : 86099-lahor-blacksmith-from-kulu-1937.jpg\n",
      "Downloaded : 71969-disciples-running-by-eb.jpg\n",
      "Downloaded : 69357-the-actress-rejane-and-her-dog.jpg\n",
      "Downloaded : 77158-portrait-of-a-film-director-ruben-simonov-1939.jpg\n",
      "Downloaded : 89195-the-valley-of-the-touques.jpg\n",
      "Downloaded : 71316-big-masquerade-in-1772-on-the-streets-of-moscow-with-the-participation-of-peter-i-and-princer-i-1900.jpg\n",
      "Downloaded : 102755-1885-my-sister.jpeg\n",
      "Downloaded : 51984-tea-party.jpg\n",
      "Downloaded : 65470-985px-anton-romako-m-dchen-mit-perlenkette-im-haar-4620-sterreichische-galerie-belvedere.jpg\n",
      "Downloaded : 61541-the-collier-s-hut.jpg\n",
      "Downloaded : 121402-in-the-woods-1945.jpg\n",
      "Downloaded : 61302-ippolito-caffi-santa-maria-dei-miracole-e-santa-maria-nova.jpg\n",
      "Downloaded : 114505-still-life-with-bible.jpg\n",
      "Downloaded : 84753-morning-of-kiev-bogatyrs-1896.jpg\n",
      "Downloaded : 139370-h-a-brendekilde-home-for-dinner-1900s.jpg\n",
      "Downloaded : 78839-self-portrait-1894.jpg\n",
      "Downloaded : 67823-the-first-grief-1892.jpg\n",
      "Downloaded : 196254-4258.jpg\n",
      "Downloaded : 68920-men-s-head-in-a-straw-hat.jpg\n",
      "Downloaded : 121364-children-in-the-park-1940.jpg\n",
      "Downloaded : 70060-maud-cook-1895.jpg\n",
      "Downloaded : 76783-summer-evening.jpg\n",
      "Downloaded : 73318-olive-trees-at-corfu-1909.jpg\n",
      "Downloaded : 61691-the-flight-into-egypt.jpg\n",
      "Downloaded : 71192-portrait-of-a-s-matveev-in-childhood-1881.jpg\n",
      "Downloaded : 71952-jos-manoel-de-mesquita(1).jpg\n",
      "Downloaded : 70486-portrait-of-pianist-m-k-benoit-1887.jpg\n",
      "Downloaded : 68630-harlamov-3.jpg\n",
      "Downloaded : 70379-alley-in-the-park-kachanovka-1880.jpg\n",
      "Downloaded : 74252-house-with-broom-trees.jpg\n",
      "Downloaded : 63773-jonge-boerin-met-een-hak-s0386m1988-van-gogh-museum.jpg\n",
      "Downloaded : 72621-returning-to-town.jpg\n",
      "Downloaded : 60477-outskirts-of-a-village-near-beauvais.jpg\n",
      "Downloaded : 76192-portrait-of-the-commandant-of-the-mariinsky-palace-major-general-pavel-shevelev-1903.jpg\n",
      "Downloaded : 113775-farmer-leaning-on-his-spade-1881(1).jpg\n",
      "Downloaded : 62377-the-cliffs-at-étreat-1866.jpg\n",
      "Downloaded : 67603-portrait-of-the-poet-yakov-polonsky-1875.jpg\n",
      "Downloaded : 73001-coventry-patmore-1894.jpg\n",
      "Downloaded : 82013-anna-karenina-meets-her-son-1878.jpg\n",
      "Downloaded : 69645-landscape-with-an-abandoned-house.jpg\n",
      "Downloaded : 68361-valle-de-m-xico-desde-el-tepeyac-1906.jpg\n",
      "Downloaded : 60256-fontainebleau-storm-over-the-plains-1822.jpg\n",
      "Downloaded : 68615-harlamov-28.jpg\n",
      "Downloaded : 60182-threshing-floor-1822.jpg\n",
      "Downloaded : 76474-self-portrait-with-wife-1918-1.jpg\n",
      "Downloaded : 98573-young-woman-concarneau.jpg\n",
      "Downloaded : 129198-otto-mueller-lagernde-zigeunerfamilie-mit-ziege-1926-27-1.jpeg!Large.jpeg\n",
      "Downloaded : 134771-portrait-of-olena-pavlenko-1926-1.jpg\n",
      "Downloaded : 88698-the-fish-on-the-green-1935.jpg\n",
      "Downloaded : 105917-black-dress-and-violet-dress-1938.jpg\n",
      "Downloaded : 129546-breast-feeding-mother.jpg\n",
      "Downloaded : 77024-notable-day-in-the-mountains-1926.jpg\n",
      "Downloaded : 129178-otto-mueller-zwei-zigeunerkinde-vor-der-h-tte-1926-27.jpeg!Large.jpeg\n",
      "Downloaded : 134810-hombre-sacando-la-lengua-1967.jpg\n",
      "Downloaded : 138724-mother-and-child.jpg\n",
      "Downloaded : 137742-bella-and-esther-1988.jpg\n",
      "Downloaded : 135926-portrait-of-henrietta-moraes-1969(1).jpg\n",
      "Downloaded : 135758-head(1).jpg\n",
      "Downloaded : 123851-minotaur-caressing-a-sleeping-woman.jpg\n",
      "Downloaded : 128736-ael-leichenfeld-ii.jpg\n",
      "Downloaded : 169251-self-portrait.jpg\n",
      "Downloaded : 215682-dom-quixote-e-sancho-pan-a-saindo-para-suas-aventuras-1956.jpg\n",
      "Downloaded : 125988-self-portrait-1947.jpg\n",
      "Downloaded : 136432-window-towards-insomnia-2-1987.jpg\n",
      "Downloaded : 34384-rakaposhi-mountain.jpg\n",
      "Downloaded : 182624-flor-de-pascua-the-scapegoat.jpg\n",
      "Downloaded : 128371-murnau-with-a-church-1910.jpg\n",
      "Downloaded : 133655-deuring-castle-bregenz-1912.jpg\n",
      "Downloaded : 137752-lying-by-the-rags-1990.jpg\n",
      "Downloaded : 130494-cake-walk.jpg\n",
      "Downloaded : 134495-1802-6.jpg\n",
      "Downloaded : 132450-carnival-in-a-village.jpg\n",
      "Downloaded : 135975-figure-at-a-washbasin(1).jpg\n",
      "Downloaded : 77185-grapes-1943.jpg\n",
      "Downloaded : 132674-pink-blossoming-tree.jpg\n",
      "Downloaded : 74863-girl-from-loviisa-1941.jpg\n",
      "Downloaded : 215724-n-feminino.jpg\n",
      "Downloaded : 226138-red-haired-girl-with-green-robe-1986.jpg\n",
      "Downloaded : 131481-portrait-of-a-man-with-hat-jose-pacheco.jpg\n",
      "Downloaded : 161474-landscape-with-steer-1937(3).jpg\n",
      "Downloaded : 133376-landscape-paris-on-the-seine-1928.jpg\n",
      "Downloaded : 133391-wire-walker-1928.jpg\n",
      "Downloaded : 136176-marina-at-mangalia.jpg\n",
      "Downloaded : 136259-scoglio-a-scilla.jpg\n",
      "Downloaded : 173607-chica-da-silva-guignard-d-cada-de-1950-acervo-museu-casa-guignard.jpg\n",
      "Downloaded : 135909-portrait-of-george-dyer-staring-into-a-mirror(1).jpg\n",
      "Downloaded : 131709-girl-with-a-polka-dot-blouse-1919.jpg\n",
      "Downloaded : 133894-dois-nus-1930.jpg\n",
      "Downloaded : 134916-cavallo-con-due-acrobati-1953.jpg\n",
      "Downloaded : 239630-fascination-1988.jpg\n",
      "Downloaded : 128904-la-parade-1930.jpg\n",
      "Downloaded : 134508-the-dervishes.jpg\n",
      "Downloaded : 132224-portrait-of-a-boy-1931.jpg\n",
      "Downloaded : 137805-after-cezanne-2000.jpg\n",
      "Downloaded : 247215-7am-sunday-morning-2003-acrylic-on-canvas.jpg\n",
      "Downloaded : 132349-chess-player-1916.jpg\n",
      "Downloaded : 130515-female-nude-with-shadow-of-a-twig.jpg\n",
      "Downloaded : 132697-woman-in-green-dress-1922.jpg\n",
      "Downloaded : 137171-bozoky-ai-340.jpg\n",
      "Downloaded : 132392-the-cabinets.jpg\n",
      "Downloaded : 130186-dead-deer-1913.jpg\n",
      "Downloaded : 132756-working-the-field.jpg\n",
      "Downloaded : 134897-strasse-in-paris-1957.jpg\n",
      "Downloaded : 127009-fellow-citizens-1974.jpg\n",
      "Downloaded : 131567-doctor-devaraigne-1917.jpg\n",
      "Downloaded : 77146-landscape-with-a-view-of-mount-ararat-1937.jpg\n",
      "Downloaded : 140488-self-portrait-1977(1).jpg\n",
      "Downloaded : 173596-sem-t-tulo-1940-cole-o-roberto-marinho.png!Large.png\n",
      "Downloaded : 77246-view-from-the-banks-of-the-river-araks-1954.jpg\n",
      "Downloaded : 131328-the-descent-from-the-cross-1917.jpg\n",
      "Downloaded : 128022-carl-vilhelm-hols-e-www-kaifineart-com-1.jpg\n",
      "Downloaded : 126043-portrait-of-a-child.jpg\n",
      "Downloaded : 131435-young-woman-1910.jpg\n",
      "Downloaded : 123278-the-roofs-of-barcelona-1903.jpg\n",
      "Downloaded : 173583-cart-o-para-amalita-1934.jpg\n",
      "Downloaded : 135851-crouching-nude-1961(1).jpg\n",
      "Downloaded : 138282-paravent-les-instruments-de-musique-1961.jpg\n",
      "Downloaded : 129893-jytkyt-1918.jpg\n",
      "Downloaded : 134573-a-sad-girl-1921.jpg\n",
      "Downloaded : 135673-big-landscape-with-cow.jpg\n",
      "Downloaded : 184581-roma-from-figueres.jpg\n",
      "Downloaded : 129218-vom-strande-page-11-1913.jpg\n",
      "Downloaded : 137228-bozoky-ai-867.jpg\n",
      "Downloaded : 182633-not_detected_204654.jpg\n",
      "Downloaded : 154801-mandolin-glass-pot-and-fruit-1927.jpg\n",
      "Downloaded : 138676-head-of-julia.jpg\n",
      "Downloaded : 174113-noc-ve-vlaku-1944.jpg\n",
      "Downloaded : 182628-flor-de-pascua-whore-s-superstition.jpg\n",
      "Downloaded : 105576-reader-on-a-black-background-1918.jpg\n",
      "Downloaded : 124853-reclining-woman-1922.jpg\n",
      "Downloaded : 133896-duas-figuras-1933.jpg\n",
      "Downloaded : 137721-man-in-a-chair-1985.jpg\n",
      "Downloaded : 138120-kond-1972.jpg\n",
      "Downloaded : 74852-the-fortune-teller-woman-in-yellow-dress-1926.jpg\n",
      "Downloaded : 200986-the-frying-pan-1946.jpg\n",
      "Downloaded : 136989-nude-1962.jpg\n",
      "Downloaded : 137072-glass-chandelier-1969.jpg\n",
      "Downloaded : 83277-from-thuringewald-1905.jpg\n",
      "Downloaded : 130733-tatar-family-1920.jpg\n",
      "Downloaded : 128590-the-tribute-money-1915.jpg\n",
      "Downloaded : 131133-gritch5.jpg\n",
      "Downloaded : 131708-girl-in-blue-1919.jpg\n",
      "Downloaded : 88225-portrait-of-lawrence-mansfield-higgins-1932.jpg\n",
      "Downloaded : 130512-female-head.jpg\n",
      "Downloaded : 133079-josef-apek-v-za-s-kv-tinami-1914.jpg\n",
      "Downloaded : 76031-self-portrait.jpg\n",
      "Downloaded : 112975-still-life-with-sugar-1890.jpg\n",
      "Downloaded : 82191-maternity-1893.jpg\n",
      "Downloaded : 128422-moscow-zubovskaya-square-study-1916.jpg\n",
      "Downloaded : 125886-sacre-coeur.jpg\n",
      "Downloaded : 173967-antonio-sicurezza-yellow-peppers.JPG!Large.JPG\n",
      "Downloaded : 118329-misia-with-a-pink-corsage-1908.jpg\n",
      "Downloaded : 121444-essentuki-the-park-1948.jpg\n",
      "Downloaded : 115905-the-paris-omnibus-1904.jpg\n",
      "Downloaded : 125902-street.jpg\n",
      "Downloaded : 183063-portrait-of-pierre-bourgeois-1920(1).jpg\n",
      "Downloaded : 116063-picnic-by-the-sea-1915.jpg\n",
      "Downloaded : 75573-mp345.jpg\n",
      "Downloaded : 124401-the-actress-as-cleopatra-mercedes-de-cordoba-artist-s-wife-1914.jpg\n",
      "Downloaded : 126272-reclining-nude-1923(1).jpg\n",
      "Downloaded : 125789-lapin-agile-2.jpg\n",
      "Downloaded : 118755-romain-coolus-writer-in-la-revuew-blanche.jpg\n",
      "Downloaded : 184514-the-vegetable-garden-of-llaner.jpg\n",
      "Downloaded : 115140-the-baby-marcelle-roulin-1888-1.jpg\n",
      "Downloaded : 81183-portrait-of-a-woman-marie-lagadu-1888.jpg\n",
      "Downloaded : 101981-o-connor-seated-woman-in-a-red-dress.jpg\n",
      "Downloaded : 117782-the-garden.jpg\n",
      "Downloaded : 114920-walk-along-the-banks-of-the-seine-near-asnieres-1887.jpg\n",
      "Downloaded : 111613-the-stone-breaker-1882-1.jpg\n",
      "Downloaded : 115168-the-rocks-with-oak-tree-1888.jpg\n",
      "Downloaded : 117563-combing.jpg\n",
      "Downloaded : 111143-alfred-william-finch-thunderstorm-a-2002-220-finnish-national-gallery.jpg\n",
      "Downloaded : 196106-1137.jpg\n",
      "Downloaded : 123377-nude-with-her-hands-pressed-to-each-other-1906.jpg\n",
      "Downloaded : 124761-untitled-landscape.jpg\n",
      "Downloaded : 115878-the-east-river.jpg\n",
      "Downloaded : 105396-goldfish-1911.jpg\n",
      "Downloaded : 120056-cassis-1913.jpg\n",
      "Downloaded : 121813-konstantin-gorbatov-capri-7.jpg\n",
      "Downloaded : 122283-reclining-woman-c-1900.jpg\n",
      "Downloaded : 105226-the-path-in-the-bois-de-boulogne-1902.jpg\n",
      "Downloaded : 118605-the-end-of-dinner-1913.jpg\n",
      "Downloaded : 122700-forest-path-1911.jpg\n",
      "Downloaded : 115873-in-central-park-new-york.jpg\n",
      "Downloaded : 121009-novgorod-the-church-1925.jpg\n",
      "Downloaded : 75812-cortyard-in-sunshine-1928.jpg\n",
      "Downloaded : 114029-bridge-near-the-schenkweg(1).jpg\n",
      "Downloaded : 121564-katya-with-a-dog.jpg\n",
      "Downloaded : 118352-hambourg-picnic-1912.jpg\n",
      "Downloaded : 118240-still-life-with-coffee-pot-1915.jpg\n",
      "Downloaded : 120189-pear-plums-and-knives.jpg\n",
      "Downloaded : 120204-sea-piece-barra.jpg\n",
      "Downloaded : 130922-flusslandschaft-1907.jpg\n",
      "Downloaded : 116567-saint-cirq-lapopie-over-the-roofs.jpg\n",
      "Downloaded : 77084-gathering-of-grapes-1933.jpg\n",
      "Downloaded : 184495-vilabertrin-church-tower-1919.jpg\n",
      "Downloaded : 124493-notre-dame-st-michael-under-the-snow.jpg\n",
      "Downloaded : 118436-basket-and-plate-of-fruit-on-a-red-checkered-tablecloth.jpg\n",
      "Downloaded : 120065-kirkcudbright-street-corner-1917.jpg\n",
      "Downloaded : 117362-woman-with-a-black-boa-1892.jpg\n",
      "Downloaded : 126288-young-dutch-woman-1930.jpg\n",
      "Downloaded : 105637-not-identified-15.jpg\n",
      "Downloaded : 122220-campfire-1916.jpg\n",
      "Downloaded : 112993-the-card-players-1892.jpg\n",
      "Downloaded : 114881-the-brothel-1887.jpg\n",
      "Downloaded : 120026-girl-in-white-1907.jpg\n",
      "Downloaded : 118760-portrait-of-louis-loucheur.jpg\n",
      "Downloaded : 87158-province-1.jpg\n",
      "Downloaded : 81316-landscape-with-three-trees-1892.jpg\n",
      "Downloaded : 112872-l-estaque-with-red-roofs-1885.jpg\n",
      "Downloaded : 83395-display-image-26.jpg\n",
      "Downloaded : 117878-trees-by-the-river-1.jpg\n",
      "Downloaded : 117536-at-the-rat-mort-1899.jpg\n",
      "Downloaded : 112932-the-alley-at-chantilly-1888-1.jpg\n",
      "Downloaded : 120947-emerald-summer-1922.jpg\n",
      "Downloaded : 105633-not-identified-7.jpg\n",
      "Downloaded : 120905-willows-1919.jpg\n",
      "Downloaded : 140081-mykonos.jpg\n",
      "Downloaded : 111637-seated-man-study-for-bathers-at-asnieres-1883.jpg\n",
      "Downloaded : 117472-conquest-of-passage-1896.jpg\n",
      "Downloaded : 81265-mimi-and-her-cat-1890.jpg\n",
      "Downloaded : 120926-still-life-1920.jpg\n",
      "Downloaded : 116052-girls-in-the-park.jpg\n",
      "Downloaded : 120994-venice-house-of-tintoretto-1924.jpg\n",
      "Downloaded : 116587-near-saint-malo.jpg\n",
      "Downloaded : 123204-woman-leaving-the-bath-1901.jpg\n",
      "Downloaded : 118742-woman-in-grey-in-a-lane.jpg\n",
      "Downloaded : 118447-fruit-on-the-red-carpet.jpg\n",
      "Downloaded : 115475-first-steps-after-millet-1890(1).jpg\n",
      "Downloaded : 121873-konstantin-gorbatov-venice-7.jpg\n",
      "Downloaded : 118264-street-in-eragny-sur-oise-or-dogs-in-eragny-1893.jpg\n",
      "Downloaded : 83722-thunersee-1931.jpg\n",
      "Downloaded : 115462-daubigny-s-garden-1890-1(1).jpg\n",
      "Downloaded : 126597-white-walls-1939.jpg\n",
      "Downloaded : 102135-passing-through-the-bar-1898.jpg\n",
      "Downloaded : 120916-evening-on-the-pier-1920.jpg\n",
      "Downloaded : 196150-1293.jpg\n",
      "Downloaded : 105183-landscape-of-corsica-1.jpg\n",
      "Downloaded : 75585-portrait-of-mdm-marty-bonnard.jpg\n",
      "Downloaded : 118319-tall-nude-also-known-as-woman-nude-standing-1906.jpg\n",
      "Downloaded : 127139-self-portrait.jpg\n",
      "Downloaded : 117335-the-toilet-ms-fabre-1891.jpg\n",
      "Downloaded : 105361-greta-moll-1908.jpg\n",
      "Downloaded : 124347-composition-with-peasant-motifs-1936.jpg\n",
      "Downloaded : 122221-evening-canoe-lake-1916.jpg\n",
      "Downloaded : 120626-farmyard-at-la-percaillerie-normandy-1901.jpg\n",
      "Downloaded : 182536-sirens-1979.jpg\n",
      "Downloaded : 187430-dois-lim-es-em-f-rias-1983.jpg\n",
      "Downloaded : 176366-untitled-112.jpg\n",
      "Downloaded : 176291-untitled-196.jpg\n",
      "Downloaded : 190102-new-age-manhattan.jpg\n",
      "Downloaded : 124020-woman-in-striped-armchair-1941.jpg\n",
      "Downloaded : 189497-mediterranean-plant-2010.jpg\n",
      "Downloaded : 185284-battle-of-tétouan.jpg\n",
      "Downloaded : 183309-fashionable-people-1950(1).jpg\n",
      "Downloaded : 158051-catax.jpg\n",
      "Downloaded : 184935-invisible-afghan-with-the-apparition-on-the-beach-of-the-face-of-garcia-lorca-in-the-form-of-a.jpg\n",
      "Downloaded : 185276-zzz-portrait-of-rosemary-chisholm1961.jpg\n",
      "Downloaded : 176041-untitled-449.jpg\n",
      "Downloaded : 188226-suite-instruments-de-tortura-1956.jpg\n",
      "Downloaded : 237376-theme-variations-decorative-plate-220-face-with-choker-necklace.jpg\n",
      "Downloaded : 207114-the-arrival-of-the-bird-1951.jpg\n",
      "Downloaded : 250156-at-the-border-between-the-official-and-the-excluded-2016.jpg\n",
      "Downloaded : 190123-fantastic-composition.jpg\n",
      "Downloaded : 176205-untitled-283.jpg\n",
      "Downloaded : 182485-the-two-friends-1946.jpg\n",
      "Downloaded : 155739-nature-morte-la-racine-et-au-cordage-jaune-1930.jpg\n",
      "Downloaded : 169655-illustration-to-a-week-of-kindness-1934-132.jpg\n",
      "Downloaded : 187000-enigma-of-the-night-1953.jpg\n",
      "Downloaded : 188044-untitled-man-with-hat-and-horn-1961.jpg\n",
      "Downloaded : 182081-femme-iii.jpg\n",
      "Downloaded : 187593-green-tea-1942.jpg\n",
      "Downloaded : 183254-applied-dialectics-1945(1).jpg\n",
      "Downloaded : 123752-the-sculpture-1925.jpg\n",
      "Downloaded : 169624-illustration-to-a-week-of-kindness-1934-101.jpg\n",
      "Downloaded : 134815-la-gran-galaxia-1978.jpg\n",
      "Downloaded : 189694-watermelon-kite-i-2007.jpg\n",
      "Downloaded : 182342-lamento.jpg\n",
      "Downloaded : 189472-untitled.jpg\n",
      "Downloaded : 183612-phantoms-1928.jpg\n",
      "Downloaded : 249248-the-pornography-of-death-painting-for-ian-curtis-after-chris-foss-1995.jpg\n",
      "Downloaded : 186993-prefiguration-1941.jpg\n",
      "Downloaded : 182925-contrast-order-and-chaos.jpg\n",
      "Downloaded : 137047-three-figures-1946.jpg\n",
      "Downloaded : 189895-jesus-christ.jpg\n",
      "Downloaded : 188123-spring-1951-bag.jpg\n",
      "Downloaded : 185503-fertility.jpg\n",
      "Downloaded : 169725-the-antipope-1942.jpg\n",
      "Downloaded : 183982-the-shooting-gallery-vii-1940.jpg\n",
      "Downloaded : 123833-woman-with-book-1932.jpg\n",
      "Downloaded : 159709-blue-house-on-the-shore-30-31.jpg\n",
      "Downloaded : 183683-hamlet-1938(1).jpg\n",
      "Downloaded : 186699-le-chateau-pluie.jpg\n",
      "Downloaded : 186845-germination-1946.jpg\n",
      "Downloaded : 159718-landscape-of-the-megaliths-1.jpg\n",
      "Downloaded : 157481-le-paradis-des-antilopes-1994.jpg\n",
      "Downloaded : 135161-la-fianc-e-heliotropique-1955.jpg\n",
      "Downloaded : 155751-deux-musiciennes-1937.jpg\n",
      "Downloaded : 175630-le-derni-re-heure.jpg\n",
      "Downloaded : 187967-the-rousseau-brothers-1994.jpg\n",
      "Downloaded : 184067-nattlig-vision(5).jpg\n",
      "Downloaded : 176091-untitled-399.jpg\n",
      "Downloaded : 184885-premonition-of-civil-war.jpg\n",
      "Downloaded : 161689-untitled-1945.jpg\n",
      "Downloaded : 190196-topological-knife-2007.jpg\n",
      "Downloaded : 185675-t-te-surrealiste.jpg\n",
      "Downloaded : 183586-erotic-landscape.jpg\n",
      "Downloaded : 129976-botanical-theater-1924(1).jpg\n",
      "Downloaded : 175865-untitled-631.jpg\n",
      "Downloaded : 135096-portrait-of-sa-a-pan-to-my-dear-sa-a-pan-1930.jpg\n",
      "Downloaded : 185004-nude-on-the-plain-of-rosas.jpg\n",
      "Downloaded : 123940-untitled-1937-1.jpg\n",
      "Downloaded : 170072-the-articulated-hands-1954.jpg\n",
      "Downloaded : 169521-the-embalmed-forest-1933.jpg\n",
      "Downloaded : 185020-madonna.jpg\n",
      "Downloaded : 185510-the-gold-chalice.jpg\n",
      "Downloaded : 138596-andrews-family-study-3-image-only.jpg\n",
      "Downloaded : 169549-illustration-to-a-week-of-kindness-1934-26.jpg\n",
      "Downloaded : 244039-the-ringmaster-2001.jpg\n",
      "Downloaded : 183380-homage-to-alphonse-allais-1962(1).jpg\n",
      "Downloaded : 182090-the-gold-of-the-azure.jpg\n",
      "Downloaded : 137598-portrait-of-a-man.jpg\n",
      "Downloaded : 184022-a-reader.jpg\n",
      "Downloaded : 185097-leda-atomica.jpeg!Large.jpeg\n",
      "Downloaded : 124166-las-meninas-velazquez-1957-6.jpg\n",
      "Downloaded : 186833-la-rencontre-1936.jpg\n",
      "Downloaded : 183404-the-land-of-miracles-1964(1).jpg\n",
      "Downloaded : 176315-untitled-169.jpg\n",
      "Downloaded : 124011-boy-with-a-langosta-1941.jpg\n",
      "Downloaded : 183178-the-fair-captive-1931(1).jpg\n",
      "Downloaded : 188162-l-oeuf-blue-1969.jpg\n",
      "Downloaded : 123843-silenus-dancing-in-company-1933.jpg\n",
      "Downloaded : 187011-the-astronomer-1990.jpg\n",
      "Downloaded : 182461-the-night-garden-1942.jpg\n",
      "Downloaded : 169768-configuration-no-6-1974.jpg\n",
      "Downloaded : 182388-untitled-bird.jpg\n",
      "Downloaded : 185054-the-broken-bridge-and-the-dream.jpg\n",
      "Downloaded : 183190-the-red-model-1934(1).jpg\n",
      "Downloaded : 137923-forma-de-percusion(4).jpg\n",
      "Downloaded : 182606-female-nude-in-a-landscape.jpg\n",
      "Downloaded : 184888-suburbs-of-a-paranoiac-critical-town-afternoon-on-the-outskirts-of-european-history-1936.jpg\n",
      "Downloaded : 170090-le-myst-re-est-exempt-de-pudeur-1935.jpg\n",
      "Downloaded : 182034-a-dew-drop-falling-from-a-bird-s-wing-wakes-rosalie-who-has-been-asleep-in-the-shadow-of-a.jpg\n",
      "Downloaded : 174095-flight-1969.jpg\n",
      "Downloaded : 188227-suite-instruments-de-tortura-1956-1.jpg\n",
      "Downloaded : 185307-zzz-salvadore-dali-mrs-ann-green-and-son-jonathan1963.jpg\n",
      "Downloaded : 79510-goddess-on-the-rocks.jpg\n",
      "Downloaded : 82691-river-belaya-1909.jpg\n",
      "Downloaded : 84495-evening-sun-1922.jpg\n",
      "Downloaded : 85345-sketch.jpg\n",
      "Downloaded : 35531-illustration-to-milton-s-paradise-lost-1808-3.jpg\n",
      "Downloaded : 185319-filiae-herodiadis-saltatio-matthew-14-6-1964.jpg\n",
      "Downloaded : 84422-psyche-discovers-that-her-mysterious-lover-is-eros-1908.jpg\n",
      "Downloaded : 85835-sunset-1931.jpg\n",
      "Downloaded : 88896-jan-mankes-meisje-met-witte-bloem-museum-arnhem-gm-13185.jpg\n",
      "Downloaded : 50060-spouse-1900(3).jpg\n",
      "Downloaded : 85702-spitok-ladakh.jpg\n",
      "Downloaded : 67361-abraham-sees-sodom-in-flames.jpg\n",
      "Downloaded : 85509-monhigan-creating-1922.jpg\n",
      "Downloaded : 86482-snowy-peaks.jpg\n",
      "Downloaded : 87512-portrait-of-the-artist-s-daughter-1935.jpg\n",
      "Downloaded : 79154-navet.jpg\n",
      "Downloaded : 85836-tablets-of-law-1931.jpg\n",
      "Downloaded : 80162-the-accused-1887.jpg\n",
      "Downloaded : 80169-the-black-torches-1889.jpg\n",
      "Downloaded : 86717-yard-petersburg.jpg\n",
      "Downloaded : 50512-projet-d-illustration-pour-macbeth-lady-macbeth-somnambule.jpg\n",
      "Downloaded : 86187-himalayas-golden-clouds-on-a-purple-sky-1940.jpg\n",
      "Downloaded : 35569-the-goblin-1820.jpg\n",
      "Downloaded : 51467-jakub-schikaneder-z-pad-slunce-na-vltav.jpg\n",
      "Downloaded : 79713-portrait-of-clara-bruckmann-b-cklin.jpg\n",
      "Downloaded : 84513-romantic-landscape.jpg\n",
      "Downloaded : 35521-illustration-to-milton-s-paradise-lost-1807-3.jpg\n",
      "Downloaded : 84293-enckell-alaston-poika.jpg\n",
      "Downloaded : 85438-white-lady-1919.jpg\n",
      "Downloaded : 87544-landscape-1917.jpg\n",
      "Downloaded : 86759-deluge-iv-1904-1.jpg\n",
      "Downloaded : 80509-the-apparition.jpg\n",
      "Downloaded : 86137-himalayas-1938-4.jpg\n",
      "Downloaded : 83407-display-image-2.jpg\n",
      "Downloaded : 67353-the-conquest-of-the-amorites.jpg\n",
      "Downloaded : 87282-the-groom-1906.jpg\n",
      "Downloaded : 48267-spirit-of-the-night-1879.jpg\n",
      "Downloaded : 35524-illustration-to-milton-s-paradise-lost-1807-6.jpg\n",
      "Downloaded : 80118-photograph-of-guardian-spirit-of-the-waters-1878-by-en0odilon-redon-in-the-public-domain.jpg\n",
      "Downloaded : 197766-sorgen.jpg\n",
      "Downloaded : 50534-projet-de-frontispice-pour-macbeth-3.jpg\n",
      "Downloaded : 88908-jan-mankes-sneeuwlandschap-met-sloot-private-collection-museum-belv-d-re.jpg\n",
      "Downloaded : 82181-shadows-of-the-lagoons-and-naiades-1905.jpg\n",
      "Downloaded : 79286-paulo-and-francesco.jpg\n",
      "Downloaded : 84027-book-of-the-marquise-illustration-9-1918.jpg\n",
      "Downloaded : 82586-eug-ne-jansson-nocturne-thielska-136.jpg\n",
      "Downloaded : 79357-allegory-of-life.jpg\n",
      "Downloaded : 79506-oedipus-the-wayfarer.jpg\n",
      "Downloaded : 87402-still-life-with-mirror-1919.jpg\n",
      "Downloaded : 52426-thechildrenoflirduncan1914.jpg\n",
      "Downloaded : 118824-czerwona-parasolka.jpg\n",
      "Downloaded : 85937-kuan-yin-1933.jpg\n",
      "Downloaded : 85663-sanctuaries-and-citadels-1925-5.jpg\n",
      "Downloaded : 80439-bouquet-of-flowers-in-a-blue-vase-2.jpg\n",
      "Downloaded : 80341-apollo-s-chariot-4.jpg\n",
      "Downloaded : 84623-the-wind-blows-1897.jpg\n",
      "Downloaded : 86668-pskov-1923-1.jpg\n",
      "Downloaded : 80170-angel-executions.jpg\n",
      "Downloaded : 80297-flowers-2.jpg\n",
      "Downloaded : 86816-forest-1907.jpg\n",
      "Downloaded : 106303-biblis-transformed-into-a-brook.jpg\n",
      "Downloaded : 79433-saint-sebastian-and-his-executioners.jpg\n",
      "Downloaded : 84536-mountain-landscape-with-sea-bay.jpg\n",
      "Downloaded : 85266-boundary-of-kingdoms-1916.jpg\n",
      "Downloaded : 84123-sobotki.jpg\n",
      "Downloaded : 84081-date-night.jpg\n",
      "Downloaded : 82693-st-luke-the-apostle-1909.jpg\n",
      "Downloaded : 66785-to-robert-schumann.jpg\n",
      "Downloaded : 83135-susanna-and-the-elders-1913-1.jpg\n",
      "Downloaded : 85983-tibet-1933-1.jpg\n",
      "Downloaded : 83098-portrait-of-writer-juliane-d-ry.jpg\n",
      "Downloaded : 84168-1928-1.jpg\n",
      "Downloaded : 79332-the-poor-fisherman.jpg\n",
      "Downloaded : 86811-aries-1907.jpg\n",
      "Downloaded : 85508-monhigan-1922-1.jpg\n",
      "Downloaded : 80478-naked-woman-on-a-car.jpg\n",
      "Downloaded : 86211-himalayas-mountains-lit-by-sunset-1941.jpg\n",
      "Downloaded : 87262-chateau-de-la-petite-d-esse-solitaire.jpg\n",
      "Downloaded : 52391-the-hand-of-christ-the-palm-of-peace-1897.jpg\n",
      "Downloaded : 84569-the-oriental-woman-1898.jpg\n",
      "Downloaded : 82056-eastern-dance-1887.jpg\n",
      "Downloaded : 85551-rostov-veliky-kremlin-1922.jpg\n",
      "Downloaded : 86026-untitled-2.jpg\n",
      "Downloaded : 82663-the-taking-of-the-veil-1898.jpg\n",
      "Downloaded : 86774-the-angel-1905.jpg\n",
      "Downloaded : 86772-seashore-1905.jpg\n",
      "Downloaded : 86435-kangchenjunga-4.jpg\n",
      "Downloaded : 84649-portrait-group-1908.jpg\n",
      "Downloaded : 79766-the-lover-of-christ.jpg\n",
      "Downloaded : 80122-gnome-1879.jpg\n",
      "Downloaded : 85548-mountain-luton-1922.jpg\n",
      "Downloaded : 80477-mystical-conversation-1.jpg\n",
      "Downloaded : 80115-after-the-execution-1877.jpg\n",
      "Downloaded : 80361-animals-of-the-sea-1910.jpg\n",
      "Downloaded : 82791-junius.jpg\n",
      "Downloaded : 79536-susanna-and-the-elders.jpg\n",
      "Downloaded : 80182-the-mysterious-boat-1.jpg\n",
      "Downloaded : 83077-paisatge-joan-brull-i-vinyoles-1863-1912-2.jpg\n",
      "Downloaded : 87292-still-life-source-of-life.jpg\n",
      "Downloaded : 84299-enckell-magnus-1870-1925-1894-the-raising.jpg\n",
      "Downloaded : 195704-meditations-1970c.jpg\n",
      "Downloaded : 108817-mere-et-son-enfant1.jpg\n",
      "Downloaded : 137058-bay-1960.jpg\n",
      "Downloaded : 204374-2002-sky-ritual-acrylic-on-canvas.jpg\n",
      "Downloaded : 200972-landscape-a-country-road-and-wild-flowers-1960.jpg\n",
      "Downloaded : 203268-paris-series-66-5x70-5in-1993-1.jpg\n",
      "Downloaded : 201912-italian-summer-28-1970.jpg\n",
      "Downloaded : 203079-untitled-1962.jpg\n",
      "Downloaded : 162961-lithographie-1974.jpg\n",
      "Downloaded : 160136-number-14-1949.jpg\n",
      "Downloaded : 211429-autumn-1955.jpg\n",
      "Downloaded : 175599-untitled-1951.jpg\n",
      "Downloaded : 238850-picture-for-a-lady-1976.jpg\n",
      "Downloaded : 127232-fantastic-landscape-1976.jpg\n",
      "Downloaded : 199162-number-226.jpg\n",
      "Downloaded : 161729-untitled-1973.jpg\n",
      "Downloaded : 163245-wheel-of-day-1971.jpg\n",
      "Downloaded : 202138-big79-81-manouch-53-jpg-1.jpg\n",
      "Downloaded : 164410-white-goddess-2015-2015.jpg\n",
      "Downloaded : 164155-entry-2004.jpg\n",
      "Downloaded : 127404-the-beloved-toy-2006.jpg\n",
      "Downloaded : 245810-kungka-kutjarra-two-women-hair-string-ceremony-2008-1.jpg\n",
      "Downloaded : 137464-abstract(5).jpg\n",
      "Downloaded : 163072-untitled-1961.jpg\n",
      "Downloaded : 213236-the-fountain-1992.jpg\n",
      "Downloaded : 106070-the-maritime-wildlife-1950.jpg\n",
      "Downloaded : 162044-moon-meditation-1960.jpg\n",
      "Downloaded : 199224-crowded-city-1974.jpg\n",
      "Downloaded : 158732-the-bouquet-1959.jpg\n",
      "Downloaded : 136953-composition-in-blue-ii-1999.jpg\n",
      "Downloaded : 199230-morning-grass.jpg\n",
      "Downloaded : 204758-g-878-abstract-watercolor-painting-on-paper-in-gouache-technique-2011.jpg\n",
      "Downloaded : 247775-untitled-2007.jpg\n",
      "Downloaded : 164324-number-126-2013-1.jpg\n",
      "Downloaded : 164390-redyellowblue-triptych-2015.jpg\n",
      "Downloaded : 234127-nude-1974.jpg\n",
      "Downloaded : 164471-reflector-2016.jpg\n",
      "Downloaded : 210773-family-portrait-1958.jpg\n",
      "Downloaded : 204270-lattice-1981.jpg\n",
      "Downloaded : 199240-screenshot.jpg\n",
      "Downloaded : 204686-first-anniversary-1970.jpg\n",
      "Downloaded : 245780-two-women-fire-2005.jpg\n",
      "Downloaded : 162009-love-tree.jpg\n",
      "Downloaded : 162417-festival-1983.jpg\n",
      "Downloaded : 164239-pali-2009.jpg\n",
      "Downloaded : 204155-flowers-no-2-1974.jpg\n",
      "Downloaded : 164280-number-120-2012.jpg\n",
      "Downloaded : 186794-kreuzweg-1955.jpg\n",
      "Downloaded : 163856-untitled-press-series-1972.jpg\n",
      "Downloaded : 203513-quarzeat.jpg\n",
      "Downloaded : 163821-abstract-with-blue-and-black.jpg\n",
      "Downloaded : 204801-torodoro-2004.jpg\n",
      "Downloaded : 213213-brazilian-merganser.jpg\n",
      "Downloaded : 200311-fresno-friday-november-10-1972-9.jpeg!Large.jpeg\n",
      "Downloaded : 202082-december-1958-1958.jpg\n",
      "Downloaded : 200861-untitled-d-233a-1949.jpg\n",
      "Downloaded : 164127-number-72-2002.jpg\n",
      "Downloaded : 204695-symphony-v-1982.jpg\n",
      "Downloaded : 136884-construction-1968.jpg\n",
      "Downloaded : 243114-praporele-florilor-1976.jpg\n",
      "Downloaded : 158760-golden-autumn-1963.jpg\n",
      "Downloaded : 157114-untitled.jpg\n",
      "Downloaded : 245754-untitled-2002-1.jpg\n",
      "Downloaded : 162070-untitled-1959.jpg\n",
      "Downloaded : 162024-the-center-1943.jpg\n",
      "Downloaded : 162409-parade-1974.jpg\n",
      "Downloaded : 160292-harriet-1984.jpg\n",
      "Downloaded : 137075-59-1981.jpg\n",
      "Downloaded : 204373-spirit-night-18-06-98-1998.jpg\n",
      "Downloaded : 140362-we-were-so-close-that-nothing-used-to-stand-between-us-from-the-autumn-series.jpg\n",
      "Downloaded : 161316-noon-1947.jpg\n",
      "Downloaded : 204260-red-linger-1972.jpg\n",
      "Downloaded : 158749-sanctum-sanctorum-1962.jpg\n",
      "Downloaded : 199192-untitled-sumi-1957.jpg\n",
      "Downloaded : 163462-untitled-1970-1.jpg\n",
      "Downloaded : 212685-untitled-1958(2).jpg\n",
      "Downloaded : 245722-seed-gathering-napangati-women-1996.jpg\n",
      "Downloaded : 203619-the-rose-i.jpg\n",
      "Downloaded : 158743-black-diamond-1961.jpg\n",
      "Downloaded : 202081-july-1954-1954.jpg\n",
      "Downloaded : 163102-edrita-fried-1981.jpg\n",
      "Downloaded : 245775-untitled-2005-4.jpg\n",
      "Downloaded : 163976-walk-4-1984.jpg\n",
      "Downloaded : 212681-amarillo-1958.jpg\n",
      "Downloaded : 127158-stained-glass-window-1963.jpg\n",
      "Downloaded : 202221-rd1070pub.jpg\n",
      "Downloaded : 173780-composition-16-1954-1956.jpg\n",
      "Downloaded : 246466-untitled-1998.jpg\n",
      "Downloaded : 161731-untitled-1976.jpg\n",
      "Downloaded : 205053-el-fin-es-el-fin-122x100.JPG!Large.JPG\n",
      "Downloaded : 163451-untitled-1966-1.jpg\n",
      "Downloaded : 164273-number-71-2012.jpg\n",
      "Downloaded : 202236-rd1106pub.jpg\n",
      "Downloaded : 158710-untitled-1950.jpg\n",
      "Downloaded : 250130-marchorowitzcao-looking-around-scared.jpg\n",
      "Downloaded : 245847-hairstring-skirt.jpg\n",
      "Downloaded : 127260-signs-of-life-1981.jpg\n",
      "Downloaded : 164208-number-73-2008.jpg\n",
      "Downloaded : 136930-negev-1989.jpg\n",
      "Downloaded : 106023-white-torso-and-blue-torso-1944.jpg\n",
      "Downloaded : 32755-elizaveta-alexeevna-by-anonymous-after-dawe.jpg\n",
      "Downloaded : 31251-la-odisea-luis-segal-y-estalella-page-116-crop.jpg\n",
      "Downloaded : 33249-princess-charlotte-of-belgium.jpg\n",
      "Downloaded : 28609-deuxieme-vue-du-port-de-bordeaux-prise-du-cha-teau-trompette.jpg\n",
      "Downloaded : 32770-denisov-7-vasily-timofeevich.jpg\n",
      "Downloaded : 32183-portrait-of-jean-lannes.jpg\n",
      "Downloaded : 32430-1-aretino-in-the-studio-of-tintoretto-jean-auguste-dominique-ingres.jpg\n",
      "Downloaded : 32773-depreradovich-nikolay-ivanovich.jpg\n",
      "Downloaded : 34239-athenais-1908.jpg\n",
      "Downloaded : 32598-mordvinov-dmitry-michailovich.jpg\n",
      "Downloaded : 32688-megakov-by-george-dawe.jpg\n",
      "Downloaded : 31213-odysseynestor.png\n",
      "Downloaded : 32520-madame-felix-gallois-born-nathalie-rose-joachime-bochet.jpg\n",
      "Downloaded : 30597-portrait-of-william-murray-1815.jpg\n",
      "Downloaded : 32667-ilovajsky-12-v-d-1.jpg\n",
      "Downloaded : 31249-la-odisea-luis-segal-y-estalella-page-186-crop.jpg\n",
      "Downloaded : 33238-portrait-of-princess-victoria-of-saxe-coburg-and-gotha.jpg\n",
      "Downloaded : 30945-the-judgment-of-paris-jacques-louis-david.jpg\n",
      "Downloaded : 31770-grande-arm-e-2nd-regiment-of-carabiniers-squadron-chief.jpg\n",
      "Downloaded : 31224-odysseyathena.png!Large.png\n",
      "Downloaded : 32515-luigi-calamatta.jpg\n",
      "Downloaded : 32051-unnamed.jpg\n",
      "Downloaded : 73465-the-sphinx-and-the-chimera-1921.jpg\n",
      "Downloaded : 31393-general-george-washington-resigning-his-commission-1817.jpg\n",
      "Downloaded : 32698-portrait-of-yakov-potyomkin-big.jpg\n",
      "Downloaded : 32084-vincenzo-camuccini-manio-curio-dentato-rifiuta-i-doni-dei-sanniti.jpg\n",
      "Downloaded : 31170-carlota-joaquina-by-taunay-1817.jpg\n",
      "Downloaded : 122842-not-detected-256146.jpg\n",
      "Downloaded : 32756-vsevolozhskiydawe.jpg\n",
      "Downloaded : 32457-study-for-the-golden-age.jpg\n",
      "Downloaded : 32234-vmfa-56-10-v1-kw-x-833x1024.jpg\n",
      "Downloaded : 123616-bathers-1918.jpg\n",
      "Downloaded : 32839-mezencev-2-mihail-ivanovich.jpg\n",
      "Downloaded : 31751-grande-arm-e-artillerytrain-officers-in-cloaks.jpg\n",
      "Downloaded : 32151-portrait-of-louis-du-vergier-1819.jpg\n",
      "Downloaded : 33009-0f4a0849-8e13-48f6-b43c-a0bfa3f72939.jpg\n",
      "Downloaded : 31588-male-nude-raising-his-arm.jpg\n",
      "Downloaded : 28594-portrait-of-the-artist-simon-mathurin-lantara-1729-1778.jpg\n",
      "Downloaded : 32530-madame-jean-auguste-dominique-ingres-born-madeleine-chapelle-iii.jpg\n",
      "Downloaded : 31753-grande-arm-e-carabiniers-in-cloaks.jpg\n",
      "Downloaded : 34278-a-lily-pond-1917.jpg\n",
      "Downloaded : 32824-leontyev-ivan-sergeevich.jpg\n",
      "Downloaded : 32831-macnev-mihail-nikolaevich.jpg\n",
      "Downloaded : 32026-portrait-of-a-lady-circle-of-francois-gerard.jpg\n",
      "Downloaded : 31671-jean-joseph-xavier-bidaud-il-parco-a-mortefontaine-1806-03-riflessi-cigni.jpg\n",
      "Downloaded : 32269-elijah-brush-sm-clr-wm.jpg\n",
      "Downloaded : 167680-pescatori-1935.jpg\n",
      "Downloaded : 32736-argamakov-2-ivan-andreevich.jpg\n",
      "Downloaded : 31169-1-1.jpg\n",
      "Downloaded : 123702-three-women-at-a-fountain-1921.jpg\n",
      "Downloaded : 31962-joseph-anton-koch-wasserfall-bei-tivoli.jpg\n",
      "Downloaded : 32708-portrait-of-maxim-kryzhanovsky-big.jpg\n",
      "Downloaded : 31200-nicolas-taunay-cascata-da-tijuca.jpg\n",
      "Downloaded : 31784-grande-arm-e-22nd-regiment-of-chasseurs-cheval.jpg\n",
      "Downloaded : 31679-jean-joseph-xavier-bidauld-les-montagnes-de-sabine.jpg\n",
      "Downloaded : 33632-the-virgin-with-angels-1881.jpg\n",
      "Downloaded : 34241-the-tambourine-player-1909.jpg\n",
      "Downloaded : 32606-grand-duke-nicholas-pavlovich-by-g-dawe-1821-hermitage-2.jpg\n",
      "Downloaded : 34240-the-tambourine-girl-1909.jpg\n",
      "Downloaded : 31739-grande-arm-e-light-infantry-officer-in-society-dress.jpg\n",
      "Downloaded : 31625-academic-male-nude-1.jpg\n",
      "Downloaded : 31898-transferir.png\n",
      "Downloaded : 32838-mezencev-1-vladimir-petrovich.jpg\n",
      "Downloaded : 32787-geydenrejh-ivan-grigoryevich-1.jpg\n",
      "Downloaded : 30488-portrait-of-joseph-warren.jpg\n",
      "Downloaded : 33024-the-narcissus.jpg\n",
      "Downloaded : 30888-self-portrait-1791.jpg\n",
      "Downloaded : 37398-bartolomeo-pinelli-la-morte-di-epaminonda-1812-1.jpg\n",
      "Downloaded : 30756-orpheus.jpg\n",
      "Downloaded : 31367-riverlandscape-with-mill.jpg\n",
      "Downloaded : 30953-portrait-of-the-sisters-zenaide-and-charlotte-bonaparte-jacques-louis-david.jpg\n",
      "Downloaded : 31159-landscape-with-an-aqueduct-lacma-58-47-2-b.jpg\n",
      "Downloaded : 32471-portrait-of-lord-grantham-jean-auguste-dominique-ingres.jpg\n",
      "Downloaded : 32646-benardos-panteleymon-egorovich.jpg\n",
      "Downloaded : 34220-a-melody.jpg\n",
      "Downloaded : 34337-self-portraits-harlequin-and-pierrot-with-vasiliy-shukhaev-1914.jpg\n",
      "Downloaded : 31956-joseph-anton-koch-008.jpg\n",
      "Downloaded : 30511-portrait-of-general-thomas-gage-1769.jpg\n",
      "Downloaded : 32019-baron-francois-gerard-daphnis-and-chloe.jpg\n",
      "Downloaded : 31378-italian-landscape-with-travellers.jpg\n",
      "Downloaded : 34287-contemplation-1922.jpg\n",
      "Downloaded : 30579-the-three-youngest-daughters-of-george-iii-1785.jpg\n",
      "Downloaded : 30993-pierre-henri-de-valenciennes-french-classical-landscape-with-figures-and-sculpture-google-art.jpg\n",
      "Downloaded : 32474-madame-edmond-cave-marie-elisabeth-blavot-jean-auguste-dominique-ingres.jpg\n",
      "Downloaded : 31220-odysseymorning.png!Large.png\n",
      "Downloaded : 32134-main-image.jpg\n",
      "Downloaded : 30739-christopher-nugent-1772.jpg\n",
      "Downloaded : 30477-mr-anna-dummer-powell-1764.jpg\n",
      "Downloaded : 34219-a-melody-1904.jpg\n",
      "Downloaded : 32377-portrait-of-felix-leblanc.jpg\n",
      "Downloaded : 31160-landscape-with-an-aqueduct-lacma-m-90-170.jpg\n",
      "Downloaded : 30040-agrippina-landing-at-brindisium-with-the-ashes-of-germanicus.jpg\n",
      "Downloaded : 32248-portrait-of-jane-griffith-koch-lacma-78-5-2.jpg\n",
      "Downloaded : 31712-la-walse.jpg\n",
      "Downloaded : 31358-landscape-in-winter.jpg\n",
      "Downloaded : 32576-study-for-vicomtesse-d-hausonville-born-louise-albertine-de-broglie-i.jpg\n",
      "Downloaded : 32692-alexander-i-against-the-cameron-gallery-by-g-dawe-1825-russian-museum.jpg\n",
      "Downloaded : 32307-orangery-villa-borghese.jpg\n",
      "Downloaded : 33465-birdsong.jpg\n",
      "Downloaded : 31693-jean-joseph-xavier-bidauld-wall-with-distant-smokestack.jpg\n",
      "Downloaded : 124008-café-royan-1940.jpg\n",
      "Downloaded : 186014-the-royal-couple-1950.jpg\n",
      "Downloaded : 159670-the-creation-of-adam-and-eve.jpg\n",
      "Downloaded : 158255-soldier-of-the-first-division-1914.jpg\n",
      "Downloaded : 187541-cuisini-re-1949.jpg\n",
      "Downloaded : 124075-bull-plate-x-1946.jpg\n",
      "Downloaded : 159856-nature-morte-la-pipe-1943.jpg\n",
      "Downloaded : 159550-depiction-of-apollo-1921.jpg\n",
      "Downloaded : 113121-forest-near-the-rocky-caves-above-the-chateau-noir-1904.jpg\n",
      "Downloaded : 124061-bull-plate-v-1945.jpg\n",
      "Downloaded : 159678-the-creation-of-birds-and-fishes.jpg\n",
      "Downloaded : 182245-the-bird-pierced-with-arrows.jpg\n",
      "Downloaded : 133089-josef-apek-sportovec-s-ervenou-hv-zdou-1915-1.jpg\n",
      "Downloaded : 152380-the-armchair-1951.jpg\n",
      "Downloaded : 154520-sitting-nude-1909.jpg\n",
      "Downloaded : 130207-the-enchanted-mill-1913.jpg\n",
      "Downloaded : 155252-seated-man-1914.jpg\n",
      "Downloaded : 167633-galleria-in-milan.jpg\n",
      "Downloaded : 123454-flowers-in-a-grey-jar-1908.jpg\n",
      "Downloaded : 120771-san-gimignano-1912-1.jpg\n",
      "Downloaded : 159704-cover-of-the-radio-times-christmas-number-for-1930.jpg\n",
      "Downloaded : 152371-composition-abstraite-1926.jpg\n",
      "Downloaded : 124076-bull-plate-xi-1946.jpg\n",
      "Downloaded : 183708-the-murmur-1943.jpg\n",
      "Downloaded : 157142-rainy-landscape-ii-1977.jpg\n",
      "Downloaded : 126036-composition-1925.jpg\n",
      "Downloaded : 156623-portrait-of-amedeo-modigliani-1955.jpg\n",
      "Downloaded : 208154-la-guitare.jpg\n",
      "Downloaded : 120776-siena-1912-3.jpg\n",
      "Downloaded : 169326-hills.jpg\n",
      "Downloaded : 182240-no-name-4.jpg\n",
      "Downloaded : 154689-napkin-knife-and-pore-1908.jpg\n",
      "Downloaded : 160608-figure-rose-1937.jpg\n",
      "Downloaded : 152667-un-reve-a-dream-1930.jpg\n",
      "Downloaded : 178816-abstract-composition-in-red-and-blue-i-1953.jpg\n",
      "Downloaded : 134801-woman-with-pineapple-1941.jpg\n",
      "Downloaded : 181957-the-table-still-life-with-rabbit.jpg\n",
      "Downloaded : 156531-bach-1953.jpg\n",
      "Downloaded : 124133-algerian-women-delacroix-1955.jpg\n",
      "Downloaded : 128957-hopfgarten-1920.jpg\n",
      "Downloaded : 130180-three-horses-1912.jpg\n",
      "Downloaded : 124670-cubist-composition-1913.jpg\n",
      "Downloaded : 158019-the-embarassment.jpg\n",
      "Downloaded : 135088-woman-worker-1923.jpg\n",
      "Downloaded : 136991-not-detected-13(1).jpg\n",
      "Downloaded : 152819-the-man-with-the-cane-1920.jpg\n",
      "Downloaded : 130231-the-lamb-1914.jpg\n",
      "Downloaded : 130433-lovers-the-kiss.jpg\n",
      "Downloaded : 154949-still-life-with-violin-1964.jpg\n",
      "Downloaded : 156570-nocturne-wynyard-square-1932-1.jpg\n",
      "Downloaded : 155493-clown.jpg\n",
      "Downloaded : 155254-smoking-in-the-shelter-1918.jpg\n",
      "Downloaded : 152886-the-study-for-the-city-centre-1927.jpg\n",
      "Downloaded : 124154-spring-1956.jpg\n",
      "Downloaded : 130025-castle-garden-1931(1).jpg\n",
      "Downloaded : 155925-air-man-space.jpg\n",
      "Downloaded : 133244-house-manhufe-1913.jpg\n",
      "Downloaded : 155473-fruit-with-bowl-1926.jpg\n",
      "Downloaded : 152630-nature-morte-cubiste-1914.jpg\n",
      "Downloaded : 155720-la-bouteille-de-vin-orange-1922.jpg\n",
      "Downloaded : 120856-sudak-the-valley-1917.jpg\n",
      "Downloaded : 140485-dreams-no-2-1965(1).jpg\n",
      "Downloaded : 139636-zapatista-landscape-the-guerrilla-1915.jpg\n",
      "Downloaded : 130149-monkey-frieze-1911.jpg\n",
      "Downloaded : 156658-not-identified-7.jpg\n",
      "Downloaded : 156683-edison-mazda-1924.jpg\n",
      "Downloaded : 120837-still-life-scales-1916.jpg\n",
      "Downloaded : 113118-chateau-noir-1.jpg\n",
      "Downloaded : 157310-untitled-1990(1).jpg\n",
      "Downloaded : 123419-bust-of-young-woman-from-avignon-1907.jpg\n",
      "Downloaded : 156404-11liget.jpg\n",
      "Downloaded : 153174-the-four-cyclists.jpg\n",
      "Downloaded : 135567-painters-and-model-1954.jpg\n",
      "Downloaded : 105463-head-white-and-pink.jpg\n",
      "Downloaded : 165217-a-blue-fan-1915.jpg\n",
      "Downloaded : 130085-oriental-garden-1939(1).jpg\n",
      "Downloaded : 123694-musicians-with-masks-1921.jpg\n",
      "Downloaded : 197179-figures-with-pipes-1978.jpg\n",
      "Downloaded : 154556-untitled-5.jpg\n",
      "Downloaded : 157121-tailor-iii-1936.jpg\n",
      "Downloaded : 153287-composition-iv-1916.jpg\n",
      "Downloaded : 123606-el-paseo-de-colon-1917.jpg\n",
      "Downloaded : 156491-imagegen.jpg\n",
      "Downloaded : 184375-blue-figure-in-a-chair.jpg\n",
      "Downloaded : 156647-cubist-sunflowers.jpg\n",
      "Downloaded : 156669-portrait-of-ossip-zadkine.jpg\n",
      "Downloaded : 154684-big-nude-1908.jpg\n",
      "Downloaded : 113056-bibemus-quarry-1898-1.jpg\n",
      "Downloaded : 152638-the-cardplayer-1921.jpg\n",
      "Downloaded : 130112-untitled-still-life-1940(1).jpg\n",
      "Downloaded : 155013-woman-with-a-coffee-pot-1919.jpg\n",
      "Downloaded : 133136-josef-apek-fantomas-1920.jpg\n",
      "Downloaded : 155167-portrait-of-the-artist-s-mother-1911.jpg\n",
      "Downloaded : 130712-slide-lecture-at-the-metropolitan-museum.jpg\n",
      "Downloaded : 152378-composition-1947.jpg\n",
      "Downloaded : 155755-nature-morte-v-zelay-1939.jpg\n",
      "Downloaded : 155221-nature-morte-au-chinois-1930.jpg\n",
      "Downloaded : 124673-dessert-1913.jpg\n",
      "Downloaded : 184386-image-in-khorkom.jpg\n",
      "Downloaded : 139626-portrait-of-oscar-miestchaninoff-1913.jpg\n",
      "Images are downloaded.\n",
      "\n",
      "Total failed downloads: 0\n",
      "Failed files: []\n"
     ]
    }
   ],
   "source": [
    "path = \"../raw_data/sample1000BALANCED\"\n",
    "dp.download_sample_df(df, path)"
   ]
  },
  {
   "cell_type": "markdown",
   "id": "268e301b-88da-4b36-b13c-0a718bb1f520",
   "metadata": {},
   "source": [
    "# Images importing and resizing"
   ]
  },
  {
   "cell_type": "code",
   "execution_count": null,
   "id": "c19e4535-de21-4bde-a605-ed9a5a97a2dd",
   "metadata": {
    "execution": {
     "iopub.execute_input": "2025-09-02T16:08:17.264244Z",
     "iopub.status.busy": "2025-09-02T16:08:17.263593Z",
     "iopub.status.idle": "2025-09-02T16:08:17.274388Z",
     "shell.execute_reply": "2025-09-02T16:08:17.272632Z",
     "shell.execute_reply.started": "2025-09-02T16:08:17.264188Z"
    }
   },
   "outputs": [],
   "source": [
    "def load_and_resize_images(image_dir, list_images):\n",
    "    \"\"\"\n",
    "    Charge toutes les images d'un dossier, les redimensionne en conservant le ratio\n",
    "    avec padding noir et les retourne sous forme de tableau NumPy.\n",
    "\n",
    "    Args:\n",
    "        image_dir (str): Chemin vers le dossier contenant les images.\n",
    "        target_size (tuple): Taille finale des images (largeur, hauteur).\n",
    "\n",
    "    Returns:\n",
    "        np.ndarray: Tableau de forme (n_images, hauteur, largeur, canaux)\n",
    "    \"\"\"\n",
    "    images_list = []\n",
    "    images_names = []\n",
    "\n",
    "    for filename in list_images:\n",
    "        if filename.lower().endswith(('.png', '.jpg', '.jpeg', '.bmp')):\n",
    "            images_names.append(filename)\n",
    "            img_path = os.path.join(image_dir, filename)\n",
    "            img = Image.open(img_path).convert('RGB')\n",
    "\n",
    "            img_resized = img.resize((128, 128), Image.BICUBIC)\n",
    "\n",
    "            # convert into an array and add to list\n",
    "            img_array = np.array(img_resized)\n",
    "            images_list.append(img_array)\n",
    "\n",
    "    # Convertir la liste en tableau NumPy\n",
    "    images_np = np.stack(images_list)\n",
    "    return images_np, images_names"
   ]
  },
  {
   "cell_type": "code",
   "execution_count": 37,
   "id": "00d0b0fc-791d-4232-bc85-9143b239b02e",
   "metadata": {
    "execution": {
     "iopub.execute_input": "2025-09-02T16:08:47.377725Z",
     "iopub.status.busy": "2025-09-02T16:08:47.377276Z",
     "iopub.status.idle": "2025-09-02T16:08:52.488481Z",
     "shell.execute_reply": "2025-09-02T16:08:52.486734Z",
     "shell.execute_reply.started": "2025-09-02T16:08:47.377688Z"
    }
   },
   "outputs": [],
   "source": [
    "image_dir = \"../raw_data/sample1000BALANCED\"\n",
    "images_np, images_names = load_and_resize_images(image_dir, list_images)"
   ]
  },
  {
   "cell_type": "markdown",
   "id": "bfda1e62-69e8-4345-affe-02bba616e2d1",
   "metadata": {},
   "source": [
    "Test on images : "
   ]
  },
  {
   "cell_type": "code",
   "execution_count": 38,
   "id": "c29b593a-faa0-46cf-9c01-c45641f4aed9",
   "metadata": {
    "execution": {
     "iopub.execute_input": "2025-09-02T16:08:52.492408Z",
     "iopub.status.busy": "2025-09-02T16:08:52.491673Z",
     "iopub.status.idle": "2025-09-02T16:08:52.790752Z",
     "shell.execute_reply": "2025-09-02T16:08:52.789400Z",
     "shell.execute_reply.started": "2025-09-02T16:08:52.492375Z"
    }
   },
   "outputs": [
    {
     "data": {
      "text/plain": [
       "<matplotlib.image.AxesImage at 0x7d1c5c56ef80>"
      ]
     },
     "execution_count": 38,
     "metadata": {},
     "output_type": "execute_result"
    },
    {
     "data": {
      "image/png": "[encoded data removed]",
      "text/plain": [
       "<Figure size 640x480 with 1 Axes>"
      ]
     },
     "metadata": {},
     "output_type": "display_data"
    }
   ],
   "source": [
    "plt.imshow(images_np[0])"
   ]
  },
  {
   "cell_type": "code",
   "execution_count": 39,
   "id": "0c1c0a0f-fd97-428b-9461-c45e3973b589",
   "metadata": {
    "execution": {
     "iopub.execute_input": "2025-09-02T16:08:56.653857Z",
     "iopub.status.busy": "2025-09-02T16:08:56.652935Z",
     "iopub.status.idle": "2025-09-02T16:08:56.668059Z",
     "shell.execute_reply": "2025-09-02T16:08:56.665644Z",
     "shell.execute_reply.started": "2025-09-02T16:08:56.653781Z"
    }
   },
   "outputs": [
    {
     "data": {
      "text/plain": [
       "1000"
      ]
     },
     "execution_count": 39,
     "metadata": {},
     "output_type": "execute_result"
    }
   ],
   "source": [
    "len(images_names)"
   ]
  },
  {
   "cell_type": "markdown",
   "id": "f77e80a3-6bd6-47a4-b0c0-25562f06d062",
   "metadata": {},
   "source": [
    "# Define X and Y"
   ]
  },
  {
   "cell_type": "code",
   "execution_count": 40,
   "id": "3270475e-5abe-4703-a415-7f233a1ac592",
   "metadata": {
    "execution": {
     "iopub.execute_input": "2025-09-02T16:08:58.131741Z",
     "iopub.status.busy": "2025-09-02T16:08:58.131079Z",
     "iopub.status.idle": "2025-09-02T16:08:58.357757Z",
     "shell.execute_reply": "2025-09-02T16:08:58.356681Z",
     "shell.execute_reply.started": "2025-09-02T16:08:58.131692Z"
    }
   },
   "outputs": [],
   "source": [
    "X =  np.array(images_np, dtype='float32') / 255.0"
   ]
  },
  {
   "cell_type": "code",
   "execution_count": 41,
   "id": "d09c1a77-f369-4212-8ba6-87c3aea6ec77",
   "metadata": {
    "execution": {
     "iopub.execute_input": "2025-09-02T16:08:58.663638Z",
     "iopub.status.busy": "2025-09-02T16:08:58.663337Z",
     "iopub.status.idle": "2025-09-02T16:08:58.668369Z",
     "shell.execute_reply": "2025-09-02T16:08:58.667256Z",
     "shell.execute_reply.started": "2025-09-02T16:08:58.663615Z"
    }
   },
   "outputs": [],
   "source": [
    "y = df['style']"
   ]
  },
  {
   "cell_type": "markdown",
   "id": "76449657-e3a2-4d84-8da2-d7f06ec4a72a",
   "metadata": {},
   "source": [
    "# Train/test split"
   ]
  },
  {
   "cell_type": "code",
   "execution_count": 42,
   "id": "196ecc94-07b9-4d3c-bd50-4b1a2a39125e",
   "metadata": {
    "execution": {
     "iopub.execute_input": "2025-09-02T16:08:59.495997Z",
     "iopub.status.busy": "2025-09-02T16:08:59.495420Z",
     "iopub.status.idle": "2025-09-02T16:08:59.572116Z",
     "shell.execute_reply": "2025-09-02T16:08:59.570738Z",
     "shell.execute_reply.started": "2025-09-02T16:08:59.495948Z"
    }
   },
   "outputs": [],
   "source": [
    "X_train, X_test, y_train, y_test = train_test_split(\n",
    "    X, y,\n",
    "    test_size=0.3,\n",
    "    random_state=42,\n",
    "    stratify=y\n",
    ")"
   ]
  },
  {
   "cell_type": "code",
   "execution_count": 43,
   "id": "c6ebabfc-26ae-48d3-94b9-a17efb880411",
   "metadata": {
    "execution": {
     "iopub.execute_input": "2025-09-02T16:09:11.749767Z",
     "iopub.status.busy": "2025-09-02T16:09:11.749321Z",
     "iopub.status.idle": "2025-09-02T16:09:11.859810Z",
     "shell.execute_reply": "2025-09-02T16:09:11.858794Z",
     "shell.execute_reply.started": "2025-09-02T16:09:11.749732Z"
    }
   },
   "outputs": [],
   "source": [
    "### Normalizing pixels' intensities\n",
    "X_train = X_train\n",
    "X_test = X_test"
   ]
  },
  {
   "cell_type": "code",
   "execution_count": 44,
   "id": "e4871106-3c5c-4c09-a332-5da82e044992",
   "metadata": {
    "execution": {
     "iopub.execute_input": "2025-09-02T16:09:11.896903Z",
     "iopub.status.busy": "2025-09-02T16:09:11.896519Z",
     "iopub.status.idle": "2025-09-02T16:09:11.903731Z",
     "shell.execute_reply": "2025-09-02T16:09:11.901758Z",
     "shell.execute_reply.started": "2025-09-02T16:09:11.896869Z"
    }
   },
   "outputs": [],
   "source": [
    "le = LabelEncoder()\n",
    "y_train_encoded = le.fit_transform(y_train)\n",
    "y_test_encoded = le.transform(y_test)"
   ]
  },
  {
   "cell_type": "code",
   "execution_count": 45,
   "id": "753bd550-6b87-428a-a244-b91e67237c64",
   "metadata": {
    "execution": {
     "iopub.execute_input": "2025-09-02T16:09:12.263331Z",
     "iopub.status.busy": "2025-09-02T16:09:12.262660Z",
     "iopub.status.idle": "2025-09-02T16:09:12.273497Z",
     "shell.execute_reply": "2025-09-02T16:09:12.271473Z",
     "shell.execute_reply.started": "2025-09-02T16:09:12.263287Z"
    }
   },
   "outputs": [],
   "source": [
    "### Encoding the labels\n",
    "y_train_cat = to_categorical(y_train_encoded, 10).astype('float32')\n",
    "y_test_cat = to_categorical(y_test_encoded, 10).astype('float32')"
   ]
  },
  {
   "cell_type": "markdown",
   "id": "fc115cf4-3778-4298-a413-b63529290087",
   "metadata": {
    "execution": {
     "iopub.execute_input": "2025-09-02T13:20:10.815483Z",
     "iopub.status.busy": "2025-09-02T13:20:10.814841Z",
     "iopub.status.idle": "2025-09-02T13:20:10.822189Z",
     "shell.execute_reply": "2025-09-02T13:20:10.819368Z",
     "shell.execute_reply.started": "2025-09-02T13:20:10.815426Z"
    }
   },
   "source": [
    "# Initialize a model1"
   ]
  },
  {
   "cell_type": "code",
   "execution_count": 46,
   "id": "7f38c068-89f5-436f-9560-3036b2758d3d",
   "metadata": {
    "execution": {
     "iopub.execute_input": "2025-09-02T16:10:00.440035Z",
     "iopub.status.busy": "2025-09-02T16:10:00.439264Z",
     "iopub.status.idle": "2025-09-02T16:10:00.452060Z",
     "shell.execute_reply": "2025-09-02T16:10:00.450696Z",
     "shell.execute_reply.started": "2025-09-02T16:10:00.439983Z"
    }
   },
   "outputs": [],
   "source": [
    "def initialize_model(nb_styles):\n",
    "    '''instanciate and return the CNN architecture of your choice with less than 150,000 params'''\n",
    "    model = Sequential()\n",
    "    model.add(Input(shape=(128, 128, 3)))\n",
    "\n",
    "    model.add(layers.Conv2D(32, (3,3), padding='same', activation='relu'))\n",
    "    model.add(layers.BatchNormalization())  # normalisation pour stabiliser l'apprentissage\n",
    "    model.add(layers.MaxPooling2D((2,2)))\n",
    "    model.add(layers.Dropout(0.25))\n",
    "\n",
    "     # Bloc 2\n",
    "    model.add(layers.Conv2D(64, (3,3), padding='same', activation='relu'))\n",
    "    model.add(layers.BatchNormalization())\n",
    "    model.add(layers.MaxPooling2D((2,2)))\n",
    "    model.add(layers.Dropout(0.25))\n",
    "\n",
    "     # Bloc 3\n",
    "    model.add(layers.Conv2D(128, (3,3), padding='same', activation='relu'))\n",
    "    model.add(layers.BatchNormalization())\n",
    "    model.add(layers.MaxPooling2D((2,2)))\n",
    "    model.add(layers.Dropout(0.25))\n",
    "\n",
    "    model.add(layers.Flatten())\n",
    "    model.add(layers.Dense(256, activation='relu'))\n",
    "    model.add(layers.BatchNormalization())\n",
    "    model.add(layers.Dropout(0.5))\n",
    "\n",
    "    ### Last layer - Classification Layer with 10 outputs corresponding to 10 digits\n",
    "    model.add(layers.Dense(nb_styles, activation='softmax'))\n",
    "\n",
    "    return model"
   ]
  },
  {
   "cell_type": "code",
   "execution_count": 47,
   "id": "af63b0a4-2eae-4e61-8b43-f4e0ca2d24cb",
   "metadata": {
    "execution": {
     "iopub.execute_input": "2025-09-02T16:10:00.678302Z",
     "iopub.status.busy": "2025-09-02T16:10:00.677575Z",
     "iopub.status.idle": "2025-09-02T16:10:00.688009Z",
     "shell.execute_reply": "2025-09-02T16:10:00.685722Z",
     "shell.execute_reply.started": "2025-09-02T16:10:00.678241Z"
    }
   },
   "outputs": [],
   "source": [
    "def compile_model(model):\n",
    "    '''return a compiled model suited for the CIFAR-10 task'''\n",
    "    model.compile(loss='categorical_crossentropy',\n",
    "              optimizer='adam',\n",
    "              metrics=['accuracy'])\n",
    "    return model"
   ]
  },
  {
   "cell_type": "code",
   "execution_count": 48,
   "id": "f225d213-dfde-4a41-aa01-dc67f5f9628f",
   "metadata": {
    "execution": {
     "iopub.execute_input": "2025-09-02T16:10:01.091606Z",
     "iopub.status.busy": "2025-09-02T16:10:01.090754Z",
     "iopub.status.idle": "2025-09-02T16:10:01.646435Z",
     "shell.execute_reply": "2025-09-02T16:10:01.645033Z",
     "shell.execute_reply.started": "2025-09-02T16:10:01.091545Z"
    }
   },
   "outputs": [],
   "source": [
    "model = compile_model(initialize_model(nb_styles))"
   ]
  },
  {
   "cell_type": "code",
   "execution_count": 49,
   "id": "a7d3f829-f966-45ee-a9d8-295f5a49a255",
   "metadata": {
    "execution": {
     "iopub.execute_input": "2025-09-02T16:10:01.712652Z",
     "iopub.status.busy": "2025-09-02T16:10:01.712252Z",
     "iopub.status.idle": "2025-09-02T16:10:01.756342Z",
     "shell.execute_reply": "2025-09-02T16:10:01.755231Z",
     "shell.execute_reply.started": "2025-09-02T16:10:01.712624Z"
    }
   },
   "outputs": [
    {
     "data": {
      "text/html": [
       "<pre style=\"white-space:pre;overflow-x:auto;line-height:normal;font-family:Menlo,'DejaVu Sans Mono',consolas,'Courier New',monospace\"><span style=\"font-weight: bold\">Model: \"sequential_1\"</span>\n",
       "</pre>\n"
      ],
      "text/plain": [
       "\u001b[1mModel: \"sequential_1\"\u001b[0m\n"
      ]
     },
     "metadata": {},
     "output_type": "display_data"
    },
    {
     "data": {
      "text/html": [
       "<pre style=\"white-space:pre;overflow-x:auto;line-height:normal;font-family:Menlo,'DejaVu Sans Mono',consolas,'Courier New',monospace\">┏━━━━━━━━━━━━━━━━━━━━━━━━━━━━━━━━━┳━━━━━━━━━━━━━━━━━━━━━━━━┳━━━━━━━━━━━━━━━┓\n",
       "┃<span style=\"font-weight: bold\"> Layer (type)                    </span>┃<span style=\"font-weight: bold\"> Output Shape           </span>┃<span style=\"font-weight: bold\">       Param # </span>┃\n",
       "┡━━━━━━━━━━━━━━━━━━━━━━━━━━━━━━━━━╇━━━━━━━━━━━━━━━━━━━━━━━━╇━━━━━━━━━━━━━━━┩\n",
       "│ conv2d_3 (<span style=\"color: #0087ff; text-decoration-color: #0087ff\">Conv2D</span>)               │ (<span style=\"color: #00d7ff; text-decoration-color: #00d7ff\">None</span>, <span style=\"color: #00af00; text-decoration-color: #00af00\">128</span>, <span style=\"color: #00af00; text-decoration-color: #00af00\">128</span>, <span style=\"color: #00af00; text-decoration-color: #00af00\">32</span>)   │           <span style=\"color: #00af00; text-decoration-color: #00af00\">896</span> │\n",
       "├─────────────────────────────────┼────────────────────────┼───────────────┤\n",
       "│ batch_normalization_4           │ (<span style=\"color: #00d7ff; text-decoration-color: #00d7ff\">None</span>, <span style=\"color: #00af00; text-decoration-color: #00af00\">128</span>, <span style=\"color: #00af00; text-decoration-color: #00af00\">128</span>, <span style=\"color: #00af00; text-decoration-color: #00af00\">32</span>)   │           <span style=\"color: #00af00; text-decoration-color: #00af00\">128</span> │\n",
       "│ (<span style=\"color: #0087ff; text-decoration-color: #0087ff\">BatchNormalization</span>)            │                        │               │\n",
       "├─────────────────────────────────┼────────────────────────┼───────────────┤\n",
       "│ max_pooling2d_3 (<span style=\"color: #0087ff; text-decoration-color: #0087ff\">MaxPooling2D</span>)  │ (<span style=\"color: #00d7ff; text-decoration-color: #00d7ff\">None</span>, <span style=\"color: #00af00; text-decoration-color: #00af00\">64</span>, <span style=\"color: #00af00; text-decoration-color: #00af00\">64</span>, <span style=\"color: #00af00; text-decoration-color: #00af00\">32</span>)     │             <span style=\"color: #00af00; text-decoration-color: #00af00\">0</span> │\n",
       "├─────────────────────────────────┼────────────────────────┼───────────────┤\n",
       "│ dropout_4 (<span style=\"color: #0087ff; text-decoration-color: #0087ff\">Dropout</span>)             │ (<span style=\"color: #00d7ff; text-decoration-color: #00d7ff\">None</span>, <span style=\"color: #00af00; text-decoration-color: #00af00\">64</span>, <span style=\"color: #00af00; text-decoration-color: #00af00\">64</span>, <span style=\"color: #00af00; text-decoration-color: #00af00\">32</span>)     │             <span style=\"color: #00af00; text-decoration-color: #00af00\">0</span> │\n",
       "├─────────────────────────────────┼────────────────────────┼───────────────┤\n",
       "│ conv2d_4 (<span style=\"color: #0087ff; text-decoration-color: #0087ff\">Conv2D</span>)               │ (<span style=\"color: #00d7ff; text-decoration-color: #00d7ff\">None</span>, <span style=\"color: #00af00; text-decoration-color: #00af00\">64</span>, <span style=\"color: #00af00; text-decoration-color: #00af00\">64</span>, <span style=\"color: #00af00; text-decoration-color: #00af00\">64</span>)     │        <span style=\"color: #00af00; text-decoration-color: #00af00\">18,496</span> │\n",
       "├─────────────────────────────────┼────────────────────────┼───────────────┤\n",
       "│ batch_normalization_5           │ (<span style=\"color: #00d7ff; text-decoration-color: #00d7ff\">None</span>, <span style=\"color: #00af00; text-decoration-color: #00af00\">64</span>, <span style=\"color: #00af00; text-decoration-color: #00af00\">64</span>, <span style=\"color: #00af00; text-decoration-color: #00af00\">64</span>)     │           <span style=\"color: #00af00; text-decoration-color: #00af00\">256</span> │\n",
       "│ (<span style=\"color: #0087ff; text-decoration-color: #0087ff\">BatchNormalization</span>)            │                        │               │\n",
       "├─────────────────────────────────┼────────────────────────┼───────────────┤\n",
       "│ max_pooling2d_4 (<span style=\"color: #0087ff; text-decoration-color: #0087ff\">MaxPooling2D</span>)  │ (<span style=\"color: #00d7ff; text-decoration-color: #00d7ff\">None</span>, <span style=\"color: #00af00; text-decoration-color: #00af00\">32</span>, <span style=\"color: #00af00; text-decoration-color: #00af00\">32</span>, <span style=\"color: #00af00; text-decoration-color: #00af00\">64</span>)     │             <span style=\"color: #00af00; text-decoration-color: #00af00\">0</span> │\n",
       "├─────────────────────────────────┼────────────────────────┼───────────────┤\n",
       "│ dropout_5 (<span style=\"color: #0087ff; text-decoration-color: #0087ff\">Dropout</span>)             │ (<span style=\"color: #00d7ff; text-decoration-color: #00d7ff\">None</span>, <span style=\"color: #00af00; text-decoration-color: #00af00\">32</span>, <span style=\"color: #00af00; text-decoration-color: #00af00\">32</span>, <span style=\"color: #00af00; text-decoration-color: #00af00\">64</span>)     │             <span style=\"color: #00af00; text-decoration-color: #00af00\">0</span> │\n",
       "├─────────────────────────────────┼────────────────────────┼───────────────┤\n",
       "│ conv2d_5 (<span style=\"color: #0087ff; text-decoration-color: #0087ff\">Conv2D</span>)               │ (<span style=\"color: #00d7ff; text-decoration-color: #00d7ff\">None</span>, <span style=\"color: #00af00; text-decoration-color: #00af00\">32</span>, <span style=\"color: #00af00; text-decoration-color: #00af00\">32</span>, <span style=\"color: #00af00; text-decoration-color: #00af00\">128</span>)    │        <span style=\"color: #00af00; text-decoration-color: #00af00\">73,856</span> │\n",
       "├─────────────────────────────────┼────────────────────────┼───────────────┤\n",
       "│ batch_normalization_6           │ (<span style=\"color: #00d7ff; text-decoration-color: #00d7ff\">None</span>, <span style=\"color: #00af00; text-decoration-color: #00af00\">32</span>, <span style=\"color: #00af00; text-decoration-color: #00af00\">32</span>, <span style=\"color: #00af00; text-decoration-color: #00af00\">128</span>)    │           <span style=\"color: #00af00; text-decoration-color: #00af00\">512</span> │\n",
       "│ (<span style=\"color: #0087ff; text-decoration-color: #0087ff\">BatchNormalization</span>)            │                        │               │\n",
       "├─────────────────────────────────┼────────────────────────┼───────────────┤\n",
       "│ max_pooling2d_5 (<span style=\"color: #0087ff; text-decoration-color: #0087ff\">MaxPooling2D</span>)  │ (<span style=\"color: #00d7ff; text-decoration-color: #00d7ff\">None</span>, <span style=\"color: #00af00; text-decoration-color: #00af00\">16</span>, <span style=\"color: #00af00; text-decoration-color: #00af00\">16</span>, <span style=\"color: #00af00; text-decoration-color: #00af00\">128</span>)    │             <span style=\"color: #00af00; text-decoration-color: #00af00\">0</span> │\n",
       "├─────────────────────────────────┼────────────────────────┼───────────────┤\n",
       "│ dropout_6 (<span style=\"color: #0087ff; text-decoration-color: #0087ff\">Dropout</span>)             │ (<span style=\"color: #00d7ff; text-decoration-color: #00d7ff\">None</span>, <span style=\"color: #00af00; text-decoration-color: #00af00\">16</span>, <span style=\"color: #00af00; text-decoration-color: #00af00\">16</span>, <span style=\"color: #00af00; text-decoration-color: #00af00\">128</span>)    │             <span style=\"color: #00af00; text-decoration-color: #00af00\">0</span> │\n",
       "├─────────────────────────────────┼────────────────────────┼───────────────┤\n",
       "│ flatten_1 (<span style=\"color: #0087ff; text-decoration-color: #0087ff\">Flatten</span>)             │ (<span style=\"color: #00d7ff; text-decoration-color: #00d7ff\">None</span>, <span style=\"color: #00af00; text-decoration-color: #00af00\">32768</span>)          │             <span style=\"color: #00af00; text-decoration-color: #00af00\">0</span> │\n",
       "├─────────────────────────────────┼────────────────────────┼───────────────┤\n",
       "│ dense_2 (<span style=\"color: #0087ff; text-decoration-color: #0087ff\">Dense</span>)                 │ (<span style=\"color: #00d7ff; text-decoration-color: #00d7ff\">None</span>, <span style=\"color: #00af00; text-decoration-color: #00af00\">256</span>)            │     <span style=\"color: #00af00; text-decoration-color: #00af00\">8,388,864</span> │\n",
       "├─────────────────────────────────┼────────────────────────┼───────────────┤\n",
       "│ batch_normalization_7           │ (<span style=\"color: #00d7ff; text-decoration-color: #00d7ff\">None</span>, <span style=\"color: #00af00; text-decoration-color: #00af00\">256</span>)            │         <span style=\"color: #00af00; text-decoration-color: #00af00\">1,024</span> │\n",
       "│ (<span style=\"color: #0087ff; text-decoration-color: #0087ff\">BatchNormalization</span>)            │                        │               │\n",
       "├─────────────────────────────────┼────────────────────────┼───────────────┤\n",
       "│ dropout_7 (<span style=\"color: #0087ff; text-decoration-color: #0087ff\">Dropout</span>)             │ (<span style=\"color: #00d7ff; text-decoration-color: #00d7ff\">None</span>, <span style=\"color: #00af00; text-decoration-color: #00af00\">256</span>)            │             <span style=\"color: #00af00; text-decoration-color: #00af00\">0</span> │\n",
       "├─────────────────────────────────┼────────────────────────┼───────────────┤\n",
       "│ dense_3 (<span style=\"color: #0087ff; text-decoration-color: #0087ff\">Dense</span>)                 │ (<span style=\"color: #00d7ff; text-decoration-color: #00d7ff\">None</span>, <span style=\"color: #00af00; text-decoration-color: #00af00\">10</span>)             │         <span style=\"color: #00af00; text-decoration-color: #00af00\">2,570</span> │\n",
       "└─────────────────────────────────┴────────────────────────┴───────────────┘\n",
       "</pre>\n"
      ],
      "text/plain": [
       "┏━━━━━━━━━━━━━━━━━━━━━━━━━━━━━━━━━┳━━━━━━━━━━━━━━━━━━━━━━━━┳━━━━━━━━━━━━━━━┓\n",
       "┃\u001b[1m \u001b[0m\u001b[1mLayer (type)                   \u001b[0m\u001b[1m \u001b[0m┃\u001b[1m \u001b[0m\u001b[1mOutput Shape          \u001b[0m\u001b[1m \u001b[0m┃\u001b[1m \u001b[0m\u001b[1m      Param #\u001b[0m\u001b[1m \u001b[0m┃\n",
       "┡━━━━━━━━━━━━━━━━━━━━━━━━━━━━━━━━━╇━━━━━━━━━━━━━━━━━━━━━━━━╇━━━━━━━━━━━━━━━┩\n",
       "│ conv2d_3 (\u001b[38;5;33mConv2D\u001b[0m)               │ (\u001b[38;5;45mNone\u001b[0m, \u001b[38;5;34m128\u001b[0m, \u001b[38;5;34m128\u001b[0m, \u001b[38;5;34m32\u001b[0m)   │           \u001b[38;5;34m896\u001b[0m │\n",
       "├─────────────────────────────────┼────────────────────────┼───────────────┤\n",
       "│ batch_normalization_4           │ (\u001b[38;5;45mNone\u001b[0m, \u001b[38;5;34m128\u001b[0m, \u001b[38;5;34m128\u001b[0m, \u001b[38;5;34m32\u001b[0m)   │           \u001b[38;5;34m128\u001b[0m │\n",
       "│ (\u001b[38;5;33mBatchNormalization\u001b[0m)            │                        │               │\n",
       "├─────────────────────────────────┼────────────────────────┼───────────────┤\n",
       "│ max_pooling2d_3 (\u001b[38;5;33mMaxPooling2D\u001b[0m)  │ (\u001b[38;5;45mNone\u001b[0m, \u001b[38;5;34m64\u001b[0m, \u001b[38;5;34m64\u001b[0m, \u001b[38;5;34m32\u001b[0m)     │             \u001b[38;5;34m0\u001b[0m │\n",
       "├─────────────────────────────────┼────────────────────────┼───────────────┤\n",
       "│ dropout_4 (\u001b[38;5;33mDropout\u001b[0m)             │ (\u001b[38;5;45mNone\u001b[0m, \u001b[38;5;34m64\u001b[0m, \u001b[38;5;34m64\u001b[0m, \u001b[38;5;34m32\u001b[0m)     │             \u001b[38;5;34m0\u001b[0m │\n",
       "├─────────────────────────────────┼────────────────────────┼───────────────┤\n",
       "│ conv2d_4 (\u001b[38;5;33mConv2D\u001b[0m)               │ (\u001b[38;5;45mNone\u001b[0m, \u001b[38;5;34m64\u001b[0m, \u001b[38;5;34m64\u001b[0m, \u001b[38;5;34m64\u001b[0m)     │        \u001b[38;5;34m18,496\u001b[0m │\n",
       "├─────────────────────────────────┼────────────────────────┼───────────────┤\n",
       "│ batch_normalization_5           │ (\u001b[38;5;45mNone\u001b[0m, \u001b[38;5;34m64\u001b[0m, \u001b[38;5;34m64\u001b[0m, \u001b[38;5;34m64\u001b[0m)     │           \u001b[38;5;34m256\u001b[0m │\n",
       "│ (\u001b[38;5;33mBatchNormalization\u001b[0m)            │                        │               │\n",
       "├─────────────────────────────────┼────────────────────────┼───────────────┤\n",
       "│ max_pooling2d_4 (\u001b[38;5;33mMaxPooling2D\u001b[0m)  │ (\u001b[38;5;45mNone\u001b[0m, \u001b[38;5;34m32\u001b[0m, \u001b[38;5;34m32\u001b[0m, \u001b[38;5;34m64\u001b[0m)     │             \u001b[38;5;34m0\u001b[0m │\n",
       "├─────────────────────────────────┼────────────────────────┼───────────────┤\n",
       "│ dropout_5 (\u001b[38;5;33mDropout\u001b[0m)             │ (\u001b[38;5;45mNone\u001b[0m, \u001b[38;5;34m32\u001b[0m, \u001b[38;5;34m32\u001b[0m, \u001b[38;5;34m64\u001b[0m)     │             \u001b[38;5;34m0\u001b[0m │\n",
       "├─────────────────────────────────┼────────────────────────┼───────────────┤\n",
       "│ conv2d_5 (\u001b[38;5;33mConv2D\u001b[0m)               │ (\u001b[38;5;45mNone\u001b[0m, \u001b[38;5;34m32\u001b[0m, \u001b[38;5;34m32\u001b[0m, \u001b[38;5;34m128\u001b[0m)    │        \u001b[38;5;34m73,856\u001b[0m │\n",
       "├─────────────────────────────────┼────────────────────────┼───────────────┤\n",
       "│ batch_normalization_6           │ (\u001b[38;5;45mNone\u001b[0m, \u001b[38;5;34m32\u001b[0m, \u001b[38;5;34m32\u001b[0m, \u001b[38;5;34m128\u001b[0m)    │           \u001b[38;5;34m512\u001b[0m │\n",
       "│ (\u001b[38;5;33mBatchNormalization\u001b[0m)            │                        │               │\n",
       "├─────────────────────────────────┼────────────────────────┼───────────────┤\n",
       "│ max_pooling2d_5 (\u001b[38;5;33mMaxPooling2D\u001b[0m)  │ (\u001b[38;5;45mNone\u001b[0m, \u001b[38;5;34m16\u001b[0m, \u001b[38;5;34m16\u001b[0m, \u001b[38;5;34m128\u001b[0m)    │             \u001b[38;5;34m0\u001b[0m │\n",
       "├─────────────────────────────────┼────────────────────────┼───────────────┤\n",
       "│ dropout_6 (\u001b[38;5;33mDropout\u001b[0m)             │ (\u001b[38;5;45mNone\u001b[0m, \u001b[38;5;34m16\u001b[0m, \u001b[38;5;34m16\u001b[0m, \u001b[38;5;34m128\u001b[0m)    │             \u001b[38;5;34m0\u001b[0m │\n",
       "├─────────────────────────────────┼────────────────────────┼───────────────┤\n",
       "│ flatten_1 (\u001b[38;5;33mFlatten\u001b[0m)             │ (\u001b[38;5;45mNone\u001b[0m, \u001b[38;5;34m32768\u001b[0m)          │             \u001b[38;5;34m0\u001b[0m │\n",
       "├─────────────────────────────────┼────────────────────────┼───────────────┤\n",
       "│ dense_2 (\u001b[38;5;33mDense\u001b[0m)                 │ (\u001b[38;5;45mNone\u001b[0m, \u001b[38;5;34m256\u001b[0m)            │     \u001b[38;5;34m8,388,864\u001b[0m │\n",
       "├─────────────────────────────────┼────────────────────────┼───────────────┤\n",
       "│ batch_normalization_7           │ (\u001b[38;5;45mNone\u001b[0m, \u001b[38;5;34m256\u001b[0m)            │         \u001b[38;5;34m1,024\u001b[0m │\n",
       "│ (\u001b[38;5;33mBatchNormalization\u001b[0m)            │                        │               │\n",
       "├─────────────────────────────────┼────────────────────────┼───────────────┤\n",
       "│ dropout_7 (\u001b[38;5;33mDropout\u001b[0m)             │ (\u001b[38;5;45mNone\u001b[0m, \u001b[38;5;34m256\u001b[0m)            │             \u001b[38;5;34m0\u001b[0m │\n",
       "├─────────────────────────────────┼────────────────────────┼───────────────┤\n",
       "│ dense_3 (\u001b[38;5;33mDense\u001b[0m)                 │ (\u001b[38;5;45mNone\u001b[0m, \u001b[38;5;34m10\u001b[0m)             │         \u001b[38;5;34m2,570\u001b[0m │\n",
       "└─────────────────────────────────┴────────────────────────┴───────────────┘\n"
      ]
     },
     "metadata": {},
     "output_type": "display_data"
    },
    {
     "data": {
      "text/html": [
       "<pre style=\"white-space:pre;overflow-x:auto;line-height:normal;font-family:Menlo,'DejaVu Sans Mono',consolas,'Courier New',monospace\"><span style=\"font-weight: bold\"> Total params: </span><span style=\"color: #00af00; text-decoration-color: #00af00\">8,486,602</span> (32.37 MB)\n",
       "</pre>\n"
      ],
      "text/plain": [
       "\u001b[1m Total params: \u001b[0m\u001b[38;5;34m8,486,602\u001b[0m (32.37 MB)\n"
      ]
     },
     "metadata": {},
     "output_type": "display_data"
    },
    {
     "data": {
      "text/html": [
       "<pre style=\"white-space:pre;overflow-x:auto;line-height:normal;font-family:Menlo,'DejaVu Sans Mono',consolas,'Courier New',monospace\"><span style=\"font-weight: bold\"> Trainable params: </span><span style=\"color: #00af00; text-decoration-color: #00af00\">8,485,642</span> (32.37 MB)\n",
       "</pre>\n"
      ],
      "text/plain": [
       "\u001b[1m Trainable params: \u001b[0m\u001b[38;5;34m8,485,642\u001b[0m (32.37 MB)\n"
      ]
     },
     "metadata": {},
     "output_type": "display_data"
    },
    {
     "data": {
      "text/html": [
       "<pre style=\"white-space:pre;overflow-x:auto;line-height:normal;font-family:Menlo,'DejaVu Sans Mono',consolas,'Courier New',monospace\"><span style=\"font-weight: bold\"> Non-trainable params: </span><span style=\"color: #00af00; text-decoration-color: #00af00\">960</span> (3.75 KB)\n",
       "</pre>\n"
      ],
      "text/plain": [
       "\u001b[1m Non-trainable params: \u001b[0m\u001b[38;5;34m960\u001b[0m (3.75 KB)\n"
      ]
     },
     "metadata": {},
     "output_type": "display_data"
    }
   ],
   "source": [
    "model.summary()"
   ]
  },
  {
   "cell_type": "markdown",
   "id": "19d6d704-17d9-4220-95ea-5d0a78a669be",
   "metadata": {},
   "source": [
    "# Train the model1"
   ]
  },
  {
   "cell_type": "code",
   "execution_count": 50,
   "id": "ee8df4d6-9934-40b5-8358-72cb5b5ffe1d",
   "metadata": {
    "execution": {
     "iopub.execute_input": "2025-09-02T16:10:02.810165Z",
     "iopub.status.busy": "2025-09-02T16:10:02.809748Z",
     "iopub.status.idle": "2025-09-02T16:10:02.819392Z",
     "shell.execute_reply": "2025-09-02T16:10:02.817596Z",
     "shell.execute_reply.started": "2025-09-02T16:10:02.810136Z"
    }
   },
   "outputs": [],
   "source": [
    "def plot_history(history, title='', axs=None, exp_name=\"\"):\n",
    "    if axs is not None:\n",
    "        ax1, ax2 = axs\n",
    "    else:\n",
    "        f, (ax1, ax2) = plt.subplots(1, 2, figsize=(12, 4))\n",
    "\n",
    "    if len(exp_name) > 0 and exp_name[0] != '_':\n",
    "        exp_name = '_' + exp_name\n",
    "    ax1.plot(history.history['loss'], label = 'train' + exp_name)\n",
    "    ax1.plot(history.history['val_loss'], label = 'val' + exp_name)\n",
    "    ax1.set_ylim(0., 2.2)\n",
    "    ax1.set_title('loss')\n",
    "    ax1.legend()\n",
    "\n",
    "    ax2.plot(history.history['accuracy'], label='train accuracy'  + exp_name)\n",
    "    ax2.plot(history.history['val_accuracy'], label='val accuracy'  + exp_name)\n",
    "    ax2.set_ylim(0.25, 1.)\n",
    "    ax2.set_title('Accuracy')\n",
    "    ax2.legend()\n",
    "    return (ax1, ax2)"
   ]
  },
  {
   "cell_type": "code",
   "execution_count": 51,
   "id": "9b56d46e-e30d-49e5-9d41-95ad8cda21bd",
   "metadata": {
    "execution": {
     "iopub.execute_input": "2025-09-02T16:10:03.699816Z",
     "iopub.status.busy": "2025-09-02T16:10:03.699229Z",
     "iopub.status.idle": "2025-09-02T16:11:57.651166Z",
     "shell.execute_reply": "2025-09-02T16:11:57.648566Z",
     "shell.execute_reply.started": "2025-09-02T16:10:03.699767Z"
    }
   },
   "outputs": [
    {
     "name": "stdout",
     "output_type": "stream",
     "text": [
      "Epoch 1/25\n",
      "\u001b[1m18/18\u001b[0m \u001b[32m━━━━━━━━━━━━━━━━━━━━\u001b[0m\u001b[37m\u001b[0m \u001b[1m24s\u001b[0m 1s/step - accuracy: 0.1536 - loss: 3.2381 - val_accuracy: 0.1071 - val_loss: 5.6369\n",
      "Epoch 2/25\n",
      "\u001b[1m18/18\u001b[0m \u001b[32m━━━━━━━━━━━━━━━━━━━━\u001b[0m\u001b[37m\u001b[0m \u001b[1m20s\u001b[0m 1s/step - accuracy: 0.2393 - loss: 2.4954 - val_accuracy: 0.1357 - val_loss: 7.5963\n",
      "Epoch 3/25\n",
      "\u001b[1m18/18\u001b[0m \u001b[32m━━━━━━━━━━━━━━━━━━━━\u001b[0m\u001b[37m\u001b[0m \u001b[1m21s\u001b[0m 1s/step - accuracy: 0.3268 - loss: 2.2619 - val_accuracy: 0.0714 - val_loss: 9.4130\n",
      "Epoch 4/25\n",
      "\u001b[1m18/18\u001b[0m \u001b[32m━━━━━━━━━━━━━━━━━━━━\u001b[0m\u001b[37m\u001b[0m \u001b[1m23s\u001b[0m 1s/step - accuracy: 0.3696 - loss: 2.0396 - val_accuracy: 0.0714 - val_loss: 7.5713\n",
      "Epoch 5/25\n",
      "\u001b[1m18/18\u001b[0m \u001b[32m━━━━━━━━━━━━━━━━━━━━\u001b[0m\u001b[37m\u001b[0m \u001b[1m21s\u001b[0m 1s/step - accuracy: 0.4250 - loss: 1.7824 - val_accuracy: 0.0714 - val_loss: 7.0549\n",
      "Epoch 6/25\n",
      "\u001b[1m18/18\u001b[0m \u001b[32m━━━━━━━━━━━━━━━━━━━━\u001b[0m\u001b[37m\u001b[0m \u001b[1m21s\u001b[0m 1s/step - accuracy: 0.4714 - loss: 1.6112 - val_accuracy: 0.0714 - val_loss: 8.1322\n"
     ]
    }
   ],
   "source": [
    "es = EarlyStopping(patience = 5, restore_best_weights=True)\n",
    "history = model.fit(X_train, y_train_cat, epochs=25, callbacks = [es], validation_split = 0.2, batch_size=32)"
   ]
  },
  {
   "cell_type": "code",
   "execution_count": 52,
   "id": "4a47d80c-4aa8-428d-ace3-10d67ec9f271",
   "metadata": {
    "execution": {
     "iopub.execute_input": "2025-09-02T16:14:18.707566Z",
     "iopub.status.busy": "2025-09-02T16:14:18.706915Z",
     "iopub.status.idle": "2025-09-02T16:14:19.139670Z",
     "shell.execute_reply": "2025-09-02T16:14:19.138555Z",
     "shell.execute_reply.started": "2025-09-02T16:14:18.707509Z"
    }
   },
   "outputs": [
    {
     "data": {
      "text/plain": [
       "(<Axes: title={'center': 'loss'}>, <Axes: title={'center': 'Accuracy'}>)"
      ]
     },
     "execution_count": 52,
     "metadata": {},
     "output_type": "execute_result"
    },
    {
     "data": {
      "image/png": "[encoded data removed]",
      "text/plain": [
       "<Figure size 1200x400 with 2 Axes>"
      ]
     },
     "metadata": {},
     "output_type": "display_data"
    }
   ],
   "source": [
    "plot_history(history)"
   ]
  },
  {
   "cell_type": "code",
   "execution_count": 53,
   "id": "248ac7bd-a24e-42b4-969c-6aeff5291728",
   "metadata": {},
   "outputs": [
    {
     "name": "stdout",
     "output_type": "stream",
     "text": [
      "\u001b[1m10/10\u001b[0m \u001b[32m━━━━━━━━━━━━━━━━━━━━\u001b[0m\u001b[37m\u001b[0m \u001b[1m1s\u001b[0m 140ms/step - accuracy: 0.0900 - loss: 5.5235\n"
     ]
    },
    {
     "data": {
      "text/plain": [
       "[5.5234694480896, 0.09000000357627869]"
      ]
     },
     "execution_count": 53,
     "metadata": {},
     "output_type": "execute_result"
    }
   ],
   "source": [
    "model.evaluate(X_test, y_test_cat)"
   ]
  },
  {
   "cell_type": "markdown",
   "id": "d6253fe8",
   "metadata": {},
   "source": [
    "# Evaluate the model on the 4 images "
   ]
  },
  {
   "cell_type": "code",
   "execution_count": 66,
   "id": "086aff62",
   "metadata": {},
   "outputs": [
    {
     "name": "stdout",
     "output_type": "stream",
     "text": [
      "['Piet_Mondriaan,_1942_-_New_York_City_I.jpg', 'Van_Gogh_-_Starry_Night_-_Google_Art_Project.jpg', 'Two_Young_Girls_at_the_Piano_MET_rl1975.1.201.R.jpg', 'Paul_Cézanne_-_The_Basket_of_Apples_-_1926.252_-_Art_Institute_of_Chicago.jpg']\n"
     ]
    }
   ],
   "source": [
    "import os\n",
    "\n",
    "# Chemin du dossier\n",
    "folder_path = \"../raw_data/Images to try\"\n",
    "\n",
    "# Lister tous les fichiers\n",
    "file_names = os.listdir(folder_path)\n",
    "\n",
    "# Optionnel : filtrer pour ne garder que les images (jpg, png, etc.)\n",
    "image_names = [f for f in file_names if f.lower().endswith((\".png\", \".jpg\", \".jpeg\", \".gif\"))]\n",
    "\n",
    "print(image_names)"
   ]
  },
  {
   "cell_type": "code",
   "execution_count": 67,
   "id": "5645a5de",
   "metadata": {},
   "outputs": [],
   "source": [
    "folder_path = \"../raw_data/Images to try\"\n",
    "images_np, images_names = load_and_resize_images(folder_path, image_names)"
   ]
  },
  {
   "cell_type": "code",
   "execution_count": 70,
   "id": "f6bef00d",
   "metadata": {},
   "outputs": [
    {
     "data": {
      "text/plain": [
       "(4, 128, 128, 3)"
      ]
     },
     "execution_count": 70,
     "metadata": {},
     "output_type": "execute_result"
    }
   ],
   "source": [
    "images_np.shape"
   ]
  },
  {
   "cell_type": "code",
   "execution_count": 71,
   "id": "ef99addc",
   "metadata": {},
   "outputs": [],
   "source": [
    "X_eval =  np.array(images_np, dtype='float32') / 255.0"
   ]
  },
  {
   "cell_type": "code",
   "execution_count": 72,
   "id": "8db172a3",
   "metadata": {},
   "outputs": [
    {
     "data": {
      "text/plain": [
       "(4, 128, 128, 3)"
      ]
     },
     "execution_count": 72,
     "metadata": {},
     "output_type": "execute_result"
    }
   ],
   "source": [
    "X_eval.shape"
   ]
  },
  {
   "cell_type": "code",
   "execution_count": 73,
   "id": "c4c0ea9a",
   "metadata": {},
   "outputs": [
    {
     "name": "stdout",
     "output_type": "stream",
     "text": [
      "\u001b[1m1/1\u001b[0m \u001b[32m━━━━━━━━━━━━━━━━━━━━\u001b[0m\u001b[37m\u001b[0m \u001b[1m0s\u001b[0m 75ms/step\n",
      "[[1.5798499e-03 3.8416779e-03 1.1856680e-02 1.5825745e-02 1.0738722e-03\n",
      "  5.1675573e-02 3.4044534e-01 1.2633808e-01 9.0157175e-03 4.3834737e-01]\n",
      " [1.7059255e-04 6.1022339e-04 3.9115180e-03 5.4140450e-03 5.1767472e-07\n",
      "  1.5194873e-02 4.4914860e-01 1.7475267e-01 2.9828789e-04 3.5049877e-01]\n",
      " [1.4969423e-04 5.5075181e-04 5.1689153e-03 2.9943001e-03 1.4794770e-06\n",
      "  1.5939727e-02 5.1620877e-01 8.6091712e-02 4.5861004e-04 3.7243599e-01]\n",
      " [1.7356353e-04 5.5244390e-04 4.4454620e-03 3.2097958e-03 1.5644055e-06\n",
      "  1.5743375e-02 4.4823200e-01 1.0374046e-01 4.5866458e-04 4.2344275e-01]]\n"
     ]
    }
   ],
   "source": [
    "preds = model.predict(X_eval)\n",
    "print(preds)"
   ]
  },
  {
   "cell_type": "code",
   "execution_count": null,
   "id": "65a6d054",
   "metadata": {},
   "outputs": [
    {
     "data": {
      "text/plain": [
       "array(['Symbolism', 'Realism', 'Realism', 'Realism'], dtype=object)"
      ]
     },
     "execution_count": 74,
     "metadata": {},
     "output_type": "execute_result"
    }
   ],
   "source": [
    "# index des classes prédites\n",
    "pred_indices = preds.argmax(axis=1)\n",
    "# convertit en labels d'origine\n",
    "pred_labels = le.inverse_transform(pred_indices)\n",
    "pred_labels"
   ]
  },
  {
   "cell_type": "code",
   "execution_count": 75,
   "id": "84ad0f71",
   "metadata": {},
   "outputs": [
    {
     "name": "stdout",
     "output_type": "stream",
     "text": [
      "Piet_Mondriaan,_1942_-_New_York_City_I.jpg : Symbolism (0.44)\n",
      "Van_Gogh_-_Starry_Night_-_Google_Art_Project.jpg : Realism (0.45)\n",
      "Two_Young_Girls_at_the_Piano_MET_rl1975.1.201.R.jpg : Realism (0.52)\n",
      "Paul_Cézanne_-_The_Basket_of_Apples_-_1926.252_-_Art_Institute_of_Chicago.jpg : Realism (0.45)\n"
     ]
    }
   ],
   "source": [
    "for img_name, label, pred in zip(image_names, pred_labels, preds):\n",
    "    print(f\"{img_name} : {label} ({pred.max():.2f})\")"
   ]
  },
  {
   "cell_type": "code",
   "execution_count": null,
   "id": "336e8e3d",
   "metadata": {},
   "outputs": [],
   "source": [
    "# Sauvegarder le modèle en format Keras (meilleur si possible)\n",
    "from tensorflow import keras\n",
    "#keras.saving.save_model(model, filepath='../models/mymodel', save_format='tf')\n",
    "#keras.saving.save_model(model, filepath='../models/mymodel.h5', save_format='h5')\n",
    "keras.saving.save_model(model, filepath='../models/mymodel.keras', save_format='keras')"
   ]
  },
  {
   "cell_type": "code",
   "execution_count": null,
   "id": "1238d6fb",
   "metadata": {},
   "outputs": [],
   "source": [
    "#load the model\n",
    "#model = keras.saving.load_model('../models/mymodel')\n",
    "#model = keras.saving.load_model('../models/mymodel.h5')\n",
    "model = keras.saving.load_model('../models/mymodel.keras')"
   ]
  }
 ],
 "metadata": {
  "kernelspec": {
   "display_name": "inspiart",
   "language": "python",
   "name": "python3"
  },
  "language_info": {
   "codemirror_mode": {
    "name": "ipython",
    "version": 3
   },
   "file_extension": ".py",
   "mimetype": "text/x-python",
   "name": "python",
   "nbconvert_exporter": "python",
   "pygments_lexer": "ipython3",
   "version": "3.10.6"
  }
 },
 "nbformat": 4,
 "nbformat_minor": 5
}
