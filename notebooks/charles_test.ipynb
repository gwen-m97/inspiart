{
 "cells": [
  {
   "cell_type": "code",
   "execution_count": 2,
   "id": "53a4a068",
   "metadata": {},
   "outputs": [
    {
     "name": "stderr",
     "output_type": "stream",
     "text": [
      "/Users/shogun/.pyenv/versions/3.10.6/envs/inspiart/lib/python3.10/site-packages/tqdm/auto.py:21: TqdmWarning: IProgress not found. Please update jupyter and ipywidgets. See https://ipywidgets.readthedocs.io/en/stable/user_install.html\n",
      "  from .autonotebook import tqdm as notebook_tqdm\n"
     ]
    }
   ],
   "source": [
    "import os\n",
    "import datetime\n",
    "\n",
    "from transformers import ViTImageProcessor, ViTModel, ViTImageProcessorFast\n",
    "from PIL import Image\n",
    "import requests\n",
    "\n",
    "import pandas as pd\n",
    "import chromadb\n",
    "from chromadb import Documents, EmbeddingFunction, Embeddings\n",
    "from chromadb.utils.data_loaders import ImageLoader"
   ]
  },
  {
   "cell_type": "code",
   "execution_count": 4,
   "id": "49e9c210",
   "metadata": {},
   "outputs": [],
   "source": [
    "class GoogleVITHuge224Embedding(EmbeddingFunction):\n",
    "\n",
    "\n",
    "    def __call__(self, input: Documents) -> Embeddings:\n",
    "\n",
    "        from transformers import ViTImageProcessor, ViTModel, ViTImageProcessorFast\n",
    "\n",
    "        #Instantiate the image. Convert it to 244 x 244 and normalise RGB between 0 and 1 witha mean of 0.5 for each channel\n",
    "\n",
    "        self.feature_extractor = ViTImageProcessorFast.from_pretrained('google/vit-huge-patch14-224-in21k')\n",
    "\n",
    "        #Instantiate the Google ViT with pretrained weights\n",
    "\n",
    "        self.model = ViTModel.from_pretrained('google/vit-huge-patch14-224-in21k')#Preprocess the data\n",
    "\n",
    "        inputs = self.feature_extractor(images=input, return_tensors=\"pt\")\n",
    "\n",
    "        #Embedd the data\n",
    "\n",
    "        outputs = self.model(**inputs)\n",
    "\n",
    "        #Convert the embedding to a Numpy array and take the first vector of the Transformer state\n",
    "\n",
    "        embeddings = outputs.last_hidden_state.data.numpy()[0,0]\n",
    "\n",
    "        #return the embedding\n",
    "\n",
    "        return embeddings\n"
   ]
  },
  {
   "cell_type": "code",
   "execution_count": null,
   "id": "33823230",
   "metadata": {},
   "outputs": [],
   "source": []
  },
  {
   "cell_type": "markdown",
   "id": "262c38d9",
   "metadata": {},
   "source": [
    "chroma_client = chromadb.PersistentClient(path='/Users/shogun/code/gwen-m97/inspiart/raw_data/my_vectordb')\n",
    "image_loader = ImageLoader()\n",
    "\n",
    "image_embbeding_function = GoogleVITHuge224Embedding()\n",
    "images_db = chroma_client.get_or_create_collection(name=\"images_db\", embedding_function=image_embbeding_function, data_loader=image_loader)\n",
    "query_uris = '/Users/shogun/code/gwen-m97/raw_data/test_images/Two_Young_Girls_at_the_Piano_MET_rl1975.1.201.R.jpg'\n",
    "\n",
    "image_suggestions = images_db.query(\n",
    "    query_uris=[query_uris]\n",
    ")"
   ]
  },
  {
   "cell_type": "code",
   "execution_count": 6,
   "id": "856623a6",
   "metadata": {},
   "outputs": [
    {
     "data": {
      "text/plain": [
       "{'ids': [['7731',\n",
       "   '5722',\n",
       "   '7754',\n",
       "   '7741',\n",
       "   '7753',\n",
       "   '5719',\n",
       "   '8180',\n",
       "   '7539',\n",
       "   '8010',\n",
       "   '7743']],\n",
       " 'embeddings': None,\n",
       " 'documents': [[None, None, None, None, None, None, None, None, None, None]],\n",
       " 'uris': None,\n",
       " 'included': ['metadatas', 'documents', 'distances'],\n",
       " 'data': None,\n",
       " 'metadatas': [[{'url': '/Users/shogun/code/gwen-m97/raw_data/raw_image/correggio_adoration-of-the-child-1520(2).jpg',\n",
       "    'image': 'correggio_adoration-of-the-child-1520(2).jpg'},\n",
       "   {'image': 'cima-da-conegliano_the-deposition.jpg',\n",
       "    'url': '/Users/shogun/code/gwen-m97/raw_data/raw_image/cima-da-conegliano_the-deposition.jpg'},\n",
       "   {'image': 'correggio_madonna-and-child-1514(1).jpg',\n",
       "    'url': '/Users/shogun/code/gwen-m97/raw_data/raw_image/correggio_madonna-and-child-1514(1).jpg'},\n",
       "   {'url': '/Users/shogun/code/gwen-m97/raw_data/raw_image/correggio_danae-1531(2).jpg',\n",
       "    'image': 'correggio_danae-1531(2).jpg'},\n",
       "   {'url': '/Users/shogun/code/gwen-m97/raw_data/raw_image/correggio_madonna-1514(2).jpg',\n",
       "    'image': 'correggio_madonna-1514(2).jpg'},\n",
       "   {'url': '/Users/shogun/code/gwen-m97/raw_data/raw_image/cima-da-conegliano_the-annunciation-1495.jpg',\n",
       "    'image': 'cima-da-conegliano_the-annunciation-1495.jpg'},\n",
       "   {'url': '/Users/shogun/code/gwen-m97/raw_data/raw_image/dante-gabriel-rossetti_the-return-of-tibullus-to-delia-1868.jpg',\n",
       "    'image': 'dante-gabriel-rossetti_the-return-of-tibullus-to-delia-1868.jpg'},\n",
       "   {'url': '/Users/shogun/code/gwen-m97/raw_data/raw_image/cornelis-de-vos_the-triumph-of-bacchus.jpg',\n",
       "    'image': 'cornelis-de-vos_the-triumph-of-bacchus.jpg'},\n",
       "   {'image': 'dante-gabriel-rossetti_a-sea-spell-1877.jpg',\n",
       "    'url': '/Users/shogun/code/gwen-m97/raw_data/raw_image/dante-gabriel-rossetti_a-sea-spell-1877.jpg'},\n",
       "   {'url': '/Users/shogun/code/gwen-m97/raw_data/raw_image/correggio_deposition-1525.jpg',\n",
       "    'image': 'correggio_deposition-1525.jpg'}]],\n",
       " 'distances': [[4.267673492431641,\n",
       "   4.325127601623535,\n",
       "   4.404486179351807,\n",
       "   4.4378132820129395,\n",
       "   4.4475579261779785,\n",
       "   4.652443885803223,\n",
       "   4.72085428237915,\n",
       "   4.737485885620117,\n",
       "   4.751805305480957,\n",
       "   4.759962558746338]]}"
      ]
     },
     "execution_count": 6,
     "metadata": {},
     "output_type": "execute_result"
    }
   ],
   "source": [
    "image_suggestions"
   ]
  }
 ],
 "metadata": {
  "kernelspec": {
   "display_name": "inspiart",
   "language": "python",
   "name": "python3"
  },
  "language_info": {
   "codemirror_mode": {
    "name": "ipython",
    "version": 3
   },
   "file_extension": ".py",
   "mimetype": "text/x-python",
   "name": "python",
   "nbconvert_exporter": "python",
   "pygments_lexer": "ipython3",
   "version": "3.10.6"
  }
 },
 "nbformat": 4,
 "nbformat_minor": 5
}
