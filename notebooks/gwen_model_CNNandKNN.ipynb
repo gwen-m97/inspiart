{
 "cells": [
  {
   "cell_type": "code",
   "execution_count": null,
   "id": "e2b9da5f-3667-43e2-ba7d-754ebe021219",
   "metadata": {},
   "outputs": [],
   "source": [
    "import kagglehub\n",
    "from kagglehub import KaggleDatasetAdapter\n",
    "import pandas as pd\n",
    "\n",
    "import requests\n",
    "from PIL import Image\n",
    "from io import BytesIO\n",
    "from IPython.display import display\n",
    "\n",
    "from typing import List"
   ]
  },
  {
   "cell_type": "markdown",
   "id": "fecdebc7-5e49-4f1e-bba1-4e6736e5d438",
   "metadata": {},
   "source": [
    "# Load the dataset and clean it"
   ]
  },
  {
   "cell_type": "code",
   "execution_count": null,
   "id": "324388ed-ed58-4293-9074-eeda3a65b340",
   "metadata": {},
   "outputs": [],
   "source": []
  }
 ],
 "metadata": {
  "kernelspec": {
   "display_name": "Python 3 (ipykernel)",
   "language": "python",
   "name": "python3"
  },
  "language_info": {
   "codemirror_mode": {
    "name": "ipython",
    "version": 3
   },
   "file_extension": ".py",
   "mimetype": "text/x-python",
   "name": "python",
   "nbconvert_exporter": "python",
   "pygments_lexer": "ipython3",
   "version": "3.10.6"
  }
 },
 "nbformat": 4,
 "nbformat_minor": 5
}
