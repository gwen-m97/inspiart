{
 "cells": [
  {
   "cell_type": "code",
   "execution_count": 4,
   "id": "e2b9da5f-3667-43e2-ba7d-754ebe021219",
   "metadata": {
    "execution": {
     "iopub.execute_input": "2025-09-02T08:44:22.619411Z",
     "iopub.status.busy": "2025-09-02T08:44:22.618830Z",
     "iopub.status.idle": "2025-09-02T08:44:22.629962Z",
     "shell.execute_reply": "2025-09-02T08:44:22.627184Z",
     "shell.execute_reply.started": "2025-09-02T08:44:22.619370Z"
    }
   },
   "outputs": [],
   "source": [
    "import sys\n",
    "from pathlib import Path\n",
    "\n",
    "import kagglehub\n",
    "from kagglehub import KaggleDatasetAdapter\n",
    "import pandas as pd\n",
    "\n",
    "import requests\n",
    "from PIL import Image\n",
    "from io import BytesIO\n",
    "from IPython.display import display\n",
    "\n",
    "from typing import List"
   ]
  },
  {
   "cell_type": "markdown",
   "id": "fecdebc7-5e49-4f1e-bba1-4e6736e5d438",
   "metadata": {},
   "source": [
    "# Load the dataset and clean it"
   ]
  },
  {
   "cell_type": "code",
   "execution_count": 5,
   "id": "324388ed-ed58-4293-9074-eeda3a65b340",
   "metadata": {
    "execution": {
     "iopub.execute_input": "2025-09-02T08:44:24.095719Z",
     "iopub.status.busy": "2025-09-02T08:44:24.094849Z",
     "iopub.status.idle": "2025-09-02T08:44:24.242028Z",
     "shell.execute_reply": "2025-09-02T08:44:24.239287Z",
     "shell.execute_reply.started": "2025-09-02T08:44:24.095656Z"
    }
   },
   "outputs": [
    {
     "ename": "ModuleNotFoundError",
     "evalue": "No module named 'dataset_prep'",
     "output_type": "error",
     "traceback": [
      "\u001b[0;31m---------------------------------------------------------------------------\u001b[0m",
      "\u001b[0;31mModuleNotFoundError\u001b[0m                       Traceback (most recent call last)",
      "Cell \u001b[0;32mIn[5], line 5\u001b[0m\n\u001b[1;32m      2\u001b[0m sys\u001b[38;5;241m.\u001b[39mpath\u001b[38;5;241m.\u001b[39mappend(\u001b[38;5;28mstr\u001b[39m(Path\u001b[38;5;241m.\u001b[39mcwd()\u001b[38;5;241m.\u001b[39mparent \u001b[38;5;241m/\u001b[39m \u001b[38;5;124m\"\u001b[39m\u001b[38;5;124minspiart\u001b[39m\u001b[38;5;124m\"\u001b[39m))\n\u001b[1;32m      4\u001b[0m \u001b[38;5;66;03m# Maintenant tu peux importer ton module\u001b[39;00m\n\u001b[0;32m----> 5\u001b[0m \u001b[38;5;28;01mimport\u001b[39;00m\u001b[38;5;250m \u001b[39m\u001b[38;5;21;01mdataset_prep\u001b[39;00m\n\u001b[1;32m      7\u001b[0m \u001b[38;5;66;03m# Exemple : utiliser une fonction load_data\u001b[39;00m\n\u001b[1;32m      8\u001b[0m df \u001b[38;5;241m=\u001b[39m dataset_prep\u001b[38;5;241m.\u001b[39mload_data()\n",
      "\u001b[0;31mModuleNotFoundError\u001b[0m: No module named 'dataset_prep'"
     ]
    }
   ],
   "source": [
    "# Ajouter le dossier ../inspiart au path\n",
    "sys.path.append(str(Path.cwd().parent / \"inspiart\"))\n",
    "\n",
    "# Maintenant tu peux importer ton module\n",
    "import dataset_prep\n",
    "\n",
    "# Exemple : utiliser une fonction load_data\n",
    "df = dataset_prep.load_data()\n",
    "df_filtered = dataset_prep.filter_dataframe(df)\n",
    "df_merged = dataset_prep.merging_metadata(df_filtered)\n",
    "\n",
    "df_merged.head()"
   ]
  },
  {
   "cell_type": "code",
   "execution_count": null,
   "id": "f3efc4f9-c78d-4e70-b63c-2d2ed497b56d",
   "metadata": {},
   "outputs": [],
   "source": []
  }
 ],
 "metadata": {
  "kernelspec": {
   "display_name": "Python 3 (ipykernel)",
   "language": "python",
   "name": "python3"
  },
  "language_info": {
   "codemirror_mode": {
    "name": "ipython",
    "version": 3
   },
   "file_extension": ".py",
   "mimetype": "text/x-python",
   "name": "python",
   "nbconvert_exporter": "python",
   "pygments_lexer": "ipython3",
   "version": "3.10.6"
  }
 },
 "nbformat": 4,
 "nbformat_minor": 5
}
