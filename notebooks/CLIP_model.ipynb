{
 "cells": [
  {
   "cell_type": "code",
   "execution_count": 53,
   "id": "902db18a-2184-4e2c-96d2-cd46d707da6c",
   "metadata": {
    "execution": {
     "iopub.execute_input": "2025-09-04T13:49:38.918682Z",
     "iopub.status.busy": "2025-09-04T13:49:38.918148Z",
     "iopub.status.idle": "2025-09-04T13:49:38.922456Z",
     "shell.execute_reply": "2025-09-04T13:49:38.921812Z",
     "shell.execute_reply.started": "2025-09-04T13:49:38.918649Z"
    }
   },
   "outputs": [],
   "source": [
    "#0 Installations"
   ]
  },
  {
   "cell_type": "code",
   "execution_count": 86,
   "id": "4687bee0-8cc5-4069-800b-7cd04319fe08",
   "metadata": {
    "execution": {
     "iopub.execute_input": "2025-09-04T14:34:05.204437Z",
     "iopub.status.busy": "2025-09-04T14:34:05.198294Z",
     "iopub.status.idle": "2025-09-04T14:34:08.155508Z",
     "shell.execute_reply": "2025-09-04T14:34:08.154850Z",
     "shell.execute_reply.started": "2025-09-04T14:34:05.204303Z"
    },
    "scrolled": true
   },
   "outputs": [
    {
     "name": "stdout",
     "output_type": "stream",
     "text": [
      "Requirement already satisfied: torch in /Users/cedricwerkmann/.pyenv/versions/lewagon/lib/python3.12/site-packages (2.8.0)\n",
      "Requirement already satisfied: torchvision in /Users/cedricwerkmann/.pyenv/versions/lewagon/lib/python3.12/site-packages (0.23.0)\n",
      "Requirement already satisfied: torchaudio in /Users/cedricwerkmann/.pyenv/versions/lewagon/lib/python3.12/site-packages (2.8.0)\n",
      "Requirement already satisfied: filelock in /Users/cedricwerkmann/.pyenv/versions/lewagon/lib/python3.12/site-packages (from torch) (3.17.0)\n",
      "Requirement already satisfied: typing-extensions>=4.10.0 in /Users/cedricwerkmann/.pyenv/versions/lewagon/lib/python3.12/site-packages (from torch) (4.12.2)\n",
      "Requirement already satisfied: setuptools in /Users/cedricwerkmann/.pyenv/versions/lewagon/lib/python3.12/site-packages (from torch) (75.8.0)\n",
      "Requirement already satisfied: sympy>=1.13.3 in /Users/cedricwerkmann/.pyenv/versions/lewagon/lib/python3.12/site-packages (from torch) (1.14.0)\n",
      "Requirement already satisfied: networkx in /Users/cedricwerkmann/.pyenv/versions/lewagon/lib/python3.12/site-packages (from torch) (3.4.2)\n",
      "Requirement already satisfied: jinja2 in /Users/cedricwerkmann/.pyenv/versions/lewagon/lib/python3.12/site-packages (from torch) (3.1.5)\n",
      "Requirement already satisfied: fsspec in /Users/cedricwerkmann/.pyenv/versions/lewagon/lib/python3.12/site-packages (from torch) (2025.2.0)\n",
      "Requirement already satisfied: numpy in /Users/cedricwerkmann/.pyenv/versions/lewagon/lib/python3.12/site-packages (from torchvision) (1.26.4)\n",
      "Requirement already satisfied: pillow!=8.3.*,>=5.3.0 in /Users/cedricwerkmann/.pyenv/versions/lewagon/lib/python3.12/site-packages (from torchvision) (11.1.0)\n",
      "Requirement already satisfied: mpmath<1.4,>=1.1.0 in /Users/cedricwerkmann/.pyenv/versions/lewagon/lib/python3.12/site-packages (from sympy>=1.13.3->torch) (1.3.0)\n",
      "Requirement already satisfied: MarkupSafe>=2.0 in /Users/cedricwerkmann/.pyenv/versions/lewagon/lib/python3.12/site-packages (from jinja2->torch) (3.0.2)\n",
      "Requirement already satisfied: transformers in /Users/cedricwerkmann/.pyenv/versions/lewagon/lib/python3.12/site-packages (4.49.0)\n",
      "Requirement already satisfied: sentence-transformers in /Users/cedricwerkmann/.pyenv/versions/lewagon/lib/python3.12/site-packages (5.1.0)\n",
      "Requirement already satisfied: filelock in /Users/cedricwerkmann/.pyenv/versions/lewagon/lib/python3.12/site-packages (from transformers) (3.17.0)\n",
      "Requirement already satisfied: huggingface-hub<1.0,>=0.26.0 in /Users/cedricwerkmann/.pyenv/versions/lewagon/lib/python3.12/site-packages (from transformers) (0.29.1)\n",
      "Requirement already satisfied: numpy>=1.17 in /Users/cedricwerkmann/.pyenv/versions/lewagon/lib/python3.12/site-packages (from transformers) (1.26.4)\n",
      "Requirement already satisfied: packaging>=20.0 in /Users/cedricwerkmann/.pyenv/versions/lewagon/lib/python3.12/site-packages (from transformers) (24.2)\n",
      "Requirement already satisfied: pyyaml>=5.1 in /Users/cedricwerkmann/.pyenv/versions/lewagon/lib/python3.12/site-packages (from transformers) (6.0.2)\n",
      "Requirement already satisfied: regex!=2019.12.17 in /Users/cedricwerkmann/.pyenv/versions/lewagon/lib/python3.12/site-packages (from transformers) (2024.11.6)\n",
      "Requirement already satisfied: requests in /Users/cedricwerkmann/.pyenv/versions/lewagon/lib/python3.12/site-packages (from transformers) (2.32.3)\n",
      "Requirement already satisfied: tokenizers<0.22,>=0.21 in /Users/cedricwerkmann/.pyenv/versions/lewagon/lib/python3.12/site-packages (from transformers) (0.21.0)\n",
      "Requirement already satisfied: safetensors>=0.4.1 in /Users/cedricwerkmann/.pyenv/versions/lewagon/lib/python3.12/site-packages (from transformers) (0.5.2)\n",
      "Requirement already satisfied: tqdm>=4.27 in /Users/cedricwerkmann/.pyenv/versions/lewagon/lib/python3.12/site-packages (from transformers) (4.67.1)\n",
      "Requirement already satisfied: fsspec>=2023.5.0 in /Users/cedricwerkmann/.pyenv/versions/lewagon/lib/python3.12/site-packages (from huggingface-hub<1.0,>=0.26.0->transformers) (2025.2.0)\n",
      "Requirement already satisfied: typing-extensions>=3.7.4.3 in /Users/cedricwerkmann/.pyenv/versions/lewagon/lib/python3.12/site-packages (from huggingface-hub<1.0,>=0.26.0->transformers) (4.12.2)\n",
      "Requirement already satisfied: torch>=1.11.0 in /Users/cedricwerkmann/.pyenv/versions/lewagon/lib/python3.12/site-packages (from sentence-transformers) (2.8.0)\n",
      "Requirement already satisfied: scikit-learn in /Users/cedricwerkmann/.pyenv/versions/lewagon/lib/python3.12/site-packages (from sentence-transformers) (1.6.1)\n",
      "Requirement already satisfied: scipy in /Users/cedricwerkmann/.pyenv/versions/lewagon/lib/python3.12/site-packages (from sentence-transformers) (1.13.1)\n",
      "Requirement already satisfied: Pillow in /Users/cedricwerkmann/.pyenv/versions/lewagon/lib/python3.12/site-packages (from sentence-transformers) (11.1.0)\n",
      "Requirement already satisfied: setuptools in /Users/cedricwerkmann/.pyenv/versions/lewagon/lib/python3.12/site-packages (from torch>=1.11.0->sentence-transformers) (75.8.0)\n",
      "Requirement already satisfied: sympy>=1.13.3 in /Users/cedricwerkmann/.pyenv/versions/lewagon/lib/python3.12/site-packages (from torch>=1.11.0->sentence-transformers) (1.14.0)\n",
      "Requirement already satisfied: networkx in /Users/cedricwerkmann/.pyenv/versions/lewagon/lib/python3.12/site-packages (from torch>=1.11.0->sentence-transformers) (3.4.2)\n",
      "Requirement already satisfied: jinja2 in /Users/cedricwerkmann/.pyenv/versions/lewagon/lib/python3.12/site-packages (from torch>=1.11.0->sentence-transformers) (3.1.5)\n",
      "Requirement already satisfied: mpmath<1.4,>=1.1.0 in /Users/cedricwerkmann/.pyenv/versions/lewagon/lib/python3.12/site-packages (from sympy>=1.13.3->torch>=1.11.0->sentence-transformers) (1.3.0)\n",
      "Requirement already satisfied: MarkupSafe>=2.0 in /Users/cedricwerkmann/.pyenv/versions/lewagon/lib/python3.12/site-packages (from jinja2->torch>=1.11.0->sentence-transformers) (3.0.2)\n",
      "Requirement already satisfied: charset-normalizer<4,>=2 in /Users/cedricwerkmann/.pyenv/versions/lewagon/lib/python3.12/site-packages (from requests->transformers) (3.4.1)\n",
      "Requirement already satisfied: idna<4,>=2.5 in /Users/cedricwerkmann/.pyenv/versions/lewagon/lib/python3.12/site-packages (from requests->transformers) (3.10)\n",
      "Requirement already satisfied: urllib3<3,>=1.21.1 in /Users/cedricwerkmann/.pyenv/versions/lewagon/lib/python3.12/site-packages (from requests->transformers) (2.3.0)\n",
      "Requirement already satisfied: certifi>=2017.4.17 in /Users/cedricwerkmann/.pyenv/versions/lewagon/lib/python3.12/site-packages (from requests->transformers) (2025.1.31)\n",
      "Requirement already satisfied: joblib>=1.2.0 in /Users/cedricwerkmann/.pyenv/versions/lewagon/lib/python3.12/site-packages (from scikit-learn->sentence-transformers) (1.4.2)\n",
      "Requirement already satisfied: threadpoolctl>=3.1.0 in /Users/cedricwerkmann/.pyenv/versions/lewagon/lib/python3.12/site-packages (from scikit-learn->sentence-transformers) (3.5.0)\n",
      "Requirement already satisfied: chromadb in /Users/cedricwerkmann/.pyenv/versions/lewagon/lib/python3.12/site-packages (1.0.20)\n",
      "Requirement already satisfied: build>=1.0.3 in /Users/cedricwerkmann/.pyenv/versions/lewagon/lib/python3.12/site-packages (from chromadb) (1.3.0)\n",
      "Requirement already satisfied: pydantic>=1.9 in /Users/cedricwerkmann/.pyenv/versions/lewagon/lib/python3.12/site-packages (from chromadb) (2.10.6)\n",
      "Requirement already satisfied: pybase64>=1.4.1 in /Users/cedricwerkmann/.pyenv/versions/lewagon/lib/python3.12/site-packages (from chromadb) (1.4.2)\n",
      "Requirement already satisfied: uvicorn>=0.18.3 in /Users/cedricwerkmann/.pyenv/versions/lewagon/lib/python3.12/site-packages (from uvicorn[standard]>=0.18.3->chromadb) (0.35.0)\n",
      "Requirement already satisfied: numpy>=1.22.5 in /Users/cedricwerkmann/.pyenv/versions/lewagon/lib/python3.12/site-packages (from chromadb) (1.26.4)\n",
      "Requirement already satisfied: posthog<6.0.0,>=2.4.0 in /Users/cedricwerkmann/.pyenv/versions/lewagon/lib/python3.12/site-packages (from chromadb) (5.4.0)\n",
      "Requirement already satisfied: typing-extensions>=4.5.0 in /Users/cedricwerkmann/.pyenv/versions/lewagon/lib/python3.12/site-packages (from chromadb) (4.12.2)\n",
      "Requirement already satisfied: onnxruntime>=1.14.1 in /Users/cedricwerkmann/.pyenv/versions/lewagon/lib/python3.12/site-packages (from chromadb) (1.22.1)\n",
      "Requirement already satisfied: opentelemetry-api>=1.2.0 in /Users/cedricwerkmann/.pyenv/versions/lewagon/lib/python3.12/site-packages (from chromadb) (1.36.0)\n",
      "Requirement already satisfied: opentelemetry-exporter-otlp-proto-grpc>=1.2.0 in /Users/cedricwerkmann/.pyenv/versions/lewagon/lib/python3.12/site-packages (from chromadb) (1.36.0)\n",
      "Requirement already satisfied: opentelemetry-sdk>=1.2.0 in /Users/cedricwerkmann/.pyenv/versions/lewagon/lib/python3.12/site-packages (from chromadb) (1.36.0)\n",
      "Requirement already satisfied: tokenizers>=0.13.2 in /Users/cedricwerkmann/.pyenv/versions/lewagon/lib/python3.12/site-packages (from chromadb) (0.21.0)\n",
      "Requirement already satisfied: pypika>=0.48.9 in /Users/cedricwerkmann/.pyenv/versions/lewagon/lib/python3.12/site-packages (from chromadb) (0.48.9)\n",
      "Requirement already satisfied: tqdm>=4.65.0 in /Users/cedricwerkmann/.pyenv/versions/lewagon/lib/python3.12/site-packages (from chromadb) (4.67.1)\n",
      "Requirement already satisfied: overrides>=7.3.1 in /Users/cedricwerkmann/.pyenv/versions/lewagon/lib/python3.12/site-packages (from chromadb) (7.7.0)\n",
      "Requirement already satisfied: importlib-resources in /Users/cedricwerkmann/.pyenv/versions/lewagon/lib/python3.12/site-packages (from chromadb) (6.5.2)\n",
      "Requirement already satisfied: grpcio>=1.58.0 in /Users/cedricwerkmann/.pyenv/versions/lewagon/lib/python3.12/site-packages (from chromadb) (1.70.0)\n",
      "Requirement already satisfied: bcrypt>=4.0.1 in /Users/cedricwerkmann/.pyenv/versions/lewagon/lib/python3.12/site-packages (from chromadb) (4.3.0)\n",
      "Requirement already satisfied: typer>=0.9.0 in /Users/cedricwerkmann/.pyenv/versions/lewagon/lib/python3.12/site-packages (from chromadb) (0.17.3)\n",
      "Requirement already satisfied: kubernetes>=28.1.0 in /Users/cedricwerkmann/.pyenv/versions/lewagon/lib/python3.12/site-packages (from chromadb) (33.1.0)\n",
      "Requirement already satisfied: tenacity>=8.2.3 in /Users/cedricwerkmann/.pyenv/versions/lewagon/lib/python3.12/site-packages (from chromadb) (9.1.2)\n",
      "Requirement already satisfied: pyyaml>=6.0.0 in /Users/cedricwerkmann/.pyenv/versions/lewagon/lib/python3.12/site-packages (from chromadb) (6.0.2)\n",
      "Requirement already satisfied: mmh3>=4.0.1 in /Users/cedricwerkmann/.pyenv/versions/lewagon/lib/python3.12/site-packages (from chromadb) (5.2.0)\n",
      "Requirement already satisfied: orjson>=3.9.12 in /Users/cedricwerkmann/.pyenv/versions/lewagon/lib/python3.12/site-packages (from chromadb) (3.11.3)\n",
      "Requirement already satisfied: httpx>=0.27.0 in /Users/cedricwerkmann/.pyenv/versions/lewagon/lib/python3.12/site-packages (from chromadb) (0.28.1)\n",
      "Requirement already satisfied: rich>=10.11.0 in /Users/cedricwerkmann/.pyenv/versions/lewagon/lib/python3.12/site-packages (from chromadb) (13.9.4)\n",
      "Requirement already satisfied: jsonschema>=4.19.0 in /Users/cedricwerkmann/.pyenv/versions/lewagon/lib/python3.12/site-packages (from chromadb) (4.23.0)\n",
      "Requirement already satisfied: requests<3.0,>=2.7 in /Users/cedricwerkmann/.pyenv/versions/lewagon/lib/python3.12/site-packages (from posthog<6.0.0,>=2.4.0->chromadb) (2.32.3)\n",
      "Requirement already satisfied: six>=1.5 in /Users/cedricwerkmann/.pyenv/versions/lewagon/lib/python3.12/site-packages (from posthog<6.0.0,>=2.4.0->chromadb) (1.17.0)\n",
      "Requirement already satisfied: python-dateutil>=2.2 in /Users/cedricwerkmann/.pyenv/versions/lewagon/lib/python3.12/site-packages (from posthog<6.0.0,>=2.4.0->chromadb) (2.9.0.post0)\n",
      "Requirement already satisfied: backoff>=1.10.0 in /Users/cedricwerkmann/.pyenv/versions/lewagon/lib/python3.12/site-packages (from posthog<6.0.0,>=2.4.0->chromadb) (2.2.1)\n",
      "Requirement already satisfied: distro>=1.5.0 in /Users/cedricwerkmann/.pyenv/versions/lewagon/lib/python3.12/site-packages (from posthog<6.0.0,>=2.4.0->chromadb) (1.9.0)\n",
      "Requirement already satisfied: charset-normalizer<4,>=2 in /Users/cedricwerkmann/.pyenv/versions/lewagon/lib/python3.12/site-packages (from requests<3.0,>=2.7->posthog<6.0.0,>=2.4.0->chromadb) (3.4.1)\n",
      "Requirement already satisfied: idna<4,>=2.5 in /Users/cedricwerkmann/.pyenv/versions/lewagon/lib/python3.12/site-packages (from requests<3.0,>=2.7->posthog<6.0.0,>=2.4.0->chromadb) (3.10)\n",
      "Requirement already satisfied: urllib3<3,>=1.21.1 in /Users/cedricwerkmann/.pyenv/versions/lewagon/lib/python3.12/site-packages (from requests<3.0,>=2.7->posthog<6.0.0,>=2.4.0->chromadb) (2.3.0)\n",
      "Requirement already satisfied: certifi>=2017.4.17 in /Users/cedricwerkmann/.pyenv/versions/lewagon/lib/python3.12/site-packages (from requests<3.0,>=2.7->posthog<6.0.0,>=2.4.0->chromadb) (2025.1.31)\n",
      "Requirement already satisfied: packaging>=19.1 in /Users/cedricwerkmann/.pyenv/versions/lewagon/lib/python3.12/site-packages (from build>=1.0.3->chromadb) (24.2)\n",
      "Requirement already satisfied: pyproject_hooks in /Users/cedricwerkmann/.pyenv/versions/lewagon/lib/python3.12/site-packages (from build>=1.0.3->chromadb) (1.2.0)\n",
      "Requirement already satisfied: anyio in /Users/cedricwerkmann/.pyenv/versions/lewagon/lib/python3.12/site-packages (from httpx>=0.27.0->chromadb) (4.8.0)\n",
      "Requirement already satisfied: httpcore==1.* in /Users/cedricwerkmann/.pyenv/versions/lewagon/lib/python3.12/site-packages (from httpx>=0.27.0->chromadb) (1.0.7)\n",
      "Requirement already satisfied: h11<0.15,>=0.13 in /Users/cedricwerkmann/.pyenv/versions/lewagon/lib/python3.12/site-packages (from httpcore==1.*->httpx>=0.27.0->chromadb) (0.14.0)\n",
      "Requirement already satisfied: attrs>=22.2.0 in /Users/cedricwerkmann/.pyenv/versions/lewagon/lib/python3.12/site-packages (from jsonschema>=4.19.0->chromadb) (25.1.0)\n",
      "Requirement already satisfied: jsonschema-specifications>=2023.03.6 in /Users/cedricwerkmann/.pyenv/versions/lewagon/lib/python3.12/site-packages (from jsonschema>=4.19.0->chromadb) (2024.10.1)\n",
      "Requirement already satisfied: referencing>=0.28.4 in /Users/cedricwerkmann/.pyenv/versions/lewagon/lib/python3.12/site-packages (from jsonschema>=4.19.0->chromadb) (0.36.2)\n",
      "Requirement already satisfied: rpds-py>=0.7.1 in /Users/cedricwerkmann/.pyenv/versions/lewagon/lib/python3.12/site-packages (from jsonschema>=4.19.0->chromadb) (0.23.1)\n",
      "Requirement already satisfied: google-auth>=1.0.1 in /Users/cedricwerkmann/.pyenv/versions/lewagon/lib/python3.12/site-packages (from kubernetes>=28.1.0->chromadb) (2.40.3)\n",
      "Requirement already satisfied: websocket-client!=0.40.0,!=0.41.*,!=0.42.*,>=0.32.0 in /Users/cedricwerkmann/.pyenv/versions/lewagon/lib/python3.12/site-packages (from kubernetes>=28.1.0->chromadb) (1.8.0)\n",
      "Requirement already satisfied: requests-oauthlib in /Users/cedricwerkmann/.pyenv/versions/lewagon/lib/python3.12/site-packages (from kubernetes>=28.1.0->chromadb) (2.0.0)\n",
      "Requirement already satisfied: oauthlib>=3.2.2 in /Users/cedricwerkmann/.pyenv/versions/lewagon/lib/python3.12/site-packages (from kubernetes>=28.1.0->chromadb) (3.3.1)\n",
      "Requirement already satisfied: durationpy>=0.7 in /Users/cedricwerkmann/.pyenv/versions/lewagon/lib/python3.12/site-packages (from kubernetes>=28.1.0->chromadb) (0.10)\n",
      "Requirement already satisfied: cachetools<6.0,>=2.0.0 in /Users/cedricwerkmann/.pyenv/versions/lewagon/lib/python3.12/site-packages (from google-auth>=1.0.1->kubernetes>=28.1.0->chromadb) (5.5.2)\n",
      "Requirement already satisfied: pyasn1-modules>=0.2.1 in /Users/cedricwerkmann/.pyenv/versions/lewagon/lib/python3.12/site-packages (from google-auth>=1.0.1->kubernetes>=28.1.0->chromadb) (0.4.2)\n",
      "Requirement already satisfied: rsa<5,>=3.1.4 in /Users/cedricwerkmann/.pyenv/versions/lewagon/lib/python3.12/site-packages (from google-auth>=1.0.1->kubernetes>=28.1.0->chromadb) (4.9.1)\n",
      "Requirement already satisfied: pyasn1>=0.1.3 in /Users/cedricwerkmann/.pyenv/versions/lewagon/lib/python3.12/site-packages (from rsa<5,>=3.1.4->google-auth>=1.0.1->kubernetes>=28.1.0->chromadb) (0.6.1)\n",
      "Requirement already satisfied: coloredlogs in /Users/cedricwerkmann/.pyenv/versions/lewagon/lib/python3.12/site-packages (from onnxruntime>=1.14.1->chromadb) (15.0.1)\n",
      "Requirement already satisfied: flatbuffers in /Users/cedricwerkmann/.pyenv/versions/lewagon/lib/python3.12/site-packages (from onnxruntime>=1.14.1->chromadb) (25.2.10)\n",
      "Requirement already satisfied: protobuf in /Users/cedricwerkmann/.pyenv/versions/lewagon/lib/python3.12/site-packages (from onnxruntime>=1.14.1->chromadb) (5.29.5)\n",
      "Requirement already satisfied: sympy in /Users/cedricwerkmann/.pyenv/versions/lewagon/lib/python3.12/site-packages (from onnxruntime>=1.14.1->chromadb) (1.14.0)\n",
      "Requirement already satisfied: importlib-metadata<8.8.0,>=6.0 in /Users/cedricwerkmann/.pyenv/versions/lewagon/lib/python3.12/site-packages (from opentelemetry-api>=1.2.0->chromadb) (8.7.0)\n",
      "Requirement already satisfied: zipp>=3.20 in /Users/cedricwerkmann/.pyenv/versions/lewagon/lib/python3.12/site-packages (from importlib-metadata<8.8.0,>=6.0->opentelemetry-api>=1.2.0->chromadb) (3.21.0)\n",
      "Requirement already satisfied: googleapis-common-protos~=1.57 in /Users/cedricwerkmann/.pyenv/versions/lewagon/lib/python3.12/site-packages (from opentelemetry-exporter-otlp-proto-grpc>=1.2.0->chromadb) (1.68.0)\n",
      "Requirement already satisfied: opentelemetry-exporter-otlp-proto-common==1.36.0 in /Users/cedricwerkmann/.pyenv/versions/lewagon/lib/python3.12/site-packages (from opentelemetry-exporter-otlp-proto-grpc>=1.2.0->chromadb) (1.36.0)\n",
      "Requirement already satisfied: opentelemetry-proto==1.36.0 in /Users/cedricwerkmann/.pyenv/versions/lewagon/lib/python3.12/site-packages (from opentelemetry-exporter-otlp-proto-grpc>=1.2.0->chromadb) (1.36.0)\n",
      "Requirement already satisfied: opentelemetry-semantic-conventions==0.57b0 in /Users/cedricwerkmann/.pyenv/versions/lewagon/lib/python3.12/site-packages (from opentelemetry-sdk>=1.2.0->chromadb) (0.57b0)\n",
      "Requirement already satisfied: annotated-types>=0.6.0 in /Users/cedricwerkmann/.pyenv/versions/lewagon/lib/python3.12/site-packages (from pydantic>=1.9->chromadb) (0.7.0)\n",
      "Requirement already satisfied: pydantic-core==2.27.2 in /Users/cedricwerkmann/.pyenv/versions/lewagon/lib/python3.12/site-packages (from pydantic>=1.9->chromadb) (2.27.2)\n",
      "Requirement already satisfied: markdown-it-py>=2.2.0 in /Users/cedricwerkmann/.pyenv/versions/lewagon/lib/python3.12/site-packages (from rich>=10.11.0->chromadb) (3.0.0)\n",
      "Requirement already satisfied: pygments<3.0.0,>=2.13.0 in /Users/cedricwerkmann/.pyenv/versions/lewagon/lib/python3.12/site-packages (from rich>=10.11.0->chromadb) (2.19.1)\n",
      "Requirement already satisfied: mdurl~=0.1 in /Users/cedricwerkmann/.pyenv/versions/lewagon/lib/python3.12/site-packages (from markdown-it-py>=2.2.0->rich>=10.11.0->chromadb) (0.1.2)\n",
      "Requirement already satisfied: huggingface-hub<1.0,>=0.16.4 in /Users/cedricwerkmann/.pyenv/versions/lewagon/lib/python3.12/site-packages (from tokenizers>=0.13.2->chromadb) (0.29.1)\n",
      "Requirement already satisfied: filelock in /Users/cedricwerkmann/.pyenv/versions/lewagon/lib/python3.12/site-packages (from huggingface-hub<1.0,>=0.16.4->tokenizers>=0.13.2->chromadb) (3.17.0)\n",
      "Requirement already satisfied: fsspec>=2023.5.0 in /Users/cedricwerkmann/.pyenv/versions/lewagon/lib/python3.12/site-packages (from huggingface-hub<1.0,>=0.16.4->tokenizers>=0.13.2->chromadb) (2025.2.0)\n",
      "Requirement already satisfied: click>=8.0.0 in /Users/cedricwerkmann/.pyenv/versions/lewagon/lib/python3.12/site-packages (from typer>=0.9.0->chromadb) (8.1.8)\n",
      "Requirement already satisfied: shellingham>=1.3.0 in /Users/cedricwerkmann/.pyenv/versions/lewagon/lib/python3.12/site-packages (from typer>=0.9.0->chromadb) (1.5.4)\n",
      "Requirement already satisfied: httptools>=0.6.3 in /Users/cedricwerkmann/.pyenv/versions/lewagon/lib/python3.12/site-packages (from uvicorn[standard]>=0.18.3->chromadb) (0.6.4)\n",
      "Requirement already satisfied: python-dotenv>=0.13 in /Users/cedricwerkmann/.pyenv/versions/lewagon/lib/python3.12/site-packages (from uvicorn[standard]>=0.18.3->chromadb) (1.1.1)\n",
      "Requirement already satisfied: uvloop>=0.15.1 in /Users/cedricwerkmann/.pyenv/versions/lewagon/lib/python3.12/site-packages (from uvicorn[standard]>=0.18.3->chromadb) (0.21.0)\n",
      "Requirement already satisfied: watchfiles>=0.13 in /Users/cedricwerkmann/.pyenv/versions/lewagon/lib/python3.12/site-packages (from uvicorn[standard]>=0.18.3->chromadb) (1.1.0)\n",
      "Requirement already satisfied: websockets>=10.4 in /Users/cedricwerkmann/.pyenv/versions/lewagon/lib/python3.12/site-packages (from uvicorn[standard]>=0.18.3->chromadb) (15.0.1)\n",
      "Requirement already satisfied: sniffio>=1.1 in /Users/cedricwerkmann/.pyenv/versions/lewagon/lib/python3.12/site-packages (from anyio->httpx>=0.27.0->chromadb) (1.3.1)\n",
      "Requirement already satisfied: humanfriendly>=9.1 in /Users/cedricwerkmann/.pyenv/versions/lewagon/lib/python3.12/site-packages (from coloredlogs->onnxruntime>=1.14.1->chromadb) (10.0)\n",
      "Requirement already satisfied: mpmath<1.4,>=1.1.0 in /Users/cedricwerkmann/.pyenv/versions/lewagon/lib/python3.12/site-packages (from sympy->onnxruntime>=1.14.1->chromadb) (1.3.0)\n",
      "Requirement already satisfied: numpy<2 in /Users/cedricwerkmann/.pyenv/versions/lewagon/lib/python3.12/site-packages (1.26.4)\n"
     ]
    }
   ],
   "source": [
    "!pip install torch torchvision torchaudio\n",
    "!pip install transformers sentence-transformers\n",
    "!pip install chromadb\n",
    "!pip install \"numpy<2\" #to solve compatability error with sentence-transformers"
   ]
  },
  {
   "cell_type": "code",
   "execution_count": 87,
   "id": "97854c37-c312-402a-9692-bf3f021252b0",
   "metadata": {
    "execution": {
     "iopub.execute_input": "2025-09-04T14:34:08.770285Z",
     "iopub.status.busy": "2025-09-04T14:34:08.769814Z",
     "iopub.status.idle": "2025-09-04T14:34:08.778635Z",
     "shell.execute_reply": "2025-09-04T14:34:08.777571Z",
     "shell.execute_reply.started": "2025-09-04T14:34:08.770249Z"
    }
   },
   "outputs": [],
   "source": [
    "#1 Import functions "
   ]
  },
  {
   "cell_type": "code",
   "execution_count": 88,
   "id": "e9548112-cb9f-4c78-a503-ae5b48139db2",
   "metadata": {
    "execution": {
     "iopub.execute_input": "2025-09-04T14:34:09.139110Z",
     "iopub.status.busy": "2025-09-04T14:34:09.138665Z",
     "iopub.status.idle": "2025-09-04T14:34:09.154274Z",
     "shell.execute_reply": "2025-09-04T14:34:09.153326Z",
     "shell.execute_reply.started": "2025-09-04T14:34:09.139086Z"
    }
   },
   "outputs": [],
   "source": [
    "from sentence_transformers import SentenceTransformer, util \n",
    "import torch\n",
    "import pandas as pd\n",
    "import numpy as np\n",
    "from PIL import Image\n",
    "import requests\n",
    "import matplotlib.pyplot as plt\n",
    "import chromadb"
   ]
  },
  {
   "cell_type": "code",
   "execution_count": 89,
   "id": "86edaced-b39a-41bb-8b46-649819229d25",
   "metadata": {
    "execution": {
     "iopub.execute_input": "2025-09-04T14:34:14.049026Z",
     "iopub.status.busy": "2025-09-04T14:34:14.048642Z",
     "iopub.status.idle": "2025-09-04T14:34:14.053228Z",
     "shell.execute_reply": "2025-09-04T14:34:14.052409Z",
     "shell.execute_reply.started": "2025-09-04T14:34:14.048999Z"
    }
   },
   "outputs": [],
   "source": [
    "#2 Import the pre-trained CLIP model using SentenceTransformer"
   ]
  },
  {
   "cell_type": "code",
   "execution_count": 90,
   "id": "25629f0f-c6fb-4724-8439-2e88591b363c",
   "metadata": {
    "execution": {
     "iopub.execute_input": "2025-09-04T14:34:14.615060Z",
     "iopub.status.busy": "2025-09-04T14:34:14.614663Z",
     "iopub.status.idle": "2025-09-04T14:34:21.290753Z",
     "shell.execute_reply": "2025-09-04T14:34:21.289843Z",
     "shell.execute_reply.started": "2025-09-04T14:34:14.615035Z"
    }
   },
   "outputs": [],
   "source": [
    "model = SentenceTransformer('clip-ViT-B-32')"
   ]
  },
  {
   "cell_type": "code",
   "execution_count": 91,
   "id": "f5539d0a-dccb-4733-979b-a5403661602c",
   "metadata": {
    "execution": {
     "iopub.execute_input": "2025-09-04T14:34:22.149339Z",
     "iopub.status.busy": "2025-09-04T14:34:22.148456Z",
     "iopub.status.idle": "2025-09-04T14:34:22.160290Z",
     "shell.execute_reply": "2025-09-04T14:34:22.159417Z",
     "shell.execute_reply.started": "2025-09-04T14:34:22.149281Z"
    }
   },
   "outputs": [],
   "source": [
    "#3 Establish ChromaDB connection "
   ]
  },
  {
   "cell_type": "code",
   "execution_count": 92,
   "id": "20c18d2c-d84b-4e47-94a0-1bbaab2cdb92",
   "metadata": {
    "execution": {
     "iopub.execute_input": "2025-09-04T14:34:22.419183Z",
     "iopub.status.busy": "2025-09-04T14:34:22.418788Z",
     "iopub.status.idle": "2025-09-04T14:34:24.202639Z",
     "shell.execute_reply": "2025-09-04T14:34:24.201931Z",
     "shell.execute_reply.started": "2025-09-04T14:34:22.419156Z"
    }
   },
   "outputs": [
    {
     "name": "stdout",
     "output_type": "stream",
     "text": [
      "ChromaDB client initialized successfully!\n"
     ]
    }
   ],
   "source": [
    "import os\n",
    "from dotenv import load_dotenv\n",
    "\n",
    "# Load environment variables from .env file\n",
    "load_dotenv()\n",
    "\n",
    "# Get the API key and other details from environment variables\n",
    "api_key = os.getenv(\"CHROMA_API_KEY\")\n",
    "tenant_id = os.getenv(\"CHROMA_TENANT\")\n",
    "database_name = os.getenv(\"CHROMA_DATABASE\")\n",
    "\n",
    "# Check if the variables were loaded correctly\n",
    "if not api_key:\n",
    "    print(\"Error: API key not found. Make sure it's in your .env file.\")\n",
    "else:\n",
    "    # Use the variables to create the client\n",
    "    client = chromadb.CloudClient(\n",
    "        api_key=api_key,\n",
    "        tenant=tenant_id,\n",
    "        database=database_name\n",
    "    )\n",
    "    print(\"ChromaDB client initialized successfully!\")"
   ]
  },
  {
   "cell_type": "code",
   "execution_count": 93,
   "id": "af801314-b357-44c0-af35-25aeb0549f03",
   "metadata": {
    "execution": {
     "iopub.execute_input": "2025-09-04T14:34:25.873095Z",
     "iopub.status.busy": "2025-09-04T14:34:25.872719Z",
     "iopub.status.idle": "2025-09-04T14:34:25.877018Z",
     "shell.execute_reply": "2025-09-04T14:34:25.875976Z",
     "shell.execute_reply.started": "2025-09-04T14:34:25.873068Z"
    }
   },
   "outputs": [],
   "source": [
    "#4 Create embeddings"
   ]
  },
  {
   "cell_type": "code",
   "execution_count": 94,
   "id": "721900da-9380-4434-ac98-5819c1ac8c14",
   "metadata": {
    "execution": {
     "iopub.execute_input": "2025-09-04T14:34:26.165098Z",
     "iopub.status.busy": "2025-09-04T14:34:26.164713Z",
     "iopub.status.idle": "2025-09-04T14:34:26.386285Z",
     "shell.execute_reply": "2025-09-04T14:34:26.385243Z",
     "shell.execute_reply.started": "2025-09-04T14:34:26.165072Z"
    },
    "scrolled": true
   },
   "outputs": [],
   "source": [
    "# Load the dataset from Github main branch  \n",
    "\n",
    "def load_local_data():\n",
    "    \"\"\"Load the dataframe from the Github CSV file in the 'sample1000BALANCED' directory.\"\"\"\n",
    "    # Use the new relative path to the CSV file\n",
    "    df = pd.read_csv(\"sample1000BALANCED/data_sampling1000_topstyles10.csv\")\n",
    "    return df\n",
    "\n",
    "# Replace the previous line with the new function call\n",
    "df = load_local_data()\n",
    "\n",
    "# Get or create a collection. This is where your embeddings will live.\n",
    "# The name \"wikiart_embeddings\" is an arbitrary name you choose.\n",
    "collection = client.get_or_create_collection(name=\"wikiart_embeddings\")\n"
   ]
  },
  {
   "cell_type": "code",
   "execution_count": 95,
   "id": "842c700c-a33d-4780-b1d0-8afd5fc1faf3",
   "metadata": {
    "execution": {
     "iopub.execute_input": "2025-09-04T14:34:28.091597Z",
     "iopub.status.busy": "2025-09-04T14:34:28.091214Z",
     "iopub.status.idle": "2025-09-04T14:34:28.095211Z",
     "shell.execute_reply": "2025-09-04T14:34:28.094076Z",
     "shell.execute_reply.started": "2025-09-04T14:34:28.091574Z"
    }
   },
   "outputs": [],
   "source": [
    "#3) Load, search and print most similar images"
   ]
  },
  {
   "cell_type": "code",
   "execution_count": null,
   "id": "076d8097-c8a8-4daf-a10a-5bac643cb7b2",
   "metadata": {
    "execution": {
     "iopub.execute_input": "2025-09-04T14:35:07.168279Z",
     "iopub.status.busy": "2025-09-04T14:35:07.168160Z"
    }
   },
   "outputs": [
    {
     "name": "stdout",
     "output_type": "stream",
     "text": [
      "——————————————————————————————————————————————————\n",
      "Querying with local image: Paul_Cézanne_-_The_Basket_of_Apples_-_1926.252_-_Art_Institute_of_Chicago.jpg\n",
      "\n"
     ]
    }
   ],
   "source": [
    "# Define the local query images by creating a list of paths to your four locally downloaded images.\n",
    "local_query_images = [\n",
    "    \"raw_data/Images to try/Paul_Cézanne_-_The_Basket_of_Apples_-_1926.252_-_Art_Institute_of_Chicago.jpg\",\n",
    "    \"raw_data/Images to try/Piet_Mondriaan,_1942_-_New_York_City_I.jpg\",\n",
    "    \"raw_data/Images to try/Van_Gogh_-_Starry_Night_-_Google_Art_Project.jpg\",\n",
    "    \"raw_data/Images to try/Two_Young_Girls_at_the_Piano_MET_rl1975.1.201.R.jpg\"\n",
    "]\n",
    "\n",
    "# Iterate through each query image\n",
    "for query_image_path in local_query_images:\n",
    "    try:\n",
    "        # Load the image from the local file path\n",
    "        query_image = Image.open(query_image_path)\n",
    "        \n",
    "        # Use the CLIP model to encode the image\n",
    "        query_embedding = model.encode(query_image).tolist()\n",
    "        \n",
    "        # Use ChromaDB to find the most similar images and get top 5 results\n",
    "        results = collection.query(\n",
    "            query_embeddings=[query_embedding],\n",
    "            n_results=5, # Since the query image is not in the database, we ask for exactly 5.\n",
    "        )\n",
    "        \n",
    "        # Print the results for the current query image\n",
    "        print(\"—\" * 50)\n",
    "        print(f\"Querying with local image: {os.path.basename(query_image_path)}\\n\")\n",
    "        \n",
    "        # Get the URLs and file names for the top 5 results from the ChromaDB results\n",
    "        result_urls = [metadata['url'] for metadata in results['metadatas'][0]]\n",
    "        result_file_names = [metadata['file_name'] for metadata in results['metadatas'][0]]\n",
    "        \n",
    "        # Prepare titles for visualization, including the file names\n",
    "        result_titles = [f\"Result {i+1}\\n({name})\" for i, name in enumerate(result_file_names)]\n",
    "        \n",
    "        # Add the query image and its title to the beginning of the lists\n",
    "        all_urls = [query_image_path] + result_urls\n",
    "        all_titles = [f\"Query Image\\n({os.path.basename(query_image_path)})\"] + result_titles\n",
    "        \n",
    "        # Visualize the images!\n",
    "        show_images(all_urls, all_titles)\n",
    "\n",
    "    except Exception as e:\n",
    "        print(f\"Error processing image {query_image_path}: {e}\")"
   ]
  },
  {
   "cell_type": "code",
   "execution_count": null,
   "id": "88516626-cff8-4038-bfe9-edc449e22b5e",
   "metadata": {},
   "outputs": [],
   "source": [
    "#4) image display function for for loop in 3) "
   ]
  },
  {
   "cell_type": "code",
   "execution_count": null,
   "id": "589d20ce-969d-4097-b173-7f4404f8360d",
   "metadata": {},
   "outputs": [],
   "source": [
    "def show_images(image_urls, titles):\n",
    "    # Adjust subplot size to accommodate 6 images (query + 5 results)\n",
    "    fig, axes = plt.subplots(1, len(image_urls), figsize=(25, 6))\n",
    "    if len(image_urls) == 1:\n",
    "        axes = [axes]\n",
    "    \n",
    "    for ax, url, title in zip(axes, image_urls, titles):\n",
    "        try:\n",
    "            # Check if the url is a local file path using os.path.exists\n",
    "            if os.path.exists(url):\n",
    "                image = Image.open(url)\n",
    "            # If not, it's a URL to be downloaded\n",
    "            else:\n",
    "                image = Image.open(requests.get(url, stream=True).raw)\n",
    "            ax.imshow(image)\n",
    "            ax.set_title(title, fontsize=10, pad=10)\n",
    "            ax.axis('off')\n",
    "        except Exception as e:\n",
    "            print(f\"Could not display image at {url}: {e}\")\n",
    "    \n",
    "    plt.tight_layout()\n",
    "    plt.show()"
   ]
  },
  {
   "cell_type": "code",
   "execution_count": 85,
   "id": "bfe00507-996c-4657-ba3c-920a4527e826",
   "metadata": {
    "execution": {
     "iopub.execute_input": "2025-09-04T14:31:58.191669Z",
     "iopub.status.busy": "2025-09-04T14:31:58.189460Z",
     "iopub.status.idle": "2025-09-04T14:31:58.204720Z",
     "shell.execute_reply": "2025-09-04T14:31:58.203080Z",
     "shell.execute_reply.started": "2025-09-04T14:31:58.191579Z"
    }
   },
   "outputs": [
    {
     "ename": "IndentationError",
     "evalue": "unexpected indent (900031253.py, line 24)",
     "output_type": "error",
     "traceback": [
      "\u001b[0;36m  Cell \u001b[0;32mIn[85], line 24\u001b[0;36m\u001b[0m\n\u001b[0;31m    )\u001b[0m\n\u001b[0m    ^\u001b[0m\n\u001b[0;31mIndentationError\u001b[0m\u001b[0;31m:\u001b[0m unexpected indent\n"
     ]
    }
   ],
   "source": [
    "\"\"\"This was the code to embed the images into ChromaDA - NOT NEEDED anymore\"\"\" \n",
    "# Select a small number of images to work with / batch it \n",
    "#small_df = df[900:1001]\n",
    "\n",
    "# Create a list to store the image embeddings\n",
    "#image_embeddings = []\n",
    "\n",
    "# Loop through the images, download them, and create their embeddings\n",
    "#for index, row in small_df.iterrows():\n",
    "    #try:\n",
    "        #image_url = row['img']\n",
    "        #image = Image.open(requests.get(image_url, stream=True).raw)\n",
    "        \n",
    "        # Use the CLIP model to encode the image.\n",
    "        # The SentenceTransformer library's encode method automatically handles preprocessing.\n",
    "        #embedding = model.encode(image)\n",
    "        \n",
    "        # add the embedding to ChromaDB\n",
    "        #collection.add(\n",
    "            #embeddings=[embedding.tolist()],\n",
    "            #documents=[row['file_name']],\n",
    "            #metadatas=[{\"artist\": row['artist'], \"style\": row['style'], \"url\": image_url, \"file_name\": row['file_name']}],\n",
    "            #ids=[str(index)]\n",
    "        )\n",
    "        #print(f\"Processed and added image {index} to ChromaDB.\")\n",
    "\n",
    "    #except Exception as e:\n",
    "        #print(f\"Could not process image at URL {image_url}: {e}\")"
   ]
  }
 ],
 "metadata": {
  "kernelspec": {
   "display_name": "Python 3 (ipykernel)",
   "language": "python",
   "name": "python3"
  },
  "language_info": {
   "codemirror_mode": {
    "name": "ipython",
    "version": 3
   },
   "file_extension": ".py",
   "mimetype": "text/x-python",
   "name": "python",
   "nbconvert_exporter": "python",
   "pygments_lexer": "ipython3",
   "version": "3.12.9"
  }
 },
 "nbformat": 4,
 "nbformat_minor": 5
}
