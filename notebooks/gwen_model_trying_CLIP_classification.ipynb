{
 "cells": [
  {
   "cell_type": "markdown",
   "id": "592c3f9d",
   "metadata": {},
   "source": [
    "# Notebook setup"
   ]
  },
  {
   "cell_type": "markdown",
   "id": "09695205",
   "metadata": {},
   "source": [
    "Installing torch package"
   ]
  },
  {
   "cell_type": "code",
   "execution_count": 4,
   "id": "92658327",
   "metadata": {},
   "outputs": [
    {
     "name": "stdout",
     "output_type": "stream",
     "text": [
      "Collecting torch\n",
      "  Downloading torch-2.8.0-cp310-cp310-manylinux_2_28_x86_64.whl.metadata (30 kB)\n",
      "Collecting torchvision\n",
      "  Downloading torchvision-0.23.0-cp310-cp310-manylinux_2_28_x86_64.whl.metadata (6.1 kB)\n",
      "Collecting filelock (from torch)\n",
      "  Using cached filelock-3.19.1-py3-none-any.whl.metadata (2.1 kB)\n",
      "Requirement already satisfied: typing-extensions>=4.10.0 in /home/gwenm/.pyenv/versions/3.10.6/envs/inspiart/lib/python3.10/site-packages (from torch) (4.15.0)\n",
      "Collecting sympy>=1.13.3 (from torch)\n",
      "  Using cached sympy-1.14.0-py3-none-any.whl.metadata (12 kB)\n",
      "Collecting networkx (from torch)\n",
      "  Using cached networkx-3.4.2-py3-none-any.whl.metadata (6.3 kB)\n",
      "Requirement already satisfied: jinja2 in /home/gwenm/.pyenv/versions/3.10.6/envs/inspiart/lib/python3.10/site-packages (from torch) (3.1.6)\n",
      "Collecting fsspec (from torch)\n",
      "  Downloading fsspec-2025.9.0-py3-none-any.whl.metadata (10 kB)\n",
      "Collecting nvidia-cuda-nvrtc-cu12==12.8.93 (from torch)\n",
      "  Downloading nvidia_cuda_nvrtc_cu12-12.8.93-py3-none-manylinux2010_x86_64.manylinux_2_12_x86_64.whl.metadata (1.7 kB)\n",
      "Collecting nvidia-cuda-runtime-cu12==12.8.90 (from torch)\n",
      "  Downloading nvidia_cuda_runtime_cu12-12.8.90-py3-none-manylinux2014_x86_64.manylinux_2_17_x86_64.whl.metadata (1.7 kB)\n",
      "Collecting nvidia-cuda-cupti-cu12==12.8.90 (from torch)\n",
      "  Downloading nvidia_cuda_cupti_cu12-12.8.90-py3-none-manylinux2014_x86_64.manylinux_2_17_x86_64.whl.metadata (1.7 kB)\n",
      "Collecting nvidia-cudnn-cu12==9.10.2.21 (from torch)\n",
      "  Downloading nvidia_cudnn_cu12-9.10.2.21-py3-none-manylinux_2_27_x86_64.whl.metadata (1.8 kB)\n",
      "Collecting nvidia-cublas-cu12==12.8.4.1 (from torch)\n",
      "  Downloading nvidia_cublas_cu12-12.8.4.1-py3-none-manylinux_2_27_x86_64.whl.metadata (1.7 kB)\n",
      "Collecting nvidia-cufft-cu12==11.3.3.83 (from torch)\n",
      "  Downloading nvidia_cufft_cu12-11.3.3.83-py3-none-manylinux2014_x86_64.manylinux_2_17_x86_64.whl.metadata (1.7 kB)\n",
      "Collecting nvidia-curand-cu12==10.3.9.90 (from torch)\n",
      "  Downloading nvidia_curand_cu12-10.3.9.90-py3-none-manylinux_2_27_x86_64.whl.metadata (1.7 kB)\n",
      "Collecting nvidia-cusolver-cu12==11.7.3.90 (from torch)\n",
      "  Downloading nvidia_cusolver_cu12-11.7.3.90-py3-none-manylinux_2_27_x86_64.whl.metadata (1.8 kB)\n",
      "Collecting nvidia-cusparse-cu12==12.5.8.93 (from torch)\n",
      "  Downloading nvidia_cusparse_cu12-12.5.8.93-py3-none-manylinux2014_x86_64.manylinux_2_17_x86_64.whl.metadata (1.8 kB)\n",
      "Collecting nvidia-cusparselt-cu12==0.7.1 (from torch)\n",
      "  Downloading nvidia_cusparselt_cu12-0.7.1-py3-none-manylinux2014_x86_64.whl.metadata (7.0 kB)\n",
      "Collecting nvidia-nccl-cu12==2.27.3 (from torch)\n",
      "  Downloading nvidia_nccl_cu12-2.27.3-py3-none-manylinux2014_x86_64.manylinux_2_17_x86_64.whl.metadata (2.0 kB)\n",
      "Collecting nvidia-nvtx-cu12==12.8.90 (from torch)\n",
      "  Downloading nvidia_nvtx_cu12-12.8.90-py3-none-manylinux2014_x86_64.manylinux_2_17_x86_64.whl.metadata (1.8 kB)\n",
      "Collecting nvidia-nvjitlink-cu12==12.8.93 (from torch)\n",
      "  Downloading nvidia_nvjitlink_cu12-12.8.93-py3-none-manylinux2010_x86_64.manylinux_2_12_x86_64.whl.metadata (1.7 kB)\n",
      "Collecting nvidia-cufile-cu12==1.13.1.3 (from torch)\n",
      "  Downloading nvidia_cufile_cu12-1.13.1.3-py3-none-manylinux2014_x86_64.manylinux_2_17_x86_64.whl.metadata (1.7 kB)\n",
      "Collecting triton==3.4.0 (from torch)\n",
      "  Downloading triton-3.4.0-cp310-cp310-manylinux_2_27_x86_64.manylinux_2_28_x86_64.whl.metadata (1.7 kB)\n",
      "Requirement already satisfied: setuptools>=40.8.0 in /home/gwenm/.pyenv/versions/3.10.6/envs/inspiart/lib/python3.10/site-packages (from triton==3.4.0->torch) (63.2.0)\n",
      "Requirement already satisfied: numpy in /home/gwenm/.pyenv/versions/3.10.6/envs/inspiart/lib/python3.10/site-packages (from torchvision) (2.2.6)\n",
      "Requirement already satisfied: pillow!=8.3.*,>=5.3.0 in /home/gwenm/.pyenv/versions/3.10.6/envs/inspiart/lib/python3.10/site-packages (from torchvision) (11.3.0)\n",
      "Collecting mpmath<1.4,>=1.1.0 (from sympy>=1.13.3->torch)\n",
      "  Using cached mpmath-1.3.0-py3-none-any.whl.metadata (8.6 kB)\n",
      "Requirement already satisfied: MarkupSafe>=2.0 in /home/gwenm/.pyenv/versions/3.10.6/envs/inspiart/lib/python3.10/site-packages (from jinja2->torch) (3.0.2)\n",
      "Downloading torch-2.8.0-cp310-cp310-manylinux_2_28_x86_64.whl (888.0 MB)\n",
      "\u001b[2K   \u001b[90m━━━━━━━━━━━━━━━━━━━━━━━━━━━━━━━━━━━━━━━━\u001b[0m \u001b[32m888.0/888.0 MB\u001b[0m \u001b[31m30.7 MB/s\u001b[0m  \u001b[33m0:00:22\u001b[0mm0:00:01\u001b[0m00:01\u001b[0m\n",
      "\u001b[?25hDownloading nvidia_cublas_cu12-12.8.4.1-py3-none-manylinux_2_27_x86_64.whl (594.3 MB)\n",
      "\u001b[2K   \u001b[90m━━━━━━━━━━━━━━━━━━━━━━━━━━━━━━━━━━━━━━━━\u001b[0m \u001b[32m594.3/594.3 MB\u001b[0m \u001b[31m32.3 MB/s\u001b[0m  \u001b[33m0:00:13\u001b[0mm0:00:01\u001b[0m00:01\u001b[0m\n",
      "\u001b[?25hDownloading nvidia_cuda_cupti_cu12-12.8.90-py3-none-manylinux2014_x86_64.manylinux_2_17_x86_64.whl (10.2 MB)\n",
      "\u001b[2K   \u001b[90m━━━━━━━━━━━━━━━━━━━━━━━━━━━━━━━━━━━━━━━━\u001b[0m \u001b[32m10.2/10.2 MB\u001b[0m \u001b[31m49.4 MB/s\u001b[0m  \u001b[33m0:00:00\u001b[0mm0:00:01\u001b[0m\n",
      "\u001b[?25hDownloading nvidia_cuda_nvrtc_cu12-12.8.93-py3-none-manylinux2010_x86_64.manylinux_2_12_x86_64.whl (88.0 MB)\n",
      "\u001b[2K   \u001b[90m━━━━━━━━━━━━━━━━━━━━━━━━━━━━━━━━━━━━━━━━\u001b[0m \u001b[32m88.0/88.0 MB\u001b[0m \u001b[31m51.9 MB/s\u001b[0m  \u001b[33m0:00:01\u001b[0mm0:00:01\u001b[0m00:01\u001b[0m\n",
      "\u001b[?25hDownloading nvidia_cuda_runtime_cu12-12.8.90-py3-none-manylinux2014_x86_64.manylinux_2_17_x86_64.whl (954 kB)\n",
      "\u001b[2K   \u001b[90m━━━━━━━━━━━━━━━━━━━━━━━━━━━━━━━━━━━━━━━━\u001b[0m \u001b[32m954.8/954.8 kB\u001b[0m \u001b[31m19.8 MB/s\u001b[0m  \u001b[33m0:00:00\u001b[0m\n",
      "\u001b[?25hDownloading nvidia_cudnn_cu12-9.10.2.21-py3-none-manylinux_2_27_x86_64.whl (706.8 MB)\n",
      "\u001b[2K   \u001b[90m━━━━━━━━━━━━━━━━━━━━━━━━━━━━━━━━━━━━━━━━\u001b[0m \u001b[32m706.8/706.8 MB\u001b[0m \u001b[31m27.5 MB/s\u001b[0m  \u001b[33m0:00:16\u001b[0mm0:00:01\u001b[0m00:01\u001b[0m\n",
      "\u001b[?25hDownloading nvidia_cufft_cu12-11.3.3.83-py3-none-manylinux2014_x86_64.manylinux_2_17_x86_64.whl (193.1 MB)\n",
      "\u001b[2K   \u001b[90m━━━━━━━━━━━━━━━━━━━━━━━━━━━━━━━━━━━━━━━━\u001b[0m \u001b[32m193.1/193.1 MB\u001b[0m \u001b[31m30.5 MB/s\u001b[0m  \u001b[33m0:00:06\u001b[0mm0:00:01\u001b[0m00:01\u001b[0m\n",
      "\u001b[?25hDownloading nvidia_cufile_cu12-1.13.1.3-py3-none-manylinux2014_x86_64.manylinux_2_17_x86_64.whl (1.2 MB)\n",
      "\u001b[2K   \u001b[90m━━━━━━━━━━━━━━━━━━━━━━━━━━━━━━━━━━━━━━━━\u001b[0m \u001b[32m1.2/1.2 MB\u001b[0m \u001b[31m27.6 MB/s\u001b[0m  \u001b[33m0:00:00\u001b[0m\n",
      "\u001b[?25hDownloading nvidia_curand_cu12-10.3.9.90-py3-none-manylinux_2_27_x86_64.whl (63.6 MB)\n",
      "\u001b[2K   \u001b[90m━━━━━━━━━━━━━━━━━━━━━━━━━━━━━━━━━━━━━━━━\u001b[0m \u001b[32m63.6/63.6 MB\u001b[0m \u001b[31m34.9 MB/s\u001b[0m  \u001b[33m0:00:01\u001b[0mm0:00:01\u001b[0m00:01\u001b[0m\n",
      "\u001b[?25hDownloading nvidia_cusolver_cu12-11.7.3.90-py3-none-manylinux_2_27_x86_64.whl (267.5 MB)\n",
      "\u001b[2K   \u001b[90m━━━━━━━━━━━━━━━━━━━━━━━━━━━━━━━━━━━━━━━━\u001b[0m \u001b[32m267.5/267.5 MB\u001b[0m \u001b[31m39.2 MB/s\u001b[0m  \u001b[33m0:00:06\u001b[0mm0:00:01\u001b[0m00:01\u001b[0m\n",
      "\u001b[?25hDownloading nvidia_cusparse_cu12-12.5.8.93-py3-none-manylinux2014_x86_64.manylinux_2_17_x86_64.whl (288.2 MB)\n",
      "\u001b[2K   \u001b[90m━━━━━━━━━━━━━━━━━━━━━━━━━━━━━━━━━━━━━━━━\u001b[0m \u001b[32m288.2/288.2 MB\u001b[0m \u001b[31m38.8 MB/s\u001b[0m  \u001b[33m0:00:07\u001b[0mm0:00:01\u001b[0m00:01\u001b[0m\n",
      "\u001b[?25hDownloading nvidia_cusparselt_cu12-0.7.1-py3-none-manylinux2014_x86_64.whl (287.2 MB)\n",
      "\u001b[2K   \u001b[90m━━━━━━━━━━━━━━━━━━━━━━━━━━━━━━━━━━━━━━━━\u001b[0m \u001b[32m287.2/287.2 MB\u001b[0m \u001b[31m39.9 MB/s\u001b[0m  \u001b[33m0:00:06\u001b[0mm0:00:01\u001b[0m00:01\u001b[0m\n",
      "\u001b[?25hDownloading nvidia_nccl_cu12-2.27.3-py3-none-manylinux2014_x86_64.manylinux_2_17_x86_64.whl (322.4 MB)\n",
      "\u001b[2K   \u001b[90m━━━━━━━━━━━━━━━━━━━━━━━━━━━━━━━━━━━━━━━━\u001b[0m \u001b[32m322.4/322.4 MB\u001b[0m \u001b[31m39.7 MB/s\u001b[0m  \u001b[33m0:00:07\u001b[0mm0:00:01\u001b[0m00:01\u001b[0m\n",
      "\u001b[?25hDownloading nvidia_nvjitlink_cu12-12.8.93-py3-none-manylinux2010_x86_64.manylinux_2_12_x86_64.whl (39.3 MB)\n",
      "\u001b[2K   \u001b[90m━━━━━━━━━━━━━━━━━━━━━━━━━━━━━━━━━━━━━━━━\u001b[0m \u001b[32m39.3/39.3 MB\u001b[0m \u001b[31m44.9 MB/s\u001b[0m  \u001b[33m0:00:00\u001b[0mm0:00:01\u001b[0m00:01\u001b[0m\n",
      "\u001b[?25hDownloading nvidia_nvtx_cu12-12.8.90-py3-none-manylinux2014_x86_64.manylinux_2_17_x86_64.whl (89 kB)\n",
      "Downloading triton-3.4.0-cp310-cp310-manylinux_2_27_x86_64.manylinux_2_28_x86_64.whl (155.4 MB)\n",
      "\u001b[2K   \u001b[90m━━━━━━━━━━━━━━━━━━━━━━━━━━━━━━━━━━━━━━━━\u001b[0m \u001b[32m155.4/155.4 MB\u001b[0m \u001b[31m41.3 MB/s\u001b[0m  \u001b[33m0:00:03\u001b[0mm0:00:01\u001b[0m00:01\u001b[0m\n",
      "\u001b[?25hDownloading torchvision-0.23.0-cp310-cp310-manylinux_2_28_x86_64.whl (8.6 MB)\n",
      "\u001b[2K   \u001b[90m━━━━━━━━━━━━━━━━━━━━━━━━━━━━━━━━━━━━━━━━\u001b[0m \u001b[32m8.6/8.6 MB\u001b[0m \u001b[31m25.7 MB/s\u001b[0m  \u001b[33m0:00:00\u001b[0m eta \u001b[36m0:00:01\u001b[0m\n",
      "\u001b[?25hUsing cached sympy-1.14.0-py3-none-any.whl (6.3 MB)\n",
      "Using cached mpmath-1.3.0-py3-none-any.whl (536 kB)\n",
      "Using cached filelock-3.19.1-py3-none-any.whl (15 kB)\n",
      "Downloading fsspec-2025.9.0-py3-none-any.whl (199 kB)\n",
      "Using cached networkx-3.4.2-py3-none-any.whl (1.7 MB)\n",
      "Installing collected packages: nvidia-cusparselt-cu12, mpmath, triton, sympy, nvidia-nvtx-cu12, nvidia-nvjitlink-cu12, nvidia-nccl-cu12, nvidia-curand-cu12, nvidia-cufile-cu12, nvidia-cuda-runtime-cu12, nvidia-cuda-nvrtc-cu12, nvidia-cuda-cupti-cu12, nvidia-cublas-cu12, networkx, fsspec, filelock, nvidia-cusparse-cu12, nvidia-cufft-cu12, nvidia-cudnn-cu12, nvidia-cusolver-cu12, torch, torchvision\n",
      "\u001b[2K  Attempting uninstall: nvidia-nvjitlink-cu12━━━━━━━━━━━━━━━━━━━━━\u001b[0m \u001b[32m 3/22\u001b[0m [sympy]]\n",
      "\u001b[2K    Found existing installation: nvidia-nvjitlink-cu12 12.9.86━━━━\u001b[0m \u001b[32m 5/22\u001b[0m [nvidia-nvjitlink-cu12]\n",
      "\u001b[2K    Uninstalling nvidia-nvjitlink-cu12-12.9.86:━━━━━━━━━━━━━━━\u001b[0m \u001b[32m 5/22\u001b[0m [nvidia-nvjitlink-cu12]\n",
      "\u001b[2K      Successfully uninstalled nvidia-nvjitlink-cu12-12.9.86━━\u001b[0m \u001b[32m 5/22\u001b[0m [nvidia-nvjitlink-cu12]\n",
      "\u001b[2K  Attempting uninstall: nvidia-nccl-cu12━━━━━━━━━━━━━━━━━━━━━━━━━━\u001b[0m \u001b[32m 5/22\u001b[0m [nvidia-nvjitlink-cu12]\n",
      "\u001b[2K    Found existing installation: nvidia-nccl-cu12 2.27.7━━━━━━\u001b[0m \u001b[32m 5/22\u001b[0m [nvidia-nvjitlink-cu12]\n",
      "\u001b[2K    Uninstalling nvidia-nccl-cu12-2.27.7:━━━━━━━━━━━━━━━━━━━━━\u001b[0m \u001b[32m 5/22\u001b[0m [nvidia-nvjitlink-cu12]\n",
      "\u001b[2K      Successfully uninstalled nvidia-nccl-cu12-2.27.7━━━━━━━━\u001b[0m \u001b[32m 5/22\u001b[0m [nvidia-nvjitlink-cu12]\n",
      "\u001b[2K  Attempting uninstall: nvidia-curand-cu12━━━━━━━━━━━━━━━━━━━━━━━━\u001b[0m \u001b[32m 6/22\u001b[0m [nvidia-nccl-cu12]]\n",
      "\u001b[2K    Found existing installation: nvidia-curand-cu12 10.3.10.19\u001b[0m \u001b[32m 6/22\u001b[0m [nvidia-nccl-cu12]\n",
      "\u001b[2K    Uninstalling nvidia-curand-cu12-10.3.10.19:━━━━━━━━━━━━━━━\u001b[0m \u001b[32m 6/22\u001b[0m [nvidia-nccl-cu12]\n",
      "\u001b[2K      Successfully uninstalled nvidia-curand-cu12-10.3.10.19━━\u001b[0m \u001b[32m 6/22\u001b[0m [nvidia-nccl-cu12]\n",
      "\u001b[2K  Attempting uninstall: nvidia-cuda-runtime-cu12━━━━━━━━━━━━━━━━━━\u001b[0m \u001b[32m 7/22\u001b[0m [nvidia-curand-cu12]\n",
      "\u001b[2K    Found existing installation: nvidia-cuda-runtime-cu12 12.9.79m \u001b[32m 7/22\u001b[0m [nvidia-curand-cu12]\n",
      "\u001b[2K    Uninstalling nvidia-cuda-runtime-cu12-12.9.79:━━━━━━━━━━━━\u001b[0m \u001b[32m 7/22\u001b[0m [nvidia-curand-cu12]\n",
      "\u001b[2K      Successfully uninstalled nvidia-cuda-runtime-cu12-12.9.79[0m \u001b[32m 7/22\u001b[0m [nvidia-curand-cu12]\n",
      "\u001b[2K  Attempting uninstall: nvidia-cuda-nvrtc-cu12━━━━━━━━━━━━━━━━━━━━\u001b[0m \u001b[32m 9/22\u001b[0m [nvidia-cuda-runtime-cu12]\n",
      "\u001b[2K    Found existing installation: nvidia-cuda-nvrtc-cu12 12.9.86[0m \u001b[32m 9/22\u001b[0m [nvidia-cuda-runtime-cu12]\n",
      "\u001b[2K    Uninstalling nvidia-cuda-nvrtc-cu12-12.9.86:━━━━━━━━━━━━━━\u001b[0m \u001b[32m 9/22\u001b[0m [nvidia-cuda-runtime-cu12]\n",
      "\u001b[2K      Successfully uninstalled nvidia-cuda-nvrtc-cu12-12.9.86━━━━━\u001b[0m \u001b[32m10/22\u001b[0m [nvidia-cuda-nvrtc-cu12]\n",
      "\u001b[2K  Attempting uninstall: nvidia-cuda-cupti-cu12━━━━━━━━━━━━━━━━━━━━\u001b[0m \u001b[32m10/22\u001b[0m [nvidia-cuda-nvrtc-cu12]\n",
      "\u001b[2K    Found existing installation: nvidia-cuda-cupti-cu12 12.9.79[0m \u001b[32m10/22\u001b[0m [nvidia-cuda-nvrtc-cu12]\n",
      "\u001b[2K    Uninstalling nvidia-cuda-cupti-cu12-12.9.79:━━━━━━━━━━━━━━\u001b[0m \u001b[32m10/22\u001b[0m [nvidia-cuda-nvrtc-cu12]\n",
      "\u001b[2K      Successfully uninstalled nvidia-cuda-cupti-cu12-12.9.79━\u001b[0m \u001b[32m10/22\u001b[0m [nvidia-cuda-nvrtc-cu12]\n",
      "\u001b[2K  Attempting uninstall: nvidia-cublas-cu12\u001b[90m━━━━━━━━━━━━━━━━━━━\u001b[0m \u001b[32m11/22\u001b[0m [nvidia-cuda-cupti-cu12]\n",
      "\u001b[2K    Found existing installation: nvidia-cublas-cu12 12.9.1.4━━\u001b[0m \u001b[32m11/22\u001b[0m [nvidia-cuda-cupti-cu12]\n",
      "\u001b[2K    Uninstalling nvidia-cublas-cu12-12.9.1.4:━━━━━━━━━━━━━━━━━\u001b[0m \u001b[32m11/22\u001b[0m [nvidia-cuda-cupti-cu12]\n",
      "\u001b[2K      Successfully uninstalled nvidia-cublas-cu12-12.9.1.4━━━━\u001b[0m \u001b[32m11/22\u001b[0m [nvidia-cuda-cupti-cu12]\n",
      "\u001b[2K  Attempting uninstall: nvidia-cusparse-cu12[0m\u001b[90m━━━━━━━━━━━━━━\u001b[0m \u001b[32m14/22\u001b[0m [fsspec]x]blas-cu12]\n",
      "\u001b[2K    Found existing installation: nvidia-cusparse-cu12 12.5.10.650m \u001b[32m14/22\u001b[0m [fsspec]\n",
      "\u001b[2K    Uninstalling nvidia-cusparse-cu12-12.5.10.65:━━━━━━━━━━━━━\u001b[0m \u001b[32m14/22\u001b[0m [fsspec]\n",
      "\u001b[2K      Successfully uninstalled nvidia-cusparse-cu12-12.5.10.65\u001b[0m \u001b[32m14/22\u001b[0m [fsspec]\n",
      "\u001b[2K  Attempting uninstall: nvidia-cufft-cu12\u001b[90m╺\u001b[0m\u001b[90m━━━━━━━━━━\u001b[0m \u001b[32m16/22\u001b[0m [nvidia-cusparse-cu12]\n",
      "\u001b[2K    Found existing installation: nvidia-cufft-cu12 11.4.1.4━━━\u001b[0m \u001b[32m16/22\u001b[0m [nvidia-cusparse-cu12]\n",
      "\u001b[2K    Uninstalling nvidia-cufft-cu12-11.4.1.4:[0m\u001b[90m━━━━━━━━━━\u001b[0m \u001b[32m16/22\u001b[0m [nvidia-cusparse-cu12]\n",
      "\u001b[2K      Successfully uninstalled nvidia-cufft-cu12-11.4.1.4━━━━━\u001b[0m \u001b[32m16/22\u001b[0m [nvidia-cusparse-cu12]\n",
      "\u001b[2K  Attempting uninstall: nvidia-cudnn-cu12m\u001b[91m╸\u001b[0m\u001b[90m━━━━━━━━━\u001b[0m \u001b[32m17/22\u001b[0m [nvidia-cufft-cu12]\n",
      "\u001b[2K    Found existing installation: nvidia-cudnn-cu12 9.12.0.46━━\u001b[0m \u001b[32m17/22\u001b[0m [nvidia-cufft-cu12]\n",
      "\u001b[2K    Uninstalling nvidia-cudnn-cu12-9.12.0.46:[0m\u001b[90m━━━━━━━━━\u001b[0m \u001b[32m17/22\u001b[0m [nvidia-cufft-cu12]\n",
      "\u001b[2K      Successfully uninstalled nvidia-cudnn-cu12-9.12.0.46━━━━\u001b[0m \u001b[32m17/22\u001b[0m [nvidia-cufft-cu12]\n",
      "\u001b[2K  Attempting uninstall: nvidia-cusolver-cu12\u001b[91m╸\u001b[0m\u001b[90m━━━━━━━\u001b[0m \u001b[32m18/22\u001b[0m [nvidia-cudnn-cu12]\n",
      "\u001b[2K    Found existing installation: nvidia-cusolver-cu12 11.7.5.82[0m \u001b[32m18/22\u001b[0m [nvidia-cudnn-cu12]\n",
      "\u001b[2K    Uninstalling nvidia-cusolver-cu12-11.7.5.82:0m\u001b[90m━━━━━━━\u001b[0m \u001b[32m18/22\u001b[0m [nvidia-cudnn-cu12]\n",
      "\u001b[2K      Successfully uninstalled nvidia-cusolver-cu12-11.7.5.82━\u001b[0m \u001b[32m18/22\u001b[0m [nvidia-cudnn-cu12]\n",
      "\u001b[2K   \u001b[90m━━━━━━━━━━━━━━━━━━━━━━━━━━━━━━━━━━━━━━━━\u001b[0m \u001b[32m22/22\u001b[0m [torchvision]\u001b[0m [torchvision]ver-cu12]\n",
      "\u001b[1A\u001b[2KSuccessfully installed filelock-3.19.1 fsspec-2025.9.0 mpmath-1.3.0 networkx-3.4.2 nvidia-cublas-cu12-12.8.4.1 nvidia-cuda-cupti-cu12-12.8.90 nvidia-cuda-nvrtc-cu12-12.8.93 nvidia-cuda-runtime-cu12-12.8.90 nvidia-cudnn-cu12-9.10.2.21 nvidia-cufft-cu12-11.3.3.83 nvidia-cufile-cu12-1.13.1.3 nvidia-curand-cu12-10.3.9.90 nvidia-cusolver-cu12-11.7.3.90 nvidia-cusparse-cu12-12.5.8.93 nvidia-cusparselt-cu12-0.7.1 nvidia-nccl-cu12-2.27.3 nvidia-nvjitlink-cu12-12.8.93 nvidia-nvtx-cu12-12.8.90 sympy-1.14.0 torch-2.8.0 torchvision-0.23.0 triton-3.4.0\n"
     ]
    }
   ],
   "source": [
    "!pip install torch torchvision"
   ]
  },
  {
   "cell_type": "code",
   "execution_count": 33,
   "id": "2361bb44",
   "metadata": {},
   "outputs": [],
   "source": [
    "import os, random, json\n",
    "from pathlib import Path\n",
    "import numpy as np\n",
    "import pandas as pd\n",
    "import torch, torch.nn as nn\n",
    "from torch.utils.data import DataLoader, Subset, WeightedRandomSampler\n",
    "from torchvision import datasets\n",
    "from sklearn.metrics import classification_report, confusion_matrix\n",
    "from collections import Counter\n",
    "from PIL import Image\n",
    "import os\n",
    "from sklearn.model_selection import train_test_split\n",
    "import torch\n"
   ]
  },
  {
   "cell_type": "code",
   "execution_count": null,
   "id": "7ac5fa0c",
   "metadata": {},
   "outputs": [],
   "source": [
    "# import timm\n",
    "# from timm.data import resolve_model_data_config, create_transform\n",
    "# from tqdm import tqdm"
   ]
  },
  {
   "cell_type": "code",
   "execution_count": 6,
   "id": "287aa55e",
   "metadata": {},
   "outputs": [
    {
     "name": "stdout",
     "output_type": "stream",
     "text": [
      "Vérification des dossiers :\n",
      "  DATA_DIR: OK\n",
      "  OUT_DIR: OK\n"
     ]
    }
   ],
   "source": [
    "# Reproducibility\n",
    "SEED = 42\n",
    "random.seed(SEED)\n",
    "np.random.seed(SEED)\n",
    "torch.manual_seed(SEED)\n",
    "\n",
    "# Folders\n",
    "DATA_DIR = Path(\"../raw_data/sample1000BALANCED\")\n",
    "OUT_DIR  = Path(\"../models\")\n",
    "\n",
    "# Checking if it exists\n",
    "status = {}\n",
    "\n",
    "status[\"DATA_DIR\"] = \"OK\" if DATA_DIR.exists() else \"NON\"\n",
    "if not OUT_DIR.exists():\n",
    "    OUT_DIR.mkdir(parents=True, exist_ok=True)\n",
    "status[\"OUT_DIR\"] = \"OK\" if OUT_DIR.exists() else \"NON\"\n",
    "\n",
    "# Print\n",
    "print(\"Vérification des dossiers :\")\n",
    "for key, val in status.items():\n",
    "    print(f\"  {key}: {val}\")"
   ]
  },
  {
   "cell_type": "markdown",
   "id": "f49c295a",
   "metadata": {},
   "source": [
    "## Dataset loading (1000 imgs / 10 classes)"
   ]
  },
  {
   "cell_type": "code",
   "execution_count": 10,
   "id": "f07506bb",
   "metadata": {},
   "outputs": [
    {
     "data": {
      "text/html": [
       "<div>\n",
       "<style scoped>\n",
       "    .dataframe tbody tr th:only-of-type {\n",
       "        vertical-align: middle;\n",
       "    }\n",
       "\n",
       "    .dataframe tbody tr th {\n",
       "        vertical-align: top;\n",
       "    }\n",
       "\n",
       "    .dataframe thead th {\n",
       "        text-align: right;\n",
       "    }\n",
       "</style>\n",
       "<table border=\"1\" class=\"dataframe\">\n",
       "  <thead>\n",
       "    <tr style=\"text-align: right;\">\n",
       "      <th></th>\n",
       "      <th>artist</th>\n",
       "      <th>style</th>\n",
       "      <th>movement</th>\n",
       "      <th>tags</th>\n",
       "      <th>url</th>\n",
       "      <th>img</th>\n",
       "      <th>file_name</th>\n",
       "      <th>genre_list</th>\n",
       "      <th>Artwork</th>\n",
       "      <th>Date</th>\n",
       "    </tr>\n",
       "  </thead>\n",
       "  <tbody>\n",
       "    <tr>\n",
       "      <th>0</th>\n",
       "      <td>Panayiotis Tetsis</td>\n",
       "      <td>Impressionism</td>\n",
       "      <td>Post-Impressionism</td>\n",
       "      <td>NaN</td>\n",
       "      <td>https://www.wikiart.org/en/panayiotis-tetsis/s...</td>\n",
       "      <td>https://uploads3.wikiart.org/images/panayiotis...</td>\n",
       "      <td>127519-sunset.jpg</td>\n",
       "      <td>['cloudscape']</td>\n",
       "      <td>NaN</td>\n",
       "      <td>NaN</td>\n",
       "    </tr>\n",
       "    <tr>\n",
       "      <th>1</th>\n",
       "      <td>Henry Scott Tuke</td>\n",
       "      <td>Impressionism</td>\n",
       "      <td>Impressionism</td>\n",
       "      <td>['Fun', 'Vacation', 'summer']</td>\n",
       "      <td>https://www.wikiart.org/en/henry-scott-tuke/th...</td>\n",
       "      <td>https://uploads5.wikiart.org/00261/images/henr...</td>\n",
       "      <td>100529-henry-scott-tuke-the-bathers-1922.jpg</td>\n",
       "      <td>['genre painting']</td>\n",
       "      <td>NaN</td>\n",
       "      <td>NaN</td>\n",
       "    </tr>\n",
       "    <tr>\n",
       "      <th>2</th>\n",
       "      <td>Alfred Sisley</td>\n",
       "      <td>Impressionism</td>\n",
       "      <td>Impressionism</td>\n",
       "      <td>['fires-and-floods', 'forests-and-trees', 'Ban...</td>\n",
       "      <td>https://www.wikiart.org/en/alfred-sisley/the-f...</td>\n",
       "      <td>https://uploads1.wikiart.org/images/alfred-sis...</td>\n",
       "      <td>92312-the-flood-on-the-road-to-saint-germain-1...</td>\n",
       "      <td>['landscape']</td>\n",
       "      <td>NaN</td>\n",
       "      <td>NaN</td>\n",
       "    </tr>\n",
       "    <tr>\n",
       "      <th>3</th>\n",
       "      <td>Camille Pissarro</td>\n",
       "      <td>Impressionism</td>\n",
       "      <td>Impressionism</td>\n",
       "      <td>['Grassland', 'Meadow', 'Pasture', 'Plain']</td>\n",
       "      <td>https://www.wikiart.org/en/camille-pissarro/ro...</td>\n",
       "      <td>https://uploads2.wikiart.org/images/camille-pi...</td>\n",
       "      <td>90106-rolling-landscape-in-winter-1875.jpg</td>\n",
       "      <td>['landscape']</td>\n",
       "      <td>NaN</td>\n",
       "      <td>NaN</td>\n",
       "    </tr>\n",
       "    <tr>\n",
       "      <th>4</th>\n",
       "      <td>Guy Rose</td>\n",
       "      <td>Impressionism</td>\n",
       "      <td>Impressionism</td>\n",
       "      <td>['seas-and-oceans', 'cliffs-and-rocks', 'Bank'...</td>\n",
       "      <td>https://www.wikiart.org/en/guy-rose/grey-after...</td>\n",
       "      <td>https://uploads3.wikiart.org/images/guy-rose/g...</td>\n",
       "      <td>104411-grey-afternoon.jpg</td>\n",
       "      <td>['landscape']</td>\n",
       "      <td>NaN</td>\n",
       "      <td>NaN</td>\n",
       "    </tr>\n",
       "  </tbody>\n",
       "</table>\n",
       "</div>"
      ],
      "text/plain": [
       "              artist          style            movement  \\\n",
       "0  Panayiotis Tetsis  Impressionism  Post-Impressionism   \n",
       "1   Henry Scott Tuke  Impressionism       Impressionism   \n",
       "2      Alfred Sisley  Impressionism       Impressionism   \n",
       "3   Camille Pissarro  Impressionism       Impressionism   \n",
       "4           Guy Rose  Impressionism       Impressionism   \n",
       "\n",
       "                                                tags  \\\n",
       "0                                                NaN   \n",
       "1                      ['Fun', 'Vacation', 'summer']   \n",
       "2  ['fires-and-floods', 'forests-and-trees', 'Ban...   \n",
       "3        ['Grassland', 'Meadow', 'Pasture', 'Plain']   \n",
       "4  ['seas-and-oceans', 'cliffs-and-rocks', 'Bank'...   \n",
       "\n",
       "                                                 url  \\\n",
       "0  https://www.wikiart.org/en/panayiotis-tetsis/s...   \n",
       "1  https://www.wikiart.org/en/henry-scott-tuke/th...   \n",
       "2  https://www.wikiart.org/en/alfred-sisley/the-f...   \n",
       "3  https://www.wikiart.org/en/camille-pissarro/ro...   \n",
       "4  https://www.wikiart.org/en/guy-rose/grey-after...   \n",
       "\n",
       "                                                 img  \\\n",
       "0  https://uploads3.wikiart.org/images/panayiotis...   \n",
       "1  https://uploads5.wikiart.org/00261/images/henr...   \n",
       "2  https://uploads1.wikiart.org/images/alfred-sis...   \n",
       "3  https://uploads2.wikiart.org/images/camille-pi...   \n",
       "4  https://uploads3.wikiart.org/images/guy-rose/g...   \n",
       "\n",
       "                                           file_name          genre_list  \\\n",
       "0                                  127519-sunset.jpg      ['cloudscape']   \n",
       "1       100529-henry-scott-tuke-the-bathers-1922.jpg  ['genre painting']   \n",
       "2  92312-the-flood-on-the-road-to-saint-germain-1...       ['landscape']   \n",
       "3         90106-rolling-landscape-in-winter-1875.jpg       ['landscape']   \n",
       "4                          104411-grey-afternoon.jpg       ['landscape']   \n",
       "\n",
       "  Artwork Date  \n",
       "0     NaN  NaN  \n",
       "1     NaN  NaN  \n",
       "2     NaN  NaN  \n",
       "3     NaN  NaN  \n",
       "4     NaN  NaN  "
      ]
     },
     "execution_count": 10,
     "metadata": {},
     "output_type": "execute_result"
    }
   ],
   "source": [
    "df = pd.read_csv('../raw_data/data_sampling1000_topstyles10.csv')\n",
    "df.head()"
   ]
  },
  {
   "cell_type": "code",
   "execution_count": 13,
   "id": "235fe0a4",
   "metadata": {},
   "outputs": [],
   "source": [
    "list_images= df['file_name'].unique().tolist()"
   ]
  },
  {
   "cell_type": "markdown",
   "id": "d30d14f3",
   "metadata": {},
   "source": [
    "# Train test split"
   ]
  },
  {
   "cell_type": "code",
   "execution_count": 21,
   "id": "75618830",
   "metadata": {},
   "outputs": [],
   "source": [
    "X = df[['file_name']]  # files name only\n",
    "y = df['style']        # classes\n",
    "\n",
    "X_train, X_test, y_train, y_test = train_test_split(\n",
    "    X, y,\n",
    "    test_size=0.3,\n",
    "    stratify=y,\n",
    "    random_state=SEED\n",
    ")"
   ]
  },
  {
   "cell_type": "code",
   "execution_count": 22,
   "id": "a93459d1",
   "metadata": {},
   "outputs": [
    {
     "data": {
      "text/html": [
       "<div>\n",
       "<style scoped>\n",
       "    .dataframe tbody tr th:only-of-type {\n",
       "        vertical-align: middle;\n",
       "    }\n",
       "\n",
       "    .dataframe tbody tr th {\n",
       "        vertical-align: top;\n",
       "    }\n",
       "\n",
       "    .dataframe thead th {\n",
       "        text-align: right;\n",
       "    }\n",
       "</style>\n",
       "<table border=\"1\" class=\"dataframe\">\n",
       "  <thead>\n",
       "    <tr style=\"text-align: right;\">\n",
       "      <th></th>\n",
       "      <th>file_name</th>\n",
       "    </tr>\n",
       "  </thead>\n",
       "  <tbody>\n",
       "    <tr>\n",
       "      <th>523</th>\n",
       "      <td>188044-untitled-man-with-hat-and-horn-1961.jpg</td>\n",
       "    </tr>\n",
       "    <tr>\n",
       "      <th>341</th>\n",
       "      <td>133894-dois-nus-1930.jpg</td>\n",
       "    </tr>\n",
       "    <tr>\n",
       "      <th>981</th>\n",
       "      <td>123606-el-paseo-de-colon-1917.jpg</td>\n",
       "    </tr>\n",
       "    <tr>\n",
       "      <th>903</th>\n",
       "      <td>158255-soldier-of-the-first-division-1914.jpg</td>\n",
       "    </tr>\n",
       "    <tr>\n",
       "      <th>856</th>\n",
       "      <td>34241-the-tambourine-player-1909.jpg</td>\n",
       "    </tr>\n",
       "  </tbody>\n",
       "</table>\n",
       "</div>"
      ],
      "text/plain": [
       "                                          file_name\n",
       "523  188044-untitled-man-with-hat-and-horn-1961.jpg\n",
       "341                        133894-dois-nus-1930.jpg\n",
       "981               123606-el-paseo-de-colon-1917.jpg\n",
       "903   158255-soldier-of-the-first-division-1914.jpg\n",
       "856            34241-the-tambourine-player-1909.jpg"
      ]
     },
     "execution_count": 22,
     "metadata": {},
     "output_type": "execute_result"
    }
   ],
   "source": [
    "X_train.head()"
   ]
  },
  {
   "cell_type": "markdown",
   "id": "d74ef786",
   "metadata": {},
   "source": [
    "# Create a dataframe with 2 columns : img and style (for test and for train)"
   ]
  },
  {
   "cell_type": "code",
   "execution_count": null,
   "id": "bfa38700",
   "metadata": {},
   "outputs": [],
   "source": [
    "# Training dataframe\n",
    "df_train = X_train.copy()\n",
    "df_train['style'] = y_train\n",
    "df_train = df_train.reset_index(drop=True)"
   ]
  },
  {
   "cell_type": "code",
   "execution_count": null,
   "id": "837d4c94",
   "metadata": {},
   "outputs": [],
   "source": [
    "# Testing dataframe\n",
    "df_test = X_test.copy()\n",
    "df_test['style'] = y_test\n",
    "df_test = df_test.reset_index(drop=True)"
   ]
  },
  {
   "cell_type": "code",
   "execution_count": 25,
   "id": "e3caca44",
   "metadata": {},
   "outputs": [
    {
     "data": {
      "text/html": [
       "<div>\n",
       "<style scoped>\n",
       "    .dataframe tbody tr th:only-of-type {\n",
       "        vertical-align: middle;\n",
       "    }\n",
       "\n",
       "    .dataframe tbody tr th {\n",
       "        vertical-align: top;\n",
       "    }\n",
       "\n",
       "    .dataframe thead th {\n",
       "        text-align: right;\n",
       "    }\n",
       "</style>\n",
       "<table border=\"1\" class=\"dataframe\">\n",
       "  <thead>\n",
       "    <tr style=\"text-align: right;\">\n",
       "      <th></th>\n",
       "      <th>file_name</th>\n",
       "      <th>style</th>\n",
       "    </tr>\n",
       "  </thead>\n",
       "  <tbody>\n",
       "    <tr>\n",
       "      <th>0</th>\n",
       "      <td>188044-untitled-man-with-hat-and-horn-1961.jpg</td>\n",
       "      <td>Surrealism</td>\n",
       "    </tr>\n",
       "    <tr>\n",
       "      <th>1</th>\n",
       "      <td>133894-dois-nus-1930.jpg</td>\n",
       "      <td>Expressionism</td>\n",
       "    </tr>\n",
       "    <tr>\n",
       "      <th>2</th>\n",
       "      <td>123606-el-paseo-de-colon-1917.jpg</td>\n",
       "      <td>Cubism</td>\n",
       "    </tr>\n",
       "    <tr>\n",
       "      <th>3</th>\n",
       "      <td>158255-soldier-of-the-first-division-1914.jpg</td>\n",
       "      <td>Cubism</td>\n",
       "    </tr>\n",
       "    <tr>\n",
       "      <th>4</th>\n",
       "      <td>34241-the-tambourine-player-1909.jpg</td>\n",
       "      <td>Neoclassicism</td>\n",
       "    </tr>\n",
       "  </tbody>\n",
       "</table>\n",
       "</div>"
      ],
      "text/plain": [
       "                                        file_name          style\n",
       "0  188044-untitled-man-with-hat-and-horn-1961.jpg     Surrealism\n",
       "1                        133894-dois-nus-1930.jpg  Expressionism\n",
       "2               123606-el-paseo-de-colon-1917.jpg         Cubism\n",
       "3   158255-soldier-of-the-first-division-1914.jpg         Cubism\n",
       "4            34241-the-tambourine-player-1909.jpg  Neoclassicism"
      ]
     },
     "execution_count": 25,
     "metadata": {},
     "output_type": "execute_result"
    }
   ],
   "source": [
    "df_train.head()"
   ]
  },
  {
   "cell_type": "code",
   "execution_count": 26,
   "id": "f62e16c1",
   "metadata": {},
   "outputs": [
    {
     "data": {
      "text/html": [
       "<div>\n",
       "<style scoped>\n",
       "    .dataframe tbody tr th:only-of-type {\n",
       "        vertical-align: middle;\n",
       "    }\n",
       "\n",
       "    .dataframe tbody tr th {\n",
       "        vertical-align: top;\n",
       "    }\n",
       "\n",
       "    .dataframe thead th {\n",
       "        text-align: right;\n",
       "    }\n",
       "</style>\n",
       "<table border=\"1\" class=\"dataframe\">\n",
       "  <thead>\n",
       "    <tr style=\"text-align: right;\">\n",
       "      <th></th>\n",
       "      <th>file_name</th>\n",
       "      <th>style</th>\n",
       "    </tr>\n",
       "  </thead>\n",
       "  <tbody>\n",
       "    <tr>\n",
       "      <th>0</th>\n",
       "      <td>185097-leda-atomica.jpeg!Large.jpeg</td>\n",
       "      <td>Surrealism</td>\n",
       "    </tr>\n",
       "    <tr>\n",
       "      <th>1</th>\n",
       "      <td>111637-seated-man-study-for-bathers-at-asniere...</td>\n",
       "      <td>Post-Impressionism</td>\n",
       "    </tr>\n",
       "    <tr>\n",
       "      <th>2</th>\n",
       "      <td>38857-charlet-n-t-lithography-a-moi-les-ancien...</td>\n",
       "      <td>Romanticism</td>\n",
       "    </tr>\n",
       "    <tr>\n",
       "      <th>3</th>\n",
       "      <td>122700-forest-path-1911.jpg</td>\n",
       "      <td>Post-Impressionism</td>\n",
       "    </tr>\n",
       "    <tr>\n",
       "      <th>4</th>\n",
       "      <td>188227-suite-instruments-de-tortura-1956-1.jpg</td>\n",
       "      <td>Surrealism</td>\n",
       "    </tr>\n",
       "  </tbody>\n",
       "</table>\n",
       "</div>"
      ],
      "text/plain": [
       "                                           file_name               style\n",
       "0                185097-leda-atomica.jpeg!Large.jpeg          Surrealism\n",
       "1  111637-seated-man-study-for-bathers-at-asniere...  Post-Impressionism\n",
       "2  38857-charlet-n-t-lithography-a-moi-les-ancien...         Romanticism\n",
       "3                        122700-forest-path-1911.jpg  Post-Impressionism\n",
       "4     188227-suite-instruments-de-tortura-1956-1.jpg          Surrealism"
      ]
     },
     "execution_count": 26,
     "metadata": {},
     "output_type": "execute_result"
    }
   ],
   "source": [
    "df_test.head()"
   ]
  },
  {
   "cell_type": "markdown",
   "id": "ccf68ee7",
   "metadata": {},
   "source": [
    "# Encode labels"
   ]
  },
  {
   "cell_type": "code",
   "execution_count": 34,
   "id": "5b358205",
   "metadata": {},
   "outputs": [],
   "source": [
    "# mapp to have a number between 0 and 10 and not a str for the style\n",
    "label2idx = {label: i for i, label in enumerate(df_train['style'].unique())}\n",
    "\n",
    "# Ajouter la colonne label_idx dans train et test\n",
    "df_train['label_idx'] = df_train['style'].map(label2idx)\n",
    "df_test['label_idx']  = df_test['style'].map(label2idx)"
   ]
  },
  {
   "cell_type": "markdown",
   "id": "4d2ba826",
   "metadata": {},
   "source": [
    "# Load the model "
   ]
  },
  {
   "cell_type": "code",
   "execution_count": 28,
   "id": "57bd2743",
   "metadata": {},
   "outputs": [
    {
     "name": "stdout",
     "output_type": "stream",
     "text": [
      "Collecting open-clip-torch\n",
      "  Downloading open_clip_torch-3.1.0-py3-none-any.whl.metadata (32 kB)\n",
      "Requirement already satisfied: torch>=2.0 in /home/gwenm/.pyenv/versions/3.10.6/envs/inspiart/lib/python3.10/site-packages (from open-clip-torch) (2.8.0)\n",
      "Requirement already satisfied: torchvision in /home/gwenm/.pyenv/versions/3.10.6/envs/inspiart/lib/python3.10/site-packages (from open-clip-torch) (0.23.0)\n",
      "Collecting regex (from open-clip-torch)\n",
      "  Downloading regex-2025.9.1-cp310-cp310-manylinux2014_x86_64.manylinux_2_17_x86_64.manylinux_2_28_x86_64.whl.metadata (40 kB)\n",
      "Collecting ftfy (from open-clip-torch)\n",
      "  Downloading ftfy-6.3.1-py3-none-any.whl.metadata (7.3 kB)\n",
      "Requirement already satisfied: tqdm in /home/gwenm/.pyenv/versions/3.10.6/envs/inspiart/lib/python3.10/site-packages (from open-clip-torch) (4.67.1)\n",
      "Collecting huggingface-hub (from open-clip-torch)\n",
      "  Using cached huggingface_hub-0.34.4-py3-none-any.whl.metadata (14 kB)\n",
      "Collecting safetensors (from open-clip-torch)\n",
      "  Downloading safetensors-0.6.2-cp38-abi3-manylinux_2_17_x86_64.manylinux2014_x86_64.whl.metadata (4.1 kB)\n",
      "Collecting timm>=1.0.17 (from open-clip-torch)\n",
      "  Downloading timm-1.0.19-py3-none-any.whl.metadata (60 kB)\n",
      "Requirement already satisfied: pyyaml in /home/gwenm/.pyenv/versions/3.10.6/envs/inspiart/lib/python3.10/site-packages (from timm>=1.0.17->open-clip-torch) (6.0.2)\n",
      "Requirement already satisfied: filelock in /home/gwenm/.pyenv/versions/3.10.6/envs/inspiart/lib/python3.10/site-packages (from torch>=2.0->open-clip-torch) (3.19.1)\n",
      "Requirement already satisfied: typing-extensions>=4.10.0 in /home/gwenm/.pyenv/versions/3.10.6/envs/inspiart/lib/python3.10/site-packages (from torch>=2.0->open-clip-torch) (4.15.0)\n",
      "Requirement already satisfied: sympy>=1.13.3 in /home/gwenm/.pyenv/versions/3.10.6/envs/inspiart/lib/python3.10/site-packages (from torch>=2.0->open-clip-torch) (1.14.0)\n",
      "Requirement already satisfied: networkx in /home/gwenm/.pyenv/versions/3.10.6/envs/inspiart/lib/python3.10/site-packages (from torch>=2.0->open-clip-torch) (3.4.2)\n",
      "Requirement already satisfied: jinja2 in /home/gwenm/.pyenv/versions/3.10.6/envs/inspiart/lib/python3.10/site-packages (from torch>=2.0->open-clip-torch) (3.1.6)\n",
      "Requirement already satisfied: fsspec in /home/gwenm/.pyenv/versions/3.10.6/envs/inspiart/lib/python3.10/site-packages (from torch>=2.0->open-clip-torch) (2025.9.0)\n",
      "Requirement already satisfied: nvidia-cuda-nvrtc-cu12==12.8.93 in /home/gwenm/.pyenv/versions/3.10.6/envs/inspiart/lib/python3.10/site-packages (from torch>=2.0->open-clip-torch) (12.8.93)\n",
      "Requirement already satisfied: nvidia-cuda-runtime-cu12==12.8.90 in /home/gwenm/.pyenv/versions/3.10.6/envs/inspiart/lib/python3.10/site-packages (from torch>=2.0->open-clip-torch) (12.8.90)\n",
      "Requirement already satisfied: nvidia-cuda-cupti-cu12==12.8.90 in /home/gwenm/.pyenv/versions/3.10.6/envs/inspiart/lib/python3.10/site-packages (from torch>=2.0->open-clip-torch) (12.8.90)\n",
      "Requirement already satisfied: nvidia-cudnn-cu12==9.10.2.21 in /home/gwenm/.pyenv/versions/3.10.6/envs/inspiart/lib/python3.10/site-packages (from torch>=2.0->open-clip-torch) (9.10.2.21)\n",
      "Requirement already satisfied: nvidia-cublas-cu12==12.8.4.1 in /home/gwenm/.pyenv/versions/3.10.6/envs/inspiart/lib/python3.10/site-packages (from torch>=2.0->open-clip-torch) (12.8.4.1)\n",
      "Requirement already satisfied: nvidia-cufft-cu12==11.3.3.83 in /home/gwenm/.pyenv/versions/3.10.6/envs/inspiart/lib/python3.10/site-packages (from torch>=2.0->open-clip-torch) (11.3.3.83)\n",
      "Requirement already satisfied: nvidia-curand-cu12==10.3.9.90 in /home/gwenm/.pyenv/versions/3.10.6/envs/inspiart/lib/python3.10/site-packages (from torch>=2.0->open-clip-torch) (10.3.9.90)\n",
      "Requirement already satisfied: nvidia-cusolver-cu12==11.7.3.90 in /home/gwenm/.pyenv/versions/3.10.6/envs/inspiart/lib/python3.10/site-packages (from torch>=2.0->open-clip-torch) (11.7.3.90)\n",
      "Requirement already satisfied: nvidia-cusparse-cu12==12.5.8.93 in /home/gwenm/.pyenv/versions/3.10.6/envs/inspiart/lib/python3.10/site-packages (from torch>=2.0->open-clip-torch) (12.5.8.93)\n",
      "Requirement already satisfied: nvidia-cusparselt-cu12==0.7.1 in /home/gwenm/.pyenv/versions/3.10.6/envs/inspiart/lib/python3.10/site-packages (from torch>=2.0->open-clip-torch) (0.7.1)\n",
      "Requirement already satisfied: nvidia-nccl-cu12==2.27.3 in /home/gwenm/.pyenv/versions/3.10.6/envs/inspiart/lib/python3.10/site-packages (from torch>=2.0->open-clip-torch) (2.27.3)\n",
      "Requirement already satisfied: nvidia-nvtx-cu12==12.8.90 in /home/gwenm/.pyenv/versions/3.10.6/envs/inspiart/lib/python3.10/site-packages (from torch>=2.0->open-clip-torch) (12.8.90)\n",
      "Requirement already satisfied: nvidia-nvjitlink-cu12==12.8.93 in /home/gwenm/.pyenv/versions/3.10.6/envs/inspiart/lib/python3.10/site-packages (from torch>=2.0->open-clip-torch) (12.8.93)\n",
      "Requirement already satisfied: nvidia-cufile-cu12==1.13.1.3 in /home/gwenm/.pyenv/versions/3.10.6/envs/inspiart/lib/python3.10/site-packages (from torch>=2.0->open-clip-torch) (1.13.1.3)\n",
      "Requirement already satisfied: triton==3.4.0 in /home/gwenm/.pyenv/versions/3.10.6/envs/inspiart/lib/python3.10/site-packages (from torch>=2.0->open-clip-torch) (3.4.0)\n",
      "Requirement already satisfied: setuptools>=40.8.0 in /home/gwenm/.pyenv/versions/3.10.6/envs/inspiart/lib/python3.10/site-packages (from triton==3.4.0->torch>=2.0->open-clip-torch) (63.2.0)\n",
      "Requirement already satisfied: mpmath<1.4,>=1.1.0 in /home/gwenm/.pyenv/versions/3.10.6/envs/inspiart/lib/python3.10/site-packages (from sympy>=1.13.3->torch>=2.0->open-clip-torch) (1.3.0)\n",
      "Requirement already satisfied: wcwidth in /home/gwenm/.pyenv/versions/3.10.6/envs/inspiart/lib/python3.10/site-packages (from ftfy->open-clip-torch) (0.2.13)\n",
      "Requirement already satisfied: packaging>=20.9 in /home/gwenm/.pyenv/versions/3.10.6/envs/inspiart/lib/python3.10/site-packages (from huggingface-hub->open-clip-torch) (25.0)\n",
      "Requirement already satisfied: requests in /home/gwenm/.pyenv/versions/3.10.6/envs/inspiart/lib/python3.10/site-packages (from huggingface-hub->open-clip-torch) (2.32.5)\n",
      "Collecting hf-xet<2.0.0,>=1.1.3 (from huggingface-hub->open-clip-torch)\n",
      "  Downloading hf_xet-1.1.9-cp37-abi3-manylinux_2_17_x86_64.manylinux2014_x86_64.whl.metadata (4.7 kB)\n",
      "Requirement already satisfied: MarkupSafe>=2.0 in /home/gwenm/.pyenv/versions/3.10.6/envs/inspiart/lib/python3.10/site-packages (from jinja2->torch>=2.0->open-clip-torch) (3.0.2)\n",
      "Requirement already satisfied: charset_normalizer<4,>=2 in /home/gwenm/.pyenv/versions/3.10.6/envs/inspiart/lib/python3.10/site-packages (from requests->huggingface-hub->open-clip-torch) (3.4.3)\n",
      "Requirement already satisfied: idna<4,>=2.5 in /home/gwenm/.pyenv/versions/3.10.6/envs/inspiart/lib/python3.10/site-packages (from requests->huggingface-hub->open-clip-torch) (3.10)\n",
      "Requirement already satisfied: urllib3<3,>=1.21.1 in /home/gwenm/.pyenv/versions/3.10.6/envs/inspiart/lib/python3.10/site-packages (from requests->huggingface-hub->open-clip-torch) (2.5.0)\n",
      "Requirement already satisfied: certifi>=2017.4.17 in /home/gwenm/.pyenv/versions/3.10.6/envs/inspiart/lib/python3.10/site-packages (from requests->huggingface-hub->open-clip-torch) (2025.8.3)\n",
      "Requirement already satisfied: numpy in /home/gwenm/.pyenv/versions/3.10.6/envs/inspiart/lib/python3.10/site-packages (from torchvision->open-clip-torch) (2.2.6)\n",
      "Requirement already satisfied: pillow!=8.3.*,>=5.3.0 in /home/gwenm/.pyenv/versions/3.10.6/envs/inspiart/lib/python3.10/site-packages (from torchvision->open-clip-torch) (11.3.0)\n",
      "Downloading open_clip_torch-3.1.0-py3-none-any.whl (1.5 MB)\n",
      "\u001b[2K   \u001b[90m━━━━━━━━━━━━━━━━━━━━━━━━━━━━━━━━━━━━━━━━\u001b[0m \u001b[32m1.5/1.5 MB\u001b[0m \u001b[31m10.5 MB/s\u001b[0m  \u001b[33m0:00:00\u001b[0m\n",
      "\u001b[?25hDownloading timm-1.0.19-py3-none-any.whl (2.5 MB)\n",
      "\u001b[2K   \u001b[90m━━━━━━━━━━━━━━━━━━━━━━━━━━━━━━━━━━━━━━━━\u001b[0m \u001b[32m2.5/2.5 MB\u001b[0m \u001b[31m10.3 MB/s\u001b[0m  \u001b[33m0:00:00\u001b[0m eta \u001b[36m0:00:01\u001b[0m\n",
      "\u001b[?25hDownloading ftfy-6.3.1-py3-none-any.whl (44 kB)\n",
      "Using cached huggingface_hub-0.34.4-py3-none-any.whl (561 kB)\n",
      "Downloading hf_xet-1.1.9-cp37-abi3-manylinux_2_17_x86_64.manylinux2014_x86_64.whl (3.2 MB)\n",
      "\u001b[2K   \u001b[90m━━━━━━━━━━━━━━━━━━━━━━━━━━━━━━━━━━━━━━━━\u001b[0m \u001b[32m3.2/3.2 MB\u001b[0m \u001b[31m5.7 MB/s\u001b[0m  \u001b[33m0:00:00\u001b[0mm0:00:01\u001b[0m:00:01\u001b[0m\n",
      "\u001b[?25hDownloading regex-2025.9.1-cp310-cp310-manylinux2014_x86_64.manylinux_2_17_x86_64.manylinux_2_28_x86_64.whl (789 kB)\n",
      "\u001b[2K   \u001b[90m━━━━━━━━━━━━━━━━━━━━━━━━━━━━━━━━━━━━━━━━\u001b[0m \u001b[32m789.9/789.9 kB\u001b[0m \u001b[31m7.9 MB/s\u001b[0m  \u001b[33m0:00:00\u001b[0m\n",
      "\u001b[?25hDownloading safetensors-0.6.2-cp38-abi3-manylinux_2_17_x86_64.manylinux2014_x86_64.whl (485 kB)\n",
      "Installing collected packages: safetensors, regex, hf-xet, ftfy, huggingface-hub, timm, open-clip-torch\n",
      "\u001b[2K   \u001b[90m━━━━━━━━━━━━━━━━━━━━━━━━━━━━━━━━━━━━━━━━\u001b[0m \u001b[32m7/7\u001b[0m [open-clip-torch] [open-clip-torch]\n",
      "\u001b[1A\u001b[2KSuccessfully installed ftfy-6.3.1 hf-xet-1.1.9 huggingface-hub-0.34.4 open-clip-torch-3.1.0 regex-2025.9.1 safetensors-0.6.2 timm-1.0.19\n"
     ]
    }
   ],
   "source": [
    "!pip install open-clip-torch"
   ]
  },
  {
   "cell_type": "code",
   "execution_count": 29,
   "id": "ac0c7c60",
   "metadata": {},
   "outputs": [
    {
     "name": "stderr",
     "output_type": "stream",
     "text": [
      "/home/gwenm/.pyenv/versions/3.10.6/envs/inspiart/lib/python3.10/site-packages/tqdm/auto.py:21: TqdmWarning: IProgress not found. Please update jupyter and ipywidgets. See https://ipywidgets.readthedocs.io/en/stable/user_install.html\n",
      "  from .autonotebook import tqdm as notebook_tqdm\n"
     ]
    }
   ],
   "source": [
    "import open_clip"
   ]
  },
  {
   "cell_type": "code",
   "execution_count": null,
   "id": "57ed05f0",
   "metadata": {},
   "outputs": [],
   "source": [
    "model, _, preprocess = open_clip.create_model_and_transforms(\n",
    "    'ViT-B-32',\n",
    "    pretrained='laion2b_s34b_b79k'\n",
    ")"
   ]
  },
  {
   "cell_type": "markdown",
   "id": "7f2c83bb",
   "metadata": {},
   "source": [
    "Check if the computer has a GPU or no and chose wait to do it :"
   ]
  },
  {
   "cell_type": "code",
   "execution_count": 31,
   "id": "704c7e7d",
   "metadata": {},
   "outputs": [
    {
     "name": "stderr",
     "output_type": "stream",
     "text": [
      "/home/gwenm/.pyenv/versions/3.10.6/envs/inspiart/lib/python3.10/site-packages/torch/cuda/__init__.py:283: UserWarning: \n",
      "    Found GPU0 Quadro P520 which is of cuda capability 6.1.\n",
      "    Minimum and Maximum cuda capability supported by this version of PyTorch is\n",
      "    (7.0) - (12.0)\n",
      "    \n",
      "  warnings.warn(\n",
      "/home/gwenm/.pyenv/versions/3.10.6/envs/inspiart/lib/python3.10/site-packages/torch/cuda/__init__.py:304: UserWarning: \n",
      "    Please install PyTorch with a following CUDA\n",
      "    configurations:  12.6 following instructions at\n",
      "    https://pytorch.org/get-started/locally/\n",
      "    \n",
      "  warnings.warn(matched_cuda_warn.format(matched_arches))\n",
      "/home/gwenm/.pyenv/versions/3.10.6/envs/inspiart/lib/python3.10/site-packages/torch/cuda/__init__.py:326: UserWarning: \n",
      "Quadro P520 with CUDA capability sm_61 is not compatible with the current PyTorch installation.\n",
      "The current PyTorch install supports CUDA capabilities sm_70 sm_75 sm_80 sm_86 sm_90 sm_100 sm_120.\n",
      "If you want to use the Quadro P520 GPU with PyTorch, please check the instructions at https://pytorch.org/get-started/locally/\n",
      "\n",
      "  warnings.warn(\n"
     ]
    }
   ],
   "source": [
    "device = \"cuda\" if torch.cuda.is_available() else \"cpu\"\n",
    "model = model.to(device)"
   ]
  },
  {
   "cell_type": "markdown",
   "id": "07224c43",
   "metadata": {},
   "source": [
    "# Make all parameters stay the same"
   ]
  },
  {
   "cell_type": "code",
   "execution_count": 35,
   "id": "0347f3bd",
   "metadata": {},
   "outputs": [],
   "source": [
    "for param in model.parameters():\n",
    "    param.requires_grad = False"
   ]
  },
  {
   "cell_type": "markdown",
   "id": "c32cec74",
   "metadata": {},
   "source": [
    "# Create a dataset readable by pytorch"
   ]
  },
  {
   "cell_type": "code",
   "execution_count": 40,
   "id": "298906e2",
   "metadata": {},
   "outputs": [],
   "source": [
    "from torch.utils.data import Dataset\n",
    "from PIL import Image\n",
    "import os\n",
    "import torch\n",
    "\n",
    "class PaintingsDataset(Dataset):\n",
    "    def __init__(self, df, image_dir, preprocess, device):\n",
    "        self.df = df.reset_index(drop=True)\n",
    "        self.image_dir = image_dir\n",
    "        self.preprocess = preprocess\n",
    "        self.device = device\n",
    "\n",
    "    def __len__(self):\n",
    "        return len(self.df)\n",
    "\n",
    "    def __getitem__(self, idx):\n",
    "        # Récupérer le nom de l'image\n",
    "        img_name = self.df.loc[idx, 'file_name']\n",
    "        img_path = os.path.join(self.image_dir, img_name)\n",
    "\n",
    "        # Ouvrir l'image et appliquer le preprocess\n",
    "        image = Image.open(img_path).convert(\"RGB\")\n",
    "        image_tensor = self.preprocess(image).to(self.device)\n",
    "\n",
    "        # Récupérer le label entier\n",
    "        label = torch.tensor(self.df.loc[idx, 'label_idx']).to(self.device)\n",
    "\n",
    "        return image_tensor, label"
   ]
  },
  {
   "cell_type": "code",
   "execution_count": 41,
   "id": "681c1456",
   "metadata": {},
   "outputs": [],
   "source": [
    "train_dataset = PaintingsDataset(df_train, DATA_DIR, preprocess, device)\n",
    "test_dataset  = PaintingsDataset(df_test, DATA_DIR, preprocess, device)"
   ]
  },
  {
   "cell_type": "code",
   "execution_count": 42,
   "id": "142bba93",
   "metadata": {},
   "outputs": [],
   "source": [
    "from torch.utils.data import DataLoader\n",
    "\n",
    "train_loader = DataLoader(train_dataset, batch_size=16, shuffle=True)\n",
    "test_loader  = DataLoader(test_dataset, batch_size=16)"
   ]
  },
  {
   "cell_type": "code",
   "execution_count": null,
   "id": "b80739e9",
   "metadata": {},
   "outputs": [],
   "source": []
  }
 ],
 "metadata": {
  "kernelspec": {
   "display_name": "inspiart",
   "language": "python",
   "name": "python3"
  },
  "language_info": {
   "codemirror_mode": {
    "name": "ipython",
    "version": 3
   },
   "file_extension": ".py",
   "mimetype": "text/x-python",
   "name": "python",
   "nbconvert_exporter": "python",
   "pygments_lexer": "ipython3",
   "version": "3.10.6"
  }
 },
 "nbformat": 4,
 "nbformat_minor": 5
}
