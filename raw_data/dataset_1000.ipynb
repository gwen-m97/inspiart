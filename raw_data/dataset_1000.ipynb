{
 "cells": [
  {
   "cell_type": "code",
   "execution_count": 2,
   "id": "e3727063-62f8-4dcc-ac08-a8798137d75d",
   "metadata": {
    "execution": {
     "iopub.execute_input": "2025-09-03T08:48:57.132027Z",
     "iopub.status.busy": "2025-09-03T08:48:57.131692Z",
     "iopub.status.idle": "2025-09-03T08:48:57.138671Z",
     "shell.execute_reply": "2025-09-03T08:48:57.137875Z",
     "shell.execute_reply.started": "2025-09-03T08:48:57.132000Z"
    }
   },
   "outputs": [],
   "source": [
    "import dataset_prep"
   ]
  },
  {
   "cell_type": "code",
   "execution_count": 3,
   "id": "b4678908-10a3-4d2e-b2e5-6538b2e88b65",
   "metadata": {
    "execution": {
     "iopub.execute_input": "2025-09-03T08:49:18.641093Z",
     "iopub.status.busy": "2025-09-03T08:49:18.640769Z",
     "iopub.status.idle": "2025-09-03T08:49:22.913378Z",
     "shell.execute_reply": "2025-09-03T08:49:22.912340Z",
     "shell.execute_reply.started": "2025-09-03T08:49:18.641062Z"
    }
   },
   "outputs": [
    {
     "name": "stdout",
     "output_type": "stream",
     "text": [
      "Downloading from https://www.kaggle.com/api/v1/datasets/download/simolopes/wikiart-all-artpieces?dataset_version_number=1&file_name=wikiart_art_pieces.csv...\n"
     ]
    },
    {
     "name": "stderr",
     "output_type": "stream",
     "text": [
      "100%|██████████████████████████████████████| 6.11M/6.11M [00:02<00:00, 3.01MB/s]"
     ]
    },
    {
     "name": "stdout",
     "output_type": "stream",
     "text": [
      "Extracting zip of wikiart_art_pieces.csv...\n"
     ]
    },
    {
     "name": "stderr",
     "output_type": "stream",
     "text": [
      "\n"
     ]
    }
   ],
   "source": [
    "df = dataset_prep.load_data()"
   ]
  },
  {
   "cell_type": "code",
   "execution_count": 4,
   "id": "507c1b85-8c60-4510-b7c9-04d0de93793d",
   "metadata": {
    "execution": {
     "iopub.execute_input": "2025-09-03T08:49:43.102099Z",
     "iopub.status.busy": "2025-09-03T08:49:43.101765Z",
     "iopub.status.idle": "2025-09-03T08:49:43.124741Z",
     "shell.execute_reply": "2025-09-03T08:49:43.123855Z",
     "shell.execute_reply.started": "2025-09-03T08:49:43.102069Z"
    }
   },
   "outputs": [
    {
     "data": {
      "text/plain": [
       "<bound method NDFrame.head of                               artist                         style  \\\n",
       "0                  Byzantine Mosaics  Early Byzantine (c. 330–750)   \n",
       "1                  Byzantine Mosaics  Early Byzantine (c. 330–750)   \n",
       "2                  Byzantine Mosaics  Early Byzantine (c. 330–750)   \n",
       "3                  Byzantine Mosaics  Early Byzantine (c. 330–750)   \n",
       "4                  Byzantine Mosaics  Early Byzantine (c. 330–750)   \n",
       "...                              ...                           ...   \n",
       "176431  Clifford Possum Tjapaltjarri                    Native Art   \n",
       "176432  Clifford Possum Tjapaltjarri                    Native Art   \n",
       "176433  Clifford Possum Tjapaltjarri                    Native Art   \n",
       "176434  Clifford Possum Tjapaltjarri                    Native Art   \n",
       "176435  Clifford Possum Tjapaltjarri                    Native Art   \n",
       "\n",
       "                     genre       movement  \\\n",
       "0       religious painting  Byzantine Art   \n",
       "1       religious painting  Byzantine Art   \n",
       "2       religious painting  Byzantine Art   \n",
       "3       religious painting  Byzantine Art   \n",
       "4       religious painting  Byzantine Art   \n",
       "...                    ...            ...   \n",
       "176431        tessellation     Native Art   \n",
       "176432        tessellation     Native Art   \n",
       "176433        tessellation     Native Art   \n",
       "176434        tessellation     Native Art   \n",
       "176435        tessellation     Native Art   \n",
       "\n",
       "                                                     tags  \\\n",
       "0       ['Holyplaces', 'Byzantinearchitecture', 'Arch'...   \n",
       "1         ['Holyplaces', 'Byzantinearchitecture', 'Arch']   \n",
       "2                                  ['Prophet', 'History']   \n",
       "3                               ['Holyplaces', 'Prophet']   \n",
       "4                               ['Holyplaces', 'Prophet']   \n",
       "...                                                   ...   \n",
       "176431                                                NaN   \n",
       "176432                                                NaN   \n",
       "176433                                                NaN   \n",
       "176434                                                NaN   \n",
       "176435                                                NaN   \n",
       "\n",
       "                                                      url  \\\n",
       "0       https://www.wikiart.org/en/byzantine-mosaics/e...   \n",
       "1       https://www.wikiart.org/en/byzantine-mosaics/e...   \n",
       "2       https://www.wikiart.org/en/byzantine-mosaics/e...   \n",
       "3       https://www.wikiart.org/en/byzantine-mosaics/e...   \n",
       "4       https://www.wikiart.org/en/byzantine-mosaics/e...   \n",
       "...                                                   ...   \n",
       "176431  https://www.wikiart.org/en/clifford-possum-tja...   \n",
       "176432  https://www.wikiart.org/en/clifford-possum-tja...   \n",
       "176433  https://www.wikiart.org/en/clifford-possum-tja...   \n",
       "176434  https://www.wikiart.org/en/clifford-possum-tja...   \n",
       "176435  https://www.wikiart.org/en/clifford-possum-tja...   \n",
       "\n",
       "                                                      img  \\\n",
       "0       https://uploads2.wikiart.org/00211/images/byza...   \n",
       "1       https://uploads2.wikiart.org/00211/images/byza...   \n",
       "2       https://uploads2.wikiart.org/00211/images/byza...   \n",
       "3       https://uploads2.wikiart.org/00211/images/byza...   \n",
       "4       https://uploads2.wikiart.org/00211/images/byza...   \n",
       "...                                                   ...   \n",
       "176431  https://uploads7.wikiart.org/00335/images/clif...   \n",
       "176432  https://uploads8.wikiart.org/00335/images/clif...   \n",
       "176433  https://uploads7.wikiart.org/00335/images/clif...   \n",
       "176434  https://uploads1.wikiart.org/00335/images/clif...   \n",
       "176435  https://uploads0.wikiart.org/00335/images/clif...   \n",
       "\n",
       "                                             file_name  \n",
       "0             0-ravenna-cappella-arcivescovile-166.jpg  \n",
       "1             1-ravenna-cappella-arcivescovile-167.jpg  \n",
       "2             2-ravenna-cappella-arcivescovile-168.jpg  \n",
       "3             3-ravenna-cappella-arcivescovile-169.jpg  \n",
       "4             4-ravenna-cappella-arcivescovile-171.jpg  \n",
       "...                                                ...  \n",
       "176431  253399-untitled-narripi-worm-dreaming-1996.jpg  \n",
       "176432          253400-worm-dreaming-napperby-1996.jpg  \n",
       "176433                   253401-worm-dreaming-1996.jpg  \n",
       "176434                 253402-worm-dreaming-1996-1.jpg  \n",
       "176435                  253403-eagle-dreaming-1997.jpg  \n",
       "\n",
       "[176436 rows x 8 columns]>"
      ]
     },
     "execution_count": 4,
     "metadata": {},
     "output_type": "execute_result"
    }
   ],
   "source": [
    "df.head"
   ]
  },
  {
   "cell_type": "code",
   "execution_count": 5,
   "id": "43357e9d-40cb-45d0-8b8d-2d73336191df",
   "metadata": {
    "execution": {
     "iopub.execute_input": "2025-09-03T08:50:11.546183Z",
     "iopub.status.busy": "2025-09-03T08:50:11.545742Z",
     "iopub.status.idle": "2025-09-03T08:50:14.498464Z",
     "shell.execute_reply": "2025-09-03T08:50:14.497284Z",
     "shell.execute_reply.started": "2025-09-03T08:50:11.546156Z"
    }
   },
   "outputs": [
    {
     "name": "stdout",
     "output_type": "stream",
     "text": [
      "Downloading from https://www.kaggle.com/api/v1/datasets/download/antoinegruson/-wikiart-all-images-120k-link?dataset_version_number=2&file_name=wikiart_scraped.csv...\n"
     ]
    },
    {
     "name": "stderr",
     "output_type": "stream",
     "text": [
      "100%|██████████████████████████████████████| 3.27M/3.27M [00:00<00:00, 4.39MB/s]"
     ]
    },
    {
     "name": "stdout",
     "output_type": "stream",
     "text": [
      "Extracting zip of wikiart_scraped.csv...\n"
     ]
    },
    {
     "name": "stderr",
     "output_type": "stream",
     "text": [
      "\n"
     ]
    }
   ],
   "source": [
    "df_filtered = dataset_prep.filter_dataframe(df)\n",
    "df_merged = dataset_prep.merging_metadata(df_filtered)"
   ]
  },
  {
   "cell_type": "code",
   "execution_count": 9,
   "id": "60c05f28-3706-4825-8989-9d5eb22c4880",
   "metadata": {
    "execution": {
     "iopub.execute_input": "2025-09-03T08:51:49.130162Z",
     "iopub.status.busy": "2025-09-03T08:51:49.129881Z",
     "iopub.status.idle": "2025-09-03T08:51:49.164144Z",
     "shell.execute_reply": "2025-09-03T08:51:49.162650Z",
     "shell.execute_reply.started": "2025-09-03T08:51:49.130136Z"
    }
   },
   "outputs": [],
   "source": [
    "df_sample = dataset_prep.data_sampling(df_merged, sample_size=1000, number_styles=10)"
   ]
  },
  {
   "cell_type": "code",
   "execution_count": null,
   "id": "8ed6a12e-fcbe-4648-9bc2-416a08046898",
   "metadata": {},
   "outputs": [],
   "source": []
  }
 ],
 "metadata": {
  "kernelspec": {
   "display_name": "Python 3 (ipykernel)",
   "language": "python",
   "name": "python3"
  },
  "language_info": {
   "codemirror_mode": {
    "name": "ipython",
    "version": 3
   },
   "file_extension": ".py",
   "mimetype": "text/x-python",
   "name": "python",
   "nbconvert_exporter": "python",
   "pygments_lexer": "ipython3",
   "version": "3.10.6"
  }
 },
 "nbformat": 4,
 "nbformat_minor": 5
}
